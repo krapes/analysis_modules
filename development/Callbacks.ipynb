{
 "cells": [
  {
   "cell_type": "markdown",
   "metadata": {},
   "source": [
    "# Callback Analysis"
   ]
  },
  {
   "cell_type": "code",
   "execution_count": 1,
   "metadata": {},
   "outputs": [],
   "source": [
    "import sys\n",
    "sys.path.append(\"..\")\n",
    "\n",
    "import os\n",
    "import seaborn as sns\n",
    "from google.cloud import bigquery\n",
    "from src import Flow\n",
    "from matplotlib import pyplot as plt\n",
    "\n",
    "\n",
    "\n",
    "\n",
    "credential_path = \"/home/kerri/bigquery-jaya-consultant-cosmic-octane-88917-c46ba9b53a3b.json\"\n",
    "assert os.path.exists(credential_path)\n",
    "os.environ['GOOGLE_APPLICATION_CREDENTIALS'] = credential_path\n",
    "project_id = 'cosmic-octane-88917'\n",
    "client = bigquery.Client(project=project_id)\n"
   ]
  },
  {
   "cell_type": "code",
   "execution_count": 2,
   "metadata": {},
   "outputs": [],
   "source": [
    "sql = \"\"\" WITH subset AS (\n",
    "SELECT *\n",
    "FROM `cosmic-octane-88917.analytics_us._VW_CallEvent`\n",
    "WHERE FlowName = '{0}'\n",
    "AND EXTRACT(DATE FROM TimeStamp) BETWEEN '2020-06-01' AND '2020-12-01'\n",
    "AND CallingNumber != 'Restricted'\n",
    "),\n",
    "\n",
    "callbacks AS (\n",
    "SELECT DISTINCT CallingNumber,\n",
    "       CASE WHEN LEFT(CallingNumber, 4) in ('+1800%') THEN True ELSE False END AS TollFreeNumber,\n",
    "       EXTRACT(DATE FROM c1.TimeStamp) date,\n",
    "       c1.TimeStamp, \n",
    "       c1.SessionId first_session_id, \n",
    "       c1.CallAnswerIndicator,\n",
    "       c1.CallDuration first_call_duration,\n",
    "       c2.TimeStamp, \n",
    "       c2.SessionId second_session_id,\n",
    "       c2.CallAnswerIndicator,\n",
    "       c2.CallDuration second_call_duration,\n",
    "       ABS(TIMESTAMP_DIFF(c1.TimeStamp, c2.TimeStamp, DAY)) day_diff\n",
    "FROM subset c1\n",
    "INNER JOIN subset c2\n",
    "USING(CallingNumber)\n",
    "WHERE c1.SessionId != c2.SessionId\n",
    "AND c1.TimeStamp < c2.TimeStamp\n",
    ")\n",
    "\n",
    "\n",
    "SELECT date,  \n",
    "       TollFreeNumber, \n",
    "       AVG(day_diff) mean_days_between_calls, \n",
    "       STDDEV(day_diff) std_days_between_calls, \n",
    "       COUNT(*) count,\n",
    "       AVG(first_call_duration) mean_first_call_duration,\n",
    "       STDDEV(first_call_duration) std_first_call_duration,\n",
    "       AVG(second_call_duration) mean_second_call_duration,\n",
    "       STDDEV(second_call_duration) std_second_call_duration\n",
    "FROM callbacks\n",
    "GROUP BY date, TollFreeNumber\n",
    "ORDER BY date, TollFreeNumber\n",
    "\"\"\"\n"
   ]
  },
  {
   "cell_type": "code",
   "execution_count": 3,
   "metadata": {},
   "outputs": [],
   "source": [
    "def plot_callbacks(df):\n",
    "    fig, axs = plt.subplots(ncols=2, nrows=2, figsize=(15,15))\n",
    "    sns.lineplot(data=df, x='date', y='count', hue='TollFreeNumber', ax=axs[0][0]).set(title='Count vs Date')\n",
    "    sns.lineplot(data=df, x='date', y='mean_days_between_calls', hue='TollFreeNumber', ax=axs[0][1]).set(title='Average Days Between Calls vs Date')\n",
    "    sns.lineplot(data=df, x='date', y='mean_first_call_duration', hue='TollFreeNumber', ax=axs[1][0]).set(title='Average Duration of First Call vs Date')\n",
    "    sns.lineplot(data=df, x='date', y='mean_second_call_duration', hue='TollFreeNumber', ax=axs[1][1]).set(title='Average Duration of Second Call vs Date')"
   ]
  },
  {
   "cell_type": "code",
   "execution_count": 7,
   "metadata": {},
   "outputs": [
    {
     "ename": "PermissionDenied",
     "evalue": "403 request failed: the user does not have 'bigquery.readsessions.create' permission for 'projects/cosmic-octane-88917'",
     "output_type": "error",
     "traceback": [
      "\u001b[0;31m---------------------------------------------------------------------------\u001b[0m",
      "\u001b[0;31m_InactiveRpcError\u001b[0m                         Traceback (most recent call last)",
      "\u001b[0;32m~/Documents/Projects/intelepeer/sharkninja_analysis/venv8/lib/python3.8/site-packages/google/api_core/grpc_helpers.py\u001b[0m in \u001b[0;36merror_remapped_callable\u001b[0;34m(*args, **kwargs)\u001b[0m\n\u001b[1;32m     56\u001b[0m         \u001b[0;32mtry\u001b[0m\u001b[0;34m:\u001b[0m\u001b[0;34m\u001b[0m\u001b[0;34m\u001b[0m\u001b[0m\n\u001b[0;32m---> 57\u001b[0;31m             \u001b[0;32mreturn\u001b[0m \u001b[0mcallable_\u001b[0m\u001b[0;34m(\u001b[0m\u001b[0;34m*\u001b[0m\u001b[0margs\u001b[0m\u001b[0;34m,\u001b[0m \u001b[0;34m**\u001b[0m\u001b[0mkwargs\u001b[0m\u001b[0;34m)\u001b[0m\u001b[0;34m\u001b[0m\u001b[0;34m\u001b[0m\u001b[0m\n\u001b[0m\u001b[1;32m     58\u001b[0m         \u001b[0;32mexcept\u001b[0m \u001b[0mgrpc\u001b[0m\u001b[0;34m.\u001b[0m\u001b[0mRpcError\u001b[0m \u001b[0;32mas\u001b[0m \u001b[0mexc\u001b[0m\u001b[0;34m:\u001b[0m\u001b[0;34m\u001b[0m\u001b[0;34m\u001b[0m\u001b[0m\n",
      "\u001b[0;32m~/Documents/Projects/intelepeer/sharkninja_analysis/venv8/lib/python3.8/site-packages/grpc/_channel.py\u001b[0m in \u001b[0;36m__call__\u001b[0;34m(self, request, timeout, metadata, credentials, wait_for_ready, compression)\u001b[0m\n\u001b[1;32m    825\u001b[0m                                       wait_for_ready, compression)\n\u001b[0;32m--> 826\u001b[0;31m         \u001b[0;32mreturn\u001b[0m \u001b[0m_end_unary_response_blocking\u001b[0m\u001b[0;34m(\u001b[0m\u001b[0mstate\u001b[0m\u001b[0;34m,\u001b[0m \u001b[0mcall\u001b[0m\u001b[0;34m,\u001b[0m \u001b[0;32mFalse\u001b[0m\u001b[0;34m,\u001b[0m \u001b[0;32mNone\u001b[0m\u001b[0;34m)\u001b[0m\u001b[0;34m\u001b[0m\u001b[0;34m\u001b[0m\u001b[0m\n\u001b[0m\u001b[1;32m    827\u001b[0m \u001b[0;34m\u001b[0m\u001b[0m\n",
      "\u001b[0;32m~/Documents/Projects/intelepeer/sharkninja_analysis/venv8/lib/python3.8/site-packages/grpc/_channel.py\u001b[0m in \u001b[0;36m_end_unary_response_blocking\u001b[0;34m(state, call, with_call, deadline)\u001b[0m\n\u001b[1;32m    728\u001b[0m     \u001b[0;32melse\u001b[0m\u001b[0;34m:\u001b[0m\u001b[0;34m\u001b[0m\u001b[0;34m\u001b[0m\u001b[0m\n\u001b[0;32m--> 729\u001b[0;31m         \u001b[0;32mraise\u001b[0m \u001b[0m_InactiveRpcError\u001b[0m\u001b[0;34m(\u001b[0m\u001b[0mstate\u001b[0m\u001b[0;34m)\u001b[0m\u001b[0;34m\u001b[0m\u001b[0;34m\u001b[0m\u001b[0m\n\u001b[0m\u001b[1;32m    730\u001b[0m \u001b[0;34m\u001b[0m\u001b[0m\n",
      "\u001b[0;31m_InactiveRpcError\u001b[0m: <_InactiveRpcError of RPC that terminated with:\n\tstatus = StatusCode.PERMISSION_DENIED\n\tdetails = \"request failed: the user does not have 'bigquery.readsessions.create' permission for 'projects/cosmic-octane-88917'\"\n\tdebug_error_string = \"{\"created\":\"@1606833401.850919946\",\"description\":\"Error received from peer ipv4:64.233.190.95:443\",\"file\":\"src/core/lib/surface/call.cc\",\"file_line\":1061,\"grpc_message\":\"request failed: the user does not have 'bigquery.readsessions.create' permission for 'projects/cosmic-octane-88917'\",\"grpc_status\":7}\"\n>",
      "\nThe above exception was the direct cause of the following exception:\n",
      "\u001b[0;31mPermissionDenied\u001b[0m                          Traceback (most recent call last)",
      "\u001b[0;32m<ipython-input-7-8bc66d2d165d>\u001b[0m in \u001b[0;36m<module>\u001b[0;34m\u001b[0m\n\u001b[0;32m----> 1\u001b[0;31m \u001b[0mdf\u001b[0m \u001b[0;34m=\u001b[0m \u001b[0mclient\u001b[0m\u001b[0;34m.\u001b[0m\u001b[0mquery\u001b[0m\u001b[0;34m(\u001b[0m\u001b[0msql\u001b[0m\u001b[0;34m.\u001b[0m\u001b[0mformat\u001b[0m\u001b[0;34m(\u001b[0m\u001b[0;34m\"United Kingdom - Customer Service\"\u001b[0m\u001b[0;34m)\u001b[0m\u001b[0;34m)\u001b[0m\u001b[0;34m.\u001b[0m\u001b[0mto_dataframe\u001b[0m\u001b[0;34m(\u001b[0m\u001b[0;34m)\u001b[0m\u001b[0;34m\u001b[0m\u001b[0;34m\u001b[0m\u001b[0m\n\u001b[0m\u001b[1;32m      2\u001b[0m \u001b[0mplot_callbacks\u001b[0m\u001b[0;34m(\u001b[0m\u001b[0mdf\u001b[0m\u001b[0;34m)\u001b[0m\u001b[0;34m\u001b[0m\u001b[0;34m\u001b[0m\u001b[0m\n",
      "\u001b[0;32m~/Documents/Projects/intelepeer/sharkninja_analysis/venv8/lib/python3.8/site-packages/google/cloud/bigquery/job.py\u001b[0m in \u001b[0;36mto_dataframe\u001b[0;34m(self, bqstorage_client, dtypes, progress_bar_type, create_bqstorage_client, date_as_object)\u001b[0m\n\u001b[1;32m   3403\u001b[0m             \u001b[0mValueError\u001b[0m\u001b[0;34m:\u001b[0m \u001b[0mIf\u001b[0m \u001b[0mthe\u001b[0m\u001b[0;31m \u001b[0m\u001b[0;31m`\u001b[0m\u001b[0mpandas\u001b[0m\u001b[0;31m`\u001b[0m \u001b[0mlibrary\u001b[0m \u001b[0mcannot\u001b[0m \u001b[0mbe\u001b[0m \u001b[0mimported\u001b[0m\u001b[0;34m.\u001b[0m\u001b[0;34m\u001b[0m\u001b[0;34m\u001b[0m\u001b[0m\n\u001b[1;32m   3404\u001b[0m         \"\"\"\n\u001b[0;32m-> 3405\u001b[0;31m         return self.result().to_dataframe(\n\u001b[0m\u001b[1;32m   3406\u001b[0m             \u001b[0mbqstorage_client\u001b[0m\u001b[0;34m=\u001b[0m\u001b[0mbqstorage_client\u001b[0m\u001b[0;34m,\u001b[0m\u001b[0;34m\u001b[0m\u001b[0;34m\u001b[0m\u001b[0m\n\u001b[1;32m   3407\u001b[0m             \u001b[0mdtypes\u001b[0m\u001b[0;34m=\u001b[0m\u001b[0mdtypes\u001b[0m\u001b[0;34m,\u001b[0m\u001b[0;34m\u001b[0m\u001b[0;34m\u001b[0m\u001b[0m\n",
      "\u001b[0;32m~/Documents/Projects/intelepeer/sharkninja_analysis/venv8/lib/python3.8/site-packages/google/cloud/bigquery/table.py\u001b[0m in \u001b[0;36mto_dataframe\u001b[0;34m(self, bqstorage_client, dtypes, progress_bar_type, create_bqstorage_client, date_as_object)\u001b[0m\n\u001b[1;32m   1687\u001b[0m             \u001b[0mbqstorage_client\u001b[0m \u001b[0;34m=\u001b[0m \u001b[0;32mNone\u001b[0m\u001b[0;34m\u001b[0m\u001b[0;34m\u001b[0m\u001b[0m\n\u001b[1;32m   1688\u001b[0m \u001b[0;34m\u001b[0m\u001b[0m\n\u001b[0;32m-> 1689\u001b[0;31m         record_batch = self.to_arrow(\n\u001b[0m\u001b[1;32m   1690\u001b[0m             \u001b[0mprogress_bar_type\u001b[0m\u001b[0;34m=\u001b[0m\u001b[0mprogress_bar_type\u001b[0m\u001b[0;34m,\u001b[0m\u001b[0;34m\u001b[0m\u001b[0;34m\u001b[0m\u001b[0m\n\u001b[1;32m   1691\u001b[0m             \u001b[0mbqstorage_client\u001b[0m\u001b[0;34m=\u001b[0m\u001b[0mbqstorage_client\u001b[0m\u001b[0;34m,\u001b[0m\u001b[0;34m\u001b[0m\u001b[0;34m\u001b[0m\u001b[0m\n",
      "\u001b[0;32m~/Documents/Projects/intelepeer/sharkninja_analysis/venv8/lib/python3.8/site-packages/google/cloud/bigquery/table.py\u001b[0m in \u001b[0;36mto_arrow\u001b[0;34m(self, progress_bar_type, bqstorage_client, create_bqstorage_client)\u001b[0m\n\u001b[1;32m   1512\u001b[0m \u001b[0;34m\u001b[0m\u001b[0m\n\u001b[1;32m   1513\u001b[0m             \u001b[0mrecord_batches\u001b[0m \u001b[0;34m=\u001b[0m \u001b[0;34m[\u001b[0m\u001b[0;34m]\u001b[0m\u001b[0;34m\u001b[0m\u001b[0;34m\u001b[0m\u001b[0m\n\u001b[0;32m-> 1514\u001b[0;31m             for record_batch in self._to_arrow_iterable(\n\u001b[0m\u001b[1;32m   1515\u001b[0m                 \u001b[0mbqstorage_client\u001b[0m\u001b[0;34m=\u001b[0m\u001b[0mbqstorage_client\u001b[0m\u001b[0;34m\u001b[0m\u001b[0;34m\u001b[0m\u001b[0m\n\u001b[1;32m   1516\u001b[0m             ):\n",
      "\u001b[0;32m~/Documents/Projects/intelepeer/sharkninja_analysis/venv8/lib/python3.8/site-packages/google/cloud/bigquery/table.py\u001b[0m in \u001b[0;36m_to_page_iterable\u001b[0;34m(self, bqstorage_download, tabledata_list_download, bqstorage_client)\u001b[0m\n\u001b[1;32m   1402\u001b[0m     ):\n\u001b[1;32m   1403\u001b[0m         \u001b[0;32mif\u001b[0m \u001b[0mbqstorage_client\u001b[0m \u001b[0;32mis\u001b[0m \u001b[0;32mnot\u001b[0m \u001b[0;32mNone\u001b[0m\u001b[0;34m:\u001b[0m\u001b[0;34m\u001b[0m\u001b[0;34m\u001b[0m\u001b[0m\n\u001b[0;32m-> 1404\u001b[0;31m             \u001b[0;32mfor\u001b[0m \u001b[0mitem\u001b[0m \u001b[0;32min\u001b[0m \u001b[0mbqstorage_download\u001b[0m\u001b[0;34m(\u001b[0m\u001b[0;34m)\u001b[0m\u001b[0;34m:\u001b[0m\u001b[0;34m\u001b[0m\u001b[0;34m\u001b[0m\u001b[0m\n\u001b[0m\u001b[1;32m   1405\u001b[0m                 \u001b[0;32myield\u001b[0m \u001b[0mitem\u001b[0m\u001b[0;34m\u001b[0m\u001b[0;34m\u001b[0m\u001b[0m\n\u001b[1;32m   1406\u001b[0m             \u001b[0;32mreturn\u001b[0m\u001b[0;34m\u001b[0m\u001b[0;34m\u001b[0m\u001b[0m\n",
      "\u001b[0;32m~/Documents/Projects/intelepeer/sharkninja_analysis/venv8/lib/python3.8/site-packages/google/cloud/bigquery/_pandas_helpers.py\u001b[0m in \u001b[0;36m_download_table_bqstorage\u001b[0;34m(project_id, table, bqstorage_client, preserve_order, selected_fields, page_to_item)\u001b[0m\n\u001b[1;32m    619\u001b[0m             \u001b[0mrequested_session\u001b[0m\u001b[0;34m.\u001b[0m\u001b[0mread_options\u001b[0m\u001b[0;34m.\u001b[0m\u001b[0mselected_fields\u001b[0m\u001b[0;34m.\u001b[0m\u001b[0mappend\u001b[0m\u001b[0;34m(\u001b[0m\u001b[0mfield\u001b[0m\u001b[0;34m.\u001b[0m\u001b[0mname\u001b[0m\u001b[0;34m)\u001b[0m\u001b[0;34m\u001b[0m\u001b[0;34m\u001b[0m\u001b[0m\n\u001b[1;32m    620\u001b[0m \u001b[0;34m\u001b[0m\u001b[0m\n\u001b[0;32m--> 621\u001b[0;31m     session = bqstorage_client.create_read_session(\n\u001b[0m\u001b[1;32m    622\u001b[0m         \u001b[0mparent\u001b[0m\u001b[0;34m=\u001b[0m\u001b[0;34m\"projects/{}\"\u001b[0m\u001b[0;34m.\u001b[0m\u001b[0mformat\u001b[0m\u001b[0;34m(\u001b[0m\u001b[0mproject_id\u001b[0m\u001b[0;34m)\u001b[0m\u001b[0;34m,\u001b[0m\u001b[0;34m\u001b[0m\u001b[0;34m\u001b[0m\u001b[0m\n\u001b[1;32m    623\u001b[0m         \u001b[0mread_session\u001b[0m\u001b[0;34m=\u001b[0m\u001b[0mrequested_session\u001b[0m\u001b[0;34m,\u001b[0m\u001b[0;34m\u001b[0m\u001b[0;34m\u001b[0m\u001b[0m\n",
      "\u001b[0;32m~/Documents/Projects/intelepeer/sharkninja_analysis/venv8/lib/python3.8/site-packages/google/cloud/bigquery_storage_v1/services/big_query_read/client.py\u001b[0m in \u001b[0;36mcreate_read_session\u001b[0;34m(self, request, parent, read_session, max_stream_count, retry, timeout, metadata)\u001b[0m\n\u001b[1;32m    488\u001b[0m \u001b[0;34m\u001b[0m\u001b[0m\n\u001b[1;32m    489\u001b[0m         \u001b[0;31m# Send the request.\u001b[0m\u001b[0;34m\u001b[0m\u001b[0;34m\u001b[0m\u001b[0;34m\u001b[0m\u001b[0m\n\u001b[0;32m--> 490\u001b[0;31m         \u001b[0mresponse\u001b[0m \u001b[0;34m=\u001b[0m \u001b[0mrpc\u001b[0m\u001b[0;34m(\u001b[0m\u001b[0mrequest\u001b[0m\u001b[0;34m,\u001b[0m \u001b[0mretry\u001b[0m\u001b[0;34m=\u001b[0m\u001b[0mretry\u001b[0m\u001b[0;34m,\u001b[0m \u001b[0mtimeout\u001b[0m\u001b[0;34m=\u001b[0m\u001b[0mtimeout\u001b[0m\u001b[0;34m,\u001b[0m \u001b[0mmetadata\u001b[0m\u001b[0;34m=\u001b[0m\u001b[0mmetadata\u001b[0m\u001b[0;34m,\u001b[0m\u001b[0;34m)\u001b[0m\u001b[0;34m\u001b[0m\u001b[0;34m\u001b[0m\u001b[0m\n\u001b[0m\u001b[1;32m    491\u001b[0m \u001b[0;34m\u001b[0m\u001b[0m\n\u001b[1;32m    492\u001b[0m         \u001b[0;31m# Done; return the response.\u001b[0m\u001b[0;34m\u001b[0m\u001b[0;34m\u001b[0m\u001b[0;34m\u001b[0m\u001b[0m\n",
      "\u001b[0;32m~/Documents/Projects/intelepeer/sharkninja_analysis/venv8/lib/python3.8/site-packages/google/api_core/gapic_v1/method.py\u001b[0m in \u001b[0;36m__call__\u001b[0;34m(self, *args, **kwargs)\u001b[0m\n\u001b[1;32m    143\u001b[0m             \u001b[0mkwargs\u001b[0m\u001b[0;34m[\u001b[0m\u001b[0;34m\"metadata\"\u001b[0m\u001b[0;34m]\u001b[0m \u001b[0;34m=\u001b[0m \u001b[0mmetadata\u001b[0m\u001b[0;34m\u001b[0m\u001b[0;34m\u001b[0m\u001b[0m\n\u001b[1;32m    144\u001b[0m \u001b[0;34m\u001b[0m\u001b[0m\n\u001b[0;32m--> 145\u001b[0;31m         \u001b[0;32mreturn\u001b[0m \u001b[0mwrapped_func\u001b[0m\u001b[0;34m(\u001b[0m\u001b[0;34m*\u001b[0m\u001b[0margs\u001b[0m\u001b[0;34m,\u001b[0m \u001b[0;34m**\u001b[0m\u001b[0mkwargs\u001b[0m\u001b[0;34m)\u001b[0m\u001b[0;34m\u001b[0m\u001b[0;34m\u001b[0m\u001b[0m\n\u001b[0m\u001b[1;32m    146\u001b[0m \u001b[0;34m\u001b[0m\u001b[0m\n\u001b[1;32m    147\u001b[0m \u001b[0;34m\u001b[0m\u001b[0m\n",
      "\u001b[0;32m~/Documents/Projects/intelepeer/sharkninja_analysis/venv8/lib/python3.8/site-packages/google/api_core/retry.py\u001b[0m in \u001b[0;36mretry_wrapped_func\u001b[0;34m(*args, **kwargs)\u001b[0m\n\u001b[1;32m    279\u001b[0m                 \u001b[0mself\u001b[0m\u001b[0;34m.\u001b[0m\u001b[0m_initial\u001b[0m\u001b[0;34m,\u001b[0m \u001b[0mself\u001b[0m\u001b[0;34m.\u001b[0m\u001b[0m_maximum\u001b[0m\u001b[0;34m,\u001b[0m \u001b[0mmultiplier\u001b[0m\u001b[0;34m=\u001b[0m\u001b[0mself\u001b[0m\u001b[0;34m.\u001b[0m\u001b[0m_multiplier\u001b[0m\u001b[0;34m\u001b[0m\u001b[0;34m\u001b[0m\u001b[0m\n\u001b[1;32m    280\u001b[0m             )\n\u001b[0;32m--> 281\u001b[0;31m             return retry_target(\n\u001b[0m\u001b[1;32m    282\u001b[0m                 \u001b[0mtarget\u001b[0m\u001b[0;34m,\u001b[0m\u001b[0;34m\u001b[0m\u001b[0;34m\u001b[0m\u001b[0m\n\u001b[1;32m    283\u001b[0m                 \u001b[0mself\u001b[0m\u001b[0;34m.\u001b[0m\u001b[0m_predicate\u001b[0m\u001b[0;34m,\u001b[0m\u001b[0;34m\u001b[0m\u001b[0;34m\u001b[0m\u001b[0m\n",
      "\u001b[0;32m~/Documents/Projects/intelepeer/sharkninja_analysis/venv8/lib/python3.8/site-packages/google/api_core/retry.py\u001b[0m in \u001b[0;36mretry_target\u001b[0;34m(target, predicate, sleep_generator, deadline, on_error)\u001b[0m\n\u001b[1;32m    182\u001b[0m     \u001b[0;32mfor\u001b[0m \u001b[0msleep\u001b[0m \u001b[0;32min\u001b[0m \u001b[0msleep_generator\u001b[0m\u001b[0;34m:\u001b[0m\u001b[0;34m\u001b[0m\u001b[0;34m\u001b[0m\u001b[0m\n\u001b[1;32m    183\u001b[0m         \u001b[0;32mtry\u001b[0m\u001b[0;34m:\u001b[0m\u001b[0;34m\u001b[0m\u001b[0;34m\u001b[0m\u001b[0m\n\u001b[0;32m--> 184\u001b[0;31m             \u001b[0;32mreturn\u001b[0m \u001b[0mtarget\u001b[0m\u001b[0;34m(\u001b[0m\u001b[0;34m)\u001b[0m\u001b[0;34m\u001b[0m\u001b[0;34m\u001b[0m\u001b[0m\n\u001b[0m\u001b[1;32m    185\u001b[0m \u001b[0;34m\u001b[0m\u001b[0m\n\u001b[1;32m    186\u001b[0m         \u001b[0;31m# pylint: disable=broad-except\u001b[0m\u001b[0;34m\u001b[0m\u001b[0;34m\u001b[0m\u001b[0;34m\u001b[0m\u001b[0m\n",
      "\u001b[0;32m~/Documents/Projects/intelepeer/sharkninja_analysis/venv8/lib/python3.8/site-packages/google/api_core/grpc_helpers.py\u001b[0m in \u001b[0;36merror_remapped_callable\u001b[0;34m(*args, **kwargs)\u001b[0m\n\u001b[1;32m     57\u001b[0m             \u001b[0;32mreturn\u001b[0m \u001b[0mcallable_\u001b[0m\u001b[0;34m(\u001b[0m\u001b[0;34m*\u001b[0m\u001b[0margs\u001b[0m\u001b[0;34m,\u001b[0m \u001b[0;34m**\u001b[0m\u001b[0mkwargs\u001b[0m\u001b[0;34m)\u001b[0m\u001b[0;34m\u001b[0m\u001b[0;34m\u001b[0m\u001b[0m\n\u001b[1;32m     58\u001b[0m         \u001b[0;32mexcept\u001b[0m \u001b[0mgrpc\u001b[0m\u001b[0;34m.\u001b[0m\u001b[0mRpcError\u001b[0m \u001b[0;32mas\u001b[0m \u001b[0mexc\u001b[0m\u001b[0;34m:\u001b[0m\u001b[0;34m\u001b[0m\u001b[0;34m\u001b[0m\u001b[0m\n\u001b[0;32m---> 59\u001b[0;31m             \u001b[0msix\u001b[0m\u001b[0;34m.\u001b[0m\u001b[0mraise_from\u001b[0m\u001b[0;34m(\u001b[0m\u001b[0mexceptions\u001b[0m\u001b[0;34m.\u001b[0m\u001b[0mfrom_grpc_error\u001b[0m\u001b[0;34m(\u001b[0m\u001b[0mexc\u001b[0m\u001b[0;34m)\u001b[0m\u001b[0;34m,\u001b[0m \u001b[0mexc\u001b[0m\u001b[0;34m)\u001b[0m\u001b[0;34m\u001b[0m\u001b[0;34m\u001b[0m\u001b[0m\n\u001b[0m\u001b[1;32m     60\u001b[0m \u001b[0;34m\u001b[0m\u001b[0m\n\u001b[1;32m     61\u001b[0m     \u001b[0;32mreturn\u001b[0m \u001b[0merror_remapped_callable\u001b[0m\u001b[0;34m\u001b[0m\u001b[0;34m\u001b[0m\u001b[0m\n",
      "\u001b[0;32m~/Documents/Projects/intelepeer/sharkninja_analysis/venv8/lib/python3.8/site-packages/six.py\u001b[0m in \u001b[0;36mraise_from\u001b[0;34m(value, from_value)\u001b[0m\n",
      "\u001b[0;31mPermissionDenied\u001b[0m: 403 request failed: the user does not have 'bigquery.readsessions.create' permission for 'projects/cosmic-octane-88917'"
     ]
    }
   ],
   "source": [
    "df = client.query(sql.format(\"United Kingdom - Customer Service\")).to_dataframe()\n",
    "plot_callbacks(df)"
   ]
  },
  {
   "cell_type": "markdown",
   "metadata": {},
   "source": [
    "## Callbacks - United Kingdom - Customer Service\n",
    "\n",
    "The above plot show characteristics of phone numbers that have appeared in more than one SessionId. The top left is the count of how many of these repeat numbers called for the first time on that date. The top right plot shows the number of days between the two sessionIds and the bottom two plots display the duration in minutes for both the first call and the second. \n",
    "\n",
    "**TollFreeNumbers** is a subgroup of phone numbers that start with '+1800'\n",
    "\n",
    "### Takeaways\n",
    "\n",
    "- There is a ver pronounced downward trend in the number of days between calls, although this might not be real. It could be an affect of callbacks that haven't occured yet.\n",
    "- There is a downward trend in the count of callbacks, although this might not be real. It could be an affect of callbacks that haven't occured yet. With that gap in information in mind we could say that the number of callbacks occuring is probably NOT trending upwards.\n",
    "- The second call started out with a similar avgerage duration in June-July but in the most recent months it's moved up faster than the first call\n",
    "- The toll free numbers have significantly shorter call durations\n",
    "- the toll free numbers followed the downward trend of but consistantly have more time between calls "
   ]
  },
  {
   "cell_type": "code",
   "execution_count": null,
   "metadata": {},
   "outputs": [],
   "source": [
    "df = client.query(sql.format(\"Germany - Customer Service\")).to_dataframe()\n",
    "plot_callbacks(df)"
   ]
  },
  {
   "cell_type": "markdown",
   "metadata": {},
   "source": [
    "## Callbacks - Germany - Customer Service\n",
    "\n",
    "The above plot show characteristics of phone numbers that have appeared in more than one SessionId. The top left is the count of how many of these repeat numbers called for the first time on that date. The top right plot shows the number of days between the two sessionIds and the bottom two plots display the duration in minutes for both the first call and the second. \n",
    "\n",
    "**TollFreeNumbers** is a subgroup of phone numbers that start with '+1800'\n",
    "\n",
    "### Takeaways\n",
    "\n",
    "- There is a slight downward trend in the number of days between calls\n",
    "- First and Second call duration appear to be independent. Again the call duration appears to be affected by the date.\n",
    "- There we no toll free numbers"
   ]
  },
  {
   "cell_type": "code",
   "execution_count": null,
   "metadata": {},
   "outputs": [],
   "source": [
    "df = client.query(sql.format(\"Spain - Customer Service\")).to_dataframe()\n",
    "plot_callbacks(df)"
   ]
  },
  {
   "cell_type": "markdown",
   "metadata": {},
   "source": [
    "## Callbacks - Spain - Customer Service\n",
    "\n",
    "The above plot show characteristics of phone numbers that have appeared in more than one SessionId. The top left is the count of how many of these repeat numbers called for the first time on that date. The top right plot shows the number of days between the two sessionIds and the bottom two plots display the duration in minutes for both the first call and the second. \n",
    "\n",
    "**TollFreeNumbers** is a subgroup of phone numbers that start with '+1800'\n",
    "\n",
    "### Takeaways\n",
    "\n",
    "- The presence of callbacks is sparce in this dataset\n",
    "- The first and second call duration seems to be independent of each other but dependent on the date\n",
    "- This dataset did not have all toll free numbers"
   ]
  },
  {
   "cell_type": "code",
   "execution_count": null,
   "metadata": {},
   "outputs": [],
   "source": [
    "df = client.query(sql.format(\"France - Customer Service\")).to_dataframe()\n",
    "plot_callbacks(df)"
   ]
  },
  {
   "cell_type": "markdown",
   "metadata": {},
   "source": [
    "## Callbacks - Spain - Customer Service\n",
    "\n",
    "The above plot show characteristics of phone numbers that have appeared in more than one SessionId. The top left is the count of how many of these repeat numbers called for the first time on that date. The top right plot shows the number of days between the two sessionIds and the bottom two plots display the duration in minutes for both the first call and the second. \n",
    "\n",
    "**TollFreeNumbers** is a subgroup of phone numbers that start with '+1800'\n",
    "\n",
    "### Takeaways\n",
    "\n",
    "- The presence of callbacks is sparce in this dataset\n",
    "- The first and second call duration seems to be independent of each other but dependent on the date\n",
    "- This dataset had only a few toll free numbers that appeared in Sept. "
   ]
  },
  {
   "cell_type": "code",
   "execution_count": null,
   "metadata": {},
   "outputs": [],
   "source": [
    "df = client.query(sql.format(\"Italy - Customer Service\")).to_dataframe()\n",
    "plot_callbacks(df)"
   ]
  },
  {
   "cell_type": "markdown",
   "metadata": {},
   "source": [
    "## Callbacks - Italy - Customer Service\n",
    "\n",
    "The above plot show characteristics of phone numbers that have appeared in more than one SessionId. The top left is the count of how many of these repeat numbers called for the first time on that date. The top right plot shows the number of days between the two sessionIds and the bottom two plots display the duration in minutes for both the first call and the second. \n",
    "\n",
    "**TollFreeNumbers** is a subgroup of phone numbers that start with '+1800'\n",
    "\n",
    "### Takeaways\n",
    "\n",
    "- The presence of callbacks in this dataset is spase.\n",
    "- There appears to be a downward trend in days between calls in the toll free number subgroup. However, given the sparse data it's hard to vaildate that this is true.\n",
    "- The first and second call duration seems to be independent of each other but dependent on the date"
   ]
  },
  {
   "cell_type": "markdown",
   "metadata": {},
   "source": [
    "# Solutran"
   ]
  },
  {
   "cell_type": "code",
   "execution_count": null,
   "metadata": {},
   "outputs": [],
   "source": [
    "df = client.query(sql.format(\"HBP MainMenu\")).to_dataframe()\n",
    "plot_callbacks(df)"
   ]
  },
  {
   "cell_type": "markdown",
   "metadata": {},
   "source": [
    "## Callbacks - HBP MainMenu\n",
    "\n",
    "The above plot show characteristics of phone numbers that have appeared in more than one SessionId. The top left is the count of how many of these repeat numbers called for the first time on that date. The top right plot shows the number of days between the two sessionIds and the bottom two plots display the duration in minutes for both the first call and the second. \n",
    "\n",
    "**TollFreeNumbers** is a subgroup of phone numbers that start with '+1800'\n",
    "\n",
    "### Takeaways\n",
    "\n",
    "- There were not callbacks for this flow"
   ]
  },
  {
   "cell_type": "code",
   "execution_count": null,
   "metadata": {},
   "outputs": [],
   "source": [
    "df = client.query(sql.format(\"Post Call Survey\")).to_dataframe()\n",
    "plot_callbacks(df)"
   ]
  },
  {
   "cell_type": "markdown",
   "metadata": {},
   "source": [
    "## Callbacks - Post Call Survey\n",
    "\n",
    "The above plot show characteristics of phone numbers that have appeared in more than one SessionId. The top left is the count of how many of these repeat numbers called for the first time on that date. The top right plot shows the number of days between the two sessionIds and the bottom two plots display the duration in minutes for both the first call and the second. \n",
    "\n",
    "**TollFreeNumbers** is a subgroup of phone numbers that start with '+1800'\n",
    "\n",
    "### Takeaways\n",
    "\n",
    "- Examples of toll free numbers are very sparse\n",
    "- Both the first and second call durations are very consistant. They show little variation between them."
   ]
  },
  {
   "cell_type": "code",
   "execution_count": null,
   "metadata": {},
   "outputs": [],
   "source": [
    "df = client.query(sql.format(\"HBP Order\")).to_dataframe()\n",
    "plot_callbacks(df)"
   ]
  },
  {
   "cell_type": "markdown",
   "metadata": {},
   "source": [
    "## Callbacks - HBP Order\n",
    "\n",
    "The above plot show characteristics of phone numbers that have appeared in more than one SessionId. The top left is the count of how many of these repeat numbers called for the first time on that date. The top right plot shows the number of days between the two sessionIds and the bottom two plots display the duration in minutes for both the first call and the second. \n",
    "\n",
    "**TollFreeNumbers** is a subgroup of phone numbers that start with '+1800'\n",
    "\n",
    "### Takeaways\n",
    "\n",
    "- Examples of toll free numbers are very sparse\n",
    "- The majority of the first call durations are zero indicating that were most likely a transfer that moved the user out of the flow quickly. However, there appears to have been a change in October that has caused the calls to have durations.\n",
    "- The second calls have had durations since June. However, we see large increase in average call duration around the same time as behavioral change mentioned above. "
   ]
  },
  {
   "cell_type": "code",
   "execution_count": null,
   "metadata": {},
   "outputs": [],
   "source": [
    "df = client.query(sql.format(\"HBP Transfer TTEC OffShore\")).to_dataframe()\n",
    "plot_callbacks(df)"
   ]
  },
  {
   "cell_type": "markdown",
   "metadata": {},
   "source": [
    "## Callbacks - HBP Transfer TTEC OffShore\n",
    "\n",
    "The above plot show characteristics of phone numbers that have appeared in more than one SessionId. The top left is the count of how many of these repeat numbers called for the first time on that date. The top right plot shows the number of days between the two sessionIds and the bottom two plots display the duration in minutes for both the first call and the second. \n",
    "\n",
    "**TollFreeNumbers** is a subgroup of phone numbers that start with '+1800'\n",
    "\n",
    "### Takeaways\n",
    "\n",
    "- The first call and second call durations are very similar for the non-toll-free numbers\n",
    "- The second call durations are consistantly longer for the toll free numbers"
   ]
  },
  {
   "cell_type": "code",
   "execution_count": null,
   "metadata": {},
   "outputs": [],
   "source": [
    "df = client.query(sql.format(\"HBP Transfer Concentrix OffShore\")).to_dataframe()\n",
    "plot_callbacks(df)"
   ]
  },
  {
   "cell_type": "markdown",
   "metadata": {},
   "source": [
    "## Callbacks - HBP Transfer Concentrix OffShore\n",
    "\n",
    "The above plot show characteristics of phone numbers that have appeared in more than one SessionId. The top left is the count of how many of these repeat numbers called for the first time on that date. The top right plot shows the number of days between the two sessionIds and the bottom two plots display the duration in minutes for both the first call and the second. \n",
    "\n",
    "**TollFreeNumbers** is a subgroup of phone numbers that start with '+1800'\n",
    "\n",
    "### Takeaways\n",
    "\n",
    "- The first call and second call durations are very similar for the non-toll-free numbers\n",
    "- Toll free numbers data is very sparse"
   ]
  },
  {
   "cell_type": "markdown",
   "metadata": {},
   "source": [
    "# American Water"
   ]
  },
  {
   "cell_type": "code",
   "execution_count": null,
   "metadata": {},
   "outputs": [],
   "source": [
    "df = client.query(sql.format(\"National Flow\")).to_dataframe()\n",
    "plot_callbacks(df)"
   ]
  },
  {
   "cell_type": "markdown",
   "metadata": {},
   "source": [
    "## Callbacks - National Flow\n",
    "\n",
    "The above plot show characteristics of phone numbers that have appeared in more than one SessionId. The top left is the count of how many of these repeat numbers called for the first time on that date. The top right plot shows the number of days between the two sessionIds and the bottom two plots display the duration in minutes for both the first call and the second. \n",
    "\n",
    "**TollFreeNumbers** is a subgroup of phone numbers that start with '+1800'\n",
    "\n",
    "### Takeaways\n",
    "\n",
    "- Second call - non-toll-free durations are extremely consistant\n",
    "- In general the toll free numbers appear to have a longer second call duration than the non-toll-free\n",
    "- There seems to be an outlier event in mid July, there was a very high count of numbers that called back with in a very short timespan"
   ]
  },
  {
   "cell_type": "code",
   "execution_count": null,
   "metadata": {},
   "outputs": [],
   "source": [
    "df = client.query(sql.format(\"VA Emergency Outage Message\")).to_dataframe()\n",
    "plot_callbacks(df)"
   ]
  },
  {
   "cell_type": "markdown",
   "metadata": {},
   "source": [
    "## Callbacks - VA Emergency Outage Message\n",
    "\n",
    "The above plot show characteristics of phone numbers that have appeared in more than one SessionId. The top left is the count of how many of these repeat numbers called for the first time on that date. The top right plot shows the number of days between the two sessionIds and the bottom two plots display the duration in minutes for both the first call and the second. \n",
    "\n",
    "**TollFreeNumbers** is a subgroup of phone numbers that start with '+1800'\n",
    "\n",
    "### Takeaways\n",
    "\n",
    "- There seems to be an outlier event in mid July, there was a very high count of numbers that called back with in a very short timespan"
   ]
  },
  {
   "cell_type": "code",
   "execution_count": null,
   "metadata": {},
   "outputs": [],
   "source": [
    "df = client.query(sql.format(\"PA Emergency Outage Message\")).to_dataframe()\n",
    "plot_callbacks(df)"
   ]
  },
  {
   "cell_type": "markdown",
   "metadata": {},
   "source": [
    "## Callbacks - PA Emergency Outage Message\n",
    "\n",
    "The above plot show characteristics of phone numbers that have appeared in more than one SessionId. The top left is the count of how many of these repeat numbers called for the first time on that date. The top right plot shows the number of days between the two sessionIds and the bottom two plots display the duration in minutes for both the first call and the second. \n",
    "\n",
    "**TollFreeNumbers** is a subgroup of phone numbers that start with '+1800'\n",
    "\n",
    "### Takeaways\n",
    "\n",
    "- There seems to be an outlier event in mid July, there was a very high count of numbers that called back with in a very short timespan"
   ]
  },
  {
   "cell_type": "code",
   "execution_count": null,
   "metadata": {},
   "outputs": [],
   "source": [
    "df = client.query(sql.format(\"IL Emergency Outage Message\")).to_dataframe()\n",
    "plot_callbacks(df)"
   ]
  },
  {
   "cell_type": "markdown",
   "metadata": {},
   "source": [
    "## Callbacks - PA Emergency Outage Message\n",
    "\n",
    "The above plot show characteristics of phone numbers that have appeared in more than one SessionId. The top left is the count of how many of these repeat numbers called for the first time on that date. The top right plot shows the number of days between the two sessionIds and the bottom two plots display the duration in minutes for both the first call and the second. \n",
    "\n",
    "**TollFreeNumbers** is a subgroup of phone numbers that start with '+1800'\n",
    "\n",
    "### Takeaways\n",
    "\n",
    "- There seems to be an outlier event in mid July, there was a very high count of numbers that called back with in a very short timespan"
   ]
  },
  {
   "cell_type": "code",
   "execution_count": null,
   "metadata": {},
   "outputs": [],
   "source": []
  }
 ],
 "metadata": {
  "kernelspec": {
   "display_name": "venv8-sharkninja",
   "language": "python",
   "name": "venv8-sharkninja"
  },
  "language_info": {
   "codemirror_mode": {
    "name": "ipython",
    "version": 3
   },
   "file_extension": ".py",
   "mimetype": "text/x-python",
   "name": "python",
   "nbconvert_exporter": "python",
   "pygments_lexer": "ipython3",
   "version": "3.8.5"
  }
 },
 "nbformat": 4,
 "nbformat_minor": 4
}
