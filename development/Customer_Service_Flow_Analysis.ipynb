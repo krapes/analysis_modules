{
 "cells": [
  {
   "cell_type": "markdown",
   "metadata": {},
   "source": [
    "# Customer Service Flow Analysis \n",
    "\n",
    "## Background\n",
    "\n",
    "All of the data seen below is for the client SharkNinja. They recently launched 5 new flows that presumably survey clients in 5 distinct countries about their customer service experience. \n",
    "\n",
    "## Objective\n",
    "\n",
    "This analysis strives to better understand the flows, when they started, how they have preformed over time, and what they look like from a user's perspective. "
   ]
  },
  {
   "cell_type": "code",
   "execution_count": 83,
   "metadata": {},
   "outputs": [],
   "source": [
    "import sys\n",
    "sys.path.append(\"..\")\n",
    "\n",
    "import os\n",
    "from google.cloud import bigquery\n",
    "from plotly.subplots import make_subplots\n",
    "import matplotlib.pyplot as plt\n",
    "import seaborn as sns\n",
    "\n",
    "from src import SankeyFlow\n",
    "\n",
    "\n",
    "\n",
    "\n",
    "credential_path = \"/home/kerri/bigquery-jaya-consultant-cosmic-octane-88917-c46ba9b53a3b.json\"\n",
    "assert os.path.exists(credential_path)\n",
    "os.environ['GOOGLE_APPLICATION_CREDENTIALS'] = credential_path\n",
    "project_id = 'cosmic-octane-88917'\n",
    "client = bigquery.Client(project=project_id)"
   ]
  },
  {
   "cell_type": "code",
   "execution_count": 95,
   "metadata": {},
   "outputs": [],
   "source": [
    "sql_temp = \"\"\"\n",
    "WITH major_events AS (\n",
    "SELECT \n",
    "      SessionId,\n",
    "      TimeStamp,\n",
    "      CONCAT(ActionId, '~~', 'API_EVENT') AS ActionId,\n",
    "      CustomerId,\n",
    "      FlowName\n",
    "FROM `cosmic-octane-88917.analytics_us._VW_ApiEvent`\n",
    "\n",
    "UNION ALL \n",
    "\n",
    "SELECT \n",
    "      SessionId,\n",
    "      TimeStamp,\n",
    "      CONCAT(ActionId, '~~', 'CALL_EVENT', ':', CallAnswerIndicator) AS ActionId,\n",
    "      CustomerId,\n",
    "      FlowName\n",
    "FROM `cosmic-octane-88917.analytics_us._VW_CallEvent`\n",
    "\n",
    "UNION ALL \n",
    "\n",
    "SELECT \n",
    "      SessionId,\n",
    "      TimeStamp,\n",
    "      CONCAT(ActionId, '~~', CAST(DtmfInput AS STRING), '-dtmf') ActionId,\n",
    "      CustomerId,\n",
    "      FlowName\n",
    "FROM `cosmic-octane-88917.analytics_us._VW_DtmfEvent`\n",
    "\n",
    "UNION ALL \n",
    "\n",
    "SELECT \n",
    "      SessionId,\n",
    "      TimeStamp,\n",
    "      CONCAT(ActionId, '~~', 'MSG_EVENT') AS ActionId,\n",
    "      CustomerId,\n",
    "      FlowName\n",
    "FROM `cosmic-octane-88917.analytics_us._VW_MsgEvent`\n",
    "\n",
    "UNION ALL \n",
    "\n",
    "SELECT \n",
    "      SessionId,\n",
    "      TimeStamp,\n",
    "      CONCAT(ActionId, '~~', 'NLP_EVENT') AS ActionId,\n",
    "      CustomerId,\n",
    "      FlowName\n",
    "FROM `cosmic-octane-88917.analytics_us._VW_NlpEvent`\n",
    "\n",
    "/*\n",
    "UNION ALL \n",
    "\n",
    "\n",
    "SELECT \n",
    "      SessionId,\n",
    "      TimeStamp,\n",
    "      CONCAT(ActionId, '~~', 'EXIT_EVENT') AS ActionId,\n",
    "      CustomerId,\n",
    "      FlowName\n",
    "FROM `cosmic-octane-88917.analytics_us._VW_ApplicationExitEvent`\n",
    "\n",
    "UNION ALL \n",
    "\n",
    "\n",
    "SELECT \n",
    "      SessionId,\n",
    "      TimeStamp,\n",
    "      CONCAT(ActionId, '~~', 'RECORD_EVENT'),\n",
    "      CustomerId,\n",
    "      FlowName\n",
    "FROM `cosmic-octane-88917.analytics_us._VW_CallDetailRecordEvent`\n",
    "*/\n",
    "\n",
    "),\n",
    "\n",
    "filtered AS (\n",
    "SELECT  SessionId,\n",
    "        TimeStamp,\n",
    "        ActionId,\n",
    "        FlowName\n",
    "FROM major_events\n",
    "WHERE CustomerId IN ('1021814')\n",
    "--AND FlowName='{0}'\n",
    "AND EXTRACT(DATE FROM TimeStamp) > '2020-06-01'\n",
    ")\n",
    "\n",
    "\n",
    "SELECT SessionId AS user_id,\n",
    "       ActionId  AS event_name,\n",
    "       TimeStamp AS time_event,\n",
    "       FlowName\n",
    "FROM\n",
    "filtered\n",
    "--WHERE ActionId NOT LIKE '%END_CALL%'\n",
    "LIMIT 10000\n",
    "\"\"\"\n"
   ]
  },
  {
   "cell_type": "code",
   "execution_count": 85,
   "metadata": {},
   "outputs": [],
   "source": [
    "sql_time_evol = \"\"\"\n",
    "WITH count_steps AS (\n",
    "SELECT\n",
    "        TimeStamp,\n",
    "        SessionId,\n",
    "        FlowName,\n",
    "        CHARACTER_LENGTH(Path) - CHARACTER_LENGTH(REPLACE(Path, ';', '')) AS pathLength\n",
    "FROM `cosmic-octane-88917.analytics_us._VW_ApplicationExitEvent`\n",
    "),\n",
    "\n",
    "calc_values AS (\n",
    "SELECT \n",
    "      EXTRACT(DATE FROM TimeStamp) AS date,\n",
    "      COUNT(DISTINCT(SessionId)) AS count,\n",
    "      AVG(pathLength) AS avg_pathLength,\n",
    "      FlowName\n",
    "FROM count_steps\n",
    "WHERE FlowName in {0}\n",
    "GROUP BY date, FlowName\n",
    "\n",
    ")\n",
    "\n",
    "SELECT *,\n",
    "      AVG(count) OVER(PARTITION BY FlowName ORDER BY date \n",
    "                 ROWS BETWEEN 14 PRECEDING AND CURRENT ROW) AS avg_14_day_count,\n",
    "      AVG(avg_pathLength) OVER(PARTITION BY FlowName ORDER BY date \n",
    "                 ROWS BETWEEN 14 PRECEDING AND CURRENT ROW) AS avg_14_day_pathLength\n",
    "FROM calc_values\n",
    "\n",
    "\"\"\"\n"
   ]
  },
  {
   "cell_type": "code",
   "execution_count": 86,
   "metadata": {},
   "outputs": [],
   "source": [
    "\n",
    "\n",
    "def time_stats(flownames, hue):\n",
    "    \n",
    "    q = sql_time_evol.format(flownames)\n",
    "    df = client.query(q).to_dataframe()\n",
    "    \n",
    "    fig, (ax1,ax2, ax3, ax4) = plt.subplots(nrows=4, figsize=(15,30))\n",
    "    chart = sns.lineplot(x=\"date\", y=\"avg_14_day_count\",\n",
    "                 hue=hue, \n",
    "                 data=df, ax=ax1)\n",
    "    chart.set_title(f\"14 Day Rolling Average Count\")\n",
    "\n",
    "\n",
    "    chart = sns.lineplot(x=\"date\", y=\"avg_14_day_pathLength\",\n",
    "                 hue=hue, \n",
    "                 data=df, ax=ax2)\n",
    "    chart.set_title(f\"14 Day Rolling Avg Path Length\")\n",
    "\n",
    "\n",
    "    chart = sns.lineplot(x=\"date\", y=\"count\",\n",
    "                 hue=hue, \n",
    "                 data=df, ax=ax3)\n",
    "    chart.set_title(f\"Count\")\n",
    "\n",
    "\n",
    "    chart = sns.lineplot(x=\"date\", y=\"avg_pathLength\",\n",
    "                 hue=hue, \n",
    "                 data=df, ax=ax4)\n",
    "    chart.set_title(f\"Path Length\")"
   ]
  },
  {
   "cell_type": "code",
   "execution_count": 87,
   "metadata": {},
   "outputs": [
    {
     "data": {
      "image/png": "[encoded data removed]",
      "text/plain": [
       "<Figure size 1080x2160 with 4 Axes>"
      ]
     },
     "metadata": {
      "needs_background": "light"
     },
     "output_type": "display_data"
    }
   ],
   "source": [
    "flows = [\"United Kingdom - Customer Service\", \n",
    "         \"Italy - Customer Service\",\n",
    "         \"France - Customer Service\",\n",
    "         \"Spain - Customer Service\",\n",
    "         \"Germany - Customer Service\"]\n",
    "time_stats(tuple(flows), 'FlowName')"
   ]
  },
  {
   "cell_type": "markdown",
   "metadata": {},
   "source": [
    "# Preformance Over Time\n",
    "\n",
    "The plots compare the 5 flows over two dimensions. \n",
    "\n",
    "1. Count - The number of unique SessionIds\n",
    "2. PathLength - The number of steps present in the ApplicationExitEvent path variable\n",
    "\n",
    "### Takeaways\n",
    "\n",
    "- United Kingdom has a much higher volume than the other flows\n",
    "- United Kingdom has a higher and more stable average path length\n",
    "- Path lengths differ between weekdays and weekend, probably because SharkNinja is not taking calls on weekends\n",
    "- The total count of people calling in on weekends is also smaller\n",
    "- While path lenght for United Kingdom and Germany became stable around June Italy, France, and Spain did not really level out until September."
   ]
  },
  {
   "cell_type": "code",
   "execution_count": 96,
   "metadata": {
    "scrolled": false
   },
   "outputs": [
    {
     "data": {
      "application/vnd.plotly.v1+json": {
       "config": {
        "plotlyServerURL": "https://plotly.com"
       },
       "data": [
        {
         "link": {
          "hovertemplate": "%{value} unique users went from %{source.label} to %{target.label}.<br /><br />It took them %{label} in average to reach this point from the start of the flow.<extra></extra>",
          "label": [
           "0 days 00:00:02",
           "0 days 00:00:00",
           "0 days 00:00:07",
           "0 days 00:00:13",
           "0 days 00:00:17",
           "0 days 00:00:07",
           "0 days 00:00:24",
           "0 days 00:00:22",
           "0 days 00:00:17",
           "0 days 00:00:22",
           "0 days 00:00:24",
           "0 days 00:00:00",
           "0 days 00:00:00",
           "0 days 00:00:02",
           "0 days 00:00:01",
           "0 days 00:00:09",
           "0 days 00:00:00",
           "0 days 00:00:02",
           "0 days 00:00:00",
           "0 days 00:00:10",
           "0 days 00:00:00",
           "0 days 00:00:03",
           "0 days 00:00:00",
           "0 days 00:00:00",
           "0 days 00:00:00",
           "0 days 00:00:00",
           "0 days 00:00:15",
           "0 days 00:00:09",
           "0 days 00:00:28",
           "0 days 00:00:09",
           "0 days 00:00:06",
           "0 days 00:00:00",
           "0 days 00:00:22",
           "0 days 00:00:18",
           "0 days 00:00:08",
           "0 days 00:00:07",
           "0 days 00:00:13",
           "0 days 00:00:05",
           "0 days 00:00:05",
           "0 days 00:00:00",
           "0 days 00:00:00",
           "0 days 00:00:38",
           "0 days 00:00:08",
           "0 days 00:00:17",
           "0 days 00:00:02",
           "0 days 00:00:00",
           "0 days 00:00:28",
           "0 days 00:00:01",
           "0 days 00:00:03",
           "0 days 00:00:01",
           "0 days 00:00:01",
           "0 days 00:00:00",
           "0 days 00:00:22",
           "0 days 00:00:09",
           "0 days 00:00:25",
           "0 days 00:00:21",
           "0 days 00:00:20",
           "0 days 00:00:25",
           "0 days 00:00:23",
           "0 days 00:00:57",
           "0 days 00:00:14",
           "0 days 00:00:18",
           "0 days 00:00:35",
           "0 days 00:00:17",
           "0 days 00:00:00",
           "0 days 00:00:00",
           "0 days 00:00:00",
           "0 days 00:00:00",
           "0 days 00:00:01",
           "0 days 00:00:03",
           "0 days 00:00:00",
           "0 days 00:00:20",
           "0 days 00:00:37",
           "0 days 00:00:31",
           "0 days 00:00:00",
           "0 days 00:00:14",
           "0 days 00:00:22",
           "0 days 00:00:26",
           "0 days 00:00:00",
           "0 days 00:00:01",
           "0 days 00:00:00",
           "0 days 00:00:04",
           "0 days 00:00:17",
           "0 days 00:00:19",
           "0 days 00:00:02",
           "0 days 00:00:04",
           "0 days 00:00:00",
           "0 days 00:00:00",
           "0 days 00:00:00",
           "0 days 00:00:00",
           "0 days 00:00:00",
           "0 days 00:00:01",
           "0 days 00:00:00",
           "0 days 00:00:16",
           "0 days 00:00:17",
           "0 days 00:00:22",
           "0 days 00:00:27",
           "0 days 00:00:15",
           "0 days 00:00:00",
           "0 days 00:00:26",
           "0 days 00:00:31",
           "0 days 00:00:20",
           "0 days 00:00:46",
           "0 days 00:00:25",
           "0 days 00:00:25"
          ],
          "source": [
           5,
           5,
           5,
           43,
           43,
           43,
           43,
           43,
           43,
           43,
           43,
           16,
           16,
           6,
           6,
           6,
           6,
           13,
           13,
           9,
           9,
           9,
           9,
           9,
           9,
           9,
           9,
           9,
           9,
           8,
           8,
           8,
           8,
           8,
           22,
           22,
           22,
           29,
           29,
           15,
           15,
           15,
           30,
           30,
           12,
           12,
           12,
           7,
           7,
           7,
           7,
           7,
           36,
           36,
           36,
           36,
           42,
           42,
           42,
           42,
           35,
           35,
           35,
           35,
           17,
           17,
           17,
           4,
           4,
           4,
           4,
           23,
           45,
           37,
           14,
           20,
           41,
           41,
           3,
           3,
           3,
           3,
           33,
           33,
           1,
           1,
           1,
           0,
           0,
           0,
           0,
           2,
           2,
           32,
           32,
           34,
           34,
           34,
           34,
           40,
           40,
           31,
           31,
           31,
           31
          ],
          "target": [
           21,
           20,
           49,
           20,
           21,
           38,
           49,
           19,
           50,
           39,
           51,
           28,
           27,
           21,
           20,
           49,
           19,
           30,
           29,
           43,
           21,
           22,
           20,
           25,
           19,
           24,
           42,
           23,
           45,
           21,
           20,
           19,
           49,
           39,
           20,
           21,
           49,
           28,
           27,
           28,
           27,
           53,
           27,
           28,
           28,
           27,
           46,
           9,
           36,
           35,
           8,
           20,
           5,
           4,
           7,
           6,
           20,
           21,
           49,
           39,
           8,
           9,
           35,
           36,
           12,
           13,
           37,
           5,
           7,
           4,
           6,
           49,
           21,
           15,
           17,
           8,
           48,
           47,
           33,
           32,
           34,
           31,
           41,
           40,
           48,
           47,
           26,
           2,
           3,
           1,
           0,
           48,
           47,
           48,
           47,
           1,
           3,
           2,
           0,
           48,
           47,
           33,
           31,
           32,
           34
          ],
          "value": [
           181,
           74,
           22,
           98,
           218,
           1,
           57,
           1,
           1,
           1,
           1,
           7,
           5,
           70,
           28,
           5,
           1,
           47,
           10,
           599,
           31,
           220,
           21,
           1,
           2,
           4,
           116,
           2,
           1,
           150,
           101,
           1,
           10,
           1,
           99,
           123,
           11,
           7,
           1,
           8,
           5,
           1,
           6,
           17,
           7,
           6,
           1,
           446,
           43,
           36,
           121,
           3,
           18,
           2,
           21,
           7,
           11,
           36,
           24,
           1,
           5,
           30,
           5,
           2,
           2,
           6,
           1,
           6,
           27,
           7,
           3,
           1,
           1,
           1,
           1,
           3,
           352,
           76,
           670,
           221,
           41,
           30,
           582,
           128,
           202,
           33,
           2,
           3,
           38,
           6,
           3,
           97,
           5,
           221,
           13,
           20,
           18,
           5,
           1,
           64,
           28,
           17,
           2,
           7,
           2
          ]
         },
         "node": {
          "label": [
           "MENU_TREE_17:3.1 Main Menu~~-1-dtmf",
           "MENU_TREE_17:3.1 Main Menu~~1-dtmf",
           "MENU_TREE_17:3.1 Main Menu~~2-dtmf",
           "MENU_TREE_17:3.1 Main Menu~~3-dtmf",
           "MENU_TREE_17~~-1-dtmf",
           "MENU_TREE_17~~1-dtmf",
           "MENU_TREE_17~~2-dtmf",
           "MENU_TREE_17~~3-dtmf",
           "MENU_TREE_20~~1-dtmf",
           "MENU_TREE_20~~2-dtmf",
           "MENU_TREE_22:MENU_TREE~~1-dtmf",
           "MENU_TREE_22:MENU_TREE~~2-dtmf",
           "MENU_TREE_4~~1-dtmf",
           "MENU_TREE_4~~2-dtmf",
           "MENU_TREE_6~~-1-dtmf",
           "MENU_TREE_6~~1-dtmf",
           "MENU_TREE_6~~2-dtmf",
           "MENU_TREE_6~~3-dtmf",
           "SMS_2:SMS~~MSG_EVENT",
           "DTMF_29~~0-dtmf",
           "DTMF_29~~1-dtmf",
           "DTMF_29~~2-dtmf",
           "DTMF_44~~1-dtmf",
           "DTMF_44~~3-dtmf",
           "DTMF_44~~4-dtmf",
           "DTMF_44~~6-dtmf",
           "DTMF_61:4.0 Survey~~-2-dtmf",
           "DTMF_7~~1-dtmf",
           "DTMF_7~~2-dtmf",
           "MENU_TREE_15~~1-dtmf",
           "MENU_TREE_15~~2-dtmf",
           "MENU_TREE_20:7.1 Product Menu~~-1-dtmf",
           "MENU_TREE_20:7.1 Product Menu~~1-dtmf",
           "MENU_TREE_20:7.1 Product Menu~~2-dtmf",
           "MENU_TREE_20:7.1 Product Menu~~9-dtmf",
           "MENU_TREE_20~~-1-dtmf",
           "MENU_TREE_20~~9-dtmf",
           "MENU_TREE_4~~9-dtmf",
           "DTMF_29~~6-dtmf",
           "DTMF_29~~9-dtmf",
           "DTMF_44:DTMF~~-1-dtmf",
           "DTMF_44:DTMF~~-2-dtmf",
           "DTMF_44~~-1-dtmf",
           "DTMF_44~~2-dtmf",
           "DTMF_44~~3-dtmf",
           "DTMF_44~~9-dtmf",
           "DTMF_7~~-1-dtmf",
           "DTMF_29:4.1 Survey Prompt~~-1-dtmf",
           "DTMF_29:4.1 Survey Prompt~~-2-dtmf",
           "DTMF_29~~-1-dtmf",
           "DTMF_29~~3-dtmf",
           "DTMF_29~~8-dtmf",
           "DTMF_29~~9-dtmf",
           "DTMF_7~~9-dtmf",
           "DTMF_29~~9-dtmf"
          ],
          "line": {
           "color": "black",
           "width": 0.5
          },
          "thickness": 10
         },
         "type": "sankey"
        }
       ],
       "layout": {
        "autosize": true,
        "font": {
         "size": 15
        },
        "plot_bgcolor": "white",
        "template": {
         "data": {
          "bar": [
           {
            "error_x": {
             "color": "#2a3f5f"
            },
            "error_y": {
             "color": "#2a3f5f"
            },
            "marker": {
             "line": {
              "color": "#E5ECF6",
              "width": 0.5
             }
            },
            "type": "bar"
           }
          ],
          "barpolar": [
           {
            "marker": {
             "line": {
              "color": "#E5ECF6",
              "width": 0.5
             }
            },
            "type": "barpolar"
           }
          ],
          "carpet": [
           {
            "aaxis": {
             "endlinecolor": "#2a3f5f",
             "gridcolor": "white",
             "linecolor": "white",
             "minorgridcolor": "white",
             "startlinecolor": "#2a3f5f"
            },
            "baxis": {
             "endlinecolor": "#2a3f5f",
             "gridcolor": "white",
             "linecolor": "white",
             "minorgridcolor": "white",
             "startlinecolor": "#2a3f5f"
            },
            "type": "carpet"
           }
          ],
          "choropleth": [
           {
            "colorbar": {
             "outlinewidth": 0,
             "ticks": ""
            },
            "type": "choropleth"
           }
          ],
          "contour": [
           {
            "colorbar": {
             "outlinewidth": 0,
             "ticks": ""
            },
            "colorscale": [
             [
              0,
              "#0d0887"
             ],
             [
              0.1111111111111111,
              "#46039f"
             ],
             [
              0.2222222222222222,
              "#7201a8"
             ],
             [
              0.3333333333333333,
              "#9c179e"
             ],
             [
              0.4444444444444444,
              "#bd3786"
             ],
             [
              0.5555555555555556,
              "#d8576b"
             ],
             [
              0.6666666666666666,
              "#ed7953"
             ],
             [
              0.7777777777777778,
              "#fb9f3a"
             ],
             [
              0.8888888888888888,
              "#fdca26"
             ],
             [
              1,
              "#f0f921"
             ]
            ],
            "type": "contour"
           }
          ],
          "contourcarpet": [
           {
            "colorbar": {
             "outlinewidth": 0,
             "ticks": ""
            },
            "type": "contourcarpet"
           }
          ],
          "heatmap": [
           {
            "colorbar": {
             "outlinewidth": 0,
             "ticks": ""
            },
            "colorscale": [
             [
              0,
              "#0d0887"
             ],
             [
              0.1111111111111111,
              "#46039f"
             ],
             [
              0.2222222222222222,
              "#7201a8"
             ],
             [
              0.3333333333333333,
              "#9c179e"
             ],
             [
              0.4444444444444444,
              "#bd3786"
             ],
             [
              0.5555555555555556,
              "#d8576b"
             ],
             [
              0.6666666666666666,
              "#ed7953"
             ],
             [
              0.7777777777777778,
              "#fb9f3a"
             ],
             [
              0.8888888888888888,
              "#fdca26"
             ],
             [
              1,
              "#f0f921"
             ]
            ],
            "type": "heatmap"
           }
          ],
          "heatmapgl": [
           {
            "colorbar": {
             "outlinewidth": 0,
             "ticks": ""
            },
            "colorscale": [
             [
              0,
              "#0d0887"
             ],
             [
              0.1111111111111111,
              "#46039f"
             ],
             [
              0.2222222222222222,
              "#7201a8"
             ],
             [
              0.3333333333333333,
              "#9c179e"
             ],
             [
              0.4444444444444444,
              "#bd3786"
             ],
             [
              0.5555555555555556,
              "#d8576b"
             ],
             [
              0.6666666666666666,
              "#ed7953"
             ],
             [
              0.7777777777777778,
              "#fb9f3a"
             ],
             [
              0.8888888888888888,
              "#fdca26"
             ],
             [
              1,
              "#f0f921"
             ]
            ],
            "type": "heatmapgl"
           }
          ],
          "histogram": [
           {
            "marker": {
             "colorbar": {
              "outlinewidth": 0,
              "ticks": ""
             }
            },
            "type": "histogram"
           }
          ],
          "histogram2d": [
           {
            "colorbar": {
             "outlinewidth": 0,
             "ticks": ""
            },
            "colorscale": [
             [
              0,
              "#0d0887"
             ],
             [
              0.1111111111111111,
              "#46039f"
             ],
             [
              0.2222222222222222,
              "#7201a8"
             ],
             [
              0.3333333333333333,
              "#9c179e"
             ],
             [
              0.4444444444444444,
              "#bd3786"
             ],
             [
              0.5555555555555556,
              "#d8576b"
             ],
             [
              0.6666666666666666,
              "#ed7953"
             ],
             [
              0.7777777777777778,
              "#fb9f3a"
             ],
             [
              0.8888888888888888,
              "#fdca26"
             ],
             [
              1,
              "#f0f921"
             ]
            ],
            "type": "histogram2d"
           }
          ],
          "histogram2dcontour": [
           {
            "colorbar": {
             "outlinewidth": 0,
             "ticks": ""
            },
            "colorscale": [
             [
              0,
              "#0d0887"
             ],
             [
              0.1111111111111111,
              "#46039f"
             ],
             [
              0.2222222222222222,
              "#7201a8"
             ],
             [
              0.3333333333333333,
              "#9c179e"
             ],
             [
              0.4444444444444444,
              "#bd3786"
             ],
             [
              0.5555555555555556,
              "#d8576b"
             ],
             [
              0.6666666666666666,
              "#ed7953"
             ],
             [
              0.7777777777777778,
              "#fb9f3a"
             ],
             [
              0.8888888888888888,
              "#fdca26"
             ],
             [
              1,
              "#f0f921"
             ]
            ],
            "type": "histogram2dcontour"
           }
          ],
          "mesh3d": [
           {
            "colorbar": {
             "outlinewidth": 0,
             "ticks": ""
            },
            "type": "mesh3d"
           }
          ],
          "parcoords": [
           {
            "line": {
             "colorbar": {
              "outlinewidth": 0,
              "ticks": ""
             }
            },
            "type": "parcoords"
           }
          ],
          "pie": [
           {
            "automargin": true,
            "type": "pie"
           }
          ],
          "scatter": [
           {
            "marker": {
             "colorbar": {
              "outlinewidth": 0,
              "ticks": ""
             }
            },
            "type": "scatter"
           }
          ],
          "scatter3d": [
           {
            "line": {
             "colorbar": {
              "outlinewidth": 0,
              "ticks": ""
             }
            },
            "marker": {
             "colorbar": {
              "outlinewidth": 0,
              "ticks": ""
             }
            },
            "type": "scatter3d"
           }
          ],
          "scattercarpet": [
           {
            "marker": {
             "colorbar": {
              "outlinewidth": 0,
              "ticks": ""
             }
            },
            "type": "scattercarpet"
           }
          ],
          "scattergeo": [
           {
            "marker": {
             "colorbar": {
              "outlinewidth": 0,
              "ticks": ""
             }
            },
            "type": "scattergeo"
           }
          ],
          "scattergl": [
           {
            "marker": {
             "colorbar": {
              "outlinewidth": 0,
              "ticks": ""
             }
            },
            "type": "scattergl"
           }
          ],
          "scattermapbox": [
           {
            "marker": {
             "colorbar": {
              "outlinewidth": 0,
              "ticks": ""
             }
            },
            "type": "scattermapbox"
           }
          ],
          "scatterpolar": [
           {
            "marker": {
             "colorbar": {
              "outlinewidth": 0,
              "ticks": ""
             }
            },
            "type": "scatterpolar"
           }
          ],
          "scatterpolargl": [
           {
            "marker": {
             "colorbar": {
              "outlinewidth": 0,
              "ticks": ""
             }
            },
            "type": "scatterpolargl"
           }
          ],
          "scatterternary": [
           {
            "marker": {
             "colorbar": {
              "outlinewidth": 0,
              "ticks": ""
             }
            },
            "type": "scatterternary"
           }
          ],
          "surface": [
           {
            "colorbar": {
             "outlinewidth": 0,
             "ticks": ""
            },
            "colorscale": [
             [
              0,
              "#0d0887"
             ],
             [
              0.1111111111111111,
              "#46039f"
             ],
             [
              0.2222222222222222,
              "#7201a8"
             ],
             [
              0.3333333333333333,
              "#9c179e"
             ],
             [
              0.4444444444444444,
              "#bd3786"
             ],
             [
              0.5555555555555556,
              "#d8576b"
             ],
             [
              0.6666666666666666,
              "#ed7953"
             ],
             [
              0.7777777777777778,
              "#fb9f3a"
             ],
             [
              0.8888888888888888,
              "#fdca26"
             ],
             [
              1,
              "#f0f921"
             ]
            ],
            "type": "surface"
           }
          ],
          "table": [
           {
            "cells": {
             "fill": {
              "color": "#EBF0F8"
             },
             "line": {
              "color": "white"
             }
            },
            "header": {
             "fill": {
              "color": "#C8D4E3"
             },
             "line": {
              "color": "white"
             }
            },
            "type": "table"
           }
          ]
         },
         "layout": {
          "annotationdefaults": {
           "arrowcolor": "#2a3f5f",
           "arrowhead": 0,
           "arrowwidth": 1
          },
          "coloraxis": {
           "colorbar": {
            "outlinewidth": 0,
            "ticks": ""
           }
          },
          "colorscale": {
           "diverging": [
            [
             0,
             "#8e0152"
            ],
            [
             0.1,
             "#c51b7d"
            ],
            [
             0.2,
             "#de77ae"
            ],
            [
             0.3,
             "#f1b6da"
            ],
            [
             0.4,
             "#fde0ef"
            ],
            [
             0.5,
             "#f7f7f7"
            ],
            [
             0.6,
             "#e6f5d0"
            ],
            [
             0.7,
             "#b8e186"
            ],
            [
             0.8,
             "#7fbc41"
            ],
            [
             0.9,
             "#4d9221"
            ],
            [
             1,
             "#276419"
            ]
           ],
           "sequential": [
            [
             0,
             "#0d0887"
            ],
            [
             0.1111111111111111,
             "#46039f"
            ],
            [
             0.2222222222222222,
             "#7201a8"
            ],
            [
             0.3333333333333333,
             "#9c179e"
            ],
            [
             0.4444444444444444,
             "#bd3786"
            ],
            [
             0.5555555555555556,
             "#d8576b"
            ],
            [
             0.6666666666666666,
             "#ed7953"
            ],
            [
             0.7777777777777778,
             "#fb9f3a"
            ],
            [
             0.8888888888888888,
             "#fdca26"
            ],
            [
             1,
             "#f0f921"
            ]
           ],
           "sequentialminus": [
            [
             0,
             "#0d0887"
            ],
            [
             0.1111111111111111,
             "#46039f"
            ],
            [
             0.2222222222222222,
             "#7201a8"
            ],
            [
             0.3333333333333333,
             "#9c179e"
            ],
            [
             0.4444444444444444,
             "#bd3786"
            ],
            [
             0.5555555555555556,
             "#d8576b"
            ],
            [
             0.6666666666666666,
             "#ed7953"
            ],
            [
             0.7777777777777778,
             "#fb9f3a"
            ],
            [
             0.8888888888888888,
             "#fdca26"
            ],
            [
             1,
             "#f0f921"
            ]
           ]
          },
          "colorway": [
           "#636efa",
           "#EF553B",
           "#00cc96",
           "#ab63fa",
           "#FFA15A",
           "#19d3f3",
           "#FF6692",
           "#B6E880",
           "#FF97FF",
           "#FECB52"
          ],
          "font": {
           "color": "#2a3f5f"
          },
          "geo": {
           "bgcolor": "white",
           "lakecolor": "white",
           "landcolor": "#E5ECF6",
           "showlakes": true,
           "showland": true,
           "subunitcolor": "white"
          },
          "hoverlabel": {
           "align": "left"
          },
          "hovermode": "closest",
          "mapbox": {
           "style": "light"
          },
          "paper_bgcolor": "white",
          "plot_bgcolor": "#E5ECF6",
          "polar": {
           "angularaxis": {
            "gridcolor": "white",
            "linecolor": "white",
            "ticks": ""
           },
           "bgcolor": "#E5ECF6",
           "radialaxis": {
            "gridcolor": "white",
            "linecolor": "white",
            "ticks": ""
           }
          },
          "scene": {
           "xaxis": {
            "backgroundcolor": "#E5ECF6",
            "gridcolor": "white",
            "gridwidth": 2,
            "linecolor": "white",
            "showbackground": true,
            "ticks": "",
            "zerolinecolor": "white"
           },
           "yaxis": {
            "backgroundcolor": "#E5ECF6",
            "gridcolor": "white",
            "gridwidth": 2,
            "linecolor": "white",
            "showbackground": true,
            "ticks": "",
            "zerolinecolor": "white"
           },
           "zaxis": {
            "backgroundcolor": "#E5ECF6",
            "gridcolor": "white",
            "gridwidth": 2,
            "linecolor": "white",
            "showbackground": true,
            "ticks": "",
            "zerolinecolor": "white"
           }
          },
          "shapedefaults": {
           "line": {
            "color": "#2a3f5f"
           }
          },
          "ternary": {
           "aaxis": {
            "gridcolor": "white",
            "linecolor": "white",
            "ticks": ""
           },
           "baxis": {
            "gridcolor": "white",
            "linecolor": "white",
            "ticks": ""
           },
           "bgcolor": "#E5ECF6",
           "caxis": {
            "gridcolor": "white",
            "linecolor": "white",
            "ticks": ""
           }
          },
          "title": {
           "x": 0.05
          },
          "xaxis": {
           "automargin": true,
           "gridcolor": "white",
           "linecolor": "white",
           "ticks": "",
           "title": {
            "standoff": 15
           },
           "zerolinecolor": "white",
           "zerolinewidth": 2
          },
          "yaxis": {
           "automargin": true,
           "gridcolor": "white",
           "linecolor": "white",
           "ticks": "",
           "title": {
            "standoff": 15
           },
           "zerolinecolor": "white",
           "zerolinewidth": 2
          }
         }
        },
        "title": {
         "text": "United Kingdom - Customer Service Without Trimming"
        }
       }
      },
      "text/html": [
       "<div>                            <div id=\"587874c1-c28d-465f-ac1d-730dd48f1a71\" class=\"plotly-graph-div\" style=\"height:525px; width:100%;\"></div>            <script type=\"text/javascript\">                require([\"plotly\"], function(Plotly) {                    window.PLOTLYENV=window.PLOTLYENV || {};                                    if (document.getElementById(\"587874c1-c28d-465f-ac1d-730dd48f1a71\")) {                    Plotly.newPlot(                        \"587874c1-c28d-465f-ac1d-730dd48f1a71\",                        [{\"link\": {\"hovertemplate\": \"%{value} unique users went from %{source.label} to %{target.label}.<br /><br />It took them %{label} in average to reach this point from the start of the flow.<extra></extra>\", \"label\": [\"0 days 00:00:02\", \"0 days 00:00:00\", \"0 days 00:00:07\", \"0 days 00:00:13\", \"0 days 00:00:17\", \"0 days 00:00:07\", \"0 days 00:00:24\", \"0 days 00:00:22\", \"0 days 00:00:17\", \"0 days 00:00:22\", \"0 days 00:00:24\", \"0 days 00:00:00\", \"0 days 00:00:00\", \"0 days 00:00:02\", \"0 days 00:00:01\", \"0 days 00:00:09\", \"0 days 00:00:00\", \"0 days 00:00:02\", \"0 days 00:00:00\", \"0 days 00:00:10\", \"0 days 00:00:00\", \"0 days 00:00:03\", \"0 days 00:00:00\", \"0 days 00:00:00\", \"0 days 00:00:00\", \"0 days 00:00:00\", \"0 days 00:00:15\", \"0 days 00:00:09\", \"0 days 00:00:28\", \"0 days 00:00:09\", \"0 days 00:00:06\", \"0 days 00:00:00\", \"0 days 00:00:22\", \"0 days 00:00:18\", \"0 days 00:00:08\", \"0 days 00:00:07\", \"0 days 00:00:13\", \"0 days 00:00:05\", \"0 days 00:00:05\", \"0 days 00:00:00\", \"0 days 00:00:00\", \"0 days 00:00:38\", \"0 days 00:00:08\", \"0 days 00:00:17\", \"0 days 00:00:02\", \"0 days 00:00:00\", \"0 days 00:00:28\", \"0 days 00:00:01\", \"0 days 00:00:03\", \"0 days 00:00:01\", \"0 days 00:00:01\", \"0 days 00:00:00\", \"0 days 00:00:22\", \"0 days 00:00:09\", \"0 days 00:00:25\", \"0 days 00:00:21\", \"0 days 00:00:20\", \"0 days 00:00:25\", \"0 days 00:00:23\", \"0 days 00:00:57\", \"0 days 00:00:14\", \"0 days 00:00:18\", \"0 days 00:00:35\", \"0 days 00:00:17\", \"0 days 00:00:00\", \"0 days 00:00:00\", \"0 days 00:00:00\", \"0 days 00:00:00\", \"0 days 00:00:01\", \"0 days 00:00:03\", \"0 days 00:00:00\", \"0 days 00:00:20\", \"0 days 00:00:37\", \"0 days 00:00:31\", \"0 days 00:00:00\", \"0 days 00:00:14\", \"0 days 00:00:22\", \"0 days 00:00:26\", \"0 days 00:00:00\", \"0 days 00:00:01\", \"0 days 00:00:00\", \"0 days 00:00:04\", \"0 days 00:00:17\", \"0 days 00:00:19\", \"0 days 00:00:02\", \"0 days 00:00:04\", \"0 days 00:00:00\", \"0 days 00:00:00\", \"0 days 00:00:00\", \"0 days 00:00:00\", \"0 days 00:00:00\", \"0 days 00:00:01\", \"0 days 00:00:00\", \"0 days 00:00:16\", \"0 days 00:00:17\", \"0 days 00:00:22\", \"0 days 00:00:27\", \"0 days 00:00:15\", \"0 days 00:00:00\", \"0 days 00:00:26\", \"0 days 00:00:31\", \"0 days 00:00:20\", \"0 days 00:00:46\", \"0 days 00:00:25\", \"0 days 00:00:25\"], \"source\": [5, 5, 5, 43, 43, 43, 43, 43, 43, 43, 43, 16, 16, 6, 6, 6, 6, 13, 13, 9, 9, 9, 9, 9, 9, 9, 9, 9, 9, 8, 8, 8, 8, 8, 22, 22, 22, 29, 29, 15, 15, 15, 30, 30, 12, 12, 12, 7, 7, 7, 7, 7, 36, 36, 36, 36, 42, 42, 42, 42, 35, 35, 35, 35, 17, 17, 17, 4, 4, 4, 4, 23, 45, 37, 14, 20, 41, 41, 3, 3, 3, 3, 33, 33, 1, 1, 1, 0, 0, 0, 0, 2, 2, 32, 32, 34, 34, 34, 34, 40, 40, 31, 31, 31, 31], \"target\": [21, 20, 49, 20, 21, 38, 49, 19, 50, 39, 51, 28, 27, 21, 20, 49, 19, 30, 29, 43, 21, 22, 20, 25, 19, 24, 42, 23, 45, 21, 20, 19, 49, 39, 20, 21, 49, 28, 27, 28, 27, 53, 27, 28, 28, 27, 46, 9, 36, 35, 8, 20, 5, 4, 7, 6, 20, 21, 49, 39, 8, 9, 35, 36, 12, 13, 37, 5, 7, 4, 6, 49, 21, 15, 17, 8, 48, 47, 33, 32, 34, 31, 41, 40, 48, 47, 26, 2, 3, 1, 0, 48, 47, 48, 47, 1, 3, 2, 0, 48, 47, 33, 31, 32, 34], \"value\": [181, 74, 22, 98, 218, 1, 57, 1, 1, 1, 1, 7, 5, 70, 28, 5, 1, 47, 10, 599, 31, 220, 21, 1, 2, 4, 116, 2, 1, 150, 101, 1, 10, 1, 99, 123, 11, 7, 1, 8, 5, 1, 6, 17, 7, 6, 1, 446, 43, 36, 121, 3, 18, 2, 21, 7, 11, 36, 24, 1, 5, 30, 5, 2, 2, 6, 1, 6, 27, 7, 3, 1, 1, 1, 1, 3, 352, 76, 670, 221, 41, 30, 582, 128, 202, 33, 2, 3, 38, 6, 3, 97, 5, 221, 13, 20, 18, 5, 1, 64, 28, 17, 2, 7, 2]}, \"node\": {\"label\": [\"MENU_TREE_17:3.1 Main Menu~~-1-dtmf\", \"MENU_TREE_17:3.1 Main Menu~~1-dtmf\", \"MENU_TREE_17:3.1 Main Menu~~2-dtmf\", \"MENU_TREE_17:3.1 Main Menu~~3-dtmf\", \"MENU_TREE_17~~-1-dtmf\", \"MENU_TREE_17~~1-dtmf\", \"MENU_TREE_17~~2-dtmf\", \"MENU_TREE_17~~3-dtmf\", \"MENU_TREE_20~~1-dtmf\", \"MENU_TREE_20~~2-dtmf\", \"MENU_TREE_22:MENU_TREE~~1-dtmf\", \"MENU_TREE_22:MENU_TREE~~2-dtmf\", \"MENU_TREE_4~~1-dtmf\", \"MENU_TREE_4~~2-dtmf\", \"MENU_TREE_6~~-1-dtmf\", \"MENU_TREE_6~~1-dtmf\", \"MENU_TREE_6~~2-dtmf\", \"MENU_TREE_6~~3-dtmf\", \"SMS_2:SMS~~MSG_EVENT\", \"DTMF_29~~0-dtmf\", \"DTMF_29~~1-dtmf\", \"DTMF_29~~2-dtmf\", \"DTMF_44~~1-dtmf\", \"DTMF_44~~3-dtmf\", \"DTMF_44~~4-dtmf\", \"DTMF_44~~6-dtmf\", \"DTMF_61:4.0 Survey~~-2-dtmf\", \"DTMF_7~~1-dtmf\", \"DTMF_7~~2-dtmf\", \"MENU_TREE_15~~1-dtmf\", \"MENU_TREE_15~~2-dtmf\", \"MENU_TREE_20:7.1 Product Menu~~-1-dtmf\", \"MENU_TREE_20:7.1 Product Menu~~1-dtmf\", \"MENU_TREE_20:7.1 Product Menu~~2-dtmf\", \"MENU_TREE_20:7.1 Product Menu~~9-dtmf\", \"MENU_TREE_20~~-1-dtmf\", \"MENU_TREE_20~~9-dtmf\", \"MENU_TREE_4~~9-dtmf\", \"DTMF_29~~6-dtmf\", \"DTMF_29~~9-dtmf\", \"DTMF_44:DTMF~~-1-dtmf\", \"DTMF_44:DTMF~~-2-dtmf\", \"DTMF_44~~-1-dtmf\", \"DTMF_44~~2-dtmf\", \"DTMF_44~~3-dtmf\", \"DTMF_44~~9-dtmf\", \"DTMF_7~~-1-dtmf\", \"DTMF_29:4.1 Survey Prompt~~-1-dtmf\", \"DTMF_29:4.1 Survey Prompt~~-2-dtmf\", \"DTMF_29~~-1-dtmf\", \"DTMF_29~~3-dtmf\", \"DTMF_29~~8-dtmf\", \"DTMF_29~~9-dtmf\", \"DTMF_7~~9-dtmf\", \"DTMF_29~~9-dtmf\"], \"line\": {\"color\": \"black\", \"width\": 0.5}, \"thickness\": 10}, \"type\": \"sankey\"}],                        {\"autosize\": true, \"font\": {\"size\": 15}, \"plot_bgcolor\": \"white\", \"template\": {\"data\": {\"bar\": [{\"error_x\": {\"color\": \"#2a3f5f\"}, \"error_y\": {\"color\": \"#2a3f5f\"}, \"marker\": {\"line\": {\"color\": \"#E5ECF6\", \"width\": 0.5}}, \"type\": \"bar\"}], \"barpolar\": [{\"marker\": {\"line\": {\"color\": \"#E5ECF6\", \"width\": 0.5}}, \"type\": \"barpolar\"}], \"carpet\": [{\"aaxis\": {\"endlinecolor\": \"#2a3f5f\", \"gridcolor\": \"white\", \"linecolor\": \"white\", \"minorgridcolor\": \"white\", \"startlinecolor\": \"#2a3f5f\"}, \"baxis\": {\"endlinecolor\": \"#2a3f5f\", \"gridcolor\": \"white\", \"linecolor\": \"white\", \"minorgridcolor\": \"white\", \"startlinecolor\": \"#2a3f5f\"}, \"type\": \"carpet\"}], \"choropleth\": [{\"colorbar\": {\"outlinewidth\": 0, \"ticks\": \"\"}, \"type\": \"choropleth\"}], \"contour\": [{\"colorbar\": {\"outlinewidth\": 0, \"ticks\": \"\"}, \"colorscale\": [[0.0, \"#0d0887\"], [0.1111111111111111, \"#46039f\"], [0.2222222222222222, \"#7201a8\"], [0.3333333333333333, \"#9c179e\"], [0.4444444444444444, \"#bd3786\"], [0.5555555555555556, \"#d8576b\"], [0.6666666666666666, \"#ed7953\"], [0.7777777777777778, \"#fb9f3a\"], [0.8888888888888888, \"#fdca26\"], [1.0, \"#f0f921\"]], \"type\": \"contour\"}], \"contourcarpet\": [{\"colorbar\": {\"outlinewidth\": 0, \"ticks\": \"\"}, \"type\": \"contourcarpet\"}], \"heatmap\": [{\"colorbar\": {\"outlinewidth\": 0, \"ticks\": \"\"}, \"colorscale\": [[0.0, \"#0d0887\"], [0.1111111111111111, \"#46039f\"], [0.2222222222222222, \"#7201a8\"], [0.3333333333333333, \"#9c179e\"], [0.4444444444444444, \"#bd3786\"], [0.5555555555555556, \"#d8576b\"], [0.6666666666666666, \"#ed7953\"], [0.7777777777777778, \"#fb9f3a\"], [0.8888888888888888, \"#fdca26\"], [1.0, \"#f0f921\"]], \"type\": \"heatmap\"}], \"heatmapgl\": [{\"colorbar\": {\"outlinewidth\": 0, \"ticks\": \"\"}, \"colorscale\": [[0.0, \"#0d0887\"], [0.1111111111111111, \"#46039f\"], [0.2222222222222222, \"#7201a8\"], [0.3333333333333333, \"#9c179e\"], [0.4444444444444444, \"#bd3786\"], [0.5555555555555556, \"#d8576b\"], [0.6666666666666666, \"#ed7953\"], [0.7777777777777778, \"#fb9f3a\"], [0.8888888888888888, \"#fdca26\"], [1.0, \"#f0f921\"]], \"type\": \"heatmapgl\"}], \"histogram\": [{\"marker\": {\"colorbar\": {\"outlinewidth\": 0, \"ticks\": \"\"}}, \"type\": \"histogram\"}], \"histogram2d\": [{\"colorbar\": {\"outlinewidth\": 0, \"ticks\": \"\"}, \"colorscale\": [[0.0, \"#0d0887\"], [0.1111111111111111, \"#46039f\"], [0.2222222222222222, \"#7201a8\"], [0.3333333333333333, \"#9c179e\"], [0.4444444444444444, \"#bd3786\"], [0.5555555555555556, \"#d8576b\"], [0.6666666666666666, \"#ed7953\"], [0.7777777777777778, \"#fb9f3a\"], [0.8888888888888888, \"#fdca26\"], [1.0, \"#f0f921\"]], \"type\": \"histogram2d\"}], \"histogram2dcontour\": [{\"colorbar\": {\"outlinewidth\": 0, \"ticks\": \"\"}, \"colorscale\": [[0.0, \"#0d0887\"], [0.1111111111111111, \"#46039f\"], [0.2222222222222222, \"#7201a8\"], [0.3333333333333333, \"#9c179e\"], [0.4444444444444444, \"#bd3786\"], [0.5555555555555556, \"#d8576b\"], [0.6666666666666666, \"#ed7953\"], [0.7777777777777778, \"#fb9f3a\"], [0.8888888888888888, \"#fdca26\"], [1.0, \"#f0f921\"]], \"type\": \"histogram2dcontour\"}], \"mesh3d\": [{\"colorbar\": {\"outlinewidth\": 0, \"ticks\": \"\"}, \"type\": \"mesh3d\"}], \"parcoords\": [{\"line\": {\"colorbar\": {\"outlinewidth\": 0, \"ticks\": \"\"}}, \"type\": \"parcoords\"}], \"pie\": [{\"automargin\": true, \"type\": \"pie\"}], \"scatter\": [{\"marker\": {\"colorbar\": {\"outlinewidth\": 0, \"ticks\": \"\"}}, \"type\": \"scatter\"}], \"scatter3d\": [{\"line\": {\"colorbar\": {\"outlinewidth\": 0, \"ticks\": \"\"}}, \"marker\": {\"colorbar\": {\"outlinewidth\": 0, \"ticks\": \"\"}}, \"type\": \"scatter3d\"}], \"scattercarpet\": [{\"marker\": {\"colorbar\": {\"outlinewidth\": 0, \"ticks\": \"\"}}, \"type\": \"scattercarpet\"}], \"scattergeo\": [{\"marker\": {\"colorbar\": {\"outlinewidth\": 0, \"ticks\": \"\"}}, \"type\": \"scattergeo\"}], \"scattergl\": [{\"marker\": {\"colorbar\": {\"outlinewidth\": 0, \"ticks\": \"\"}}, \"type\": \"scattergl\"}], \"scattermapbox\": [{\"marker\": {\"colorbar\": {\"outlinewidth\": 0, \"ticks\": \"\"}}, \"type\": \"scattermapbox\"}], \"scatterpolar\": [{\"marker\": {\"colorbar\": {\"outlinewidth\": 0, \"ticks\": \"\"}}, \"type\": \"scatterpolar\"}], \"scatterpolargl\": [{\"marker\": {\"colorbar\": {\"outlinewidth\": 0, \"ticks\": \"\"}}, \"type\": \"scatterpolargl\"}], \"scatterternary\": [{\"marker\": {\"colorbar\": {\"outlinewidth\": 0, \"ticks\": \"\"}}, \"type\": \"scatterternary\"}], \"surface\": [{\"colorbar\": {\"outlinewidth\": 0, \"ticks\": \"\"}, \"colorscale\": [[0.0, \"#0d0887\"], [0.1111111111111111, \"#46039f\"], [0.2222222222222222, \"#7201a8\"], [0.3333333333333333, \"#9c179e\"], [0.4444444444444444, \"#bd3786\"], [0.5555555555555556, \"#d8576b\"], [0.6666666666666666, \"#ed7953\"], [0.7777777777777778, \"#fb9f3a\"], [0.8888888888888888, \"#fdca26\"], [1.0, \"#f0f921\"]], \"type\": \"surface\"}], \"table\": [{\"cells\": {\"fill\": {\"color\": \"#EBF0F8\"}, \"line\": {\"color\": \"white\"}}, \"header\": {\"fill\": {\"color\": \"#C8D4E3\"}, \"line\": {\"color\": \"white\"}}, \"type\": \"table\"}]}, \"layout\": {\"annotationdefaults\": {\"arrowcolor\": \"#2a3f5f\", \"arrowhead\": 0, \"arrowwidth\": 1}, \"coloraxis\": {\"colorbar\": {\"outlinewidth\": 0, \"ticks\": \"\"}}, \"colorscale\": {\"diverging\": [[0, \"#8e0152\"], [0.1, \"#c51b7d\"], [0.2, \"#de77ae\"], [0.3, \"#f1b6da\"], [0.4, \"#fde0ef\"], [0.5, \"#f7f7f7\"], [0.6, \"#e6f5d0\"], [0.7, \"#b8e186\"], [0.8, \"#7fbc41\"], [0.9, \"#4d9221\"], [1, \"#276419\"]], \"sequential\": [[0.0, \"#0d0887\"], [0.1111111111111111, \"#46039f\"], [0.2222222222222222, \"#7201a8\"], [0.3333333333333333, \"#9c179e\"], [0.4444444444444444, \"#bd3786\"], [0.5555555555555556, \"#d8576b\"], [0.6666666666666666, \"#ed7953\"], [0.7777777777777778, \"#fb9f3a\"], [0.8888888888888888, \"#fdca26\"], [1.0, \"#f0f921\"]], \"sequentialminus\": [[0.0, \"#0d0887\"], [0.1111111111111111, \"#46039f\"], [0.2222222222222222, \"#7201a8\"], [0.3333333333333333, \"#9c179e\"], [0.4444444444444444, \"#bd3786\"], [0.5555555555555556, \"#d8576b\"], [0.6666666666666666, \"#ed7953\"], [0.7777777777777778, \"#fb9f3a\"], [0.8888888888888888, \"#fdca26\"], [1.0, \"#f0f921\"]]}, \"colorway\": [\"#636efa\", \"#EF553B\", \"#00cc96\", \"#ab63fa\", \"#FFA15A\", \"#19d3f3\", \"#FF6692\", \"#B6E880\", \"#FF97FF\", \"#FECB52\"], \"font\": {\"color\": \"#2a3f5f\"}, \"geo\": {\"bgcolor\": \"white\", \"lakecolor\": \"white\", \"landcolor\": \"#E5ECF6\", \"showlakes\": true, \"showland\": true, \"subunitcolor\": \"white\"}, \"hoverlabel\": {\"align\": \"left\"}, \"hovermode\": \"closest\", \"mapbox\": {\"style\": \"light\"}, \"paper_bgcolor\": \"white\", \"plot_bgcolor\": \"#E5ECF6\", \"polar\": {\"angularaxis\": {\"gridcolor\": \"white\", \"linecolor\": \"white\", \"ticks\": \"\"}, \"bgcolor\": \"#E5ECF6\", \"radialaxis\": {\"gridcolor\": \"white\", \"linecolor\": \"white\", \"ticks\": \"\"}}, \"scene\": {\"xaxis\": {\"backgroundcolor\": \"#E5ECF6\", \"gridcolor\": \"white\", \"gridwidth\": 2, \"linecolor\": \"white\", \"showbackground\": true, \"ticks\": \"\", \"zerolinecolor\": \"white\"}, \"yaxis\": {\"backgroundcolor\": \"#E5ECF6\", \"gridcolor\": \"white\", \"gridwidth\": 2, \"linecolor\": \"white\", \"showbackground\": true, \"ticks\": \"\", \"zerolinecolor\": \"white\"}, \"zaxis\": {\"backgroundcolor\": \"#E5ECF6\", \"gridcolor\": \"white\", \"gridwidth\": 2, \"linecolor\": \"white\", \"showbackground\": true, \"ticks\": \"\", \"zerolinecolor\": \"white\"}}, \"shapedefaults\": {\"line\": {\"color\": \"#2a3f5f\"}}, \"ternary\": {\"aaxis\": {\"gridcolor\": \"white\", \"linecolor\": \"white\", \"ticks\": \"\"}, \"baxis\": {\"gridcolor\": \"white\", \"linecolor\": \"white\", \"ticks\": \"\"}, \"bgcolor\": \"#E5ECF6\", \"caxis\": {\"gridcolor\": \"white\", \"linecolor\": \"white\", \"ticks\": \"\"}}, \"title\": {\"x\": 0.05}, \"xaxis\": {\"automargin\": true, \"gridcolor\": \"white\", \"linecolor\": \"white\", \"ticks\": \"\", \"title\": {\"standoff\": 15}, \"zerolinecolor\": \"white\", \"zerolinewidth\": 2}, \"yaxis\": {\"automargin\": true, \"gridcolor\": \"white\", \"linecolor\": \"white\", \"ticks\": \"\", \"title\": {\"standoff\": 15}, \"zerolinecolor\": \"white\", \"zerolinewidth\": 2}}}, \"title\": {\"text\": \"United Kingdom - Customer Service Without Trimming\"}},                        {\"responsive\": true}                    ).then(function(){\n",
       "                            \n",
       "var gd = document.getElementById('587874c1-c28d-465f-ac1d-730dd48f1a71');\n",
       "var x = new MutationObserver(function (mutations, observer) {{\n",
       "        var display = window.getComputedStyle(gd).display;\n",
       "        if (!display || display === 'none') {{\n",
       "            console.log([gd, 'removed!']);\n",
       "            Plotly.purge(gd);\n",
       "            observer.disconnect();\n",
       "        }}\n",
       "}});\n",
       "\n",
       "// Listen for the removal of the full notebook cells\n",
       "var notebookContainer = gd.closest('#notebook-container');\n",
       "if (notebookContainer) {{\n",
       "    x.observe(notebookContainer, {childList: true});\n",
       "}}\n",
       "\n",
       "// Listen for the clearing of the current output cell\n",
       "var outputEl = gd.closest('.output');\n",
       "if (outputEl) {{\n",
       "    x.observe(outputEl, {childList: true});\n",
       "}}\n",
       "\n",
       "                        })                };                });            </script>        </div>"
      ]
     },
     "metadata": {},
     "output_type": "display_data"
    }
   ],
   "source": [
    "FlowName =  \"United Kingdom - Customer Service\"\n",
    "df = client.query(sql_temp.format(FlowName)).to_dataframe()\n",
    "flow = SankeyFlow(df)\n",
    "flow.plot(0, f\"{FlowName} Without Trimming\").show()"
   ]
  },
  {
   "cell_type": "code",
   "execution_count": 90,
   "metadata": {},
   "outputs": [
    {
     "data": {
      "application/vnd.plotly.v1+json": {
       "config": {
        "plotlyServerURL": "https://plotly.com"
       },
       "data": [
        {
         "link": {
          "hovertemplate": "%{value} unique users went from %{source.label} to %{target.label}.<br /><br />It took them %{label} in average to reach this point from the start of the flow.<extra></extra>",
          "label": [
           "0 days 00:00:24",
           "0 days 00:00:23",
           "0 days 00:00:19",
           "0 days 00:00:01",
           "0 days 00:00:02",
           "0 days 00:00:00",
           "0 days 00:00:03",
           "0 days 00:00:03",
           "0 days 00:00:18",
           "0 days 00:00:04",
           "0 days 00:00:00",
           "0 days 00:00:01",
           "0 days 00:00:16",
           "0 days 00:00:22",
           "0 days 00:00:15"
          ],
          "source": [
           44,
           44,
           33,
           17,
           17,
           17,
           15,
           16,
           32,
           7,
           9,
           9,
           29,
           36,
           28
          ],
          "target": [
           48,
           47,
           44,
           33,
           32,
           34,
           48,
           48,
           48,
           46,
           29,
           28,
           36,
           46,
           46
          ],
          "value": [
           715,
           413,
           1020,
           1060,
           339,
           101,
           228,
           151,
           212,
           122,
           323,
           125,
           287,
           186,
           118
          ]
         },
         "node": {
          "label": [
           "DTMFv2_15~~NLP_EVENT",
           "DTMFv2_30~~NLP_EVENT",
           "DTMFv2_42_2~~NLP_EVENT",
           "DTMFv2_75_2~~NLP_EVENT",
           "DTMFv2_89_2~~NLP_EVENT",
           "MENU_TREE_15~~1-dtmf",
           "MENU_TREE_17:3.1 Main Menu~~-1-dtmf",
           "MENU_TREE_17:3.1 Main Menu~~1-dtmf",
           "MENU_TREE_17:3.1 Main Menu~~2-dtmf",
           "MENU_TREE_17:3.1 Main Menu~~3-dtmf",
           "MENU_TREE_17~~-1-dtmf",
           "MENU_TREE_22:MENU_TREE~~1-dtmf",
           "MENU_TREE_22:MENU_TREE~~2-dtmf",
           "MENU_TREE_2~~1-dtmf",
           "MENU_TREE_6~~-1-dtmf",
           "MENU_TREE_6~~1-dtmf",
           "MENU_TREE_6~~2-dtmf",
           "MENU_TREE_6~~3-dtmf",
           "SMS_2:SMS~~MSG_EVENT",
           "SMS_3~~MSG_EVENT",
           "SMS_4~~MSG_EVENT",
           "DTMF_7~~-1-dtmf",
           "DTMF_7~~3-dtmf",
           "DTMF_7~~6-dtmf",
           "DTMF_7~~7-dtmf",
           "DTMFv2_22_2~~NLP_EVENT",
           "DTMFv2_31_2~~NLP_EVENT",
           "MENU_TREE_20:7.1 Product Menu~~-1-dtmf",
           "MENU_TREE_20:7.1 Product Menu~~1-dtmf",
           "MENU_TREE_20:7.1 Product Menu~~2-dtmf",
           "MENU_TREE_20:7.1 Product Menu~~9-dtmf",
           "MENU_TREE_4~~-1-dtmf",
           "MENU_TREE_4~~1-dtmf",
           "MENU_TREE_4~~2-dtmf",
           "MENU_TREE_4~~9-dtmf",
           "DTMF_44:DTMF~~-1-dtmf",
           "DTMF_44:DTMF~~-2-dtmf",
           "DTMF_7~~6-dtmf",
           "DTMF_7~~7-dtmf",
           "DTMF_7~~8-dtmf",
           "DTMF_7~~9-dtmf",
           "DTMFv2_24~~NLP_EVENT",
           "DTMFv2_34~~NLP_EVENT",
           "MENU_TREE_15~~-1-dtmf",
           "MENU_TREE_15~~2-dtmf",
           "DTMF_29:4.1 Survey Prompt~~-1-dtmf",
           "DTMF_29:4.1 Survey Prompt~~-2-dtmf",
           "DTMF_7~~1-dtmf",
           "DTMF_7~~2-dtmf",
           "DTMF_7~~5-dtmf",
           "DTMF_7~~7-dtmf",
           "DTMF_7~~9-dtmf",
           "DTMF_7~~7-dtmf"
          ],
          "line": {
           "color": "black",
           "width": 0.5
          },
          "thickness": 10
         },
         "type": "sankey"
        }
       ],
       "layout": {
        "autosize": true,
        "font": {
         "size": 15
        },
        "plot_bgcolor": "white",
        "template": {
         "data": {
          "bar": [
           {
            "error_x": {
             "color": "#2a3f5f"
            },
            "error_y": {
             "color": "#2a3f5f"
            },
            "marker": {
             "line": {
              "color": "#E5ECF6",
              "width": 0.5
             }
            },
            "type": "bar"
           }
          ],
          "barpolar": [
           {
            "marker": {
             "line": {
              "color": "#E5ECF6",
              "width": 0.5
             }
            },
            "type": "barpolar"
           }
          ],
          "carpet": [
           {
            "aaxis": {
             "endlinecolor": "#2a3f5f",
             "gridcolor": "white",
             "linecolor": "white",
             "minorgridcolor": "white",
             "startlinecolor": "#2a3f5f"
            },
            "baxis": {
             "endlinecolor": "#2a3f5f",
             "gridcolor": "white",
             "linecolor": "white",
             "minorgridcolor": "white",
             "startlinecolor": "#2a3f5f"
            },
            "type": "carpet"
           }
          ],
          "choropleth": [
           {
            "colorbar": {
             "outlinewidth": 0,
             "ticks": ""
            },
            "type": "choropleth"
           }
          ],
          "contour": [
           {
            "colorbar": {
             "outlinewidth": 0,
             "ticks": ""
            },
            "colorscale": [
             [
              0,
              "#0d0887"
             ],
             [
              0.1111111111111111,
              "#46039f"
             ],
             [
              0.2222222222222222,
              "#7201a8"
             ],
             [
              0.3333333333333333,
              "#9c179e"
             ],
             [
              0.4444444444444444,
              "#bd3786"
             ],
             [
              0.5555555555555556,
              "#d8576b"
             ],
             [
              0.6666666666666666,
              "#ed7953"
             ],
             [
              0.7777777777777778,
              "#fb9f3a"
             ],
             [
              0.8888888888888888,
              "#fdca26"
             ],
             [
              1,
              "#f0f921"
             ]
            ],
            "type": "contour"
           }
          ],
          "contourcarpet": [
           {
            "colorbar": {
             "outlinewidth": 0,
             "ticks": ""
            },
            "type": "contourcarpet"
           }
          ],
          "heatmap": [
           {
            "colorbar": {
             "outlinewidth": 0,
             "ticks": ""
            },
            "colorscale": [
             [
              0,
              "#0d0887"
             ],
             [
              0.1111111111111111,
              "#46039f"
             ],
             [
              0.2222222222222222,
              "#7201a8"
             ],
             [
              0.3333333333333333,
              "#9c179e"
             ],
             [
              0.4444444444444444,
              "#bd3786"
             ],
             [
              0.5555555555555556,
              "#d8576b"
             ],
             [
              0.6666666666666666,
              "#ed7953"
             ],
             [
              0.7777777777777778,
              "#fb9f3a"
             ],
             [
              0.8888888888888888,
              "#fdca26"
             ],
             [
              1,
              "#f0f921"
             ]
            ],
            "type": "heatmap"
           }
          ],
          "heatmapgl": [
           {
            "colorbar": {
             "outlinewidth": 0,
             "ticks": ""
            },
            "colorscale": [
             [
              0,
              "#0d0887"
             ],
             [
              0.1111111111111111,
              "#46039f"
             ],
             [
              0.2222222222222222,
              "#7201a8"
             ],
             [
              0.3333333333333333,
              "#9c179e"
             ],
             [
              0.4444444444444444,
              "#bd3786"
             ],
             [
              0.5555555555555556,
              "#d8576b"
             ],
             [
              0.6666666666666666,
              "#ed7953"
             ],
             [
              0.7777777777777778,
              "#fb9f3a"
             ],
             [
              0.8888888888888888,
              "#fdca26"
             ],
             [
              1,
              "#f0f921"
             ]
            ],
            "type": "heatmapgl"
           }
          ],
          "histogram": [
           {
            "marker": {
             "colorbar": {
              "outlinewidth": 0,
              "ticks": ""
             }
            },
            "type": "histogram"
           }
          ],
          "histogram2d": [
           {
            "colorbar": {
             "outlinewidth": 0,
             "ticks": ""
            },
            "colorscale": [
             [
              0,
              "#0d0887"
             ],
             [
              0.1111111111111111,
              "#46039f"
             ],
             [
              0.2222222222222222,
              "#7201a8"
             ],
             [
              0.3333333333333333,
              "#9c179e"
             ],
             [
              0.4444444444444444,
              "#bd3786"
             ],
             [
              0.5555555555555556,
              "#d8576b"
             ],
             [
              0.6666666666666666,
              "#ed7953"
             ],
             [
              0.7777777777777778,
              "#fb9f3a"
             ],
             [
              0.8888888888888888,
              "#fdca26"
             ],
             [
              1,
              "#f0f921"
             ]
            ],
            "type": "histogram2d"
           }
          ],
          "histogram2dcontour": [
           {
            "colorbar": {
             "outlinewidth": 0,
             "ticks": ""
            },
            "colorscale": [
             [
              0,
              "#0d0887"
             ],
             [
              0.1111111111111111,
              "#46039f"
             ],
             [
              0.2222222222222222,
              "#7201a8"
             ],
             [
              0.3333333333333333,
              "#9c179e"
             ],
             [
              0.4444444444444444,
              "#bd3786"
             ],
             [
              0.5555555555555556,
              "#d8576b"
             ],
             [
              0.6666666666666666,
              "#ed7953"
             ],
             [
              0.7777777777777778,
              "#fb9f3a"
             ],
             [
              0.8888888888888888,
              "#fdca26"
             ],
             [
              1,
              "#f0f921"
             ]
            ],
            "type": "histogram2dcontour"
           }
          ],
          "mesh3d": [
           {
            "colorbar": {
             "outlinewidth": 0,
             "ticks": ""
            },
            "type": "mesh3d"
           }
          ],
          "parcoords": [
           {
            "line": {
             "colorbar": {
              "outlinewidth": 0,
              "ticks": ""
             }
            },
            "type": "parcoords"
           }
          ],
          "pie": [
           {
            "automargin": true,
            "type": "pie"
           }
          ],
          "scatter": [
           {
            "marker": {
             "colorbar": {
              "outlinewidth": 0,
              "ticks": ""
             }
            },
            "type": "scatter"
           }
          ],
          "scatter3d": [
           {
            "line": {
             "colorbar": {
              "outlinewidth": 0,
              "ticks": ""
             }
            },
            "marker": {
             "colorbar": {
              "outlinewidth": 0,
              "ticks": ""
             }
            },
            "type": "scatter3d"
           }
          ],
          "scattercarpet": [
           {
            "marker": {
             "colorbar": {
              "outlinewidth": 0,
              "ticks": ""
             }
            },
            "type": "scattercarpet"
           }
          ],
          "scattergeo": [
           {
            "marker": {
             "colorbar": {
              "outlinewidth": 0,
              "ticks": ""
             }
            },
            "type": "scattergeo"
           }
          ],
          "scattergl": [
           {
            "marker": {
             "colorbar": {
              "outlinewidth": 0,
              "ticks": ""
             }
            },
            "type": "scattergl"
           }
          ],
          "scattermapbox": [
           {
            "marker": {
             "colorbar": {
              "outlinewidth": 0,
              "ticks": ""
             }
            },
            "type": "scattermapbox"
           }
          ],
          "scatterpolar": [
           {
            "marker": {
             "colorbar": {
              "outlinewidth": 0,
              "ticks": ""
             }
            },
            "type": "scatterpolar"
           }
          ],
          "scatterpolargl": [
           {
            "marker": {
             "colorbar": {
              "outlinewidth": 0,
              "ticks": ""
             }
            },
            "type": "scatterpolargl"
           }
          ],
          "scatterternary": [
           {
            "marker": {
             "colorbar": {
              "outlinewidth": 0,
              "ticks": ""
             }
            },
            "type": "scatterternary"
           }
          ],
          "surface": [
           {
            "colorbar": {
             "outlinewidth": 0,
             "ticks": ""
            },
            "colorscale": [
             [
              0,
              "#0d0887"
             ],
             [
              0.1111111111111111,
              "#46039f"
             ],
             [
              0.2222222222222222,
              "#7201a8"
             ],
             [
              0.3333333333333333,
              "#9c179e"
             ],
             [
              0.4444444444444444,
              "#bd3786"
             ],
             [
              0.5555555555555556,
              "#d8576b"
             ],
             [
              0.6666666666666666,
              "#ed7953"
             ],
             [
              0.7777777777777778,
              "#fb9f3a"
             ],
             [
              0.8888888888888888,
              "#fdca26"
             ],
             [
              1,
              "#f0f921"
             ]
            ],
            "type": "surface"
           }
          ],
          "table": [
           {
            "cells": {
             "fill": {
              "color": "#EBF0F8"
             },
             "line": {
              "color": "white"
             }
            },
            "header": {
             "fill": {
              "color": "#C8D4E3"
             },
             "line": {
              "color": "white"
             }
            },
            "type": "table"
           }
          ]
         },
         "layout": {
          "annotationdefaults": {
           "arrowcolor": "#2a3f5f",
           "arrowhead": 0,
           "arrowwidth": 1
          },
          "coloraxis": {
           "colorbar": {
            "outlinewidth": 0,
            "ticks": ""
           }
          },
          "colorscale": {
           "diverging": [
            [
             0,
             "#8e0152"
            ],
            [
             0.1,
             "#c51b7d"
            ],
            [
             0.2,
             "#de77ae"
            ],
            [
             0.3,
             "#f1b6da"
            ],
            [
             0.4,
             "#fde0ef"
            ],
            [
             0.5,
             "#f7f7f7"
            ],
            [
             0.6,
             "#e6f5d0"
            ],
            [
             0.7,
             "#b8e186"
            ],
            [
             0.8,
             "#7fbc41"
            ],
            [
             0.9,
             "#4d9221"
            ],
            [
             1,
             "#276419"
            ]
           ],
           "sequential": [
            [
             0,
             "#0d0887"
            ],
            [
             0.1111111111111111,
             "#46039f"
            ],
            [
             0.2222222222222222,
             "#7201a8"
            ],
            [
             0.3333333333333333,
             "#9c179e"
            ],
            [
             0.4444444444444444,
             "#bd3786"
            ],
            [
             0.5555555555555556,
             "#d8576b"
            ],
            [
             0.6666666666666666,
             "#ed7953"
            ],
            [
             0.7777777777777778,
             "#fb9f3a"
            ],
            [
             0.8888888888888888,
             "#fdca26"
            ],
            [
             1,
             "#f0f921"
            ]
           ],
           "sequentialminus": [
            [
             0,
             "#0d0887"
            ],
            [
             0.1111111111111111,
             "#46039f"
            ],
            [
             0.2222222222222222,
             "#7201a8"
            ],
            [
             0.3333333333333333,
             "#9c179e"
            ],
            [
             0.4444444444444444,
             "#bd3786"
            ],
            [
             0.5555555555555556,
             "#d8576b"
            ],
            [
             0.6666666666666666,
             "#ed7953"
            ],
            [
             0.7777777777777778,
             "#fb9f3a"
            ],
            [
             0.8888888888888888,
             "#fdca26"
            ],
            [
             1,
             "#f0f921"
            ]
           ]
          },
          "colorway": [
           "#636efa",
           "#EF553B",
           "#00cc96",
           "#ab63fa",
           "#FFA15A",
           "#19d3f3",
           "#FF6692",
           "#B6E880",
           "#FF97FF",
           "#FECB52"
          ],
          "font": {
           "color": "#2a3f5f"
          },
          "geo": {
           "bgcolor": "white",
           "lakecolor": "white",
           "landcolor": "#E5ECF6",
           "showlakes": true,
           "showland": true,
           "subunitcolor": "white"
          },
          "hoverlabel": {
           "align": "left"
          },
          "hovermode": "closest",
          "mapbox": {
           "style": "light"
          },
          "paper_bgcolor": "white",
          "plot_bgcolor": "#E5ECF6",
          "polar": {
           "angularaxis": {
            "gridcolor": "white",
            "linecolor": "white",
            "ticks": ""
           },
           "bgcolor": "#E5ECF6",
           "radialaxis": {
            "gridcolor": "white",
            "linecolor": "white",
            "ticks": ""
           }
          },
          "scene": {
           "xaxis": {
            "backgroundcolor": "#E5ECF6",
            "gridcolor": "white",
            "gridwidth": 2,
            "linecolor": "white",
            "showbackground": true,
            "ticks": "",
            "zerolinecolor": "white"
           },
           "yaxis": {
            "backgroundcolor": "#E5ECF6",
            "gridcolor": "white",
            "gridwidth": 2,
            "linecolor": "white",
            "showbackground": true,
            "ticks": "",
            "zerolinecolor": "white"
           },
           "zaxis": {
            "backgroundcolor": "#E5ECF6",
            "gridcolor": "white",
            "gridwidth": 2,
            "linecolor": "white",
            "showbackground": true,
            "ticks": "",
            "zerolinecolor": "white"
           }
          },
          "shapedefaults": {
           "line": {
            "color": "#2a3f5f"
           }
          },
          "ternary": {
           "aaxis": {
            "gridcolor": "white",
            "linecolor": "white",
            "ticks": ""
           },
           "baxis": {
            "gridcolor": "white",
            "linecolor": "white",
            "ticks": ""
           },
           "bgcolor": "#E5ECF6",
           "caxis": {
            "gridcolor": "white",
            "linecolor": "white",
            "ticks": ""
           }
          },
          "title": {
           "x": 0.05
          },
          "xaxis": {
           "automargin": true,
           "gridcolor": "white",
           "linecolor": "white",
           "ticks": "",
           "title": {
            "standoff": 15
           },
           "zerolinecolor": "white",
           "zerolinewidth": 2
          },
          "yaxis": {
           "automargin": true,
           "gridcolor": "white",
           "linecolor": "white",
           "ticks": "",
           "title": {
            "standoff": 15
           },
           "zerolinecolor": "white",
           "zerolinewidth": 2
          }
         }
        },
        "title": {
         "text": "United Kingdom - Customer Service With Trimming"
        }
       }
      },
      "text/html": [
       "<div>                            <div id=\"09a74c0a-2181-466c-b0ca-2569e230adc4\" class=\"plotly-graph-div\" style=\"height:525px; width:100%;\"></div>            <script type=\"text/javascript\">                require([\"plotly\"], function(Plotly) {                    window.PLOTLYENV=window.PLOTLYENV || {};                                    if (document.getElementById(\"09a74c0a-2181-466c-b0ca-2569e230adc4\")) {                    Plotly.newPlot(                        \"09a74c0a-2181-466c-b0ca-2569e230adc4\",                        [{\"link\": {\"hovertemplate\": \"%{value} unique users went from %{source.label} to %{target.label}.<br /><br />It took them %{label} in average to reach this point from the start of the flow.<extra></extra>\", \"label\": [\"0 days 00:00:24\", \"0 days 00:00:23\", \"0 days 00:00:19\", \"0 days 00:00:01\", \"0 days 00:00:02\", \"0 days 00:00:00\", \"0 days 00:00:03\", \"0 days 00:00:03\", \"0 days 00:00:18\", \"0 days 00:00:04\", \"0 days 00:00:00\", \"0 days 00:00:01\", \"0 days 00:00:16\", \"0 days 00:00:22\", \"0 days 00:00:15\"], \"source\": [44, 44, 33, 17, 17, 17, 15, 16, 32, 7, 9, 9, 29, 36, 28], \"target\": [48, 47, 44, 33, 32, 34, 48, 48, 48, 46, 29, 28, 36, 46, 46], \"value\": [715, 413, 1020, 1060, 339, 101, 228, 151, 212, 122, 323, 125, 287, 186, 118]}, \"node\": {\"label\": [\"DTMFv2_15~~NLP_EVENT\", \"DTMFv2_30~~NLP_EVENT\", \"DTMFv2_42_2~~NLP_EVENT\", \"DTMFv2_75_2~~NLP_EVENT\", \"DTMFv2_89_2~~NLP_EVENT\", \"MENU_TREE_15~~1-dtmf\", \"MENU_TREE_17:3.1 Main Menu~~-1-dtmf\", \"MENU_TREE_17:3.1 Main Menu~~1-dtmf\", \"MENU_TREE_17:3.1 Main Menu~~2-dtmf\", \"MENU_TREE_17:3.1 Main Menu~~3-dtmf\", \"MENU_TREE_17~~-1-dtmf\", \"MENU_TREE_22:MENU_TREE~~1-dtmf\", \"MENU_TREE_22:MENU_TREE~~2-dtmf\", \"MENU_TREE_2~~1-dtmf\", \"MENU_TREE_6~~-1-dtmf\", \"MENU_TREE_6~~1-dtmf\", \"MENU_TREE_6~~2-dtmf\", \"MENU_TREE_6~~3-dtmf\", \"SMS_2:SMS~~MSG_EVENT\", \"SMS_3~~MSG_EVENT\", \"SMS_4~~MSG_EVENT\", \"DTMF_7~~-1-dtmf\", \"DTMF_7~~3-dtmf\", \"DTMF_7~~6-dtmf\", \"DTMF_7~~7-dtmf\", \"DTMFv2_22_2~~NLP_EVENT\", \"DTMFv2_31_2~~NLP_EVENT\", \"MENU_TREE_20:7.1 Product Menu~~-1-dtmf\", \"MENU_TREE_20:7.1 Product Menu~~1-dtmf\", \"MENU_TREE_20:7.1 Product Menu~~2-dtmf\", \"MENU_TREE_20:7.1 Product Menu~~9-dtmf\", \"MENU_TREE_4~~-1-dtmf\", \"MENU_TREE_4~~1-dtmf\", \"MENU_TREE_4~~2-dtmf\", \"MENU_TREE_4~~9-dtmf\", \"DTMF_44:DTMF~~-1-dtmf\", \"DTMF_44:DTMF~~-2-dtmf\", \"DTMF_7~~6-dtmf\", \"DTMF_7~~7-dtmf\", \"DTMF_7~~8-dtmf\", \"DTMF_7~~9-dtmf\", \"DTMFv2_24~~NLP_EVENT\", \"DTMFv2_34~~NLP_EVENT\", \"MENU_TREE_15~~-1-dtmf\", \"MENU_TREE_15~~2-dtmf\", \"DTMF_29:4.1 Survey Prompt~~-1-dtmf\", \"DTMF_29:4.1 Survey Prompt~~-2-dtmf\", \"DTMF_7~~1-dtmf\", \"DTMF_7~~2-dtmf\", \"DTMF_7~~5-dtmf\", \"DTMF_7~~7-dtmf\", \"DTMF_7~~9-dtmf\", \"DTMF_7~~7-dtmf\"], \"line\": {\"color\": \"black\", \"width\": 0.5}, \"thickness\": 10}, \"type\": \"sankey\"}],                        {\"autosize\": true, \"font\": {\"size\": 15}, \"plot_bgcolor\": \"white\", \"template\": {\"data\": {\"bar\": [{\"error_x\": {\"color\": \"#2a3f5f\"}, \"error_y\": {\"color\": \"#2a3f5f\"}, \"marker\": {\"line\": {\"color\": \"#E5ECF6\", \"width\": 0.5}}, \"type\": \"bar\"}], \"barpolar\": [{\"marker\": {\"line\": {\"color\": \"#E5ECF6\", \"width\": 0.5}}, \"type\": \"barpolar\"}], \"carpet\": [{\"aaxis\": {\"endlinecolor\": \"#2a3f5f\", \"gridcolor\": \"white\", \"linecolor\": \"white\", \"minorgridcolor\": \"white\", \"startlinecolor\": \"#2a3f5f\"}, \"baxis\": {\"endlinecolor\": \"#2a3f5f\", \"gridcolor\": \"white\", \"linecolor\": \"white\", \"minorgridcolor\": \"white\", \"startlinecolor\": \"#2a3f5f\"}, \"type\": \"carpet\"}], \"choropleth\": [{\"colorbar\": {\"outlinewidth\": 0, \"ticks\": \"\"}, \"type\": \"choropleth\"}], \"contour\": [{\"colorbar\": {\"outlinewidth\": 0, \"ticks\": \"\"}, \"colorscale\": [[0.0, \"#0d0887\"], [0.1111111111111111, \"#46039f\"], [0.2222222222222222, \"#7201a8\"], [0.3333333333333333, \"#9c179e\"], [0.4444444444444444, \"#bd3786\"], [0.5555555555555556, \"#d8576b\"], [0.6666666666666666, \"#ed7953\"], [0.7777777777777778, \"#fb9f3a\"], [0.8888888888888888, \"#fdca26\"], [1.0, \"#f0f921\"]], \"type\": \"contour\"}], \"contourcarpet\": [{\"colorbar\": {\"outlinewidth\": 0, \"ticks\": \"\"}, \"type\": \"contourcarpet\"}], \"heatmap\": [{\"colorbar\": {\"outlinewidth\": 0, \"ticks\": \"\"}, \"colorscale\": [[0.0, \"#0d0887\"], [0.1111111111111111, \"#46039f\"], [0.2222222222222222, \"#7201a8\"], [0.3333333333333333, \"#9c179e\"], [0.4444444444444444, \"#bd3786\"], [0.5555555555555556, \"#d8576b\"], [0.6666666666666666, \"#ed7953\"], [0.7777777777777778, \"#fb9f3a\"], [0.8888888888888888, \"#fdca26\"], [1.0, \"#f0f921\"]], \"type\": \"heatmap\"}], \"heatmapgl\": [{\"colorbar\": {\"outlinewidth\": 0, \"ticks\": \"\"}, \"colorscale\": [[0.0, \"#0d0887\"], [0.1111111111111111, \"#46039f\"], [0.2222222222222222, \"#7201a8\"], [0.3333333333333333, \"#9c179e\"], [0.4444444444444444, \"#bd3786\"], [0.5555555555555556, \"#d8576b\"], [0.6666666666666666, \"#ed7953\"], [0.7777777777777778, \"#fb9f3a\"], [0.8888888888888888, \"#fdca26\"], [1.0, \"#f0f921\"]], \"type\": \"heatmapgl\"}], \"histogram\": [{\"marker\": {\"colorbar\": {\"outlinewidth\": 0, \"ticks\": \"\"}}, \"type\": \"histogram\"}], \"histogram2d\": [{\"colorbar\": {\"outlinewidth\": 0, \"ticks\": \"\"}, \"colorscale\": [[0.0, \"#0d0887\"], [0.1111111111111111, \"#46039f\"], [0.2222222222222222, \"#7201a8\"], [0.3333333333333333, \"#9c179e\"], [0.4444444444444444, \"#bd3786\"], [0.5555555555555556, \"#d8576b\"], [0.6666666666666666, \"#ed7953\"], [0.7777777777777778, \"#fb9f3a\"], [0.8888888888888888, \"#fdca26\"], [1.0, \"#f0f921\"]], \"type\": \"histogram2d\"}], \"histogram2dcontour\": [{\"colorbar\": {\"outlinewidth\": 0, \"ticks\": \"\"}, \"colorscale\": [[0.0, \"#0d0887\"], [0.1111111111111111, \"#46039f\"], [0.2222222222222222, \"#7201a8\"], [0.3333333333333333, \"#9c179e\"], [0.4444444444444444, \"#bd3786\"], [0.5555555555555556, \"#d8576b\"], [0.6666666666666666, \"#ed7953\"], [0.7777777777777778, \"#fb9f3a\"], [0.8888888888888888, \"#fdca26\"], [1.0, \"#f0f921\"]], \"type\": \"histogram2dcontour\"}], \"mesh3d\": [{\"colorbar\": {\"outlinewidth\": 0, \"ticks\": \"\"}, \"type\": \"mesh3d\"}], \"parcoords\": [{\"line\": {\"colorbar\": {\"outlinewidth\": 0, \"ticks\": \"\"}}, \"type\": \"parcoords\"}], \"pie\": [{\"automargin\": true, \"type\": \"pie\"}], \"scatter\": [{\"marker\": {\"colorbar\": {\"outlinewidth\": 0, \"ticks\": \"\"}}, \"type\": \"scatter\"}], \"scatter3d\": [{\"line\": {\"colorbar\": {\"outlinewidth\": 0, \"ticks\": \"\"}}, \"marker\": {\"colorbar\": {\"outlinewidth\": 0, \"ticks\": \"\"}}, \"type\": \"scatter3d\"}], \"scattercarpet\": [{\"marker\": {\"colorbar\": {\"outlinewidth\": 0, \"ticks\": \"\"}}, \"type\": \"scattercarpet\"}], \"scattergeo\": [{\"marker\": {\"colorbar\": {\"outlinewidth\": 0, \"ticks\": \"\"}}, \"type\": \"scattergeo\"}], \"scattergl\": [{\"marker\": {\"colorbar\": {\"outlinewidth\": 0, \"ticks\": \"\"}}, \"type\": \"scattergl\"}], \"scattermapbox\": [{\"marker\": {\"colorbar\": {\"outlinewidth\": 0, \"ticks\": \"\"}}, \"type\": \"scattermapbox\"}], \"scatterpolar\": [{\"marker\": {\"colorbar\": {\"outlinewidth\": 0, \"ticks\": \"\"}}, \"type\": \"scatterpolar\"}], \"scatterpolargl\": [{\"marker\": {\"colorbar\": {\"outlinewidth\": 0, \"ticks\": \"\"}}, \"type\": \"scatterpolargl\"}], \"scatterternary\": [{\"marker\": {\"colorbar\": {\"outlinewidth\": 0, \"ticks\": \"\"}}, \"type\": \"scatterternary\"}], \"surface\": [{\"colorbar\": {\"outlinewidth\": 0, \"ticks\": \"\"}, \"colorscale\": [[0.0, \"#0d0887\"], [0.1111111111111111, \"#46039f\"], [0.2222222222222222, \"#7201a8\"], [0.3333333333333333, \"#9c179e\"], [0.4444444444444444, \"#bd3786\"], [0.5555555555555556, \"#d8576b\"], [0.6666666666666666, \"#ed7953\"], [0.7777777777777778, \"#fb9f3a\"], [0.8888888888888888, \"#fdca26\"], [1.0, \"#f0f921\"]], \"type\": \"surface\"}], \"table\": [{\"cells\": {\"fill\": {\"color\": \"#EBF0F8\"}, \"line\": {\"color\": \"white\"}}, \"header\": {\"fill\": {\"color\": \"#C8D4E3\"}, \"line\": {\"color\": \"white\"}}, \"type\": \"table\"}]}, \"layout\": {\"annotationdefaults\": {\"arrowcolor\": \"#2a3f5f\", \"arrowhead\": 0, \"arrowwidth\": 1}, \"coloraxis\": {\"colorbar\": {\"outlinewidth\": 0, \"ticks\": \"\"}}, \"colorscale\": {\"diverging\": [[0, \"#8e0152\"], [0.1, \"#c51b7d\"], [0.2, \"#de77ae\"], [0.3, \"#f1b6da\"], [0.4, \"#fde0ef\"], [0.5, \"#f7f7f7\"], [0.6, \"#e6f5d0\"], [0.7, \"#b8e186\"], [0.8, \"#7fbc41\"], [0.9, \"#4d9221\"], [1, \"#276419\"]], \"sequential\": [[0.0, \"#0d0887\"], [0.1111111111111111, \"#46039f\"], [0.2222222222222222, \"#7201a8\"], [0.3333333333333333, \"#9c179e\"], [0.4444444444444444, \"#bd3786\"], [0.5555555555555556, \"#d8576b\"], [0.6666666666666666, \"#ed7953\"], [0.7777777777777778, \"#fb9f3a\"], [0.8888888888888888, \"#fdca26\"], [1.0, \"#f0f921\"]], \"sequentialminus\": [[0.0, \"#0d0887\"], [0.1111111111111111, \"#46039f\"], [0.2222222222222222, \"#7201a8\"], [0.3333333333333333, \"#9c179e\"], [0.4444444444444444, \"#bd3786\"], [0.5555555555555556, \"#d8576b\"], [0.6666666666666666, \"#ed7953\"], [0.7777777777777778, \"#fb9f3a\"], [0.8888888888888888, \"#fdca26\"], [1.0, \"#f0f921\"]]}, \"colorway\": [\"#636efa\", \"#EF553B\", \"#00cc96\", \"#ab63fa\", \"#FFA15A\", \"#19d3f3\", \"#FF6692\", \"#B6E880\", \"#FF97FF\", \"#FECB52\"], \"font\": {\"color\": \"#2a3f5f\"}, \"geo\": {\"bgcolor\": \"white\", \"lakecolor\": \"white\", \"landcolor\": \"#E5ECF6\", \"showlakes\": true, \"showland\": true, \"subunitcolor\": \"white\"}, \"hoverlabel\": {\"align\": \"left\"}, \"hovermode\": \"closest\", \"mapbox\": {\"style\": \"light\"}, \"paper_bgcolor\": \"white\", \"plot_bgcolor\": \"#E5ECF6\", \"polar\": {\"angularaxis\": {\"gridcolor\": \"white\", \"linecolor\": \"white\", \"ticks\": \"\"}, \"bgcolor\": \"#E5ECF6\", \"radialaxis\": {\"gridcolor\": \"white\", \"linecolor\": \"white\", \"ticks\": \"\"}}, \"scene\": {\"xaxis\": {\"backgroundcolor\": \"#E5ECF6\", \"gridcolor\": \"white\", \"gridwidth\": 2, \"linecolor\": \"white\", \"showbackground\": true, \"ticks\": \"\", \"zerolinecolor\": \"white\"}, \"yaxis\": {\"backgroundcolor\": \"#E5ECF6\", \"gridcolor\": \"white\", \"gridwidth\": 2, \"linecolor\": \"white\", \"showbackground\": true, \"ticks\": \"\", \"zerolinecolor\": \"white\"}, \"zaxis\": {\"backgroundcolor\": \"#E5ECF6\", \"gridcolor\": \"white\", \"gridwidth\": 2, \"linecolor\": \"white\", \"showbackground\": true, \"ticks\": \"\", \"zerolinecolor\": \"white\"}}, \"shapedefaults\": {\"line\": {\"color\": \"#2a3f5f\"}}, \"ternary\": {\"aaxis\": {\"gridcolor\": \"white\", \"linecolor\": \"white\", \"ticks\": \"\"}, \"baxis\": {\"gridcolor\": \"white\", \"linecolor\": \"white\", \"ticks\": \"\"}, \"bgcolor\": \"#E5ECF6\", \"caxis\": {\"gridcolor\": \"white\", \"linecolor\": \"white\", \"ticks\": \"\"}}, \"title\": {\"x\": 0.05}, \"xaxis\": {\"automargin\": true, \"gridcolor\": \"white\", \"linecolor\": \"white\", \"ticks\": \"\", \"title\": {\"standoff\": 15}, \"zerolinecolor\": \"white\", \"zerolinewidth\": 2}, \"yaxis\": {\"automargin\": true, \"gridcolor\": \"white\", \"linecolor\": \"white\", \"ticks\": \"\", \"title\": {\"standoff\": 15}, \"zerolinecolor\": \"white\", \"zerolinewidth\": 2}}}, \"title\": {\"text\": \"United Kingdom - Customer Service With Trimming\"}},                        {\"responsive\": true}                    ).then(function(){\n",
       "                            \n",
       "var gd = document.getElementById('09a74c0a-2181-466c-b0ca-2569e230adc4');\n",
       "var x = new MutationObserver(function (mutations, observer) {{\n",
       "        var display = window.getComputedStyle(gd).display;\n",
       "        if (!display || display === 'none') {{\n",
       "            console.log([gd, 'removed!']);\n",
       "            Plotly.purge(gd);\n",
       "            observer.disconnect();\n",
       "        }}\n",
       "}});\n",
       "\n",
       "// Listen for the removal of the full notebook cells\n",
       "var notebookContainer = gd.closest('#notebook-container');\n",
       "if (notebookContainer) {{\n",
       "    x.observe(notebookContainer, {childList: true});\n",
       "}}\n",
       "\n",
       "// Listen for the clearing of the current output cell\n",
       "var outputEl = gd.closest('.output');\n",
       "if (outputEl) {{\n",
       "    x.observe(outputEl, {childList: true});\n",
       "}}\n",
       "\n",
       "                        })                };                });            </script>        </div>"
      ]
     },
     "metadata": {},
     "output_type": "display_data"
    }
   ],
   "source": [
    "flow.plot(100, f\"{FlowName} With Trimming\").show()"
   ]
  },
  {
   "cell_type": "markdown",
   "metadata": {},
   "source": [
    "## United Kingdom - Customer Service\n",
    "\n",
    "The upper plot shows all shows all the plots that a SessionId has taken through the flow. The lower plot shows a trimmed version with only those paths that have over 100 users. \n",
    "\n",
    "### Takeaways\n",
    "- All paths in this flow end in DTMF events\n",
    "- They appear to enter from two main sources MENU_TREE_17 (MainMenu) or MENU_TREE_6\n",
    "- The paths from the two entrances are always seperate, it's to say they do not share any nodes"
   ]
  },
  {
   "cell_type": "code",
   "execution_count": 97,
   "metadata": {},
   "outputs": [
    {
     "data": {
      "application/vnd.plotly.v1+json": {
       "config": {
        "plotlyServerURL": "https://plotly.com"
       },
       "data": [
        {
         "link": {
          "hovertemplate": "%{value} unique users went from %{source.label} to %{target.label}.<br /><br />It took them %{label} in average to reach this point from the start of the flow.<extra></extra>",
          "label": [
           "0 days 00:00:03",
           "0 days 00:00:02",
           "0 days 00:00:03",
           "0 days 00:00:15",
           "0 days 00:00:23",
           "0 days 00:00:15",
           "0 days 00:00:00",
           "0 days 00:00:26",
           "0 days 00:00:07",
           "0 days 00:00:07",
           "0 days 00:00:21",
           "0 days 00:00:08",
           "0 days 00:00:16",
           "0 days 00:00:04",
           "0 days 00:00:26",
           "0 days 00:00:31",
           "0 days 00:00:01",
           "0 days 00:00:14",
           "0 days 00:00:00",
           "0 days 00:00:00",
           "0 days 00:00:13",
           "0 days 00:00:31",
           "0 days 00:00:01",
           "0 days 00:00:01",
           "0 days 00:00:00",
           "0 days 00:00:03",
           "0 days 00:00:00",
           "0 days 00:00:00",
           "0 days 00:00:08",
           "0 days 00:00:07",
           "0 days 00:00:14",
           "0 days 00:00:29",
           "0 days 00:00:22",
           "0 days 00:00:25",
           "0 days 00:00:21",
           "0 days 00:00:14",
           "0 days 00:00:08",
           "0 days 00:00:00",
           "0 days 00:00:10",
           "0 days 00:00:02",
           "0 days 00:00:00",
           "0 days 00:00:02",
           "0 days 00:00:00",
           "0 days 00:00:00",
           "0 days 00:00:10",
           "0 days 00:00:10",
           "0 days 00:00:14",
           "0 days 00:00:18",
           "0 days 00:00:12",
           "0 days 00:00:14",
           "0 days 00:00:18",
           "0 days 00:00:00",
           "0 days 00:00:00",
           "0 days 00:00:00",
           "0 days 00:00:00",
           "0 days 00:00:18",
           "0 days 00:00:21",
           "0 days 00:00:15",
           "0 days 00:00:18",
           "0 days 00:00:00",
           "0 days 00:00:00",
           "0 days 00:00:00",
           "0 days 00:00:00",
           "0 days 00:00:20",
           "0 days 00:00:14",
           "0 days 00:00:17",
           "0 days 00:00:00",
           "0 days 00:00:03",
           "0 days 00:00:00",
           "0 days 00:00:28",
           "0 days 00:00:00",
           "0 days 00:00:00",
           "0 days 00:00:00",
           "0 days 00:00:26",
           "0 days 00:00:28",
           "0 days 00:00:24",
           "0 days 00:00:02",
           "0 days 00:00:09",
           "0 days 00:00:00",
           "0 days 00:00:00",
           "0 days 00:00:27",
           "0 days 00:00:23",
           "0 days 00:00:25",
           "0 days 00:00:13",
           "0 days 00:00:24",
           "0 days 00:00:26",
           "0 days 00:00:18",
           "0 days 00:00:44",
           "0 days 00:00:00",
           "0 days 00:00:00",
           "0 days 00:00:33"
          ],
          "source": [
           4,
           4,
           4,
           21,
           21,
           21,
           21,
           21,
           21,
           21,
           21,
           8,
           8,
           8,
           8,
           8,
           8,
           8,
           8,
           8,
           8,
           8,
           6,
           6,
           6,
           6,
           6,
           6,
           7,
           7,
           7,
           7,
           32,
           32,
           32,
           32,
           32,
           12,
           12,
           5,
           5,
           5,
           5,
           5,
           20,
           20,
           20,
           9,
           9,
           9,
           9,
           9,
           9,
           9,
           9,
           24,
           24,
           24,
           24,
           3,
           3,
           3,
           3,
           37,
           26,
           26,
           13,
           13,
           13,
           13,
           10,
           10,
           10,
           38,
           38,
           38,
           11,
           11,
           11,
           11,
           36,
           25,
           25,
           25,
           27,
           27,
           28,
           43,
           0,
           17,
           34
          ],
          "target": [
           28,
           17,
           39,
           28,
           39,
           17,
           8,
           18,
           29,
           16,
           40,
           21,
           32,
           20,
           36,
           33,
           28,
           39,
           17,
           16,
           0,
           34,
           8,
           7,
           9,
           24,
           28,
           32,
           17,
           28,
           39,
           30,
           17,
           39,
           28,
           8,
           19,
           42,
           22,
           17,
           39,
           28,
           18,
           19,
           17,
           28,
           39,
           6,
           4,
           5,
           3,
           8,
           7,
           9,
           21,
           7,
           8,
           9,
           24,
           6,
           4,
           5,
           3,
           42,
           37,
           38,
           26,
           25,
           27,
           43,
           12,
           13,
           11,
           42,
           41,
           22,
           42,
           41,
           22,
           23,
           17,
           42,
           41,
           22,
           11,
           13,
           7,
           26,
           17,
           5,
           17
          ],
          "value": [
           97,
           344,
           44,
           197,
           101,
           478,
           1,
           1,
           1,
           1,
           1,
           1277,
           188,
           382,
           2,
           1,
           36,
           1,
           62,
           2,
           1,
           1,
           809,
           221,
           66,
           52,
           1,
           1,
           336,
           145,
           14,
           1,
           63,
           40,
           22,
           1,
           1,
           7,
           1,
           191,
           10,
           59,
           2,
           1,
           213,
           146,
           14,
           30,
           68,
           23,
           1,
           24,
           5,
           1,
           2,
           9,
           30,
           6,
           1,
           70,
           16,
           6,
           4,
           3,
           3,
           34,
           37,
           14,
           5,
           1,
           1,
           4,
           1,
           22,
           5,
           1,
           15,
           5,
           5,
           1,
           2,
           11,
           2,
           1,
           3,
           2,
           1,
           1,
           1,
           1,
           1
          ]
         },
         "node": {
          "label": [
           "DTMF_44~~6-dtmf",
           "DTMF_59~~1-dtmf",
           "DTMF_61~~1-dtmf",
           "MENU_TREE_17~~-1-dtmf",
           "MENU_TREE_17~~1-dtmf",
           "MENU_TREE_17~~2-dtmf",
           "MENU_TREE_17~~3-dtmf",
           "MENU_TREE_20~~1-dtmf",
           "MENU_TREE_20~~2-dtmf",
           "MENU_TREE_20~~9-dtmf",
           "MENU_TREE_6~~-1-dtmf",
           "MENU_TREE_6~~1-dtmf",
           "MENU_TREE_6~~2-dtmf",
           "MENU_TREE_6~~3-dtmf",
           "SMS_3~~MSG_EVENT",
           "SMS_4~~MSG_EVENT",
           "DTMF_29~~0-dtmf",
           "DTMF_29~~2-dtmf",
           "DTMF_29~~3-dtmf",
           "DTMF_29~~9-dtmf",
           "DTMF_44~~1-dtmf",
           "DTMF_44~~2-dtmf",
           "DTMF_7~~1-dtmf",
           "DTMF_7~~7-dtmf",
           "MENU_TREE_20~~-1-dtmf",
           "MENU_TREE_4~~1-dtmf",
           "MENU_TREE_4~~2-dtmf",
           "MENU_TREE_4~~9-dtmf",
           "DTMF_29~~1-dtmf",
           "DTMF_29~~5-dtmf",
           "DTMF_29~~7-dtmf",
           "DTMF_29~~9-dtmf",
           "DTMF_44~~-1-dtmf",
           "DTMF_44~~3-dtmf",
           "DTMF_44~~4-dtmf",
           "DTMF_44~~6-dtmf",
           "DTMF_44~~7-dtmf",
           "MENU_TREE_15~~1-dtmf",
           "MENU_TREE_15~~2-dtmf",
           "DTMF_29~~-1-dtmf",
           "DTMF_29~~8-dtmf",
           "DTMF_7~~-1-dtmf",
           "DTMF_7~~2-dtmf",
           "MENU_TREE_4~~-1-dtmf"
          ],
          "line": {
           "color": "black",
           "width": 0.5
          },
          "thickness": 10
         },
         "type": "sankey"
        }
       ],
       "layout": {
        "autosize": true,
        "font": {
         "size": 15
        },
        "plot_bgcolor": "white",
        "template": {
         "data": {
          "bar": [
           {
            "error_x": {
             "color": "#2a3f5f"
            },
            "error_y": {
             "color": "#2a3f5f"
            },
            "marker": {
             "line": {
              "color": "#E5ECF6",
              "width": 0.5
             }
            },
            "type": "bar"
           }
          ],
          "barpolar": [
           {
            "marker": {
             "line": {
              "color": "#E5ECF6",
              "width": 0.5
             }
            },
            "type": "barpolar"
           }
          ],
          "carpet": [
           {
            "aaxis": {
             "endlinecolor": "#2a3f5f",
             "gridcolor": "white",
             "linecolor": "white",
             "minorgridcolor": "white",
             "startlinecolor": "#2a3f5f"
            },
            "baxis": {
             "endlinecolor": "#2a3f5f",
             "gridcolor": "white",
             "linecolor": "white",
             "minorgridcolor": "white",
             "startlinecolor": "#2a3f5f"
            },
            "type": "carpet"
           }
          ],
          "choropleth": [
           {
            "colorbar": {
             "outlinewidth": 0,
             "ticks": ""
            },
            "type": "choropleth"
           }
          ],
          "contour": [
           {
            "colorbar": {
             "outlinewidth": 0,
             "ticks": ""
            },
            "colorscale": [
             [
              0,
              "#0d0887"
             ],
             [
              0.1111111111111111,
              "#46039f"
             ],
             [
              0.2222222222222222,
              "#7201a8"
             ],
             [
              0.3333333333333333,
              "#9c179e"
             ],
             [
              0.4444444444444444,
              "#bd3786"
             ],
             [
              0.5555555555555556,
              "#d8576b"
             ],
             [
              0.6666666666666666,
              "#ed7953"
             ],
             [
              0.7777777777777778,
              "#fb9f3a"
             ],
             [
              0.8888888888888888,
              "#fdca26"
             ],
             [
              1,
              "#f0f921"
             ]
            ],
            "type": "contour"
           }
          ],
          "contourcarpet": [
           {
            "colorbar": {
             "outlinewidth": 0,
             "ticks": ""
            },
            "type": "contourcarpet"
           }
          ],
          "heatmap": [
           {
            "colorbar": {
             "outlinewidth": 0,
             "ticks": ""
            },
            "colorscale": [
             [
              0,
              "#0d0887"
             ],
             [
              0.1111111111111111,
              "#46039f"
             ],
             [
              0.2222222222222222,
              "#7201a8"
             ],
             [
              0.3333333333333333,
              "#9c179e"
             ],
             [
              0.4444444444444444,
              "#bd3786"
             ],
             [
              0.5555555555555556,
              "#d8576b"
             ],
             [
              0.6666666666666666,
              "#ed7953"
             ],
             [
              0.7777777777777778,
              "#fb9f3a"
             ],
             [
              0.8888888888888888,
              "#fdca26"
             ],
             [
              1,
              "#f0f921"
             ]
            ],
            "type": "heatmap"
           }
          ],
          "heatmapgl": [
           {
            "colorbar": {
             "outlinewidth": 0,
             "ticks": ""
            },
            "colorscale": [
             [
              0,
              "#0d0887"
             ],
             [
              0.1111111111111111,
              "#46039f"
             ],
             [
              0.2222222222222222,
              "#7201a8"
             ],
             [
              0.3333333333333333,
              "#9c179e"
             ],
             [
              0.4444444444444444,
              "#bd3786"
             ],
             [
              0.5555555555555556,
              "#d8576b"
             ],
             [
              0.6666666666666666,
              "#ed7953"
             ],
             [
              0.7777777777777778,
              "#fb9f3a"
             ],
             [
              0.8888888888888888,
              "#fdca26"
             ],
             [
              1,
              "#f0f921"
             ]
            ],
            "type": "heatmapgl"
           }
          ],
          "histogram": [
           {
            "marker": {
             "colorbar": {
              "outlinewidth": 0,
              "ticks": ""
             }
            },
            "type": "histogram"
           }
          ],
          "histogram2d": [
           {
            "colorbar": {
             "outlinewidth": 0,
             "ticks": ""
            },
            "colorscale": [
             [
              0,
              "#0d0887"
             ],
             [
              0.1111111111111111,
              "#46039f"
             ],
             [
              0.2222222222222222,
              "#7201a8"
             ],
             [
              0.3333333333333333,
              "#9c179e"
             ],
             [
              0.4444444444444444,
              "#bd3786"
             ],
             [
              0.5555555555555556,
              "#d8576b"
             ],
             [
              0.6666666666666666,
              "#ed7953"
             ],
             [
              0.7777777777777778,
              "#fb9f3a"
             ],
             [
              0.8888888888888888,
              "#fdca26"
             ],
             [
              1,
              "#f0f921"
             ]
            ],
            "type": "histogram2d"
           }
          ],
          "histogram2dcontour": [
           {
            "colorbar": {
             "outlinewidth": 0,
             "ticks": ""
            },
            "colorscale": [
             [
              0,
              "#0d0887"
             ],
             [
              0.1111111111111111,
              "#46039f"
             ],
             [
              0.2222222222222222,
              "#7201a8"
             ],
             [
              0.3333333333333333,
              "#9c179e"
             ],
             [
              0.4444444444444444,
              "#bd3786"
             ],
             [
              0.5555555555555556,
              "#d8576b"
             ],
             [
              0.6666666666666666,
              "#ed7953"
             ],
             [
              0.7777777777777778,
              "#fb9f3a"
             ],
             [
              0.8888888888888888,
              "#fdca26"
             ],
             [
              1,
              "#f0f921"
             ]
            ],
            "type": "histogram2dcontour"
           }
          ],
          "mesh3d": [
           {
            "colorbar": {
             "outlinewidth": 0,
             "ticks": ""
            },
            "type": "mesh3d"
           }
          ],
          "parcoords": [
           {
            "line": {
             "colorbar": {
              "outlinewidth": 0,
              "ticks": ""
             }
            },
            "type": "parcoords"
           }
          ],
          "pie": [
           {
            "automargin": true,
            "type": "pie"
           }
          ],
          "scatter": [
           {
            "marker": {
             "colorbar": {
              "outlinewidth": 0,
              "ticks": ""
             }
            },
            "type": "scatter"
           }
          ],
          "scatter3d": [
           {
            "line": {
             "colorbar": {
              "outlinewidth": 0,
              "ticks": ""
             }
            },
            "marker": {
             "colorbar": {
              "outlinewidth": 0,
              "ticks": ""
             }
            },
            "type": "scatter3d"
           }
          ],
          "scattercarpet": [
           {
            "marker": {
             "colorbar": {
              "outlinewidth": 0,
              "ticks": ""
             }
            },
            "type": "scattercarpet"
           }
          ],
          "scattergeo": [
           {
            "marker": {
             "colorbar": {
              "outlinewidth": 0,
              "ticks": ""
             }
            },
            "type": "scattergeo"
           }
          ],
          "scattergl": [
           {
            "marker": {
             "colorbar": {
              "outlinewidth": 0,
              "ticks": ""
             }
            },
            "type": "scattergl"
           }
          ],
          "scattermapbox": [
           {
            "marker": {
             "colorbar": {
              "outlinewidth": 0,
              "ticks": ""
             }
            },
            "type": "scattermapbox"
           }
          ],
          "scatterpolar": [
           {
            "marker": {
             "colorbar": {
              "outlinewidth": 0,
              "ticks": ""
             }
            },
            "type": "scatterpolar"
           }
          ],
          "scatterpolargl": [
           {
            "marker": {
             "colorbar": {
              "outlinewidth": 0,
              "ticks": ""
             }
            },
            "type": "scatterpolargl"
           }
          ],
          "scatterternary": [
           {
            "marker": {
             "colorbar": {
              "outlinewidth": 0,
              "ticks": ""
             }
            },
            "type": "scatterternary"
           }
          ],
          "surface": [
           {
            "colorbar": {
             "outlinewidth": 0,
             "ticks": ""
            },
            "colorscale": [
             [
              0,
              "#0d0887"
             ],
             [
              0.1111111111111111,
              "#46039f"
             ],
             [
              0.2222222222222222,
              "#7201a8"
             ],
             [
              0.3333333333333333,
              "#9c179e"
             ],
             [
              0.4444444444444444,
              "#bd3786"
             ],
             [
              0.5555555555555556,
              "#d8576b"
             ],
             [
              0.6666666666666666,
              "#ed7953"
             ],
             [
              0.7777777777777778,
              "#fb9f3a"
             ],
             [
              0.8888888888888888,
              "#fdca26"
             ],
             [
              1,
              "#f0f921"
             ]
            ],
            "type": "surface"
           }
          ],
          "table": [
           {
            "cells": {
             "fill": {
              "color": "#EBF0F8"
             },
             "line": {
              "color": "white"
             }
            },
            "header": {
             "fill": {
              "color": "#C8D4E3"
             },
             "line": {
              "color": "white"
             }
            },
            "type": "table"
           }
          ]
         },
         "layout": {
          "annotationdefaults": {
           "arrowcolor": "#2a3f5f",
           "arrowhead": 0,
           "arrowwidth": 1
          },
          "coloraxis": {
           "colorbar": {
            "outlinewidth": 0,
            "ticks": ""
           }
          },
          "colorscale": {
           "diverging": [
            [
             0,
             "#8e0152"
            ],
            [
             0.1,
             "#c51b7d"
            ],
            [
             0.2,
             "#de77ae"
            ],
            [
             0.3,
             "#f1b6da"
            ],
            [
             0.4,
             "#fde0ef"
            ],
            [
             0.5,
             "#f7f7f7"
            ],
            [
             0.6,
             "#e6f5d0"
            ],
            [
             0.7,
             "#b8e186"
            ],
            [
             0.8,
             "#7fbc41"
            ],
            [
             0.9,
             "#4d9221"
            ],
            [
             1,
             "#276419"
            ]
           ],
           "sequential": [
            [
             0,
             "#0d0887"
            ],
            [
             0.1111111111111111,
             "#46039f"
            ],
            [
             0.2222222222222222,
             "#7201a8"
            ],
            [
             0.3333333333333333,
             "#9c179e"
            ],
            [
             0.4444444444444444,
             "#bd3786"
            ],
            [
             0.5555555555555556,
             "#d8576b"
            ],
            [
             0.6666666666666666,
             "#ed7953"
            ],
            [
             0.7777777777777778,
             "#fb9f3a"
            ],
            [
             0.8888888888888888,
             "#fdca26"
            ],
            [
             1,
             "#f0f921"
            ]
           ],
           "sequentialminus": [
            [
             0,
             "#0d0887"
            ],
            [
             0.1111111111111111,
             "#46039f"
            ],
            [
             0.2222222222222222,
             "#7201a8"
            ],
            [
             0.3333333333333333,
             "#9c179e"
            ],
            [
             0.4444444444444444,
             "#bd3786"
            ],
            [
             0.5555555555555556,
             "#d8576b"
            ],
            [
             0.6666666666666666,
             "#ed7953"
            ],
            [
             0.7777777777777778,
             "#fb9f3a"
            ],
            [
             0.8888888888888888,
             "#fdca26"
            ],
            [
             1,
             "#f0f921"
            ]
           ]
          },
          "colorway": [
           "#636efa",
           "#EF553B",
           "#00cc96",
           "#ab63fa",
           "#FFA15A",
           "#19d3f3",
           "#FF6692",
           "#B6E880",
           "#FF97FF",
           "#FECB52"
          ],
          "font": {
           "color": "#2a3f5f"
          },
          "geo": {
           "bgcolor": "white",
           "lakecolor": "white",
           "landcolor": "#E5ECF6",
           "showlakes": true,
           "showland": true,
           "subunitcolor": "white"
          },
          "hoverlabel": {
           "align": "left"
          },
          "hovermode": "closest",
          "mapbox": {
           "style": "light"
          },
          "paper_bgcolor": "white",
          "plot_bgcolor": "#E5ECF6",
          "polar": {
           "angularaxis": {
            "gridcolor": "white",
            "linecolor": "white",
            "ticks": ""
           },
           "bgcolor": "#E5ECF6",
           "radialaxis": {
            "gridcolor": "white",
            "linecolor": "white",
            "ticks": ""
           }
          },
          "scene": {
           "xaxis": {
            "backgroundcolor": "#E5ECF6",
            "gridcolor": "white",
            "gridwidth": 2,
            "linecolor": "white",
            "showbackground": true,
            "ticks": "",
            "zerolinecolor": "white"
           },
           "yaxis": {
            "backgroundcolor": "#E5ECF6",
            "gridcolor": "white",
            "gridwidth": 2,
            "linecolor": "white",
            "showbackground": true,
            "ticks": "",
            "zerolinecolor": "white"
           },
           "zaxis": {
            "backgroundcolor": "#E5ECF6",
            "gridcolor": "white",
            "gridwidth": 2,
            "linecolor": "white",
            "showbackground": true,
            "ticks": "",
            "zerolinecolor": "white"
           }
          },
          "shapedefaults": {
           "line": {
            "color": "#2a3f5f"
           }
          },
          "ternary": {
           "aaxis": {
            "gridcolor": "white",
            "linecolor": "white",
            "ticks": ""
           },
           "baxis": {
            "gridcolor": "white",
            "linecolor": "white",
            "ticks": ""
           },
           "bgcolor": "#E5ECF6",
           "caxis": {
            "gridcolor": "white",
            "linecolor": "white",
            "ticks": ""
           }
          },
          "title": {
           "x": 0.05
          },
          "xaxis": {
           "automargin": true,
           "gridcolor": "white",
           "linecolor": "white",
           "ticks": "",
           "title": {
            "standoff": 15
           },
           "zerolinecolor": "white",
           "zerolinewidth": 2
          },
          "yaxis": {
           "automargin": true,
           "gridcolor": "white",
           "linecolor": "white",
           "ticks": "",
           "title": {
            "standoff": 15
           },
           "zerolinecolor": "white",
           "zerolinewidth": 2
          }
         }
        },
        "title": {
         "text": "Italy - Customer Service Without Trimming"
        }
       }
      },
      "text/html": [
       "<div>                            <div id=\"172391c0-63a3-46c6-a102-2819d1380f5c\" class=\"plotly-graph-div\" style=\"height:525px; width:100%;\"></div>            <script type=\"text/javascript\">                require([\"plotly\"], function(Plotly) {                    window.PLOTLYENV=window.PLOTLYENV || {};                                    if (document.getElementById(\"172391c0-63a3-46c6-a102-2819d1380f5c\")) {                    Plotly.newPlot(                        \"172391c0-63a3-46c6-a102-2819d1380f5c\",                        [{\"link\": {\"hovertemplate\": \"%{value} unique users went from %{source.label} to %{target.label}.<br /><br />It took them %{label} in average to reach this point from the start of the flow.<extra></extra>\", \"label\": [\"0 days 00:00:03\", \"0 days 00:00:02\", \"0 days 00:00:03\", \"0 days 00:00:15\", \"0 days 00:00:23\", \"0 days 00:00:15\", \"0 days 00:00:00\", \"0 days 00:00:26\", \"0 days 00:00:07\", \"0 days 00:00:07\", \"0 days 00:00:21\", \"0 days 00:00:08\", \"0 days 00:00:16\", \"0 days 00:00:04\", \"0 days 00:00:26\", \"0 days 00:00:31\", \"0 days 00:00:01\", \"0 days 00:00:14\", \"0 days 00:00:00\", \"0 days 00:00:00\", \"0 days 00:00:13\", \"0 days 00:00:31\", \"0 days 00:00:01\", \"0 days 00:00:01\", \"0 days 00:00:00\", \"0 days 00:00:03\", \"0 days 00:00:00\", \"0 days 00:00:00\", \"0 days 00:00:08\", \"0 days 00:00:07\", \"0 days 00:00:14\", \"0 days 00:00:29\", \"0 days 00:00:22\", \"0 days 00:00:25\", \"0 days 00:00:21\", \"0 days 00:00:14\", \"0 days 00:00:08\", \"0 days 00:00:00\", \"0 days 00:00:10\", \"0 days 00:00:02\", \"0 days 00:00:00\", \"0 days 00:00:02\", \"0 days 00:00:00\", \"0 days 00:00:00\", \"0 days 00:00:10\", \"0 days 00:00:10\", \"0 days 00:00:14\", \"0 days 00:00:18\", \"0 days 00:00:12\", \"0 days 00:00:14\", \"0 days 00:00:18\", \"0 days 00:00:00\", \"0 days 00:00:00\", \"0 days 00:00:00\", \"0 days 00:00:00\", \"0 days 00:00:18\", \"0 days 00:00:21\", \"0 days 00:00:15\", \"0 days 00:00:18\", \"0 days 00:00:00\", \"0 days 00:00:00\", \"0 days 00:00:00\", \"0 days 00:00:00\", \"0 days 00:00:20\", \"0 days 00:00:14\", \"0 days 00:00:17\", \"0 days 00:00:00\", \"0 days 00:00:03\", \"0 days 00:00:00\", \"0 days 00:00:28\", \"0 days 00:00:00\", \"0 days 00:00:00\", \"0 days 00:00:00\", \"0 days 00:00:26\", \"0 days 00:00:28\", \"0 days 00:00:24\", \"0 days 00:00:02\", \"0 days 00:00:09\", \"0 days 00:00:00\", \"0 days 00:00:00\", \"0 days 00:00:27\", \"0 days 00:00:23\", \"0 days 00:00:25\", \"0 days 00:00:13\", \"0 days 00:00:24\", \"0 days 00:00:26\", \"0 days 00:00:18\", \"0 days 00:00:44\", \"0 days 00:00:00\", \"0 days 00:00:00\", \"0 days 00:00:33\"], \"source\": [4, 4, 4, 21, 21, 21, 21, 21, 21, 21, 21, 8, 8, 8, 8, 8, 8, 8, 8, 8, 8, 8, 6, 6, 6, 6, 6, 6, 7, 7, 7, 7, 32, 32, 32, 32, 32, 12, 12, 5, 5, 5, 5, 5, 20, 20, 20, 9, 9, 9, 9, 9, 9, 9, 9, 24, 24, 24, 24, 3, 3, 3, 3, 37, 26, 26, 13, 13, 13, 13, 10, 10, 10, 38, 38, 38, 11, 11, 11, 11, 36, 25, 25, 25, 27, 27, 28, 43, 0, 17, 34], \"target\": [28, 17, 39, 28, 39, 17, 8, 18, 29, 16, 40, 21, 32, 20, 36, 33, 28, 39, 17, 16, 0, 34, 8, 7, 9, 24, 28, 32, 17, 28, 39, 30, 17, 39, 28, 8, 19, 42, 22, 17, 39, 28, 18, 19, 17, 28, 39, 6, 4, 5, 3, 8, 7, 9, 21, 7, 8, 9, 24, 6, 4, 5, 3, 42, 37, 38, 26, 25, 27, 43, 12, 13, 11, 42, 41, 22, 42, 41, 22, 23, 17, 42, 41, 22, 11, 13, 7, 26, 17, 5, 17], \"value\": [97, 344, 44, 197, 101, 478, 1, 1, 1, 1, 1, 1277, 188, 382, 2, 1, 36, 1, 62, 2, 1, 1, 809, 221, 66, 52, 1, 1, 336, 145, 14, 1, 63, 40, 22, 1, 1, 7, 1, 191, 10, 59, 2, 1, 213, 146, 14, 30, 68, 23, 1, 24, 5, 1, 2, 9, 30, 6, 1, 70, 16, 6, 4, 3, 3, 34, 37, 14, 5, 1, 1, 4, 1, 22, 5, 1, 15, 5, 5, 1, 2, 11, 2, 1, 3, 2, 1, 1, 1, 1, 1]}, \"node\": {\"label\": [\"DTMF_44~~6-dtmf\", \"DTMF_59~~1-dtmf\", \"DTMF_61~~1-dtmf\", \"MENU_TREE_17~~-1-dtmf\", \"MENU_TREE_17~~1-dtmf\", \"MENU_TREE_17~~2-dtmf\", \"MENU_TREE_17~~3-dtmf\", \"MENU_TREE_20~~1-dtmf\", \"MENU_TREE_20~~2-dtmf\", \"MENU_TREE_20~~9-dtmf\", \"MENU_TREE_6~~-1-dtmf\", \"MENU_TREE_6~~1-dtmf\", \"MENU_TREE_6~~2-dtmf\", \"MENU_TREE_6~~3-dtmf\", \"SMS_3~~MSG_EVENT\", \"SMS_4~~MSG_EVENT\", \"DTMF_29~~0-dtmf\", \"DTMF_29~~2-dtmf\", \"DTMF_29~~3-dtmf\", \"DTMF_29~~9-dtmf\", \"DTMF_44~~1-dtmf\", \"DTMF_44~~2-dtmf\", \"DTMF_7~~1-dtmf\", \"DTMF_7~~7-dtmf\", \"MENU_TREE_20~~-1-dtmf\", \"MENU_TREE_4~~1-dtmf\", \"MENU_TREE_4~~2-dtmf\", \"MENU_TREE_4~~9-dtmf\", \"DTMF_29~~1-dtmf\", \"DTMF_29~~5-dtmf\", \"DTMF_29~~7-dtmf\", \"DTMF_29~~9-dtmf\", \"DTMF_44~~-1-dtmf\", \"DTMF_44~~3-dtmf\", \"DTMF_44~~4-dtmf\", \"DTMF_44~~6-dtmf\", \"DTMF_44~~7-dtmf\", \"MENU_TREE_15~~1-dtmf\", \"MENU_TREE_15~~2-dtmf\", \"DTMF_29~~-1-dtmf\", \"DTMF_29~~8-dtmf\", \"DTMF_7~~-1-dtmf\", \"DTMF_7~~2-dtmf\", \"MENU_TREE_4~~-1-dtmf\"], \"line\": {\"color\": \"black\", \"width\": 0.5}, \"thickness\": 10}, \"type\": \"sankey\"}],                        {\"autosize\": true, \"font\": {\"size\": 15}, \"plot_bgcolor\": \"white\", \"template\": {\"data\": {\"bar\": [{\"error_x\": {\"color\": \"#2a3f5f\"}, \"error_y\": {\"color\": \"#2a3f5f\"}, \"marker\": {\"line\": {\"color\": \"#E5ECF6\", \"width\": 0.5}}, \"type\": \"bar\"}], \"barpolar\": [{\"marker\": {\"line\": {\"color\": \"#E5ECF6\", \"width\": 0.5}}, \"type\": \"barpolar\"}], \"carpet\": [{\"aaxis\": {\"endlinecolor\": \"#2a3f5f\", \"gridcolor\": \"white\", \"linecolor\": \"white\", \"minorgridcolor\": \"white\", \"startlinecolor\": \"#2a3f5f\"}, \"baxis\": {\"endlinecolor\": \"#2a3f5f\", \"gridcolor\": \"white\", \"linecolor\": \"white\", \"minorgridcolor\": \"white\", \"startlinecolor\": \"#2a3f5f\"}, \"type\": \"carpet\"}], \"choropleth\": [{\"colorbar\": {\"outlinewidth\": 0, \"ticks\": \"\"}, \"type\": \"choropleth\"}], \"contour\": [{\"colorbar\": {\"outlinewidth\": 0, \"ticks\": \"\"}, \"colorscale\": [[0.0, \"#0d0887\"], [0.1111111111111111, \"#46039f\"], [0.2222222222222222, \"#7201a8\"], [0.3333333333333333, \"#9c179e\"], [0.4444444444444444, \"#bd3786\"], [0.5555555555555556, \"#d8576b\"], [0.6666666666666666, \"#ed7953\"], [0.7777777777777778, \"#fb9f3a\"], [0.8888888888888888, \"#fdca26\"], [1.0, \"#f0f921\"]], \"type\": \"contour\"}], \"contourcarpet\": [{\"colorbar\": {\"outlinewidth\": 0, \"ticks\": \"\"}, \"type\": \"contourcarpet\"}], \"heatmap\": [{\"colorbar\": {\"outlinewidth\": 0, \"ticks\": \"\"}, \"colorscale\": [[0.0, \"#0d0887\"], [0.1111111111111111, \"#46039f\"], [0.2222222222222222, \"#7201a8\"], [0.3333333333333333, \"#9c179e\"], [0.4444444444444444, \"#bd3786\"], [0.5555555555555556, \"#d8576b\"], [0.6666666666666666, \"#ed7953\"], [0.7777777777777778, \"#fb9f3a\"], [0.8888888888888888, \"#fdca26\"], [1.0, \"#f0f921\"]], \"type\": \"heatmap\"}], \"heatmapgl\": [{\"colorbar\": {\"outlinewidth\": 0, \"ticks\": \"\"}, \"colorscale\": [[0.0, \"#0d0887\"], [0.1111111111111111, \"#46039f\"], [0.2222222222222222, \"#7201a8\"], [0.3333333333333333, \"#9c179e\"], [0.4444444444444444, \"#bd3786\"], [0.5555555555555556, \"#d8576b\"], [0.6666666666666666, \"#ed7953\"], [0.7777777777777778, \"#fb9f3a\"], [0.8888888888888888, \"#fdca26\"], [1.0, \"#f0f921\"]], \"type\": \"heatmapgl\"}], \"histogram\": [{\"marker\": {\"colorbar\": {\"outlinewidth\": 0, \"ticks\": \"\"}}, \"type\": \"histogram\"}], \"histogram2d\": [{\"colorbar\": {\"outlinewidth\": 0, \"ticks\": \"\"}, \"colorscale\": [[0.0, \"#0d0887\"], [0.1111111111111111, \"#46039f\"], [0.2222222222222222, \"#7201a8\"], [0.3333333333333333, \"#9c179e\"], [0.4444444444444444, \"#bd3786\"], [0.5555555555555556, \"#d8576b\"], [0.6666666666666666, \"#ed7953\"], [0.7777777777777778, \"#fb9f3a\"], [0.8888888888888888, \"#fdca26\"], [1.0, \"#f0f921\"]], \"type\": \"histogram2d\"}], \"histogram2dcontour\": [{\"colorbar\": {\"outlinewidth\": 0, \"ticks\": \"\"}, \"colorscale\": [[0.0, \"#0d0887\"], [0.1111111111111111, \"#46039f\"], [0.2222222222222222, \"#7201a8\"], [0.3333333333333333, \"#9c179e\"], [0.4444444444444444, \"#bd3786\"], [0.5555555555555556, \"#d8576b\"], [0.6666666666666666, \"#ed7953\"], [0.7777777777777778, \"#fb9f3a\"], [0.8888888888888888, \"#fdca26\"], [1.0, \"#f0f921\"]], \"type\": \"histogram2dcontour\"}], \"mesh3d\": [{\"colorbar\": {\"outlinewidth\": 0, \"ticks\": \"\"}, \"type\": \"mesh3d\"}], \"parcoords\": [{\"line\": {\"colorbar\": {\"outlinewidth\": 0, \"ticks\": \"\"}}, \"type\": \"parcoords\"}], \"pie\": [{\"automargin\": true, \"type\": \"pie\"}], \"scatter\": [{\"marker\": {\"colorbar\": {\"outlinewidth\": 0, \"ticks\": \"\"}}, \"type\": \"scatter\"}], \"scatter3d\": [{\"line\": {\"colorbar\": {\"outlinewidth\": 0, \"ticks\": \"\"}}, \"marker\": {\"colorbar\": {\"outlinewidth\": 0, \"ticks\": \"\"}}, \"type\": \"scatter3d\"}], \"scattercarpet\": [{\"marker\": {\"colorbar\": {\"outlinewidth\": 0, \"ticks\": \"\"}}, \"type\": \"scattercarpet\"}], \"scattergeo\": [{\"marker\": {\"colorbar\": {\"outlinewidth\": 0, \"ticks\": \"\"}}, \"type\": \"scattergeo\"}], \"scattergl\": [{\"marker\": {\"colorbar\": {\"outlinewidth\": 0, \"ticks\": \"\"}}, \"type\": \"scattergl\"}], \"scattermapbox\": [{\"marker\": {\"colorbar\": {\"outlinewidth\": 0, \"ticks\": \"\"}}, \"type\": \"scattermapbox\"}], \"scatterpolar\": [{\"marker\": {\"colorbar\": {\"outlinewidth\": 0, \"ticks\": \"\"}}, \"type\": \"scatterpolar\"}], \"scatterpolargl\": [{\"marker\": {\"colorbar\": {\"outlinewidth\": 0, \"ticks\": \"\"}}, \"type\": \"scatterpolargl\"}], \"scatterternary\": [{\"marker\": {\"colorbar\": {\"outlinewidth\": 0, \"ticks\": \"\"}}, \"type\": \"scatterternary\"}], \"surface\": [{\"colorbar\": {\"outlinewidth\": 0, \"ticks\": \"\"}, \"colorscale\": [[0.0, \"#0d0887\"], [0.1111111111111111, \"#46039f\"], [0.2222222222222222, \"#7201a8\"], [0.3333333333333333, \"#9c179e\"], [0.4444444444444444, \"#bd3786\"], [0.5555555555555556, \"#d8576b\"], [0.6666666666666666, \"#ed7953\"], [0.7777777777777778, \"#fb9f3a\"], [0.8888888888888888, \"#fdca26\"], [1.0, \"#f0f921\"]], \"type\": \"surface\"}], \"table\": [{\"cells\": {\"fill\": {\"color\": \"#EBF0F8\"}, \"line\": {\"color\": \"white\"}}, \"header\": {\"fill\": {\"color\": \"#C8D4E3\"}, \"line\": {\"color\": \"white\"}}, \"type\": \"table\"}]}, \"layout\": {\"annotationdefaults\": {\"arrowcolor\": \"#2a3f5f\", \"arrowhead\": 0, \"arrowwidth\": 1}, \"coloraxis\": {\"colorbar\": {\"outlinewidth\": 0, \"ticks\": \"\"}}, \"colorscale\": {\"diverging\": [[0, \"#8e0152\"], [0.1, \"#c51b7d\"], [0.2, \"#de77ae\"], [0.3, \"#f1b6da\"], [0.4, \"#fde0ef\"], [0.5, \"#f7f7f7\"], [0.6, \"#e6f5d0\"], [0.7, \"#b8e186\"], [0.8, \"#7fbc41\"], [0.9, \"#4d9221\"], [1, \"#276419\"]], \"sequential\": [[0.0, \"#0d0887\"], [0.1111111111111111, \"#46039f\"], [0.2222222222222222, \"#7201a8\"], [0.3333333333333333, \"#9c179e\"], [0.4444444444444444, \"#bd3786\"], [0.5555555555555556, \"#d8576b\"], [0.6666666666666666, \"#ed7953\"], [0.7777777777777778, \"#fb9f3a\"], [0.8888888888888888, \"#fdca26\"], [1.0, \"#f0f921\"]], \"sequentialminus\": [[0.0, \"#0d0887\"], [0.1111111111111111, \"#46039f\"], [0.2222222222222222, \"#7201a8\"], [0.3333333333333333, \"#9c179e\"], [0.4444444444444444, \"#bd3786\"], [0.5555555555555556, \"#d8576b\"], [0.6666666666666666, \"#ed7953\"], [0.7777777777777778, \"#fb9f3a\"], [0.8888888888888888, \"#fdca26\"], [1.0, \"#f0f921\"]]}, \"colorway\": [\"#636efa\", \"#EF553B\", \"#00cc96\", \"#ab63fa\", \"#FFA15A\", \"#19d3f3\", \"#FF6692\", \"#B6E880\", \"#FF97FF\", \"#FECB52\"], \"font\": {\"color\": \"#2a3f5f\"}, \"geo\": {\"bgcolor\": \"white\", \"lakecolor\": \"white\", \"landcolor\": \"#E5ECF6\", \"showlakes\": true, \"showland\": true, \"subunitcolor\": \"white\"}, \"hoverlabel\": {\"align\": \"left\"}, \"hovermode\": \"closest\", \"mapbox\": {\"style\": \"light\"}, \"paper_bgcolor\": \"white\", \"plot_bgcolor\": \"#E5ECF6\", \"polar\": {\"angularaxis\": {\"gridcolor\": \"white\", \"linecolor\": \"white\", \"ticks\": \"\"}, \"bgcolor\": \"#E5ECF6\", \"radialaxis\": {\"gridcolor\": \"white\", \"linecolor\": \"white\", \"ticks\": \"\"}}, \"scene\": {\"xaxis\": {\"backgroundcolor\": \"#E5ECF6\", \"gridcolor\": \"white\", \"gridwidth\": 2, \"linecolor\": \"white\", \"showbackground\": true, \"ticks\": \"\", \"zerolinecolor\": \"white\"}, \"yaxis\": {\"backgroundcolor\": \"#E5ECF6\", \"gridcolor\": \"white\", \"gridwidth\": 2, \"linecolor\": \"white\", \"showbackground\": true, \"ticks\": \"\", \"zerolinecolor\": \"white\"}, \"zaxis\": {\"backgroundcolor\": \"#E5ECF6\", \"gridcolor\": \"white\", \"gridwidth\": 2, \"linecolor\": \"white\", \"showbackground\": true, \"ticks\": \"\", \"zerolinecolor\": \"white\"}}, \"shapedefaults\": {\"line\": {\"color\": \"#2a3f5f\"}}, \"ternary\": {\"aaxis\": {\"gridcolor\": \"white\", \"linecolor\": \"white\", \"ticks\": \"\"}, \"baxis\": {\"gridcolor\": \"white\", \"linecolor\": \"white\", \"ticks\": \"\"}, \"bgcolor\": \"#E5ECF6\", \"caxis\": {\"gridcolor\": \"white\", \"linecolor\": \"white\", \"ticks\": \"\"}}, \"title\": {\"x\": 0.05}, \"xaxis\": {\"automargin\": true, \"gridcolor\": \"white\", \"linecolor\": \"white\", \"ticks\": \"\", \"title\": {\"standoff\": 15}, \"zerolinecolor\": \"white\", \"zerolinewidth\": 2}, \"yaxis\": {\"automargin\": true, \"gridcolor\": \"white\", \"linecolor\": \"white\", \"ticks\": \"\", \"title\": {\"standoff\": 15}, \"zerolinecolor\": \"white\", \"zerolinewidth\": 2}}}, \"title\": {\"text\": \"Italy - Customer Service Without Trimming\"}},                        {\"responsive\": true}                    ).then(function(){\n",
       "                            \n",
       "var gd = document.getElementById('172391c0-63a3-46c6-a102-2819d1380f5c');\n",
       "var x = new MutationObserver(function (mutations, observer) {{\n",
       "        var display = window.getComputedStyle(gd).display;\n",
       "        if (!display || display === 'none') {{\n",
       "            console.log([gd, 'removed!']);\n",
       "            Plotly.purge(gd);\n",
       "            observer.disconnect();\n",
       "        }}\n",
       "}});\n",
       "\n",
       "// Listen for the removal of the full notebook cells\n",
       "var notebookContainer = gd.closest('#notebook-container');\n",
       "if (notebookContainer) {{\n",
       "    x.observe(notebookContainer, {childList: true});\n",
       "}}\n",
       "\n",
       "// Listen for the clearing of the current output cell\n",
       "var outputEl = gd.closest('.output');\n",
       "if (outputEl) {{\n",
       "    x.observe(outputEl, {childList: true});\n",
       "}}\n",
       "\n",
       "                        })                };                });            </script>        </div>"
      ]
     },
     "metadata": {},
     "output_type": "display_data"
    }
   ],
   "source": [
    "FlowName = \"Italy - Customer Service\"\n",
    "df = client.query(sql_temp.format(FlowName)).to_dataframe()\n",
    "flow = SankeyFlow(df)\n",
    "flow.plot(0, f\"{FlowName} Without Trimming\").show()"
   ]
  },
  {
   "cell_type": "code",
   "execution_count": 98,
   "metadata": {},
   "outputs": [
    {
     "data": {
      "application/vnd.plotly.v1+json": {
       "config": {
        "plotlyServerURL": "https://plotly.com"
       },
       "data": [
        {
         "link": {
          "hovertemplate": "%{value} unique users went from %{source.label} to %{target.label}.<br /><br />It took them %{label} in average to reach this point from the start of the flow.<extra></extra>",
          "label": [
           "0 days 00:00:03",
           "0 days 00:00:02",
           "0 days 00:00:03",
           "0 days 00:00:15",
           "0 days 00:00:23",
           "0 days 00:00:15",
           "0 days 00:00:08",
           "0 days 00:00:16",
           "0 days 00:00:04",
           "0 days 00:00:01",
           "0 days 00:00:00",
           "0 days 00:00:01",
           "0 days 00:00:01",
           "0 days 00:00:00",
           "0 days 00:00:03",
           "0 days 00:00:08",
           "0 days 00:00:07",
           "0 days 00:00:14",
           "0 days 00:00:22",
           "0 days 00:00:25",
           "0 days 00:00:21",
           "0 days 00:00:02",
           "0 days 00:00:00",
           "0 days 00:00:02",
           "0 days 00:00:10",
           "0 days 00:00:10",
           "0 days 00:00:14",
           "0 days 00:00:18",
           "0 days 00:00:12",
           "0 days 00:00:14",
           "0 days 00:00:00",
           "0 days 00:00:21",
           "0 days 00:00:00",
           "0 days 00:00:00",
           "0 days 00:00:17",
           "0 days 00:00:00",
           "0 days 00:00:03",
           "0 days 00:00:26",
           "0 days 00:00:02",
           "0 days 00:00:23"
          ],
          "source": [
           4,
           4,
           4,
           21,
           21,
           21,
           8,
           8,
           8,
           8,
           8,
           6,
           6,
           6,
           6,
           7,
           7,
           7,
           32,
           32,
           32,
           5,
           5,
           5,
           20,
           20,
           20,
           9,
           9,
           9,
           9,
           24,
           3,
           3,
           26,
           13,
           13,
           38,
           11,
           25
          ],
          "target": [
           28,
           17,
           39,
           28,
           39,
           17,
           21,
           32,
           20,
           28,
           17,
           8,
           7,
           9,
           24,
           17,
           28,
           39,
           17,
           39,
           28,
           17,
           39,
           28,
           17,
           28,
           39,
           6,
           4,
           5,
           8,
           8,
           6,
           4,
           38,
           26,
           25,
           42,
           42,
           42
          ],
          "value": [
           97,
           344,
           44,
           197,
           101,
           478,
           1277,
           188,
           382,
           36,
           62,
           809,
           221,
           66,
           52,
           336,
           145,
           14,
           63,
           40,
           22,
           191,
           10,
           59,
           213,
           146,
           14,
           30,
           68,
           23,
           24,
           30,
           70,
           16,
           34,
           37,
           14,
           22,
           15,
           11
          ]
         },
         "node": {
          "label": [
           "DTMF_44~~6-dtmf",
           "DTMF_59~~1-dtmf",
           "DTMF_61~~1-dtmf",
           "MENU_TREE_17~~-1-dtmf",
           "MENU_TREE_17~~1-dtmf",
           "MENU_TREE_17~~2-dtmf",
           "MENU_TREE_17~~3-dtmf",
           "MENU_TREE_20~~1-dtmf",
           "MENU_TREE_20~~2-dtmf",
           "MENU_TREE_20~~9-dtmf",
           "MENU_TREE_6~~-1-dtmf",
           "MENU_TREE_6~~1-dtmf",
           "MENU_TREE_6~~2-dtmf",
           "MENU_TREE_6~~3-dtmf",
           "SMS_3~~MSG_EVENT",
           "SMS_4~~MSG_EVENT",
           "DTMF_29~~0-dtmf",
           "DTMF_29~~2-dtmf",
           "DTMF_29~~3-dtmf",
           "DTMF_29~~9-dtmf",
           "DTMF_44~~1-dtmf",
           "DTMF_44~~2-dtmf",
           "DTMF_7~~1-dtmf",
           "DTMF_7~~7-dtmf",
           "MENU_TREE_20~~-1-dtmf",
           "MENU_TREE_4~~1-dtmf",
           "MENU_TREE_4~~2-dtmf",
           "MENU_TREE_4~~9-dtmf",
           "DTMF_29~~1-dtmf",
           "DTMF_29~~5-dtmf",
           "DTMF_29~~7-dtmf",
           "DTMF_29~~9-dtmf",
           "DTMF_44~~-1-dtmf",
           "DTMF_44~~3-dtmf",
           "DTMF_44~~4-dtmf",
           "DTMF_44~~6-dtmf",
           "DTMF_44~~7-dtmf",
           "MENU_TREE_15~~1-dtmf",
           "MENU_TREE_15~~2-dtmf",
           "DTMF_29~~-1-dtmf",
           "DTMF_29~~8-dtmf",
           "DTMF_7~~-1-dtmf",
           "DTMF_7~~2-dtmf",
           "MENU_TREE_4~~-1-dtmf"
          ],
          "line": {
           "color": "black",
           "width": 0.5
          },
          "thickness": 10
         },
         "type": "sankey"
        }
       ],
       "layout": {
        "autosize": true,
        "font": {
         "size": 15
        },
        "plot_bgcolor": "white",
        "template": {
         "data": {
          "bar": [
           {
            "error_x": {
             "color": "#2a3f5f"
            },
            "error_y": {
             "color": "#2a3f5f"
            },
            "marker": {
             "line": {
              "color": "#E5ECF6",
              "width": 0.5
             }
            },
            "type": "bar"
           }
          ],
          "barpolar": [
           {
            "marker": {
             "line": {
              "color": "#E5ECF6",
              "width": 0.5
             }
            },
            "type": "barpolar"
           }
          ],
          "carpet": [
           {
            "aaxis": {
             "endlinecolor": "#2a3f5f",
             "gridcolor": "white",
             "linecolor": "white",
             "minorgridcolor": "white",
             "startlinecolor": "#2a3f5f"
            },
            "baxis": {
             "endlinecolor": "#2a3f5f",
             "gridcolor": "white",
             "linecolor": "white",
             "minorgridcolor": "white",
             "startlinecolor": "#2a3f5f"
            },
            "type": "carpet"
           }
          ],
          "choropleth": [
           {
            "colorbar": {
             "outlinewidth": 0,
             "ticks": ""
            },
            "type": "choropleth"
           }
          ],
          "contour": [
           {
            "colorbar": {
             "outlinewidth": 0,
             "ticks": ""
            },
            "colorscale": [
             [
              0,
              "#0d0887"
             ],
             [
              0.1111111111111111,
              "#46039f"
             ],
             [
              0.2222222222222222,
              "#7201a8"
             ],
             [
              0.3333333333333333,
              "#9c179e"
             ],
             [
              0.4444444444444444,
              "#bd3786"
             ],
             [
              0.5555555555555556,
              "#d8576b"
             ],
             [
              0.6666666666666666,
              "#ed7953"
             ],
             [
              0.7777777777777778,
              "#fb9f3a"
             ],
             [
              0.8888888888888888,
              "#fdca26"
             ],
             [
              1,
              "#f0f921"
             ]
            ],
            "type": "contour"
           }
          ],
          "contourcarpet": [
           {
            "colorbar": {
             "outlinewidth": 0,
             "ticks": ""
            },
            "type": "contourcarpet"
           }
          ],
          "heatmap": [
           {
            "colorbar": {
             "outlinewidth": 0,
             "ticks": ""
            },
            "colorscale": [
             [
              0,
              "#0d0887"
             ],
             [
              0.1111111111111111,
              "#46039f"
             ],
             [
              0.2222222222222222,
              "#7201a8"
             ],
             [
              0.3333333333333333,
              "#9c179e"
             ],
             [
              0.4444444444444444,
              "#bd3786"
             ],
             [
              0.5555555555555556,
              "#d8576b"
             ],
             [
              0.6666666666666666,
              "#ed7953"
             ],
             [
              0.7777777777777778,
              "#fb9f3a"
             ],
             [
              0.8888888888888888,
              "#fdca26"
             ],
             [
              1,
              "#f0f921"
             ]
            ],
            "type": "heatmap"
           }
          ],
          "heatmapgl": [
           {
            "colorbar": {
             "outlinewidth": 0,
             "ticks": ""
            },
            "colorscale": [
             [
              0,
              "#0d0887"
             ],
             [
              0.1111111111111111,
              "#46039f"
             ],
             [
              0.2222222222222222,
              "#7201a8"
             ],
             [
              0.3333333333333333,
              "#9c179e"
             ],
             [
              0.4444444444444444,
              "#bd3786"
             ],
             [
              0.5555555555555556,
              "#d8576b"
             ],
             [
              0.6666666666666666,
              "#ed7953"
             ],
             [
              0.7777777777777778,
              "#fb9f3a"
             ],
             [
              0.8888888888888888,
              "#fdca26"
             ],
             [
              1,
              "#f0f921"
             ]
            ],
            "type": "heatmapgl"
           }
          ],
          "histogram": [
           {
            "marker": {
             "colorbar": {
              "outlinewidth": 0,
              "ticks": ""
             }
            },
            "type": "histogram"
           }
          ],
          "histogram2d": [
           {
            "colorbar": {
             "outlinewidth": 0,
             "ticks": ""
            },
            "colorscale": [
             [
              0,
              "#0d0887"
             ],
             [
              0.1111111111111111,
              "#46039f"
             ],
             [
              0.2222222222222222,
              "#7201a8"
             ],
             [
              0.3333333333333333,
              "#9c179e"
             ],
             [
              0.4444444444444444,
              "#bd3786"
             ],
             [
              0.5555555555555556,
              "#d8576b"
             ],
             [
              0.6666666666666666,
              "#ed7953"
             ],
             [
              0.7777777777777778,
              "#fb9f3a"
             ],
             [
              0.8888888888888888,
              "#fdca26"
             ],
             [
              1,
              "#f0f921"
             ]
            ],
            "type": "histogram2d"
           }
          ],
          "histogram2dcontour": [
           {
            "colorbar": {
             "outlinewidth": 0,
             "ticks": ""
            },
            "colorscale": [
             [
              0,
              "#0d0887"
             ],
             [
              0.1111111111111111,
              "#46039f"
             ],
             [
              0.2222222222222222,
              "#7201a8"
             ],
             [
              0.3333333333333333,
              "#9c179e"
             ],
             [
              0.4444444444444444,
              "#bd3786"
             ],
             [
              0.5555555555555556,
              "#d8576b"
             ],
             [
              0.6666666666666666,
              "#ed7953"
             ],
             [
              0.7777777777777778,
              "#fb9f3a"
             ],
             [
              0.8888888888888888,
              "#fdca26"
             ],
             [
              1,
              "#f0f921"
             ]
            ],
            "type": "histogram2dcontour"
           }
          ],
          "mesh3d": [
           {
            "colorbar": {
             "outlinewidth": 0,
             "ticks": ""
            },
            "type": "mesh3d"
           }
          ],
          "parcoords": [
           {
            "line": {
             "colorbar": {
              "outlinewidth": 0,
              "ticks": ""
             }
            },
            "type": "parcoords"
           }
          ],
          "pie": [
           {
            "automargin": true,
            "type": "pie"
           }
          ],
          "scatter": [
           {
            "marker": {
             "colorbar": {
              "outlinewidth": 0,
              "ticks": ""
             }
            },
            "type": "scatter"
           }
          ],
          "scatter3d": [
           {
            "line": {
             "colorbar": {
              "outlinewidth": 0,
              "ticks": ""
             }
            },
            "marker": {
             "colorbar": {
              "outlinewidth": 0,
              "ticks": ""
             }
            },
            "type": "scatter3d"
           }
          ],
          "scattercarpet": [
           {
            "marker": {
             "colorbar": {
              "outlinewidth": 0,
              "ticks": ""
             }
            },
            "type": "scattercarpet"
           }
          ],
          "scattergeo": [
           {
            "marker": {
             "colorbar": {
              "outlinewidth": 0,
              "ticks": ""
             }
            },
            "type": "scattergeo"
           }
          ],
          "scattergl": [
           {
            "marker": {
             "colorbar": {
              "outlinewidth": 0,
              "ticks": ""
             }
            },
            "type": "scattergl"
           }
          ],
          "scattermapbox": [
           {
            "marker": {
             "colorbar": {
              "outlinewidth": 0,
              "ticks": ""
             }
            },
            "type": "scattermapbox"
           }
          ],
          "scatterpolar": [
           {
            "marker": {
             "colorbar": {
              "outlinewidth": 0,
              "ticks": ""
             }
            },
            "type": "scatterpolar"
           }
          ],
          "scatterpolargl": [
           {
            "marker": {
             "colorbar": {
              "outlinewidth": 0,
              "ticks": ""
             }
            },
            "type": "scatterpolargl"
           }
          ],
          "scatterternary": [
           {
            "marker": {
             "colorbar": {
              "outlinewidth": 0,
              "ticks": ""
             }
            },
            "type": "scatterternary"
           }
          ],
          "surface": [
           {
            "colorbar": {
             "outlinewidth": 0,
             "ticks": ""
            },
            "colorscale": [
             [
              0,
              "#0d0887"
             ],
             [
              0.1111111111111111,
              "#46039f"
             ],
             [
              0.2222222222222222,
              "#7201a8"
             ],
             [
              0.3333333333333333,
              "#9c179e"
             ],
             [
              0.4444444444444444,
              "#bd3786"
             ],
             [
              0.5555555555555556,
              "#d8576b"
             ],
             [
              0.6666666666666666,
              "#ed7953"
             ],
             [
              0.7777777777777778,
              "#fb9f3a"
             ],
             [
              0.8888888888888888,
              "#fdca26"
             ],
             [
              1,
              "#f0f921"
             ]
            ],
            "type": "surface"
           }
          ],
          "table": [
           {
            "cells": {
             "fill": {
              "color": "#EBF0F8"
             },
             "line": {
              "color": "white"
             }
            },
            "header": {
             "fill": {
              "color": "#C8D4E3"
             },
             "line": {
              "color": "white"
             }
            },
            "type": "table"
           }
          ]
         },
         "layout": {
          "annotationdefaults": {
           "arrowcolor": "#2a3f5f",
           "arrowhead": 0,
           "arrowwidth": 1
          },
          "coloraxis": {
           "colorbar": {
            "outlinewidth": 0,
            "ticks": ""
           }
          },
          "colorscale": {
           "diverging": [
            [
             0,
             "#8e0152"
            ],
            [
             0.1,
             "#c51b7d"
            ],
            [
             0.2,
             "#de77ae"
            ],
            [
             0.3,
             "#f1b6da"
            ],
            [
             0.4,
             "#fde0ef"
            ],
            [
             0.5,
             "#f7f7f7"
            ],
            [
             0.6,
             "#e6f5d0"
            ],
            [
             0.7,
             "#b8e186"
            ],
            [
             0.8,
             "#7fbc41"
            ],
            [
             0.9,
             "#4d9221"
            ],
            [
             1,
             "#276419"
            ]
           ],
           "sequential": [
            [
             0,
             "#0d0887"
            ],
            [
             0.1111111111111111,
             "#46039f"
            ],
            [
             0.2222222222222222,
             "#7201a8"
            ],
            [
             0.3333333333333333,
             "#9c179e"
            ],
            [
             0.4444444444444444,
             "#bd3786"
            ],
            [
             0.5555555555555556,
             "#d8576b"
            ],
            [
             0.6666666666666666,
             "#ed7953"
            ],
            [
             0.7777777777777778,
             "#fb9f3a"
            ],
            [
             0.8888888888888888,
             "#fdca26"
            ],
            [
             1,
             "#f0f921"
            ]
           ],
           "sequentialminus": [
            [
             0,
             "#0d0887"
            ],
            [
             0.1111111111111111,
             "#46039f"
            ],
            [
             0.2222222222222222,
             "#7201a8"
            ],
            [
             0.3333333333333333,
             "#9c179e"
            ],
            [
             0.4444444444444444,
             "#bd3786"
            ],
            [
             0.5555555555555556,
             "#d8576b"
            ],
            [
             0.6666666666666666,
             "#ed7953"
            ],
            [
             0.7777777777777778,
             "#fb9f3a"
            ],
            [
             0.8888888888888888,
             "#fdca26"
            ],
            [
             1,
             "#f0f921"
            ]
           ]
          },
          "colorway": [
           "#636efa",
           "#EF553B",
           "#00cc96",
           "#ab63fa",
           "#FFA15A",
           "#19d3f3",
           "#FF6692",
           "#B6E880",
           "#FF97FF",
           "#FECB52"
          ],
          "font": {
           "color": "#2a3f5f"
          },
          "geo": {
           "bgcolor": "white",
           "lakecolor": "white",
           "landcolor": "#E5ECF6",
           "showlakes": true,
           "showland": true,
           "subunitcolor": "white"
          },
          "hoverlabel": {
           "align": "left"
          },
          "hovermode": "closest",
          "mapbox": {
           "style": "light"
          },
          "paper_bgcolor": "white",
          "plot_bgcolor": "#E5ECF6",
          "polar": {
           "angularaxis": {
            "gridcolor": "white",
            "linecolor": "white",
            "ticks": ""
           },
           "bgcolor": "#E5ECF6",
           "radialaxis": {
            "gridcolor": "white",
            "linecolor": "white",
            "ticks": ""
           }
          },
          "scene": {
           "xaxis": {
            "backgroundcolor": "#E5ECF6",
            "gridcolor": "white",
            "gridwidth": 2,
            "linecolor": "white",
            "showbackground": true,
            "ticks": "",
            "zerolinecolor": "white"
           },
           "yaxis": {
            "backgroundcolor": "#E5ECF6",
            "gridcolor": "white",
            "gridwidth": 2,
            "linecolor": "white",
            "showbackground": true,
            "ticks": "",
            "zerolinecolor": "white"
           },
           "zaxis": {
            "backgroundcolor": "#E5ECF6",
            "gridcolor": "white",
            "gridwidth": 2,
            "linecolor": "white",
            "showbackground": true,
            "ticks": "",
            "zerolinecolor": "white"
           }
          },
          "shapedefaults": {
           "line": {
            "color": "#2a3f5f"
           }
          },
          "ternary": {
           "aaxis": {
            "gridcolor": "white",
            "linecolor": "white",
            "ticks": ""
           },
           "baxis": {
            "gridcolor": "white",
            "linecolor": "white",
            "ticks": ""
           },
           "bgcolor": "#E5ECF6",
           "caxis": {
            "gridcolor": "white",
            "linecolor": "white",
            "ticks": ""
           }
          },
          "title": {
           "x": 0.05
          },
          "xaxis": {
           "automargin": true,
           "gridcolor": "white",
           "linecolor": "white",
           "ticks": "",
           "title": {
            "standoff": 15
           },
           "zerolinecolor": "white",
           "zerolinewidth": 2
          },
          "yaxis": {
           "automargin": true,
           "gridcolor": "white",
           "linecolor": "white",
           "ticks": "",
           "title": {
            "standoff": 15
           },
           "zerolinecolor": "white",
           "zerolinewidth": 2
          }
         }
        },
        "title": {
         "text": "Italy - Customer Service With Trimming"
        }
       }
      },
      "text/html": [
       "<div>                            <div id=\"ed0cc74a-ccb5-4fb7-84c5-6b1fd840816f\" class=\"plotly-graph-div\" style=\"height:525px; width:100%;\"></div>            <script type=\"text/javascript\">                require([\"plotly\"], function(Plotly) {                    window.PLOTLYENV=window.PLOTLYENV || {};                                    if (document.getElementById(\"ed0cc74a-ccb5-4fb7-84c5-6b1fd840816f\")) {                    Plotly.newPlot(                        \"ed0cc74a-ccb5-4fb7-84c5-6b1fd840816f\",                        [{\"link\": {\"hovertemplate\": \"%{value} unique users went from %{source.label} to %{target.label}.<br /><br />It took them %{label} in average to reach this point from the start of the flow.<extra></extra>\", \"label\": [\"0 days 00:00:03\", \"0 days 00:00:02\", \"0 days 00:00:03\", \"0 days 00:00:15\", \"0 days 00:00:23\", \"0 days 00:00:15\", \"0 days 00:00:08\", \"0 days 00:00:16\", \"0 days 00:00:04\", \"0 days 00:00:01\", \"0 days 00:00:00\", \"0 days 00:00:01\", \"0 days 00:00:01\", \"0 days 00:00:00\", \"0 days 00:00:03\", \"0 days 00:00:08\", \"0 days 00:00:07\", \"0 days 00:00:14\", \"0 days 00:00:22\", \"0 days 00:00:25\", \"0 days 00:00:21\", \"0 days 00:00:02\", \"0 days 00:00:00\", \"0 days 00:00:02\", \"0 days 00:00:10\", \"0 days 00:00:10\", \"0 days 00:00:14\", \"0 days 00:00:18\", \"0 days 00:00:12\", \"0 days 00:00:14\", \"0 days 00:00:00\", \"0 days 00:00:21\", \"0 days 00:00:00\", \"0 days 00:00:00\", \"0 days 00:00:17\", \"0 days 00:00:00\", \"0 days 00:00:03\", \"0 days 00:00:26\", \"0 days 00:00:02\", \"0 days 00:00:23\"], \"source\": [4, 4, 4, 21, 21, 21, 8, 8, 8, 8, 8, 6, 6, 6, 6, 7, 7, 7, 32, 32, 32, 5, 5, 5, 20, 20, 20, 9, 9, 9, 9, 24, 3, 3, 26, 13, 13, 38, 11, 25], \"target\": [28, 17, 39, 28, 39, 17, 21, 32, 20, 28, 17, 8, 7, 9, 24, 17, 28, 39, 17, 39, 28, 17, 39, 28, 17, 28, 39, 6, 4, 5, 8, 8, 6, 4, 38, 26, 25, 42, 42, 42], \"value\": [97, 344, 44, 197, 101, 478, 1277, 188, 382, 36, 62, 809, 221, 66, 52, 336, 145, 14, 63, 40, 22, 191, 10, 59, 213, 146, 14, 30, 68, 23, 24, 30, 70, 16, 34, 37, 14, 22, 15, 11]}, \"node\": {\"label\": [\"DTMF_44~~6-dtmf\", \"DTMF_59~~1-dtmf\", \"DTMF_61~~1-dtmf\", \"MENU_TREE_17~~-1-dtmf\", \"MENU_TREE_17~~1-dtmf\", \"MENU_TREE_17~~2-dtmf\", \"MENU_TREE_17~~3-dtmf\", \"MENU_TREE_20~~1-dtmf\", \"MENU_TREE_20~~2-dtmf\", \"MENU_TREE_20~~9-dtmf\", \"MENU_TREE_6~~-1-dtmf\", \"MENU_TREE_6~~1-dtmf\", \"MENU_TREE_6~~2-dtmf\", \"MENU_TREE_6~~3-dtmf\", \"SMS_3~~MSG_EVENT\", \"SMS_4~~MSG_EVENT\", \"DTMF_29~~0-dtmf\", \"DTMF_29~~2-dtmf\", \"DTMF_29~~3-dtmf\", \"DTMF_29~~9-dtmf\", \"DTMF_44~~1-dtmf\", \"DTMF_44~~2-dtmf\", \"DTMF_7~~1-dtmf\", \"DTMF_7~~7-dtmf\", \"MENU_TREE_20~~-1-dtmf\", \"MENU_TREE_4~~1-dtmf\", \"MENU_TREE_4~~2-dtmf\", \"MENU_TREE_4~~9-dtmf\", \"DTMF_29~~1-dtmf\", \"DTMF_29~~5-dtmf\", \"DTMF_29~~7-dtmf\", \"DTMF_29~~9-dtmf\", \"DTMF_44~~-1-dtmf\", \"DTMF_44~~3-dtmf\", \"DTMF_44~~4-dtmf\", \"DTMF_44~~6-dtmf\", \"DTMF_44~~7-dtmf\", \"MENU_TREE_15~~1-dtmf\", \"MENU_TREE_15~~2-dtmf\", \"DTMF_29~~-1-dtmf\", \"DTMF_29~~8-dtmf\", \"DTMF_7~~-1-dtmf\", \"DTMF_7~~2-dtmf\", \"MENU_TREE_4~~-1-dtmf\"], \"line\": {\"color\": \"black\", \"width\": 0.5}, \"thickness\": 10}, \"type\": \"sankey\"}],                        {\"autosize\": true, \"font\": {\"size\": 15}, \"plot_bgcolor\": \"white\", \"template\": {\"data\": {\"bar\": [{\"error_x\": {\"color\": \"#2a3f5f\"}, \"error_y\": {\"color\": \"#2a3f5f\"}, \"marker\": {\"line\": {\"color\": \"#E5ECF6\", \"width\": 0.5}}, \"type\": \"bar\"}], \"barpolar\": [{\"marker\": {\"line\": {\"color\": \"#E5ECF6\", \"width\": 0.5}}, \"type\": \"barpolar\"}], \"carpet\": [{\"aaxis\": {\"endlinecolor\": \"#2a3f5f\", \"gridcolor\": \"white\", \"linecolor\": \"white\", \"minorgridcolor\": \"white\", \"startlinecolor\": \"#2a3f5f\"}, \"baxis\": {\"endlinecolor\": \"#2a3f5f\", \"gridcolor\": \"white\", \"linecolor\": \"white\", \"minorgridcolor\": \"white\", \"startlinecolor\": \"#2a3f5f\"}, \"type\": \"carpet\"}], \"choropleth\": [{\"colorbar\": {\"outlinewidth\": 0, \"ticks\": \"\"}, \"type\": \"choropleth\"}], \"contour\": [{\"colorbar\": {\"outlinewidth\": 0, \"ticks\": \"\"}, \"colorscale\": [[0.0, \"#0d0887\"], [0.1111111111111111, \"#46039f\"], [0.2222222222222222, \"#7201a8\"], [0.3333333333333333, \"#9c179e\"], [0.4444444444444444, \"#bd3786\"], [0.5555555555555556, \"#d8576b\"], [0.6666666666666666, \"#ed7953\"], [0.7777777777777778, \"#fb9f3a\"], [0.8888888888888888, \"#fdca26\"], [1.0, \"#f0f921\"]], \"type\": \"contour\"}], \"contourcarpet\": [{\"colorbar\": {\"outlinewidth\": 0, \"ticks\": \"\"}, \"type\": \"contourcarpet\"}], \"heatmap\": [{\"colorbar\": {\"outlinewidth\": 0, \"ticks\": \"\"}, \"colorscale\": [[0.0, \"#0d0887\"], [0.1111111111111111, \"#46039f\"], [0.2222222222222222, \"#7201a8\"], [0.3333333333333333, \"#9c179e\"], [0.4444444444444444, \"#bd3786\"], [0.5555555555555556, \"#d8576b\"], [0.6666666666666666, \"#ed7953\"], [0.7777777777777778, \"#fb9f3a\"], [0.8888888888888888, \"#fdca26\"], [1.0, \"#f0f921\"]], \"type\": \"heatmap\"}], \"heatmapgl\": [{\"colorbar\": {\"outlinewidth\": 0, \"ticks\": \"\"}, \"colorscale\": [[0.0, \"#0d0887\"], [0.1111111111111111, \"#46039f\"], [0.2222222222222222, \"#7201a8\"], [0.3333333333333333, \"#9c179e\"], [0.4444444444444444, \"#bd3786\"], [0.5555555555555556, \"#d8576b\"], [0.6666666666666666, \"#ed7953\"], [0.7777777777777778, \"#fb9f3a\"], [0.8888888888888888, \"#fdca26\"], [1.0, \"#f0f921\"]], \"type\": \"heatmapgl\"}], \"histogram\": [{\"marker\": {\"colorbar\": {\"outlinewidth\": 0, \"ticks\": \"\"}}, \"type\": \"histogram\"}], \"histogram2d\": [{\"colorbar\": {\"outlinewidth\": 0, \"ticks\": \"\"}, \"colorscale\": [[0.0, \"#0d0887\"], [0.1111111111111111, \"#46039f\"], [0.2222222222222222, \"#7201a8\"], [0.3333333333333333, \"#9c179e\"], [0.4444444444444444, \"#bd3786\"], [0.5555555555555556, \"#d8576b\"], [0.6666666666666666, \"#ed7953\"], [0.7777777777777778, \"#fb9f3a\"], [0.8888888888888888, \"#fdca26\"], [1.0, \"#f0f921\"]], \"type\": \"histogram2d\"}], \"histogram2dcontour\": [{\"colorbar\": {\"outlinewidth\": 0, \"ticks\": \"\"}, \"colorscale\": [[0.0, \"#0d0887\"], [0.1111111111111111, \"#46039f\"], [0.2222222222222222, \"#7201a8\"], [0.3333333333333333, \"#9c179e\"], [0.4444444444444444, \"#bd3786\"], [0.5555555555555556, \"#d8576b\"], [0.6666666666666666, \"#ed7953\"], [0.7777777777777778, \"#fb9f3a\"], [0.8888888888888888, \"#fdca26\"], [1.0, \"#f0f921\"]], \"type\": \"histogram2dcontour\"}], \"mesh3d\": [{\"colorbar\": {\"outlinewidth\": 0, \"ticks\": \"\"}, \"type\": \"mesh3d\"}], \"parcoords\": [{\"line\": {\"colorbar\": {\"outlinewidth\": 0, \"ticks\": \"\"}}, \"type\": \"parcoords\"}], \"pie\": [{\"automargin\": true, \"type\": \"pie\"}], \"scatter\": [{\"marker\": {\"colorbar\": {\"outlinewidth\": 0, \"ticks\": \"\"}}, \"type\": \"scatter\"}], \"scatter3d\": [{\"line\": {\"colorbar\": {\"outlinewidth\": 0, \"ticks\": \"\"}}, \"marker\": {\"colorbar\": {\"outlinewidth\": 0, \"ticks\": \"\"}}, \"type\": \"scatter3d\"}], \"scattercarpet\": [{\"marker\": {\"colorbar\": {\"outlinewidth\": 0, \"ticks\": \"\"}}, \"type\": \"scattercarpet\"}], \"scattergeo\": [{\"marker\": {\"colorbar\": {\"outlinewidth\": 0, \"ticks\": \"\"}}, \"type\": \"scattergeo\"}], \"scattergl\": [{\"marker\": {\"colorbar\": {\"outlinewidth\": 0, \"ticks\": \"\"}}, \"type\": \"scattergl\"}], \"scattermapbox\": [{\"marker\": {\"colorbar\": {\"outlinewidth\": 0, \"ticks\": \"\"}}, \"type\": \"scattermapbox\"}], \"scatterpolar\": [{\"marker\": {\"colorbar\": {\"outlinewidth\": 0, \"ticks\": \"\"}}, \"type\": \"scatterpolar\"}], \"scatterpolargl\": [{\"marker\": {\"colorbar\": {\"outlinewidth\": 0, \"ticks\": \"\"}}, \"type\": \"scatterpolargl\"}], \"scatterternary\": [{\"marker\": {\"colorbar\": {\"outlinewidth\": 0, \"ticks\": \"\"}}, \"type\": \"scatterternary\"}], \"surface\": [{\"colorbar\": {\"outlinewidth\": 0, \"ticks\": \"\"}, \"colorscale\": [[0.0, \"#0d0887\"], [0.1111111111111111, \"#46039f\"], [0.2222222222222222, \"#7201a8\"], [0.3333333333333333, \"#9c179e\"], [0.4444444444444444, \"#bd3786\"], [0.5555555555555556, \"#d8576b\"], [0.6666666666666666, \"#ed7953\"], [0.7777777777777778, \"#fb9f3a\"], [0.8888888888888888, \"#fdca26\"], [1.0, \"#f0f921\"]], \"type\": \"surface\"}], \"table\": [{\"cells\": {\"fill\": {\"color\": \"#EBF0F8\"}, \"line\": {\"color\": \"white\"}}, \"header\": {\"fill\": {\"color\": \"#C8D4E3\"}, \"line\": {\"color\": \"white\"}}, \"type\": \"table\"}]}, \"layout\": {\"annotationdefaults\": {\"arrowcolor\": \"#2a3f5f\", \"arrowhead\": 0, \"arrowwidth\": 1}, \"coloraxis\": {\"colorbar\": {\"outlinewidth\": 0, \"ticks\": \"\"}}, \"colorscale\": {\"diverging\": [[0, \"#8e0152\"], [0.1, \"#c51b7d\"], [0.2, \"#de77ae\"], [0.3, \"#f1b6da\"], [0.4, \"#fde0ef\"], [0.5, \"#f7f7f7\"], [0.6, \"#e6f5d0\"], [0.7, \"#b8e186\"], [0.8, \"#7fbc41\"], [0.9, \"#4d9221\"], [1, \"#276419\"]], \"sequential\": [[0.0, \"#0d0887\"], [0.1111111111111111, \"#46039f\"], [0.2222222222222222, \"#7201a8\"], [0.3333333333333333, \"#9c179e\"], [0.4444444444444444, \"#bd3786\"], [0.5555555555555556, \"#d8576b\"], [0.6666666666666666, \"#ed7953\"], [0.7777777777777778, \"#fb9f3a\"], [0.8888888888888888, \"#fdca26\"], [1.0, \"#f0f921\"]], \"sequentialminus\": [[0.0, \"#0d0887\"], [0.1111111111111111, \"#46039f\"], [0.2222222222222222, \"#7201a8\"], [0.3333333333333333, \"#9c179e\"], [0.4444444444444444, \"#bd3786\"], [0.5555555555555556, \"#d8576b\"], [0.6666666666666666, \"#ed7953\"], [0.7777777777777778, \"#fb9f3a\"], [0.8888888888888888, \"#fdca26\"], [1.0, \"#f0f921\"]]}, \"colorway\": [\"#636efa\", \"#EF553B\", \"#00cc96\", \"#ab63fa\", \"#FFA15A\", \"#19d3f3\", \"#FF6692\", \"#B6E880\", \"#FF97FF\", \"#FECB52\"], \"font\": {\"color\": \"#2a3f5f\"}, \"geo\": {\"bgcolor\": \"white\", \"lakecolor\": \"white\", \"landcolor\": \"#E5ECF6\", \"showlakes\": true, \"showland\": true, \"subunitcolor\": \"white\"}, \"hoverlabel\": {\"align\": \"left\"}, \"hovermode\": \"closest\", \"mapbox\": {\"style\": \"light\"}, \"paper_bgcolor\": \"white\", \"plot_bgcolor\": \"#E5ECF6\", \"polar\": {\"angularaxis\": {\"gridcolor\": \"white\", \"linecolor\": \"white\", \"ticks\": \"\"}, \"bgcolor\": \"#E5ECF6\", \"radialaxis\": {\"gridcolor\": \"white\", \"linecolor\": \"white\", \"ticks\": \"\"}}, \"scene\": {\"xaxis\": {\"backgroundcolor\": \"#E5ECF6\", \"gridcolor\": \"white\", \"gridwidth\": 2, \"linecolor\": \"white\", \"showbackground\": true, \"ticks\": \"\", \"zerolinecolor\": \"white\"}, \"yaxis\": {\"backgroundcolor\": \"#E5ECF6\", \"gridcolor\": \"white\", \"gridwidth\": 2, \"linecolor\": \"white\", \"showbackground\": true, \"ticks\": \"\", \"zerolinecolor\": \"white\"}, \"zaxis\": {\"backgroundcolor\": \"#E5ECF6\", \"gridcolor\": \"white\", \"gridwidth\": 2, \"linecolor\": \"white\", \"showbackground\": true, \"ticks\": \"\", \"zerolinecolor\": \"white\"}}, \"shapedefaults\": {\"line\": {\"color\": \"#2a3f5f\"}}, \"ternary\": {\"aaxis\": {\"gridcolor\": \"white\", \"linecolor\": \"white\", \"ticks\": \"\"}, \"baxis\": {\"gridcolor\": \"white\", \"linecolor\": \"white\", \"ticks\": \"\"}, \"bgcolor\": \"#E5ECF6\", \"caxis\": {\"gridcolor\": \"white\", \"linecolor\": \"white\", \"ticks\": \"\"}}, \"title\": {\"x\": 0.05}, \"xaxis\": {\"automargin\": true, \"gridcolor\": \"white\", \"linecolor\": \"white\", \"ticks\": \"\", \"title\": {\"standoff\": 15}, \"zerolinecolor\": \"white\", \"zerolinewidth\": 2}, \"yaxis\": {\"automargin\": true, \"gridcolor\": \"white\", \"linecolor\": \"white\", \"ticks\": \"\", \"title\": {\"standoff\": 15}, \"zerolinecolor\": \"white\", \"zerolinewidth\": 2}}}, \"title\": {\"text\": \"Italy - Customer Service With Trimming\"}},                        {\"responsive\": true}                    ).then(function(){\n",
       "                            \n",
       "var gd = document.getElementById('ed0cc74a-ccb5-4fb7-84c5-6b1fd840816f');\n",
       "var x = new MutationObserver(function (mutations, observer) {{\n",
       "        var display = window.getComputedStyle(gd).display;\n",
       "        if (!display || display === 'none') {{\n",
       "            console.log([gd, 'removed!']);\n",
       "            Plotly.purge(gd);\n",
       "            observer.disconnect();\n",
       "        }}\n",
       "}});\n",
       "\n",
       "// Listen for the removal of the full notebook cells\n",
       "var notebookContainer = gd.closest('#notebook-container');\n",
       "if (notebookContainer) {{\n",
       "    x.observe(notebookContainer, {childList: true});\n",
       "}}\n",
       "\n",
       "// Listen for the clearing of the current output cell\n",
       "var outputEl = gd.closest('.output');\n",
       "if (outputEl) {{\n",
       "    x.observe(outputEl, {childList: true});\n",
       "}}\n",
       "\n",
       "                        })                };                });            </script>        </div>"
      ]
     },
     "metadata": {},
     "output_type": "display_data"
    }
   ],
   "source": [
    "flow.plot(10, f\"{FlowName} With Trimming\").show()"
   ]
  },
  {
   "cell_type": "markdown",
   "metadata": {},
   "source": [
    "## Italy - Customer Service\n",
    "\n",
    "The upper plot shows all shows all the plots that a SessionId has taken through the flow. The lower plot shows a trimmed version with only those paths that have over 10 users.\n",
    "\n",
    "## Takeaways\n"
   ]
  },
  {
   "cell_type": "code",
   "execution_count": 15,
   "metadata": {},
   "outputs": [
    {
     "data": {
      "application/vnd.plotly.v1+json": {
       "config": {
        "plotlyServerURL": "https://plotly.com"
       },
       "data": [
        {
         "link": {
          "hovertemplate": "%{value} unique users went from %{source.label} to %{target.label}.<br /><br />It took them %{label} in average to reach this point from the start of the flow.<extra></extra>",
          "label": [
           "0 days 00:00:00",
           "0 days 00:00:00",
           "0 days 00:00:00",
           "0 days 00:00:00",
           "0 days 00:00:00",
           "0 days 00:00:04",
           "0 days 00:00:04",
           "0 days 00:00:04",
           "0 days 00:00:04",
           "0 days 00:00:04",
           "0 days 00:00:04",
           "0 days 00:00:07",
           "0 days 00:00:04",
           "0 days 00:00:37",
           "0 days 00:00:34",
           "0 days 00:00:54",
           "0 days 00:00:36",
           "0 days 00:11:50",
           "0 days 00:00:19",
           "0 days 00:00:22",
           "0 days 00:00:19",
           "0 days 00:00:07",
           "0 days 00:00:09",
           "0 days 00:01:15",
           "0 days 00:00:19",
           "0 days 00:00:27",
           "0 days 00:00:22",
           "0 days 00:00:21",
           "0 days 00:00:22",
           "0 days 00:00:43",
           "0 days 00:00:41",
           "0 days 00:00:27",
           "0 days 00:00:18",
           "0 days 00:00:04",
           "0 days 00:00:26",
           "0 days 00:00:25",
           "0 days 00:07:06",
           "0 days 00:00:00",
           "0 days 00:00:34",
           "0 days 00:00:39",
           "0 days 00:00:16",
           "0 days 00:00:24",
           "0 days 00:00:20",
           "0 days 00:00:12",
           "0 days 00:00:42",
           "0 days 00:00:22",
           "0 days 00:00:00",
           "0 days 00:00:00",
           "0 days 00:00:00",
           "0 days 00:00:04",
           "0 days 00:00:04",
           "0 days 00:00:04",
           "0 days 00:00:04",
           "0 days 00:00:37",
           "0 days 00:07:55",
           "0 days 00:00:18",
           "0 days 00:00:17",
           "0 days 00:00:36",
           "0 days 00:00:36",
           "0 days 00:00:20",
           "0 days 00:00:28"
          ],
          "source": [
           1,
           1,
           1,
           1,
           1,
           3,
           3,
           3,
           3,
           3,
           3,
           3,
           3,
           16,
           16,
           20,
           20,
           5,
           12,
           12,
           12,
           12,
           12,
           9,
           9,
           9,
           9,
           9,
           9,
           19,
           19,
           10,
           10,
           10,
           10,
           10,
           22,
           22,
           14,
           14,
           11,
           11,
           11,
           11,
           18,
           15,
           0,
           0,
           0,
           2,
           2,
           2,
           2,
           17,
           21,
           6,
           6,
           13,
           13,
           8,
           7
          ],
          "target": [
           3,
           5,
           10,
           22,
           12,
           5,
           12,
           9,
           10,
           22,
           20,
           14,
           11,
           20,
           19,
           5,
           22,
           24,
           16,
           22,
           14,
           3,
           15,
           5,
           9,
           10,
           22,
           12,
           11,
           5,
           22,
           19,
           20,
           3,
           22,
           18,
           25,
           1,
           19,
           20,
           20,
           19,
           18,
           22,
           22,
           19,
           2,
           4,
           21,
           21,
           6,
           8,
           7,
           21,
           23,
           17,
           21,
           21,
           17,
           13,
           17
          ],
          "value": [
           194,
           23,
           1,
           13,
           1,
           6,
           46,
           17,
           79,
           39,
           1,
           1,
           7,
           25,
           8,
           2,
           90,
           3,
           33,
           3,
           9,
           1,
           3,
           7,
           1,
           6,
           1,
           2,
           1,
           1,
           39,
           21,
           58,
           1,
           2,
           4,
           134,
           1,
           3,
           7,
           1,
           5,
           1,
           1,
           5,
           3,
           19,
           5,
           3,
           7,
           8,
           2,
           2,
           10,
           10,
           7,
           1,
           1,
           1,
           2,
           2
          ]
         },
         "node": {
          "label": [
           "EXTCALL_68:Block List~~API_EVENT",
           "EXTCALL_68~~API_EVENT",
           "EXTCALL_70:Robot Menu~~API_EVENT",
           "EXTCALL_70~~API_EVENT",
           "ICALL_1:Main Number~~CALL_EVENT:ANSWER",
           "ICALL_1~~CALL_EVENT:ANSWER",
           "MENU_TREE_17:3.1 Main Menu~~1-dtmf",
           "MENU_TREE_17:3.1 Main Menu~~2-dtmf",
           "MENU_TREE_17:3.1 Main Menu~~3-dtmf",
           "MENU_TREE_17~~-1-dtmf",
           "MENU_TREE_17~~1-dtmf",
           "MENU_TREE_17~~2-dtmf",
           "MENU_TREE_17~~3-dtmf",
           "DTMF_59:8.0 Fault Code~~-2-dtmf",
           "DTMF_59~~-1-dtmf",
           "DTMF_59~~1-dtmf",
           "DTMF_59~~2-dtmf",
           "DTMF_61:4.0 Survey~~-2-dtmf",
           "DTMF_61~~-1-dtmf",
           "DTMF_61~~1-dtmf",
           "DTMF_61~~2-dtmf",
           "ICALL_1:Main Number~~CALL_EVENT:HUNGUP",
           "ICALL_1~~CALL_EVENT:HUNGUP",
           "TRANSFER_38:TRANSFER~~CALL_EVENT:HUNGUP",
           "TRANSFER_38~~CALL_EVENT:ANSWER",
           "TRANSFER_38~~CALL_EVENT:HUNGUP"
          ],
          "line": {
           "color": "black",
           "width": 0.5
          },
          "thickness": 10
         },
         "type": "sankey"
        }
       ],
       "layout": {
        "autosize": true,
        "font": {
         "size": 15
        },
        "plot_bgcolor": "white",
        "template": {
         "data": {
          "bar": [
           {
            "error_x": {
             "color": "#2a3f5f"
            },
            "error_y": {
             "color": "#2a3f5f"
            },
            "marker": {
             "line": {
              "color": "#E5ECF6",
              "width": 0.5
             }
            },
            "type": "bar"
           }
          ],
          "barpolar": [
           {
            "marker": {
             "line": {
              "color": "#E5ECF6",
              "width": 0.5
             }
            },
            "type": "barpolar"
           }
          ],
          "carpet": [
           {
            "aaxis": {
             "endlinecolor": "#2a3f5f",
             "gridcolor": "white",
             "linecolor": "white",
             "minorgridcolor": "white",
             "startlinecolor": "#2a3f5f"
            },
            "baxis": {
             "endlinecolor": "#2a3f5f",
             "gridcolor": "white",
             "linecolor": "white",
             "minorgridcolor": "white",
             "startlinecolor": "#2a3f5f"
            },
            "type": "carpet"
           }
          ],
          "choropleth": [
           {
            "colorbar": {
             "outlinewidth": 0,
             "ticks": ""
            },
            "type": "choropleth"
           }
          ],
          "contour": [
           {
            "colorbar": {
             "outlinewidth": 0,
             "ticks": ""
            },
            "colorscale": [
             [
              0,
              "#0d0887"
             ],
             [
              0.1111111111111111,
              "#46039f"
             ],
             [
              0.2222222222222222,
              "#7201a8"
             ],
             [
              0.3333333333333333,
              "#9c179e"
             ],
             [
              0.4444444444444444,
              "#bd3786"
             ],
             [
              0.5555555555555556,
              "#d8576b"
             ],
             [
              0.6666666666666666,
              "#ed7953"
             ],
             [
              0.7777777777777778,
              "#fb9f3a"
             ],
             [
              0.8888888888888888,
              "#fdca26"
             ],
             [
              1,
              "#f0f921"
             ]
            ],
            "type": "contour"
           }
          ],
          "contourcarpet": [
           {
            "colorbar": {
             "outlinewidth": 0,
             "ticks": ""
            },
            "type": "contourcarpet"
           }
          ],
          "heatmap": [
           {
            "colorbar": {
             "outlinewidth": 0,
             "ticks": ""
            },
            "colorscale": [
             [
              0,
              "#0d0887"
             ],
             [
              0.1111111111111111,
              "#46039f"
             ],
             [
              0.2222222222222222,
              "#7201a8"
             ],
             [
              0.3333333333333333,
              "#9c179e"
             ],
             [
              0.4444444444444444,
              "#bd3786"
             ],
             [
              0.5555555555555556,
              "#d8576b"
             ],
             [
              0.6666666666666666,
              "#ed7953"
             ],
             [
              0.7777777777777778,
              "#fb9f3a"
             ],
             [
              0.8888888888888888,
              "#fdca26"
             ],
             [
              1,
              "#f0f921"
             ]
            ],
            "type": "heatmap"
           }
          ],
          "heatmapgl": [
           {
            "colorbar": {
             "outlinewidth": 0,
             "ticks": ""
            },
            "colorscale": [
             [
              0,
              "#0d0887"
             ],
             [
              0.1111111111111111,
              "#46039f"
             ],
             [
              0.2222222222222222,
              "#7201a8"
             ],
             [
              0.3333333333333333,
              "#9c179e"
             ],
             [
              0.4444444444444444,
              "#bd3786"
             ],
             [
              0.5555555555555556,
              "#d8576b"
             ],
             [
              0.6666666666666666,
              "#ed7953"
             ],
             [
              0.7777777777777778,
              "#fb9f3a"
             ],
             [
              0.8888888888888888,
              "#fdca26"
             ],
             [
              1,
              "#f0f921"
             ]
            ],
            "type": "heatmapgl"
           }
          ],
          "histogram": [
           {
            "marker": {
             "colorbar": {
              "outlinewidth": 0,
              "ticks": ""
             }
            },
            "type": "histogram"
           }
          ],
          "histogram2d": [
           {
            "colorbar": {
             "outlinewidth": 0,
             "ticks": ""
            },
            "colorscale": [
             [
              0,
              "#0d0887"
             ],
             [
              0.1111111111111111,
              "#46039f"
             ],
             [
              0.2222222222222222,
              "#7201a8"
             ],
             [
              0.3333333333333333,
              "#9c179e"
             ],
             [
              0.4444444444444444,
              "#bd3786"
             ],
             [
              0.5555555555555556,
              "#d8576b"
             ],
             [
              0.6666666666666666,
              "#ed7953"
             ],
             [
              0.7777777777777778,
              "#fb9f3a"
             ],
             [
              0.8888888888888888,
              "#fdca26"
             ],
             [
              1,
              "#f0f921"
             ]
            ],
            "type": "histogram2d"
           }
          ],
          "histogram2dcontour": [
           {
            "colorbar": {
             "outlinewidth": 0,
             "ticks": ""
            },
            "colorscale": [
             [
              0,
              "#0d0887"
             ],
             [
              0.1111111111111111,
              "#46039f"
             ],
             [
              0.2222222222222222,
              "#7201a8"
             ],
             [
              0.3333333333333333,
              "#9c179e"
             ],
             [
              0.4444444444444444,
              "#bd3786"
             ],
             [
              0.5555555555555556,
              "#d8576b"
             ],
             [
              0.6666666666666666,
              "#ed7953"
             ],
             [
              0.7777777777777778,
              "#fb9f3a"
             ],
             [
              0.8888888888888888,
              "#fdca26"
             ],
             [
              1,
              "#f0f921"
             ]
            ],
            "type": "histogram2dcontour"
           }
          ],
          "mesh3d": [
           {
            "colorbar": {
             "outlinewidth": 0,
             "ticks": ""
            },
            "type": "mesh3d"
           }
          ],
          "parcoords": [
           {
            "line": {
             "colorbar": {
              "outlinewidth": 0,
              "ticks": ""
             }
            },
            "type": "parcoords"
           }
          ],
          "pie": [
           {
            "automargin": true,
            "type": "pie"
           }
          ],
          "scatter": [
           {
            "marker": {
             "colorbar": {
              "outlinewidth": 0,
              "ticks": ""
             }
            },
            "type": "scatter"
           }
          ],
          "scatter3d": [
           {
            "line": {
             "colorbar": {
              "outlinewidth": 0,
              "ticks": ""
             }
            },
            "marker": {
             "colorbar": {
              "outlinewidth": 0,
              "ticks": ""
             }
            },
            "type": "scatter3d"
           }
          ],
          "scattercarpet": [
           {
            "marker": {
             "colorbar": {
              "outlinewidth": 0,
              "ticks": ""
             }
            },
            "type": "scattercarpet"
           }
          ],
          "scattergeo": [
           {
            "marker": {
             "colorbar": {
              "outlinewidth": 0,
              "ticks": ""
             }
            },
            "type": "scattergeo"
           }
          ],
          "scattergl": [
           {
            "marker": {
             "colorbar": {
              "outlinewidth": 0,
              "ticks": ""
             }
            },
            "type": "scattergl"
           }
          ],
          "scattermapbox": [
           {
            "marker": {
             "colorbar": {
              "outlinewidth": 0,
              "ticks": ""
             }
            },
            "type": "scattermapbox"
           }
          ],
          "scatterpolar": [
           {
            "marker": {
             "colorbar": {
              "outlinewidth": 0,
              "ticks": ""
             }
            },
            "type": "scatterpolar"
           }
          ],
          "scatterpolargl": [
           {
            "marker": {
             "colorbar": {
              "outlinewidth": 0,
              "ticks": ""
             }
            },
            "type": "scatterpolargl"
           }
          ],
          "scatterternary": [
           {
            "marker": {
             "colorbar": {
              "outlinewidth": 0,
              "ticks": ""
             }
            },
            "type": "scatterternary"
           }
          ],
          "surface": [
           {
            "colorbar": {
             "outlinewidth": 0,
             "ticks": ""
            },
            "colorscale": [
             [
              0,
              "#0d0887"
             ],
             [
              0.1111111111111111,
              "#46039f"
             ],
             [
              0.2222222222222222,
              "#7201a8"
             ],
             [
              0.3333333333333333,
              "#9c179e"
             ],
             [
              0.4444444444444444,
              "#bd3786"
             ],
             [
              0.5555555555555556,
              "#d8576b"
             ],
             [
              0.6666666666666666,
              "#ed7953"
             ],
             [
              0.7777777777777778,
              "#fb9f3a"
             ],
             [
              0.8888888888888888,
              "#fdca26"
             ],
             [
              1,
              "#f0f921"
             ]
            ],
            "type": "surface"
           }
          ],
          "table": [
           {
            "cells": {
             "fill": {
              "color": "#EBF0F8"
             },
             "line": {
              "color": "white"
             }
            },
            "header": {
             "fill": {
              "color": "#C8D4E3"
             },
             "line": {
              "color": "white"
             }
            },
            "type": "table"
           }
          ]
         },
         "layout": {
          "annotationdefaults": {
           "arrowcolor": "#2a3f5f",
           "arrowhead": 0,
           "arrowwidth": 1
          },
          "coloraxis": {
           "colorbar": {
            "outlinewidth": 0,
            "ticks": ""
           }
          },
          "colorscale": {
           "diverging": [
            [
             0,
             "#8e0152"
            ],
            [
             0.1,
             "#c51b7d"
            ],
            [
             0.2,
             "#de77ae"
            ],
            [
             0.3,
             "#f1b6da"
            ],
            [
             0.4,
             "#fde0ef"
            ],
            [
             0.5,
             "#f7f7f7"
            ],
            [
             0.6,
             "#e6f5d0"
            ],
            [
             0.7,
             "#b8e186"
            ],
            [
             0.8,
             "#7fbc41"
            ],
            [
             0.9,
             "#4d9221"
            ],
            [
             1,
             "#276419"
            ]
           ],
           "sequential": [
            [
             0,
             "#0d0887"
            ],
            [
             0.1111111111111111,
             "#46039f"
            ],
            [
             0.2222222222222222,
             "#7201a8"
            ],
            [
             0.3333333333333333,
             "#9c179e"
            ],
            [
             0.4444444444444444,
             "#bd3786"
            ],
            [
             0.5555555555555556,
             "#d8576b"
            ],
            [
             0.6666666666666666,
             "#ed7953"
            ],
            [
             0.7777777777777778,
             "#fb9f3a"
            ],
            [
             0.8888888888888888,
             "#fdca26"
            ],
            [
             1,
             "#f0f921"
            ]
           ],
           "sequentialminus": [
            [
             0,
             "#0d0887"
            ],
            [
             0.1111111111111111,
             "#46039f"
            ],
            [
             0.2222222222222222,
             "#7201a8"
            ],
            [
             0.3333333333333333,
             "#9c179e"
            ],
            [
             0.4444444444444444,
             "#bd3786"
            ],
            [
             0.5555555555555556,
             "#d8576b"
            ],
            [
             0.6666666666666666,
             "#ed7953"
            ],
            [
             0.7777777777777778,
             "#fb9f3a"
            ],
            [
             0.8888888888888888,
             "#fdca26"
            ],
            [
             1,
             "#f0f921"
            ]
           ]
          },
          "colorway": [
           "#636efa",
           "#EF553B",
           "#00cc96",
           "#ab63fa",
           "#FFA15A",
           "#19d3f3",
           "#FF6692",
           "#B6E880",
           "#FF97FF",
           "#FECB52"
          ],
          "font": {
           "color": "#2a3f5f"
          },
          "geo": {
           "bgcolor": "white",
           "lakecolor": "white",
           "landcolor": "#E5ECF6",
           "showlakes": true,
           "showland": true,
           "subunitcolor": "white"
          },
          "hoverlabel": {
           "align": "left"
          },
          "hovermode": "closest",
          "mapbox": {
           "style": "light"
          },
          "paper_bgcolor": "white",
          "plot_bgcolor": "#E5ECF6",
          "polar": {
           "angularaxis": {
            "gridcolor": "white",
            "linecolor": "white",
            "ticks": ""
           },
           "bgcolor": "#E5ECF6",
           "radialaxis": {
            "gridcolor": "white",
            "linecolor": "white",
            "ticks": ""
           }
          },
          "scene": {
           "xaxis": {
            "backgroundcolor": "#E5ECF6",
            "gridcolor": "white",
            "gridwidth": 2,
            "linecolor": "white",
            "showbackground": true,
            "ticks": "",
            "zerolinecolor": "white"
           },
           "yaxis": {
            "backgroundcolor": "#E5ECF6",
            "gridcolor": "white",
            "gridwidth": 2,
            "linecolor": "white",
            "showbackground": true,
            "ticks": "",
            "zerolinecolor": "white"
           },
           "zaxis": {
            "backgroundcolor": "#E5ECF6",
            "gridcolor": "white",
            "gridwidth": 2,
            "linecolor": "white",
            "showbackground": true,
            "ticks": "",
            "zerolinecolor": "white"
           }
          },
          "shapedefaults": {
           "line": {
            "color": "#2a3f5f"
           }
          },
          "ternary": {
           "aaxis": {
            "gridcolor": "white",
            "linecolor": "white",
            "ticks": ""
           },
           "baxis": {
            "gridcolor": "white",
            "linecolor": "white",
            "ticks": ""
           },
           "bgcolor": "#E5ECF6",
           "caxis": {
            "gridcolor": "white",
            "linecolor": "white",
            "ticks": ""
           }
          },
          "title": {
           "x": 0.05
          },
          "xaxis": {
           "automargin": true,
           "gridcolor": "white",
           "linecolor": "white",
           "ticks": "",
           "title": {
            "standoff": 15
           },
           "zerolinecolor": "white",
           "zerolinewidth": 2
          },
          "yaxis": {
           "automargin": true,
           "gridcolor": "white",
           "linecolor": "white",
           "ticks": "",
           "title": {
            "standoff": 15
           },
           "zerolinecolor": "white",
           "zerolinewidth": 2
          }
         }
        },
        "title": {
         "text": "France - Customer Service Without Trimming"
        }
       }
      },
      "text/html": [
       "<div>                            <div id=\"b31a0609-9b9d-441a-870c-a10a80153983\" class=\"plotly-graph-div\" style=\"height:525px; width:100%;\"></div>            <script type=\"text/javascript\">                require([\"plotly\"], function(Plotly) {                    window.PLOTLYENV=window.PLOTLYENV || {};                                    if (document.getElementById(\"b31a0609-9b9d-441a-870c-a10a80153983\")) {                    Plotly.newPlot(                        \"b31a0609-9b9d-441a-870c-a10a80153983\",                        [{\"link\": {\"hovertemplate\": \"%{value} unique users went from %{source.label} to %{target.label}.<br /><br />It took them %{label} in average to reach this point from the start of the flow.<extra></extra>\", \"label\": [\"0 days 00:00:00\", \"0 days 00:00:00\", \"0 days 00:00:00\", \"0 days 00:00:00\", \"0 days 00:00:00\", \"0 days 00:00:04\", \"0 days 00:00:04\", \"0 days 00:00:04\", \"0 days 00:00:04\", \"0 days 00:00:04\", \"0 days 00:00:04\", \"0 days 00:00:07\", \"0 days 00:00:04\", \"0 days 00:00:37\", \"0 days 00:00:34\", \"0 days 00:00:54\", \"0 days 00:00:36\", \"0 days 00:11:50\", \"0 days 00:00:19\", \"0 days 00:00:22\", \"0 days 00:00:19\", \"0 days 00:00:07\", \"0 days 00:00:09\", \"0 days 00:01:15\", \"0 days 00:00:19\", \"0 days 00:00:27\", \"0 days 00:00:22\", \"0 days 00:00:21\", \"0 days 00:00:22\", \"0 days 00:00:43\", \"0 days 00:00:41\", \"0 days 00:00:27\", \"0 days 00:00:18\", \"0 days 00:00:04\", \"0 days 00:00:26\", \"0 days 00:00:25\", \"0 days 00:07:06\", \"0 days 00:00:00\", \"0 days 00:00:34\", \"0 days 00:00:39\", \"0 days 00:00:16\", \"0 days 00:00:24\", \"0 days 00:00:20\", \"0 days 00:00:12\", \"0 days 00:00:42\", \"0 days 00:00:22\", \"0 days 00:00:00\", \"0 days 00:00:00\", \"0 days 00:00:00\", \"0 days 00:00:04\", \"0 days 00:00:04\", \"0 days 00:00:04\", \"0 days 00:00:04\", \"0 days 00:00:37\", \"0 days 00:07:55\", \"0 days 00:00:18\", \"0 days 00:00:17\", \"0 days 00:00:36\", \"0 days 00:00:36\", \"0 days 00:00:20\", \"0 days 00:00:28\"], \"source\": [1, 1, 1, 1, 1, 3, 3, 3, 3, 3, 3, 3, 3, 16, 16, 20, 20, 5, 12, 12, 12, 12, 12, 9, 9, 9, 9, 9, 9, 19, 19, 10, 10, 10, 10, 10, 22, 22, 14, 14, 11, 11, 11, 11, 18, 15, 0, 0, 0, 2, 2, 2, 2, 17, 21, 6, 6, 13, 13, 8, 7], \"target\": [3, 5, 10, 22, 12, 5, 12, 9, 10, 22, 20, 14, 11, 20, 19, 5, 22, 24, 16, 22, 14, 3, 15, 5, 9, 10, 22, 12, 11, 5, 22, 19, 20, 3, 22, 18, 25, 1, 19, 20, 20, 19, 18, 22, 22, 19, 2, 4, 21, 21, 6, 8, 7, 21, 23, 17, 21, 21, 17, 13, 17], \"value\": [194, 23, 1, 13, 1, 6, 46, 17, 79, 39, 1, 1, 7, 25, 8, 2, 90, 3, 33, 3, 9, 1, 3, 7, 1, 6, 1, 2, 1, 1, 39, 21, 58, 1, 2, 4, 134, 1, 3, 7, 1, 5, 1, 1, 5, 3, 19, 5, 3, 7, 8, 2, 2, 10, 10, 7, 1, 1, 1, 2, 2]}, \"node\": {\"label\": [\"EXTCALL_68:Block List~~API_EVENT\", \"EXTCALL_68~~API_EVENT\", \"EXTCALL_70:Robot Menu~~API_EVENT\", \"EXTCALL_70~~API_EVENT\", \"ICALL_1:Main Number~~CALL_EVENT:ANSWER\", \"ICALL_1~~CALL_EVENT:ANSWER\", \"MENU_TREE_17:3.1 Main Menu~~1-dtmf\", \"MENU_TREE_17:3.1 Main Menu~~2-dtmf\", \"MENU_TREE_17:3.1 Main Menu~~3-dtmf\", \"MENU_TREE_17~~-1-dtmf\", \"MENU_TREE_17~~1-dtmf\", \"MENU_TREE_17~~2-dtmf\", \"MENU_TREE_17~~3-dtmf\", \"DTMF_59:8.0 Fault Code~~-2-dtmf\", \"DTMF_59~~-1-dtmf\", \"DTMF_59~~1-dtmf\", \"DTMF_59~~2-dtmf\", \"DTMF_61:4.0 Survey~~-2-dtmf\", \"DTMF_61~~-1-dtmf\", \"DTMF_61~~1-dtmf\", \"DTMF_61~~2-dtmf\", \"ICALL_1:Main Number~~CALL_EVENT:HUNGUP\", \"ICALL_1~~CALL_EVENT:HUNGUP\", \"TRANSFER_38:TRANSFER~~CALL_EVENT:HUNGUP\", \"TRANSFER_38~~CALL_EVENT:ANSWER\", \"TRANSFER_38~~CALL_EVENT:HUNGUP\"], \"line\": {\"color\": \"black\", \"width\": 0.5}, \"thickness\": 10}, \"type\": \"sankey\"}],                        {\"autosize\": true, \"font\": {\"size\": 15}, \"plot_bgcolor\": \"white\", \"template\": {\"data\": {\"bar\": [{\"error_x\": {\"color\": \"#2a3f5f\"}, \"error_y\": {\"color\": \"#2a3f5f\"}, \"marker\": {\"line\": {\"color\": \"#E5ECF6\", \"width\": 0.5}}, \"type\": \"bar\"}], \"barpolar\": [{\"marker\": {\"line\": {\"color\": \"#E5ECF6\", \"width\": 0.5}}, \"type\": \"barpolar\"}], \"carpet\": [{\"aaxis\": {\"endlinecolor\": \"#2a3f5f\", \"gridcolor\": \"white\", \"linecolor\": \"white\", \"minorgridcolor\": \"white\", \"startlinecolor\": \"#2a3f5f\"}, \"baxis\": {\"endlinecolor\": \"#2a3f5f\", \"gridcolor\": \"white\", \"linecolor\": \"white\", \"minorgridcolor\": \"white\", \"startlinecolor\": \"#2a3f5f\"}, \"type\": \"carpet\"}], \"choropleth\": [{\"colorbar\": {\"outlinewidth\": 0, \"ticks\": \"\"}, \"type\": \"choropleth\"}], \"contour\": [{\"colorbar\": {\"outlinewidth\": 0, \"ticks\": \"\"}, \"colorscale\": [[0.0, \"#0d0887\"], [0.1111111111111111, \"#46039f\"], [0.2222222222222222, \"#7201a8\"], [0.3333333333333333, \"#9c179e\"], [0.4444444444444444, \"#bd3786\"], [0.5555555555555556, \"#d8576b\"], [0.6666666666666666, \"#ed7953\"], [0.7777777777777778, \"#fb9f3a\"], [0.8888888888888888, \"#fdca26\"], [1.0, \"#f0f921\"]], \"type\": \"contour\"}], \"contourcarpet\": [{\"colorbar\": {\"outlinewidth\": 0, \"ticks\": \"\"}, \"type\": \"contourcarpet\"}], \"heatmap\": [{\"colorbar\": {\"outlinewidth\": 0, \"ticks\": \"\"}, \"colorscale\": [[0.0, \"#0d0887\"], [0.1111111111111111, \"#46039f\"], [0.2222222222222222, \"#7201a8\"], [0.3333333333333333, \"#9c179e\"], [0.4444444444444444, \"#bd3786\"], [0.5555555555555556, \"#d8576b\"], [0.6666666666666666, \"#ed7953\"], [0.7777777777777778, \"#fb9f3a\"], [0.8888888888888888, \"#fdca26\"], [1.0, \"#f0f921\"]], \"type\": \"heatmap\"}], \"heatmapgl\": [{\"colorbar\": {\"outlinewidth\": 0, \"ticks\": \"\"}, \"colorscale\": [[0.0, \"#0d0887\"], [0.1111111111111111, \"#46039f\"], [0.2222222222222222, \"#7201a8\"], [0.3333333333333333, \"#9c179e\"], [0.4444444444444444, \"#bd3786\"], [0.5555555555555556, \"#d8576b\"], [0.6666666666666666, \"#ed7953\"], [0.7777777777777778, \"#fb9f3a\"], [0.8888888888888888, \"#fdca26\"], [1.0, \"#f0f921\"]], \"type\": \"heatmapgl\"}], \"histogram\": [{\"marker\": {\"colorbar\": {\"outlinewidth\": 0, \"ticks\": \"\"}}, \"type\": \"histogram\"}], \"histogram2d\": [{\"colorbar\": {\"outlinewidth\": 0, \"ticks\": \"\"}, \"colorscale\": [[0.0, \"#0d0887\"], [0.1111111111111111, \"#46039f\"], [0.2222222222222222, \"#7201a8\"], [0.3333333333333333, \"#9c179e\"], [0.4444444444444444, \"#bd3786\"], [0.5555555555555556, \"#d8576b\"], [0.6666666666666666, \"#ed7953\"], [0.7777777777777778, \"#fb9f3a\"], [0.8888888888888888, \"#fdca26\"], [1.0, \"#f0f921\"]], \"type\": \"histogram2d\"}], \"histogram2dcontour\": [{\"colorbar\": {\"outlinewidth\": 0, \"ticks\": \"\"}, \"colorscale\": [[0.0, \"#0d0887\"], [0.1111111111111111, \"#46039f\"], [0.2222222222222222, \"#7201a8\"], [0.3333333333333333, \"#9c179e\"], [0.4444444444444444, \"#bd3786\"], [0.5555555555555556, \"#d8576b\"], [0.6666666666666666, \"#ed7953\"], [0.7777777777777778, \"#fb9f3a\"], [0.8888888888888888, \"#fdca26\"], [1.0, \"#f0f921\"]], \"type\": \"histogram2dcontour\"}], \"mesh3d\": [{\"colorbar\": {\"outlinewidth\": 0, \"ticks\": \"\"}, \"type\": \"mesh3d\"}], \"parcoords\": [{\"line\": {\"colorbar\": {\"outlinewidth\": 0, \"ticks\": \"\"}}, \"type\": \"parcoords\"}], \"pie\": [{\"automargin\": true, \"type\": \"pie\"}], \"scatter\": [{\"marker\": {\"colorbar\": {\"outlinewidth\": 0, \"ticks\": \"\"}}, \"type\": \"scatter\"}], \"scatter3d\": [{\"line\": {\"colorbar\": {\"outlinewidth\": 0, \"ticks\": \"\"}}, \"marker\": {\"colorbar\": {\"outlinewidth\": 0, \"ticks\": \"\"}}, \"type\": \"scatter3d\"}], \"scattercarpet\": [{\"marker\": {\"colorbar\": {\"outlinewidth\": 0, \"ticks\": \"\"}}, \"type\": \"scattercarpet\"}], \"scattergeo\": [{\"marker\": {\"colorbar\": {\"outlinewidth\": 0, \"ticks\": \"\"}}, \"type\": \"scattergeo\"}], \"scattergl\": [{\"marker\": {\"colorbar\": {\"outlinewidth\": 0, \"ticks\": \"\"}}, \"type\": \"scattergl\"}], \"scattermapbox\": [{\"marker\": {\"colorbar\": {\"outlinewidth\": 0, \"ticks\": \"\"}}, \"type\": \"scattermapbox\"}], \"scatterpolar\": [{\"marker\": {\"colorbar\": {\"outlinewidth\": 0, \"ticks\": \"\"}}, \"type\": \"scatterpolar\"}], \"scatterpolargl\": [{\"marker\": {\"colorbar\": {\"outlinewidth\": 0, \"ticks\": \"\"}}, \"type\": \"scatterpolargl\"}], \"scatterternary\": [{\"marker\": {\"colorbar\": {\"outlinewidth\": 0, \"ticks\": \"\"}}, \"type\": \"scatterternary\"}], \"surface\": [{\"colorbar\": {\"outlinewidth\": 0, \"ticks\": \"\"}, \"colorscale\": [[0.0, \"#0d0887\"], [0.1111111111111111, \"#46039f\"], [0.2222222222222222, \"#7201a8\"], [0.3333333333333333, \"#9c179e\"], [0.4444444444444444, \"#bd3786\"], [0.5555555555555556, \"#d8576b\"], [0.6666666666666666, \"#ed7953\"], [0.7777777777777778, \"#fb9f3a\"], [0.8888888888888888, \"#fdca26\"], [1.0, \"#f0f921\"]], \"type\": \"surface\"}], \"table\": [{\"cells\": {\"fill\": {\"color\": \"#EBF0F8\"}, \"line\": {\"color\": \"white\"}}, \"header\": {\"fill\": {\"color\": \"#C8D4E3\"}, \"line\": {\"color\": \"white\"}}, \"type\": \"table\"}]}, \"layout\": {\"annotationdefaults\": {\"arrowcolor\": \"#2a3f5f\", \"arrowhead\": 0, \"arrowwidth\": 1}, \"coloraxis\": {\"colorbar\": {\"outlinewidth\": 0, \"ticks\": \"\"}}, \"colorscale\": {\"diverging\": [[0, \"#8e0152\"], [0.1, \"#c51b7d\"], [0.2, \"#de77ae\"], [0.3, \"#f1b6da\"], [0.4, \"#fde0ef\"], [0.5, \"#f7f7f7\"], [0.6, \"#e6f5d0\"], [0.7, \"#b8e186\"], [0.8, \"#7fbc41\"], [0.9, \"#4d9221\"], [1, \"#276419\"]], \"sequential\": [[0.0, \"#0d0887\"], [0.1111111111111111, \"#46039f\"], [0.2222222222222222, \"#7201a8\"], [0.3333333333333333, \"#9c179e\"], [0.4444444444444444, \"#bd3786\"], [0.5555555555555556, \"#d8576b\"], [0.6666666666666666, \"#ed7953\"], [0.7777777777777778, \"#fb9f3a\"], [0.8888888888888888, \"#fdca26\"], [1.0, \"#f0f921\"]], \"sequentialminus\": [[0.0, \"#0d0887\"], [0.1111111111111111, \"#46039f\"], [0.2222222222222222, \"#7201a8\"], [0.3333333333333333, \"#9c179e\"], [0.4444444444444444, \"#bd3786\"], [0.5555555555555556, \"#d8576b\"], [0.6666666666666666, \"#ed7953\"], [0.7777777777777778, \"#fb9f3a\"], [0.8888888888888888, \"#fdca26\"], [1.0, \"#f0f921\"]]}, \"colorway\": [\"#636efa\", \"#EF553B\", \"#00cc96\", \"#ab63fa\", \"#FFA15A\", \"#19d3f3\", \"#FF6692\", \"#B6E880\", \"#FF97FF\", \"#FECB52\"], \"font\": {\"color\": \"#2a3f5f\"}, \"geo\": {\"bgcolor\": \"white\", \"lakecolor\": \"white\", \"landcolor\": \"#E5ECF6\", \"showlakes\": true, \"showland\": true, \"subunitcolor\": \"white\"}, \"hoverlabel\": {\"align\": \"left\"}, \"hovermode\": \"closest\", \"mapbox\": {\"style\": \"light\"}, \"paper_bgcolor\": \"white\", \"plot_bgcolor\": \"#E5ECF6\", \"polar\": {\"angularaxis\": {\"gridcolor\": \"white\", \"linecolor\": \"white\", \"ticks\": \"\"}, \"bgcolor\": \"#E5ECF6\", \"radialaxis\": {\"gridcolor\": \"white\", \"linecolor\": \"white\", \"ticks\": \"\"}}, \"scene\": {\"xaxis\": {\"backgroundcolor\": \"#E5ECF6\", \"gridcolor\": \"white\", \"gridwidth\": 2, \"linecolor\": \"white\", \"showbackground\": true, \"ticks\": \"\", \"zerolinecolor\": \"white\"}, \"yaxis\": {\"backgroundcolor\": \"#E5ECF6\", \"gridcolor\": \"white\", \"gridwidth\": 2, \"linecolor\": \"white\", \"showbackground\": true, \"ticks\": \"\", \"zerolinecolor\": \"white\"}, \"zaxis\": {\"backgroundcolor\": \"#E5ECF6\", \"gridcolor\": \"white\", \"gridwidth\": 2, \"linecolor\": \"white\", \"showbackground\": true, \"ticks\": \"\", \"zerolinecolor\": \"white\"}}, \"shapedefaults\": {\"line\": {\"color\": \"#2a3f5f\"}}, \"ternary\": {\"aaxis\": {\"gridcolor\": \"white\", \"linecolor\": \"white\", \"ticks\": \"\"}, \"baxis\": {\"gridcolor\": \"white\", \"linecolor\": \"white\", \"ticks\": \"\"}, \"bgcolor\": \"#E5ECF6\", \"caxis\": {\"gridcolor\": \"white\", \"linecolor\": \"white\", \"ticks\": \"\"}}, \"title\": {\"x\": 0.05}, \"xaxis\": {\"automargin\": true, \"gridcolor\": \"white\", \"linecolor\": \"white\", \"ticks\": \"\", \"title\": {\"standoff\": 15}, \"zerolinecolor\": \"white\", \"zerolinewidth\": 2}, \"yaxis\": {\"automargin\": true, \"gridcolor\": \"white\", \"linecolor\": \"white\", \"ticks\": \"\", \"title\": {\"standoff\": 15}, \"zerolinecolor\": \"white\", \"zerolinewidth\": 2}}}, \"title\": {\"text\": \"France - Customer Service Without Trimming\"}},                        {\"responsive\": true}                    ).then(function(){\n",
       "                            \n",
       "var gd = document.getElementById('b31a0609-9b9d-441a-870c-a10a80153983');\n",
       "var x = new MutationObserver(function (mutations, observer) {{\n",
       "        var display = window.getComputedStyle(gd).display;\n",
       "        if (!display || display === 'none') {{\n",
       "            console.log([gd, 'removed!']);\n",
       "            Plotly.purge(gd);\n",
       "            observer.disconnect();\n",
       "        }}\n",
       "}});\n",
       "\n",
       "// Listen for the removal of the full notebook cells\n",
       "var notebookContainer = gd.closest('#notebook-container');\n",
       "if (notebookContainer) {{\n",
       "    x.observe(notebookContainer, {childList: true});\n",
       "}}\n",
       "\n",
       "// Listen for the clearing of the current output cell\n",
       "var outputEl = gd.closest('.output');\n",
       "if (outputEl) {{\n",
       "    x.observe(outputEl, {childList: true});\n",
       "}}\n",
       "\n",
       "                        })                };                });            </script>        </div>"
      ]
     },
     "metadata": {},
     "output_type": "display_data"
    }
   ],
   "source": [
    "FlowName = \"France - Customer Service\"\n",
    "df = client.query(sql_temp.format(FlowName)).to_dataframe()\n",
    "flow = SankeyFlow(df)\n",
    "flow.plot(0, f\"{FlowName} Without Trimming\").show()"
   ]
  },
  {
   "cell_type": "code",
   "execution_count": 16,
   "metadata": {},
   "outputs": [
    {
     "data": {
      "application/vnd.plotly.v1+json": {
       "config": {
        "plotlyServerURL": "https://plotly.com"
       },
       "data": [
        {
         "link": {
          "hovertemplate": "%{value} unique users went from %{source.label} to %{target.label}.<br /><br />It took them %{label} in average to reach this point from the start of the flow.<extra></extra>",
          "label": [
           "0 days 00:00:00",
           "0 days 00:00:00",
           "0 days 00:00:00",
           "0 days 00:00:04",
           "0 days 00:00:04",
           "0 days 00:00:04",
           "0 days 00:00:04",
           "0 days 00:00:37",
           "0 days 00:00:36",
           "0 days 00:00:19",
           "0 days 00:00:41",
           "0 days 00:00:27",
           "0 days 00:00:18",
           "0 days 00:07:06",
           "0 days 00:00:00",
           "0 days 00:00:37",
           "0 days 00:07:55"
          ],
          "source": [
           1,
           1,
           1,
           3,
           3,
           3,
           3,
           16,
           20,
           12,
           19,
           10,
           10,
           22,
           0,
           17,
           21
          ],
          "target": [
           3,
           5,
           22,
           12,
           9,
           10,
           22,
           20,
           22,
           16,
           22,
           19,
           20,
           25,
           2,
           21,
           23
          ],
          "value": [
           194,
           23,
           13,
           46,
           17,
           79,
           39,
           25,
           90,
           33,
           39,
           21,
           58,
           134,
           19,
           10,
           10
          ]
         },
         "node": {
          "label": [
           "EXTCALL_68:Block List~~API_EVENT",
           "EXTCALL_68~~API_EVENT",
           "EXTCALL_70:Robot Menu~~API_EVENT",
           "EXTCALL_70~~API_EVENT",
           "ICALL_1:Main Number~~CALL_EVENT:ANSWER",
           "ICALL_1~~CALL_EVENT:ANSWER",
           "MENU_TREE_17:3.1 Main Menu~~1-dtmf",
           "MENU_TREE_17:3.1 Main Menu~~2-dtmf",
           "MENU_TREE_17:3.1 Main Menu~~3-dtmf",
           "MENU_TREE_17~~-1-dtmf",
           "MENU_TREE_17~~1-dtmf",
           "MENU_TREE_17~~2-dtmf",
           "MENU_TREE_17~~3-dtmf",
           "DTMF_59:8.0 Fault Code~~-2-dtmf",
           "DTMF_59~~-1-dtmf",
           "DTMF_59~~1-dtmf",
           "DTMF_59~~2-dtmf",
           "DTMF_61:4.0 Survey~~-2-dtmf",
           "DTMF_61~~-1-dtmf",
           "DTMF_61~~1-dtmf",
           "DTMF_61~~2-dtmf",
           "ICALL_1:Main Number~~CALL_EVENT:HUNGUP",
           "ICALL_1~~CALL_EVENT:HUNGUP",
           "TRANSFER_38:TRANSFER~~CALL_EVENT:HUNGUP",
           "TRANSFER_38~~CALL_EVENT:ANSWER",
           "TRANSFER_38~~CALL_EVENT:HUNGUP"
          ],
          "line": {
           "color": "black",
           "width": 0.5
          },
          "thickness": 10
         },
         "type": "sankey"
        }
       ],
       "layout": {
        "autosize": true,
        "font": {
         "size": 15
        },
        "plot_bgcolor": "white",
        "template": {
         "data": {
          "bar": [
           {
            "error_x": {
             "color": "#2a3f5f"
            },
            "error_y": {
             "color": "#2a3f5f"
            },
            "marker": {
             "line": {
              "color": "#E5ECF6",
              "width": 0.5
             }
            },
            "type": "bar"
           }
          ],
          "barpolar": [
           {
            "marker": {
             "line": {
              "color": "#E5ECF6",
              "width": 0.5
             }
            },
            "type": "barpolar"
           }
          ],
          "carpet": [
           {
            "aaxis": {
             "endlinecolor": "#2a3f5f",
             "gridcolor": "white",
             "linecolor": "white",
             "minorgridcolor": "white",
             "startlinecolor": "#2a3f5f"
            },
            "baxis": {
             "endlinecolor": "#2a3f5f",
             "gridcolor": "white",
             "linecolor": "white",
             "minorgridcolor": "white",
             "startlinecolor": "#2a3f5f"
            },
            "type": "carpet"
           }
          ],
          "choropleth": [
           {
            "colorbar": {
             "outlinewidth": 0,
             "ticks": ""
            },
            "type": "choropleth"
           }
          ],
          "contour": [
           {
            "colorbar": {
             "outlinewidth": 0,
             "ticks": ""
            },
            "colorscale": [
             [
              0,
              "#0d0887"
             ],
             [
              0.1111111111111111,
              "#46039f"
             ],
             [
              0.2222222222222222,
              "#7201a8"
             ],
             [
              0.3333333333333333,
              "#9c179e"
             ],
             [
              0.4444444444444444,
              "#bd3786"
             ],
             [
              0.5555555555555556,
              "#d8576b"
             ],
             [
              0.6666666666666666,
              "#ed7953"
             ],
             [
              0.7777777777777778,
              "#fb9f3a"
             ],
             [
              0.8888888888888888,
              "#fdca26"
             ],
             [
              1,
              "#f0f921"
             ]
            ],
            "type": "contour"
           }
          ],
          "contourcarpet": [
           {
            "colorbar": {
             "outlinewidth": 0,
             "ticks": ""
            },
            "type": "contourcarpet"
           }
          ],
          "heatmap": [
           {
            "colorbar": {
             "outlinewidth": 0,
             "ticks": ""
            },
            "colorscale": [
             [
              0,
              "#0d0887"
             ],
             [
              0.1111111111111111,
              "#46039f"
             ],
             [
              0.2222222222222222,
              "#7201a8"
             ],
             [
              0.3333333333333333,
              "#9c179e"
             ],
             [
              0.4444444444444444,
              "#bd3786"
             ],
             [
              0.5555555555555556,
              "#d8576b"
             ],
             [
              0.6666666666666666,
              "#ed7953"
             ],
             [
              0.7777777777777778,
              "#fb9f3a"
             ],
             [
              0.8888888888888888,
              "#fdca26"
             ],
             [
              1,
              "#f0f921"
             ]
            ],
            "type": "heatmap"
           }
          ],
          "heatmapgl": [
           {
            "colorbar": {
             "outlinewidth": 0,
             "ticks": ""
            },
            "colorscale": [
             [
              0,
              "#0d0887"
             ],
             [
              0.1111111111111111,
              "#46039f"
             ],
             [
              0.2222222222222222,
              "#7201a8"
             ],
             [
              0.3333333333333333,
              "#9c179e"
             ],
             [
              0.4444444444444444,
              "#bd3786"
             ],
             [
              0.5555555555555556,
              "#d8576b"
             ],
             [
              0.6666666666666666,
              "#ed7953"
             ],
             [
              0.7777777777777778,
              "#fb9f3a"
             ],
             [
              0.8888888888888888,
              "#fdca26"
             ],
             [
              1,
              "#f0f921"
             ]
            ],
            "type": "heatmapgl"
           }
          ],
          "histogram": [
           {
            "marker": {
             "colorbar": {
              "outlinewidth": 0,
              "ticks": ""
             }
            },
            "type": "histogram"
           }
          ],
          "histogram2d": [
           {
            "colorbar": {
             "outlinewidth": 0,
             "ticks": ""
            },
            "colorscale": [
             [
              0,
              "#0d0887"
             ],
             [
              0.1111111111111111,
              "#46039f"
             ],
             [
              0.2222222222222222,
              "#7201a8"
             ],
             [
              0.3333333333333333,
              "#9c179e"
             ],
             [
              0.4444444444444444,
              "#bd3786"
             ],
             [
              0.5555555555555556,
              "#d8576b"
             ],
             [
              0.6666666666666666,
              "#ed7953"
             ],
             [
              0.7777777777777778,
              "#fb9f3a"
             ],
             [
              0.8888888888888888,
              "#fdca26"
             ],
             [
              1,
              "#f0f921"
             ]
            ],
            "type": "histogram2d"
           }
          ],
          "histogram2dcontour": [
           {
            "colorbar": {
             "outlinewidth": 0,
             "ticks": ""
            },
            "colorscale": [
             [
              0,
              "#0d0887"
             ],
             [
              0.1111111111111111,
              "#46039f"
             ],
             [
              0.2222222222222222,
              "#7201a8"
             ],
             [
              0.3333333333333333,
              "#9c179e"
             ],
             [
              0.4444444444444444,
              "#bd3786"
             ],
             [
              0.5555555555555556,
              "#d8576b"
             ],
             [
              0.6666666666666666,
              "#ed7953"
             ],
             [
              0.7777777777777778,
              "#fb9f3a"
             ],
             [
              0.8888888888888888,
              "#fdca26"
             ],
             [
              1,
              "#f0f921"
             ]
            ],
            "type": "histogram2dcontour"
           }
          ],
          "mesh3d": [
           {
            "colorbar": {
             "outlinewidth": 0,
             "ticks": ""
            },
            "type": "mesh3d"
           }
          ],
          "parcoords": [
           {
            "line": {
             "colorbar": {
              "outlinewidth": 0,
              "ticks": ""
             }
            },
            "type": "parcoords"
           }
          ],
          "pie": [
           {
            "automargin": true,
            "type": "pie"
           }
          ],
          "scatter": [
           {
            "marker": {
             "colorbar": {
              "outlinewidth": 0,
              "ticks": ""
             }
            },
            "type": "scatter"
           }
          ],
          "scatter3d": [
           {
            "line": {
             "colorbar": {
              "outlinewidth": 0,
              "ticks": ""
             }
            },
            "marker": {
             "colorbar": {
              "outlinewidth": 0,
              "ticks": ""
             }
            },
            "type": "scatter3d"
           }
          ],
          "scattercarpet": [
           {
            "marker": {
             "colorbar": {
              "outlinewidth": 0,
              "ticks": ""
             }
            },
            "type": "scattercarpet"
           }
          ],
          "scattergeo": [
           {
            "marker": {
             "colorbar": {
              "outlinewidth": 0,
              "ticks": ""
             }
            },
            "type": "scattergeo"
           }
          ],
          "scattergl": [
           {
            "marker": {
             "colorbar": {
              "outlinewidth": 0,
              "ticks": ""
             }
            },
            "type": "scattergl"
           }
          ],
          "scattermapbox": [
           {
            "marker": {
             "colorbar": {
              "outlinewidth": 0,
              "ticks": ""
             }
            },
            "type": "scattermapbox"
           }
          ],
          "scatterpolar": [
           {
            "marker": {
             "colorbar": {
              "outlinewidth": 0,
              "ticks": ""
             }
            },
            "type": "scatterpolar"
           }
          ],
          "scatterpolargl": [
           {
            "marker": {
             "colorbar": {
              "outlinewidth": 0,
              "ticks": ""
             }
            },
            "type": "scatterpolargl"
           }
          ],
          "scatterternary": [
           {
            "marker": {
             "colorbar": {
              "outlinewidth": 0,
              "ticks": ""
             }
            },
            "type": "scatterternary"
           }
          ],
          "surface": [
           {
            "colorbar": {
             "outlinewidth": 0,
             "ticks": ""
            },
            "colorscale": [
             [
              0,
              "#0d0887"
             ],
             [
              0.1111111111111111,
              "#46039f"
             ],
             [
              0.2222222222222222,
              "#7201a8"
             ],
             [
              0.3333333333333333,
              "#9c179e"
             ],
             [
              0.4444444444444444,
              "#bd3786"
             ],
             [
              0.5555555555555556,
              "#d8576b"
             ],
             [
              0.6666666666666666,
              "#ed7953"
             ],
             [
              0.7777777777777778,
              "#fb9f3a"
             ],
             [
              0.8888888888888888,
              "#fdca26"
             ],
             [
              1,
              "#f0f921"
             ]
            ],
            "type": "surface"
           }
          ],
          "table": [
           {
            "cells": {
             "fill": {
              "color": "#EBF0F8"
             },
             "line": {
              "color": "white"
             }
            },
            "header": {
             "fill": {
              "color": "#C8D4E3"
             },
             "line": {
              "color": "white"
             }
            },
            "type": "table"
           }
          ]
         },
         "layout": {
          "annotationdefaults": {
           "arrowcolor": "#2a3f5f",
           "arrowhead": 0,
           "arrowwidth": 1
          },
          "coloraxis": {
           "colorbar": {
            "outlinewidth": 0,
            "ticks": ""
           }
          },
          "colorscale": {
           "diverging": [
            [
             0,
             "#8e0152"
            ],
            [
             0.1,
             "#c51b7d"
            ],
            [
             0.2,
             "#de77ae"
            ],
            [
             0.3,
             "#f1b6da"
            ],
            [
             0.4,
             "#fde0ef"
            ],
            [
             0.5,
             "#f7f7f7"
            ],
            [
             0.6,
             "#e6f5d0"
            ],
            [
             0.7,
             "#b8e186"
            ],
            [
             0.8,
             "#7fbc41"
            ],
            [
             0.9,
             "#4d9221"
            ],
            [
             1,
             "#276419"
            ]
           ],
           "sequential": [
            [
             0,
             "#0d0887"
            ],
            [
             0.1111111111111111,
             "#46039f"
            ],
            [
             0.2222222222222222,
             "#7201a8"
            ],
            [
             0.3333333333333333,
             "#9c179e"
            ],
            [
             0.4444444444444444,
             "#bd3786"
            ],
            [
             0.5555555555555556,
             "#d8576b"
            ],
            [
             0.6666666666666666,
             "#ed7953"
            ],
            [
             0.7777777777777778,
             "#fb9f3a"
            ],
            [
             0.8888888888888888,
             "#fdca26"
            ],
            [
             1,
             "#f0f921"
            ]
           ],
           "sequentialminus": [
            [
             0,
             "#0d0887"
            ],
            [
             0.1111111111111111,
             "#46039f"
            ],
            [
             0.2222222222222222,
             "#7201a8"
            ],
            [
             0.3333333333333333,
             "#9c179e"
            ],
            [
             0.4444444444444444,
             "#bd3786"
            ],
            [
             0.5555555555555556,
             "#d8576b"
            ],
            [
             0.6666666666666666,
             "#ed7953"
            ],
            [
             0.7777777777777778,
             "#fb9f3a"
            ],
            [
             0.8888888888888888,
             "#fdca26"
            ],
            [
             1,
             "#f0f921"
            ]
           ]
          },
          "colorway": [
           "#636efa",
           "#EF553B",
           "#00cc96",
           "#ab63fa",
           "#FFA15A",
           "#19d3f3",
           "#FF6692",
           "#B6E880",
           "#FF97FF",
           "#FECB52"
          ],
          "font": {
           "color": "#2a3f5f"
          },
          "geo": {
           "bgcolor": "white",
           "lakecolor": "white",
           "landcolor": "#E5ECF6",
           "showlakes": true,
           "showland": true,
           "subunitcolor": "white"
          },
          "hoverlabel": {
           "align": "left"
          },
          "hovermode": "closest",
          "mapbox": {
           "style": "light"
          },
          "paper_bgcolor": "white",
          "plot_bgcolor": "#E5ECF6",
          "polar": {
           "angularaxis": {
            "gridcolor": "white",
            "linecolor": "white",
            "ticks": ""
           },
           "bgcolor": "#E5ECF6",
           "radialaxis": {
            "gridcolor": "white",
            "linecolor": "white",
            "ticks": ""
           }
          },
          "scene": {
           "xaxis": {
            "backgroundcolor": "#E5ECF6",
            "gridcolor": "white",
            "gridwidth": 2,
            "linecolor": "white",
            "showbackground": true,
            "ticks": "",
            "zerolinecolor": "white"
           },
           "yaxis": {
            "backgroundcolor": "#E5ECF6",
            "gridcolor": "white",
            "gridwidth": 2,
            "linecolor": "white",
            "showbackground": true,
            "ticks": "",
            "zerolinecolor": "white"
           },
           "zaxis": {
            "backgroundcolor": "#E5ECF6",
            "gridcolor": "white",
            "gridwidth": 2,
            "linecolor": "white",
            "showbackground": true,
            "ticks": "",
            "zerolinecolor": "white"
           }
          },
          "shapedefaults": {
           "line": {
            "color": "#2a3f5f"
           }
          },
          "ternary": {
           "aaxis": {
            "gridcolor": "white",
            "linecolor": "white",
            "ticks": ""
           },
           "baxis": {
            "gridcolor": "white",
            "linecolor": "white",
            "ticks": ""
           },
           "bgcolor": "#E5ECF6",
           "caxis": {
            "gridcolor": "white",
            "linecolor": "white",
            "ticks": ""
           }
          },
          "title": {
           "x": 0.05
          },
          "xaxis": {
           "automargin": true,
           "gridcolor": "white",
           "linecolor": "white",
           "ticks": "",
           "title": {
            "standoff": 15
           },
           "zerolinecolor": "white",
           "zerolinewidth": 2
          },
          "yaxis": {
           "automargin": true,
           "gridcolor": "white",
           "linecolor": "white",
           "ticks": "",
           "title": {
            "standoff": 15
           },
           "zerolinecolor": "white",
           "zerolinewidth": 2
          }
         }
        },
        "title": {
         "text": "France - Customer Service With Trimming"
        }
       }
      },
      "text/html": [
       "<div>                            <div id=\"0aa20783-4240-48d2-98f0-b25213a7c027\" class=\"plotly-graph-div\" style=\"height:525px; width:100%;\"></div>            <script type=\"text/javascript\">                require([\"plotly\"], function(Plotly) {                    window.PLOTLYENV=window.PLOTLYENV || {};                                    if (document.getElementById(\"0aa20783-4240-48d2-98f0-b25213a7c027\")) {                    Plotly.newPlot(                        \"0aa20783-4240-48d2-98f0-b25213a7c027\",                        [{\"link\": {\"hovertemplate\": \"%{value} unique users went from %{source.label} to %{target.label}.<br /><br />It took them %{label} in average to reach this point from the start of the flow.<extra></extra>\", \"label\": [\"0 days 00:00:00\", \"0 days 00:00:00\", \"0 days 00:00:00\", \"0 days 00:00:04\", \"0 days 00:00:04\", \"0 days 00:00:04\", \"0 days 00:00:04\", \"0 days 00:00:37\", \"0 days 00:00:36\", \"0 days 00:00:19\", \"0 days 00:00:41\", \"0 days 00:00:27\", \"0 days 00:00:18\", \"0 days 00:07:06\", \"0 days 00:00:00\", \"0 days 00:00:37\", \"0 days 00:07:55\"], \"source\": [1, 1, 1, 3, 3, 3, 3, 16, 20, 12, 19, 10, 10, 22, 0, 17, 21], \"target\": [3, 5, 22, 12, 9, 10, 22, 20, 22, 16, 22, 19, 20, 25, 2, 21, 23], \"value\": [194, 23, 13, 46, 17, 79, 39, 25, 90, 33, 39, 21, 58, 134, 19, 10, 10]}, \"node\": {\"label\": [\"EXTCALL_68:Block List~~API_EVENT\", \"EXTCALL_68~~API_EVENT\", \"EXTCALL_70:Robot Menu~~API_EVENT\", \"EXTCALL_70~~API_EVENT\", \"ICALL_1:Main Number~~CALL_EVENT:ANSWER\", \"ICALL_1~~CALL_EVENT:ANSWER\", \"MENU_TREE_17:3.1 Main Menu~~1-dtmf\", \"MENU_TREE_17:3.1 Main Menu~~2-dtmf\", \"MENU_TREE_17:3.1 Main Menu~~3-dtmf\", \"MENU_TREE_17~~-1-dtmf\", \"MENU_TREE_17~~1-dtmf\", \"MENU_TREE_17~~2-dtmf\", \"MENU_TREE_17~~3-dtmf\", \"DTMF_59:8.0 Fault Code~~-2-dtmf\", \"DTMF_59~~-1-dtmf\", \"DTMF_59~~1-dtmf\", \"DTMF_59~~2-dtmf\", \"DTMF_61:4.0 Survey~~-2-dtmf\", \"DTMF_61~~-1-dtmf\", \"DTMF_61~~1-dtmf\", \"DTMF_61~~2-dtmf\", \"ICALL_1:Main Number~~CALL_EVENT:HUNGUP\", \"ICALL_1~~CALL_EVENT:HUNGUP\", \"TRANSFER_38:TRANSFER~~CALL_EVENT:HUNGUP\", \"TRANSFER_38~~CALL_EVENT:ANSWER\", \"TRANSFER_38~~CALL_EVENT:HUNGUP\"], \"line\": {\"color\": \"black\", \"width\": 0.5}, \"thickness\": 10}, \"type\": \"sankey\"}],                        {\"autosize\": true, \"font\": {\"size\": 15}, \"plot_bgcolor\": \"white\", \"template\": {\"data\": {\"bar\": [{\"error_x\": {\"color\": \"#2a3f5f\"}, \"error_y\": {\"color\": \"#2a3f5f\"}, \"marker\": {\"line\": {\"color\": \"#E5ECF6\", \"width\": 0.5}}, \"type\": \"bar\"}], \"barpolar\": [{\"marker\": {\"line\": {\"color\": \"#E5ECF6\", \"width\": 0.5}}, \"type\": \"barpolar\"}], \"carpet\": [{\"aaxis\": {\"endlinecolor\": \"#2a3f5f\", \"gridcolor\": \"white\", \"linecolor\": \"white\", \"minorgridcolor\": \"white\", \"startlinecolor\": \"#2a3f5f\"}, \"baxis\": {\"endlinecolor\": \"#2a3f5f\", \"gridcolor\": \"white\", \"linecolor\": \"white\", \"minorgridcolor\": \"white\", \"startlinecolor\": \"#2a3f5f\"}, \"type\": \"carpet\"}], \"choropleth\": [{\"colorbar\": {\"outlinewidth\": 0, \"ticks\": \"\"}, \"type\": \"choropleth\"}], \"contour\": [{\"colorbar\": {\"outlinewidth\": 0, \"ticks\": \"\"}, \"colorscale\": [[0.0, \"#0d0887\"], [0.1111111111111111, \"#46039f\"], [0.2222222222222222, \"#7201a8\"], [0.3333333333333333, \"#9c179e\"], [0.4444444444444444, \"#bd3786\"], [0.5555555555555556, \"#d8576b\"], [0.6666666666666666, \"#ed7953\"], [0.7777777777777778, \"#fb9f3a\"], [0.8888888888888888, \"#fdca26\"], [1.0, \"#f0f921\"]], \"type\": \"contour\"}], \"contourcarpet\": [{\"colorbar\": {\"outlinewidth\": 0, \"ticks\": \"\"}, \"type\": \"contourcarpet\"}], \"heatmap\": [{\"colorbar\": {\"outlinewidth\": 0, \"ticks\": \"\"}, \"colorscale\": [[0.0, \"#0d0887\"], [0.1111111111111111, \"#46039f\"], [0.2222222222222222, \"#7201a8\"], [0.3333333333333333, \"#9c179e\"], [0.4444444444444444, \"#bd3786\"], [0.5555555555555556, \"#d8576b\"], [0.6666666666666666, \"#ed7953\"], [0.7777777777777778, \"#fb9f3a\"], [0.8888888888888888, \"#fdca26\"], [1.0, \"#f0f921\"]], \"type\": \"heatmap\"}], \"heatmapgl\": [{\"colorbar\": {\"outlinewidth\": 0, \"ticks\": \"\"}, \"colorscale\": [[0.0, \"#0d0887\"], [0.1111111111111111, \"#46039f\"], [0.2222222222222222, \"#7201a8\"], [0.3333333333333333, \"#9c179e\"], [0.4444444444444444, \"#bd3786\"], [0.5555555555555556, \"#d8576b\"], [0.6666666666666666, \"#ed7953\"], [0.7777777777777778, \"#fb9f3a\"], [0.8888888888888888, \"#fdca26\"], [1.0, \"#f0f921\"]], \"type\": \"heatmapgl\"}], \"histogram\": [{\"marker\": {\"colorbar\": {\"outlinewidth\": 0, \"ticks\": \"\"}}, \"type\": \"histogram\"}], \"histogram2d\": [{\"colorbar\": {\"outlinewidth\": 0, \"ticks\": \"\"}, \"colorscale\": [[0.0, \"#0d0887\"], [0.1111111111111111, \"#46039f\"], [0.2222222222222222, \"#7201a8\"], [0.3333333333333333, \"#9c179e\"], [0.4444444444444444, \"#bd3786\"], [0.5555555555555556, \"#d8576b\"], [0.6666666666666666, \"#ed7953\"], [0.7777777777777778, \"#fb9f3a\"], [0.8888888888888888, \"#fdca26\"], [1.0, \"#f0f921\"]], \"type\": \"histogram2d\"}], \"histogram2dcontour\": [{\"colorbar\": {\"outlinewidth\": 0, \"ticks\": \"\"}, \"colorscale\": [[0.0, \"#0d0887\"], [0.1111111111111111, \"#46039f\"], [0.2222222222222222, \"#7201a8\"], [0.3333333333333333, \"#9c179e\"], [0.4444444444444444, \"#bd3786\"], [0.5555555555555556, \"#d8576b\"], [0.6666666666666666, \"#ed7953\"], [0.7777777777777778, \"#fb9f3a\"], [0.8888888888888888, \"#fdca26\"], [1.0, \"#f0f921\"]], \"type\": \"histogram2dcontour\"}], \"mesh3d\": [{\"colorbar\": {\"outlinewidth\": 0, \"ticks\": \"\"}, \"type\": \"mesh3d\"}], \"parcoords\": [{\"line\": {\"colorbar\": {\"outlinewidth\": 0, \"ticks\": \"\"}}, \"type\": \"parcoords\"}], \"pie\": [{\"automargin\": true, \"type\": \"pie\"}], \"scatter\": [{\"marker\": {\"colorbar\": {\"outlinewidth\": 0, \"ticks\": \"\"}}, \"type\": \"scatter\"}], \"scatter3d\": [{\"line\": {\"colorbar\": {\"outlinewidth\": 0, \"ticks\": \"\"}}, \"marker\": {\"colorbar\": {\"outlinewidth\": 0, \"ticks\": \"\"}}, \"type\": \"scatter3d\"}], \"scattercarpet\": [{\"marker\": {\"colorbar\": {\"outlinewidth\": 0, \"ticks\": \"\"}}, \"type\": \"scattercarpet\"}], \"scattergeo\": [{\"marker\": {\"colorbar\": {\"outlinewidth\": 0, \"ticks\": \"\"}}, \"type\": \"scattergeo\"}], \"scattergl\": [{\"marker\": {\"colorbar\": {\"outlinewidth\": 0, \"ticks\": \"\"}}, \"type\": \"scattergl\"}], \"scattermapbox\": [{\"marker\": {\"colorbar\": {\"outlinewidth\": 0, \"ticks\": \"\"}}, \"type\": \"scattermapbox\"}], \"scatterpolar\": [{\"marker\": {\"colorbar\": {\"outlinewidth\": 0, \"ticks\": \"\"}}, \"type\": \"scatterpolar\"}], \"scatterpolargl\": [{\"marker\": {\"colorbar\": {\"outlinewidth\": 0, \"ticks\": \"\"}}, \"type\": \"scatterpolargl\"}], \"scatterternary\": [{\"marker\": {\"colorbar\": {\"outlinewidth\": 0, \"ticks\": \"\"}}, \"type\": \"scatterternary\"}], \"surface\": [{\"colorbar\": {\"outlinewidth\": 0, \"ticks\": \"\"}, \"colorscale\": [[0.0, \"#0d0887\"], [0.1111111111111111, \"#46039f\"], [0.2222222222222222, \"#7201a8\"], [0.3333333333333333, \"#9c179e\"], [0.4444444444444444, \"#bd3786\"], [0.5555555555555556, \"#d8576b\"], [0.6666666666666666, \"#ed7953\"], [0.7777777777777778, \"#fb9f3a\"], [0.8888888888888888, \"#fdca26\"], [1.0, \"#f0f921\"]], \"type\": \"surface\"}], \"table\": [{\"cells\": {\"fill\": {\"color\": \"#EBF0F8\"}, \"line\": {\"color\": \"white\"}}, \"header\": {\"fill\": {\"color\": \"#C8D4E3\"}, \"line\": {\"color\": \"white\"}}, \"type\": \"table\"}]}, \"layout\": {\"annotationdefaults\": {\"arrowcolor\": \"#2a3f5f\", \"arrowhead\": 0, \"arrowwidth\": 1}, \"coloraxis\": {\"colorbar\": {\"outlinewidth\": 0, \"ticks\": \"\"}}, \"colorscale\": {\"diverging\": [[0, \"#8e0152\"], [0.1, \"#c51b7d\"], [0.2, \"#de77ae\"], [0.3, \"#f1b6da\"], [0.4, \"#fde0ef\"], [0.5, \"#f7f7f7\"], [0.6, \"#e6f5d0\"], [0.7, \"#b8e186\"], [0.8, \"#7fbc41\"], [0.9, \"#4d9221\"], [1, \"#276419\"]], \"sequential\": [[0.0, \"#0d0887\"], [0.1111111111111111, \"#46039f\"], [0.2222222222222222, \"#7201a8\"], [0.3333333333333333, \"#9c179e\"], [0.4444444444444444, \"#bd3786\"], [0.5555555555555556, \"#d8576b\"], [0.6666666666666666, \"#ed7953\"], [0.7777777777777778, \"#fb9f3a\"], [0.8888888888888888, \"#fdca26\"], [1.0, \"#f0f921\"]], \"sequentialminus\": [[0.0, \"#0d0887\"], [0.1111111111111111, \"#46039f\"], [0.2222222222222222, \"#7201a8\"], [0.3333333333333333, \"#9c179e\"], [0.4444444444444444, \"#bd3786\"], [0.5555555555555556, \"#d8576b\"], [0.6666666666666666, \"#ed7953\"], [0.7777777777777778, \"#fb9f3a\"], [0.8888888888888888, \"#fdca26\"], [1.0, \"#f0f921\"]]}, \"colorway\": [\"#636efa\", \"#EF553B\", \"#00cc96\", \"#ab63fa\", \"#FFA15A\", \"#19d3f3\", \"#FF6692\", \"#B6E880\", \"#FF97FF\", \"#FECB52\"], \"font\": {\"color\": \"#2a3f5f\"}, \"geo\": {\"bgcolor\": \"white\", \"lakecolor\": \"white\", \"landcolor\": \"#E5ECF6\", \"showlakes\": true, \"showland\": true, \"subunitcolor\": \"white\"}, \"hoverlabel\": {\"align\": \"left\"}, \"hovermode\": \"closest\", \"mapbox\": {\"style\": \"light\"}, \"paper_bgcolor\": \"white\", \"plot_bgcolor\": \"#E5ECF6\", \"polar\": {\"angularaxis\": {\"gridcolor\": \"white\", \"linecolor\": \"white\", \"ticks\": \"\"}, \"bgcolor\": \"#E5ECF6\", \"radialaxis\": {\"gridcolor\": \"white\", \"linecolor\": \"white\", \"ticks\": \"\"}}, \"scene\": {\"xaxis\": {\"backgroundcolor\": \"#E5ECF6\", \"gridcolor\": \"white\", \"gridwidth\": 2, \"linecolor\": \"white\", \"showbackground\": true, \"ticks\": \"\", \"zerolinecolor\": \"white\"}, \"yaxis\": {\"backgroundcolor\": \"#E5ECF6\", \"gridcolor\": \"white\", \"gridwidth\": 2, \"linecolor\": \"white\", \"showbackground\": true, \"ticks\": \"\", \"zerolinecolor\": \"white\"}, \"zaxis\": {\"backgroundcolor\": \"#E5ECF6\", \"gridcolor\": \"white\", \"gridwidth\": 2, \"linecolor\": \"white\", \"showbackground\": true, \"ticks\": \"\", \"zerolinecolor\": \"white\"}}, \"shapedefaults\": {\"line\": {\"color\": \"#2a3f5f\"}}, \"ternary\": {\"aaxis\": {\"gridcolor\": \"white\", \"linecolor\": \"white\", \"ticks\": \"\"}, \"baxis\": {\"gridcolor\": \"white\", \"linecolor\": \"white\", \"ticks\": \"\"}, \"bgcolor\": \"#E5ECF6\", \"caxis\": {\"gridcolor\": \"white\", \"linecolor\": \"white\", \"ticks\": \"\"}}, \"title\": {\"x\": 0.05}, \"xaxis\": {\"automargin\": true, \"gridcolor\": \"white\", \"linecolor\": \"white\", \"ticks\": \"\", \"title\": {\"standoff\": 15}, \"zerolinecolor\": \"white\", \"zerolinewidth\": 2}, \"yaxis\": {\"automargin\": true, \"gridcolor\": \"white\", \"linecolor\": \"white\", \"ticks\": \"\", \"title\": {\"standoff\": 15}, \"zerolinecolor\": \"white\", \"zerolinewidth\": 2}}}, \"title\": {\"text\": \"France - Customer Service With Trimming\"}},                        {\"responsive\": true}                    ).then(function(){\n",
       "                            \n",
       "var gd = document.getElementById('0aa20783-4240-48d2-98f0-b25213a7c027');\n",
       "var x = new MutationObserver(function (mutations, observer) {{\n",
       "        var display = window.getComputedStyle(gd).display;\n",
       "        if (!display || display === 'none') {{\n",
       "            console.log([gd, 'removed!']);\n",
       "            Plotly.purge(gd);\n",
       "            observer.disconnect();\n",
       "        }}\n",
       "}});\n",
       "\n",
       "// Listen for the removal of the full notebook cells\n",
       "var notebookContainer = gd.closest('#notebook-container');\n",
       "if (notebookContainer) {{\n",
       "    x.observe(notebookContainer, {childList: true});\n",
       "}}\n",
       "\n",
       "// Listen for the clearing of the current output cell\n",
       "var outputEl = gd.closest('.output');\n",
       "if (outputEl) {{\n",
       "    x.observe(outputEl, {childList: true});\n",
       "}}\n",
       "\n",
       "                        })                };                });            </script>        </div>"
      ]
     },
     "metadata": {},
     "output_type": "display_data"
    }
   ],
   "source": [
    "flow.plot(10, f\"{FlowName} With Trimming\").show()"
   ]
  },
  {
   "cell_type": "code",
   "execution_count": 17,
   "metadata": {},
   "outputs": [
    {
     "data": {
      "application/vnd.plotly.v1+json": {
       "config": {
        "plotlyServerURL": "https://plotly.com"
       },
       "data": [
        {
         "link": {
          "hovertemplate": "%{value} unique users went from %{source.label} to %{target.label}.<br /><br />It took them %{label} in average to reach this point from the start of the flow.<extra></extra>",
          "label": [
           "0 days 00:00:30",
           "0 days 00:00:12",
           "0 days 00:00:00",
           "0 days 00:00:00",
           "0 days 00:00:00",
           "0 days 00:00:04",
           "0 days 00:00:04",
           "0 days 00:00:04",
           "0 days 00:00:04",
           "0 days 00:00:04",
           "0 days 00:00:05",
           "0 days 00:00:31",
           "0 days 00:04:12",
           "0 days 00:00:14",
           "0 days 00:00:21",
           "0 days 00:00:15",
           "0 days 00:00:12",
           "0 days 00:00:12",
           "0 days 00:00:13",
           "0 days 00:00:12",
           "0 days 00:00:48",
           "0 days 00:00:19",
           "0 days 00:00:39",
           "0 days 00:00:41",
           "0 days 00:00:31",
           "0 days 00:00:15",
           "0 days 00:00:23",
           "0 days 00:00:17",
           "0 days 00:00:16",
           "0 days 00:00:18",
           "0 days 00:00:36",
           "0 days 00:00:41",
           "0 days 00:00:36",
           "0 days 00:00:37",
           "0 days 00:00:00",
           "0 days 00:00:00",
           "0 days 00:00:04",
           "0 days 00:00:04",
           "0 days 00:00:04",
           "0 days 00:00:05",
           "0 days 00:00:38",
           "0 days 00:00:39",
           "0 days 00:09:35",
           "0 days 00:00:21",
           "0 days 00:00:36",
           "0 days 00:00:20",
           "0 days 00:00:13"
          ],
          "source": [
           21,
           21,
           1,
           1,
           1,
           3,
           3,
           3,
           3,
           3,
           3,
           6,
           6,
           11,
           11,
           11,
           11,
           12,
           12,
           12,
           10,
           10,
           20,
           22,
           17,
           13,
           13,
           13,
           13,
           13,
           18,
           18,
           15,
           16,
           0,
           0,
           2,
           2,
           2,
           2,
           14,
           19,
           23,
           9,
           9,
           8,
           7
          ],
          "target": [
           6,
           11,
           3,
           6,
           5,
           11,
           6,
           12,
           10,
           13,
           21,
           26,
           25,
           21,
           20,
           22,
           6,
           21,
           22,
           20,
           5,
           13,
           6,
           6,
           21,
           17,
           18,
           15,
           6,
           16,
           21,
           22,
           22,
           21,
           2,
           4,
           23,
           9,
           8,
           7,
           19,
           23,
           24,
           14,
           23,
           19,
           19
          ],
          "value": [
           19,
           1,
           88,
           7,
           6,
           19,
           36,
           11,
           5,
           16,
           1,
           6,
           40,
           9,
           6,
           4,
           1,
           4,
           6,
           1,
           4,
           1,
           7,
           19,
           1,
           1,
           12,
           1,
           2,
           1,
           4,
           8,
           1,
           1,
           16,
           5,
           6,
           3,
           6,
           1,
           2,
           9,
           9,
           2,
           1,
           6,
           1
          ]
         },
         "node": {
          "label": [
           "EXTCALL_69:Block List~~API_EVENT",
           "EXTCALL_69~~API_EVENT",
           "EXTCALL_71:Robot Menu~~API_EVENT",
           "EXTCALL_71~~API_EVENT",
           "ICALL_1:Main Number~~CALL_EVENT:ANSWER",
           "ICALL_1~~CALL_EVENT:ANSWER",
           "ICALL_1~~CALL_EVENT:HUNGUP",
           "MENU_TREE_63:3.1 Main Menu~~1-dtmf",
           "MENU_TREE_63:3.1 Main Menu~~2-dtmf",
           "MENU_TREE_63:3.1 Main Menu~~3-dtmf",
           "MENU_TREE_63~~-1-dtmf",
           "MENU_TREE_63~~1-dtmf",
           "MENU_TREE_63~~2-dtmf",
           "MENU_TREE_63~~3-dtmf",
           "DTMF_59:8.0 Fault Code~~-2-dtmf",
           "DTMF_59~~-1-dtmf",
           "DTMF_59~~0-dtmf",
           "DTMF_59~~1-dtmf",
           "DTMF_59~~2-dtmf",
           "DTMF_61:4.0 Survey~~-2-dtmf",
           "DTMF_61~~-1-dtmf",
           "DTMF_61~~1-dtmf",
           "DTMF_61~~2-dtmf",
           "ICALL_1:Main Number~~CALL_EVENT:HUNGUP",
           "TRANSFER_38:TRANSFER~~CALL_EVENT:HUNGUP",
           "TRANSFER_38~~CALL_EVENT:HUNGUP",
           "TRANSFER_38~~CALL_EVENT:NOANSWER"
          ],
          "line": {
           "color": "black",
           "width": 0.5
          },
          "thickness": 10
         },
         "type": "sankey"
        }
       ],
       "layout": {
        "autosize": true,
        "font": {
         "size": 15
        },
        "plot_bgcolor": "white",
        "template": {
         "data": {
          "bar": [
           {
            "error_x": {
             "color": "#2a3f5f"
            },
            "error_y": {
             "color": "#2a3f5f"
            },
            "marker": {
             "line": {
              "color": "#E5ECF6",
              "width": 0.5
             }
            },
            "type": "bar"
           }
          ],
          "barpolar": [
           {
            "marker": {
             "line": {
              "color": "#E5ECF6",
              "width": 0.5
             }
            },
            "type": "barpolar"
           }
          ],
          "carpet": [
           {
            "aaxis": {
             "endlinecolor": "#2a3f5f",
             "gridcolor": "white",
             "linecolor": "white",
             "minorgridcolor": "white",
             "startlinecolor": "#2a3f5f"
            },
            "baxis": {
             "endlinecolor": "#2a3f5f",
             "gridcolor": "white",
             "linecolor": "white",
             "minorgridcolor": "white",
             "startlinecolor": "#2a3f5f"
            },
            "type": "carpet"
           }
          ],
          "choropleth": [
           {
            "colorbar": {
             "outlinewidth": 0,
             "ticks": ""
            },
            "type": "choropleth"
           }
          ],
          "contour": [
           {
            "colorbar": {
             "outlinewidth": 0,
             "ticks": ""
            },
            "colorscale": [
             [
              0,
              "#0d0887"
             ],
             [
              0.1111111111111111,
              "#46039f"
             ],
             [
              0.2222222222222222,
              "#7201a8"
             ],
             [
              0.3333333333333333,
              "#9c179e"
             ],
             [
              0.4444444444444444,
              "#bd3786"
             ],
             [
              0.5555555555555556,
              "#d8576b"
             ],
             [
              0.6666666666666666,
              "#ed7953"
             ],
             [
              0.7777777777777778,
              "#fb9f3a"
             ],
             [
              0.8888888888888888,
              "#fdca26"
             ],
             [
              1,
              "#f0f921"
             ]
            ],
            "type": "contour"
           }
          ],
          "contourcarpet": [
           {
            "colorbar": {
             "outlinewidth": 0,
             "ticks": ""
            },
            "type": "contourcarpet"
           }
          ],
          "heatmap": [
           {
            "colorbar": {
             "outlinewidth": 0,
             "ticks": ""
            },
            "colorscale": [
             [
              0,
              "#0d0887"
             ],
             [
              0.1111111111111111,
              "#46039f"
             ],
             [
              0.2222222222222222,
              "#7201a8"
             ],
             [
              0.3333333333333333,
              "#9c179e"
             ],
             [
              0.4444444444444444,
              "#bd3786"
             ],
             [
              0.5555555555555556,
              "#d8576b"
             ],
             [
              0.6666666666666666,
              "#ed7953"
             ],
             [
              0.7777777777777778,
              "#fb9f3a"
             ],
             [
              0.8888888888888888,
              "#fdca26"
             ],
             [
              1,
              "#f0f921"
             ]
            ],
            "type": "heatmap"
           }
          ],
          "heatmapgl": [
           {
            "colorbar": {
             "outlinewidth": 0,
             "ticks": ""
            },
            "colorscale": [
             [
              0,
              "#0d0887"
             ],
             [
              0.1111111111111111,
              "#46039f"
             ],
             [
              0.2222222222222222,
              "#7201a8"
             ],
             [
              0.3333333333333333,
              "#9c179e"
             ],
             [
              0.4444444444444444,
              "#bd3786"
             ],
             [
              0.5555555555555556,
              "#d8576b"
             ],
             [
              0.6666666666666666,
              "#ed7953"
             ],
             [
              0.7777777777777778,
              "#fb9f3a"
             ],
             [
              0.8888888888888888,
              "#fdca26"
             ],
             [
              1,
              "#f0f921"
             ]
            ],
            "type": "heatmapgl"
           }
          ],
          "histogram": [
           {
            "marker": {
             "colorbar": {
              "outlinewidth": 0,
              "ticks": ""
             }
            },
            "type": "histogram"
           }
          ],
          "histogram2d": [
           {
            "colorbar": {
             "outlinewidth": 0,
             "ticks": ""
            },
            "colorscale": [
             [
              0,
              "#0d0887"
             ],
             [
              0.1111111111111111,
              "#46039f"
             ],
             [
              0.2222222222222222,
              "#7201a8"
             ],
             [
              0.3333333333333333,
              "#9c179e"
             ],
             [
              0.4444444444444444,
              "#bd3786"
             ],
             [
              0.5555555555555556,
              "#d8576b"
             ],
             [
              0.6666666666666666,
              "#ed7953"
             ],
             [
              0.7777777777777778,
              "#fb9f3a"
             ],
             [
              0.8888888888888888,
              "#fdca26"
             ],
             [
              1,
              "#f0f921"
             ]
            ],
            "type": "histogram2d"
           }
          ],
          "histogram2dcontour": [
           {
            "colorbar": {
             "outlinewidth": 0,
             "ticks": ""
            },
            "colorscale": [
             [
              0,
              "#0d0887"
             ],
             [
              0.1111111111111111,
              "#46039f"
             ],
             [
              0.2222222222222222,
              "#7201a8"
             ],
             [
              0.3333333333333333,
              "#9c179e"
             ],
             [
              0.4444444444444444,
              "#bd3786"
             ],
             [
              0.5555555555555556,
              "#d8576b"
             ],
             [
              0.6666666666666666,
              "#ed7953"
             ],
             [
              0.7777777777777778,
              "#fb9f3a"
             ],
             [
              0.8888888888888888,
              "#fdca26"
             ],
             [
              1,
              "#f0f921"
             ]
            ],
            "type": "histogram2dcontour"
           }
          ],
          "mesh3d": [
           {
            "colorbar": {
             "outlinewidth": 0,
             "ticks": ""
            },
            "type": "mesh3d"
           }
          ],
          "parcoords": [
           {
            "line": {
             "colorbar": {
              "outlinewidth": 0,
              "ticks": ""
             }
            },
            "type": "parcoords"
           }
          ],
          "pie": [
           {
            "automargin": true,
            "type": "pie"
           }
          ],
          "scatter": [
           {
            "marker": {
             "colorbar": {
              "outlinewidth": 0,
              "ticks": ""
             }
            },
            "type": "scatter"
           }
          ],
          "scatter3d": [
           {
            "line": {
             "colorbar": {
              "outlinewidth": 0,
              "ticks": ""
             }
            },
            "marker": {
             "colorbar": {
              "outlinewidth": 0,
              "ticks": ""
             }
            },
            "type": "scatter3d"
           }
          ],
          "scattercarpet": [
           {
            "marker": {
             "colorbar": {
              "outlinewidth": 0,
              "ticks": ""
             }
            },
            "type": "scattercarpet"
           }
          ],
          "scattergeo": [
           {
            "marker": {
             "colorbar": {
              "outlinewidth": 0,
              "ticks": ""
             }
            },
            "type": "scattergeo"
           }
          ],
          "scattergl": [
           {
            "marker": {
             "colorbar": {
              "outlinewidth": 0,
              "ticks": ""
             }
            },
            "type": "scattergl"
           }
          ],
          "scattermapbox": [
           {
            "marker": {
             "colorbar": {
              "outlinewidth": 0,
              "ticks": ""
             }
            },
            "type": "scattermapbox"
           }
          ],
          "scatterpolar": [
           {
            "marker": {
             "colorbar": {
              "outlinewidth": 0,
              "ticks": ""
             }
            },
            "type": "scatterpolar"
           }
          ],
          "scatterpolargl": [
           {
            "marker": {
             "colorbar": {
              "outlinewidth": 0,
              "ticks": ""
             }
            },
            "type": "scatterpolargl"
           }
          ],
          "scatterternary": [
           {
            "marker": {
             "colorbar": {
              "outlinewidth": 0,
              "ticks": ""
             }
            },
            "type": "scatterternary"
           }
          ],
          "surface": [
           {
            "colorbar": {
             "outlinewidth": 0,
             "ticks": ""
            },
            "colorscale": [
             [
              0,
              "#0d0887"
             ],
             [
              0.1111111111111111,
              "#46039f"
             ],
             [
              0.2222222222222222,
              "#7201a8"
             ],
             [
              0.3333333333333333,
              "#9c179e"
             ],
             [
              0.4444444444444444,
              "#bd3786"
             ],
             [
              0.5555555555555556,
              "#d8576b"
             ],
             [
              0.6666666666666666,
              "#ed7953"
             ],
             [
              0.7777777777777778,
              "#fb9f3a"
             ],
             [
              0.8888888888888888,
              "#fdca26"
             ],
             [
              1,
              "#f0f921"
             ]
            ],
            "type": "surface"
           }
          ],
          "table": [
           {
            "cells": {
             "fill": {
              "color": "#EBF0F8"
             },
             "line": {
              "color": "white"
             }
            },
            "header": {
             "fill": {
              "color": "#C8D4E3"
             },
             "line": {
              "color": "white"
             }
            },
            "type": "table"
           }
          ]
         },
         "layout": {
          "annotationdefaults": {
           "arrowcolor": "#2a3f5f",
           "arrowhead": 0,
           "arrowwidth": 1
          },
          "coloraxis": {
           "colorbar": {
            "outlinewidth": 0,
            "ticks": ""
           }
          },
          "colorscale": {
           "diverging": [
            [
             0,
             "#8e0152"
            ],
            [
             0.1,
             "#c51b7d"
            ],
            [
             0.2,
             "#de77ae"
            ],
            [
             0.3,
             "#f1b6da"
            ],
            [
             0.4,
             "#fde0ef"
            ],
            [
             0.5,
             "#f7f7f7"
            ],
            [
             0.6,
             "#e6f5d0"
            ],
            [
             0.7,
             "#b8e186"
            ],
            [
             0.8,
             "#7fbc41"
            ],
            [
             0.9,
             "#4d9221"
            ],
            [
             1,
             "#276419"
            ]
           ],
           "sequential": [
            [
             0,
             "#0d0887"
            ],
            [
             0.1111111111111111,
             "#46039f"
            ],
            [
             0.2222222222222222,
             "#7201a8"
            ],
            [
             0.3333333333333333,
             "#9c179e"
            ],
            [
             0.4444444444444444,
             "#bd3786"
            ],
            [
             0.5555555555555556,
             "#d8576b"
            ],
            [
             0.6666666666666666,
             "#ed7953"
            ],
            [
             0.7777777777777778,
             "#fb9f3a"
            ],
            [
             0.8888888888888888,
             "#fdca26"
            ],
            [
             1,
             "#f0f921"
            ]
           ],
           "sequentialminus": [
            [
             0,
             "#0d0887"
            ],
            [
             0.1111111111111111,
             "#46039f"
            ],
            [
             0.2222222222222222,
             "#7201a8"
            ],
            [
             0.3333333333333333,
             "#9c179e"
            ],
            [
             0.4444444444444444,
             "#bd3786"
            ],
            [
             0.5555555555555556,
             "#d8576b"
            ],
            [
             0.6666666666666666,
             "#ed7953"
            ],
            [
             0.7777777777777778,
             "#fb9f3a"
            ],
            [
             0.8888888888888888,
             "#fdca26"
            ],
            [
             1,
             "#f0f921"
            ]
           ]
          },
          "colorway": [
           "#636efa",
           "#EF553B",
           "#00cc96",
           "#ab63fa",
           "#FFA15A",
           "#19d3f3",
           "#FF6692",
           "#B6E880",
           "#FF97FF",
           "#FECB52"
          ],
          "font": {
           "color": "#2a3f5f"
          },
          "geo": {
           "bgcolor": "white",
           "lakecolor": "white",
           "landcolor": "#E5ECF6",
           "showlakes": true,
           "showland": true,
           "subunitcolor": "white"
          },
          "hoverlabel": {
           "align": "left"
          },
          "hovermode": "closest",
          "mapbox": {
           "style": "light"
          },
          "paper_bgcolor": "white",
          "plot_bgcolor": "#E5ECF6",
          "polar": {
           "angularaxis": {
            "gridcolor": "white",
            "linecolor": "white",
            "ticks": ""
           },
           "bgcolor": "#E5ECF6",
           "radialaxis": {
            "gridcolor": "white",
            "linecolor": "white",
            "ticks": ""
           }
          },
          "scene": {
           "xaxis": {
            "backgroundcolor": "#E5ECF6",
            "gridcolor": "white",
            "gridwidth": 2,
            "linecolor": "white",
            "showbackground": true,
            "ticks": "",
            "zerolinecolor": "white"
           },
           "yaxis": {
            "backgroundcolor": "#E5ECF6",
            "gridcolor": "white",
            "gridwidth": 2,
            "linecolor": "white",
            "showbackground": true,
            "ticks": "",
            "zerolinecolor": "white"
           },
           "zaxis": {
            "backgroundcolor": "#E5ECF6",
            "gridcolor": "white",
            "gridwidth": 2,
            "linecolor": "white",
            "showbackground": true,
            "ticks": "",
            "zerolinecolor": "white"
           }
          },
          "shapedefaults": {
           "line": {
            "color": "#2a3f5f"
           }
          },
          "ternary": {
           "aaxis": {
            "gridcolor": "white",
            "linecolor": "white",
            "ticks": ""
           },
           "baxis": {
            "gridcolor": "white",
            "linecolor": "white",
            "ticks": ""
           },
           "bgcolor": "#E5ECF6",
           "caxis": {
            "gridcolor": "white",
            "linecolor": "white",
            "ticks": ""
           }
          },
          "title": {
           "x": 0.05
          },
          "xaxis": {
           "automargin": true,
           "gridcolor": "white",
           "linecolor": "white",
           "ticks": "",
           "title": {
            "standoff": 15
           },
           "zerolinecolor": "white",
           "zerolinewidth": 2
          },
          "yaxis": {
           "automargin": true,
           "gridcolor": "white",
           "linecolor": "white",
           "ticks": "",
           "title": {
            "standoff": 15
           },
           "zerolinecolor": "white",
           "zerolinewidth": 2
          }
         }
        },
        "title": {
         "text": "Spain - Customer Service Without Trimming"
        }
       }
      },
      "text/html": [
       "<div>                            <div id=\"917cc78c-d573-4c6a-9bc2-dc29914c25c0\" class=\"plotly-graph-div\" style=\"height:525px; width:100%;\"></div>            <script type=\"text/javascript\">                require([\"plotly\"], function(Plotly) {                    window.PLOTLYENV=window.PLOTLYENV || {};                                    if (document.getElementById(\"917cc78c-d573-4c6a-9bc2-dc29914c25c0\")) {                    Plotly.newPlot(                        \"917cc78c-d573-4c6a-9bc2-dc29914c25c0\",                        [{\"link\": {\"hovertemplate\": \"%{value} unique users went from %{source.label} to %{target.label}.<br /><br />It took them %{label} in average to reach this point from the start of the flow.<extra></extra>\", \"label\": [\"0 days 00:00:30\", \"0 days 00:00:12\", \"0 days 00:00:00\", \"0 days 00:00:00\", \"0 days 00:00:00\", \"0 days 00:00:04\", \"0 days 00:00:04\", \"0 days 00:00:04\", \"0 days 00:00:04\", \"0 days 00:00:04\", \"0 days 00:00:05\", \"0 days 00:00:31\", \"0 days 00:04:12\", \"0 days 00:00:14\", \"0 days 00:00:21\", \"0 days 00:00:15\", \"0 days 00:00:12\", \"0 days 00:00:12\", \"0 days 00:00:13\", \"0 days 00:00:12\", \"0 days 00:00:48\", \"0 days 00:00:19\", \"0 days 00:00:39\", \"0 days 00:00:41\", \"0 days 00:00:31\", \"0 days 00:00:15\", \"0 days 00:00:23\", \"0 days 00:00:17\", \"0 days 00:00:16\", \"0 days 00:00:18\", \"0 days 00:00:36\", \"0 days 00:00:41\", \"0 days 00:00:36\", \"0 days 00:00:37\", \"0 days 00:00:00\", \"0 days 00:00:00\", \"0 days 00:00:04\", \"0 days 00:00:04\", \"0 days 00:00:04\", \"0 days 00:00:05\", \"0 days 00:00:38\", \"0 days 00:00:39\", \"0 days 00:09:35\", \"0 days 00:00:21\", \"0 days 00:00:36\", \"0 days 00:00:20\", \"0 days 00:00:13\"], \"source\": [21, 21, 1, 1, 1, 3, 3, 3, 3, 3, 3, 6, 6, 11, 11, 11, 11, 12, 12, 12, 10, 10, 20, 22, 17, 13, 13, 13, 13, 13, 18, 18, 15, 16, 0, 0, 2, 2, 2, 2, 14, 19, 23, 9, 9, 8, 7], \"target\": [6, 11, 3, 6, 5, 11, 6, 12, 10, 13, 21, 26, 25, 21, 20, 22, 6, 21, 22, 20, 5, 13, 6, 6, 21, 17, 18, 15, 6, 16, 21, 22, 22, 21, 2, 4, 23, 9, 8, 7, 19, 23, 24, 14, 23, 19, 19], \"value\": [19, 1, 88, 7, 6, 19, 36, 11, 5, 16, 1, 6, 40, 9, 6, 4, 1, 4, 6, 1, 4, 1, 7, 19, 1, 1, 12, 1, 2, 1, 4, 8, 1, 1, 16, 5, 6, 3, 6, 1, 2, 9, 9, 2, 1, 6, 1]}, \"node\": {\"label\": [\"EXTCALL_69:Block List~~API_EVENT\", \"EXTCALL_69~~API_EVENT\", \"EXTCALL_71:Robot Menu~~API_EVENT\", \"EXTCALL_71~~API_EVENT\", \"ICALL_1:Main Number~~CALL_EVENT:ANSWER\", \"ICALL_1~~CALL_EVENT:ANSWER\", \"ICALL_1~~CALL_EVENT:HUNGUP\", \"MENU_TREE_63:3.1 Main Menu~~1-dtmf\", \"MENU_TREE_63:3.1 Main Menu~~2-dtmf\", \"MENU_TREE_63:3.1 Main Menu~~3-dtmf\", \"MENU_TREE_63~~-1-dtmf\", \"MENU_TREE_63~~1-dtmf\", \"MENU_TREE_63~~2-dtmf\", \"MENU_TREE_63~~3-dtmf\", \"DTMF_59:8.0 Fault Code~~-2-dtmf\", \"DTMF_59~~-1-dtmf\", \"DTMF_59~~0-dtmf\", \"DTMF_59~~1-dtmf\", \"DTMF_59~~2-dtmf\", \"DTMF_61:4.0 Survey~~-2-dtmf\", \"DTMF_61~~-1-dtmf\", \"DTMF_61~~1-dtmf\", \"DTMF_61~~2-dtmf\", \"ICALL_1:Main Number~~CALL_EVENT:HUNGUP\", \"TRANSFER_38:TRANSFER~~CALL_EVENT:HUNGUP\", \"TRANSFER_38~~CALL_EVENT:HUNGUP\", \"TRANSFER_38~~CALL_EVENT:NOANSWER\"], \"line\": {\"color\": \"black\", \"width\": 0.5}, \"thickness\": 10}, \"type\": \"sankey\"}],                        {\"autosize\": true, \"font\": {\"size\": 15}, \"plot_bgcolor\": \"white\", \"template\": {\"data\": {\"bar\": [{\"error_x\": {\"color\": \"#2a3f5f\"}, \"error_y\": {\"color\": \"#2a3f5f\"}, \"marker\": {\"line\": {\"color\": \"#E5ECF6\", \"width\": 0.5}}, \"type\": \"bar\"}], \"barpolar\": [{\"marker\": {\"line\": {\"color\": \"#E5ECF6\", \"width\": 0.5}}, \"type\": \"barpolar\"}], \"carpet\": [{\"aaxis\": {\"endlinecolor\": \"#2a3f5f\", \"gridcolor\": \"white\", \"linecolor\": \"white\", \"minorgridcolor\": \"white\", \"startlinecolor\": \"#2a3f5f\"}, \"baxis\": {\"endlinecolor\": \"#2a3f5f\", \"gridcolor\": \"white\", \"linecolor\": \"white\", \"minorgridcolor\": \"white\", \"startlinecolor\": \"#2a3f5f\"}, \"type\": \"carpet\"}], \"choropleth\": [{\"colorbar\": {\"outlinewidth\": 0, \"ticks\": \"\"}, \"type\": \"choropleth\"}], \"contour\": [{\"colorbar\": {\"outlinewidth\": 0, \"ticks\": \"\"}, \"colorscale\": [[0.0, \"#0d0887\"], [0.1111111111111111, \"#46039f\"], [0.2222222222222222, \"#7201a8\"], [0.3333333333333333, \"#9c179e\"], [0.4444444444444444, \"#bd3786\"], [0.5555555555555556, \"#d8576b\"], [0.6666666666666666, \"#ed7953\"], [0.7777777777777778, \"#fb9f3a\"], [0.8888888888888888, \"#fdca26\"], [1.0, \"#f0f921\"]], \"type\": \"contour\"}], \"contourcarpet\": [{\"colorbar\": {\"outlinewidth\": 0, \"ticks\": \"\"}, \"type\": \"contourcarpet\"}], \"heatmap\": [{\"colorbar\": {\"outlinewidth\": 0, \"ticks\": \"\"}, \"colorscale\": [[0.0, \"#0d0887\"], [0.1111111111111111, \"#46039f\"], [0.2222222222222222, \"#7201a8\"], [0.3333333333333333, \"#9c179e\"], [0.4444444444444444, \"#bd3786\"], [0.5555555555555556, \"#d8576b\"], [0.6666666666666666, \"#ed7953\"], [0.7777777777777778, \"#fb9f3a\"], [0.8888888888888888, \"#fdca26\"], [1.0, \"#f0f921\"]], \"type\": \"heatmap\"}], \"heatmapgl\": [{\"colorbar\": {\"outlinewidth\": 0, \"ticks\": \"\"}, \"colorscale\": [[0.0, \"#0d0887\"], [0.1111111111111111, \"#46039f\"], [0.2222222222222222, \"#7201a8\"], [0.3333333333333333, \"#9c179e\"], [0.4444444444444444, \"#bd3786\"], [0.5555555555555556, \"#d8576b\"], [0.6666666666666666, \"#ed7953\"], [0.7777777777777778, \"#fb9f3a\"], [0.8888888888888888, \"#fdca26\"], [1.0, \"#f0f921\"]], \"type\": \"heatmapgl\"}], \"histogram\": [{\"marker\": {\"colorbar\": {\"outlinewidth\": 0, \"ticks\": \"\"}}, \"type\": \"histogram\"}], \"histogram2d\": [{\"colorbar\": {\"outlinewidth\": 0, \"ticks\": \"\"}, \"colorscale\": [[0.0, \"#0d0887\"], [0.1111111111111111, \"#46039f\"], [0.2222222222222222, \"#7201a8\"], [0.3333333333333333, \"#9c179e\"], [0.4444444444444444, \"#bd3786\"], [0.5555555555555556, \"#d8576b\"], [0.6666666666666666, \"#ed7953\"], [0.7777777777777778, \"#fb9f3a\"], [0.8888888888888888, \"#fdca26\"], [1.0, \"#f0f921\"]], \"type\": \"histogram2d\"}], \"histogram2dcontour\": [{\"colorbar\": {\"outlinewidth\": 0, \"ticks\": \"\"}, \"colorscale\": [[0.0, \"#0d0887\"], [0.1111111111111111, \"#46039f\"], [0.2222222222222222, \"#7201a8\"], [0.3333333333333333, \"#9c179e\"], [0.4444444444444444, \"#bd3786\"], [0.5555555555555556, \"#d8576b\"], [0.6666666666666666, \"#ed7953\"], [0.7777777777777778, \"#fb9f3a\"], [0.8888888888888888, \"#fdca26\"], [1.0, \"#f0f921\"]], \"type\": \"histogram2dcontour\"}], \"mesh3d\": [{\"colorbar\": {\"outlinewidth\": 0, \"ticks\": \"\"}, \"type\": \"mesh3d\"}], \"parcoords\": [{\"line\": {\"colorbar\": {\"outlinewidth\": 0, \"ticks\": \"\"}}, \"type\": \"parcoords\"}], \"pie\": [{\"automargin\": true, \"type\": \"pie\"}], \"scatter\": [{\"marker\": {\"colorbar\": {\"outlinewidth\": 0, \"ticks\": \"\"}}, \"type\": \"scatter\"}], \"scatter3d\": [{\"line\": {\"colorbar\": {\"outlinewidth\": 0, \"ticks\": \"\"}}, \"marker\": {\"colorbar\": {\"outlinewidth\": 0, \"ticks\": \"\"}}, \"type\": \"scatter3d\"}], \"scattercarpet\": [{\"marker\": {\"colorbar\": {\"outlinewidth\": 0, \"ticks\": \"\"}}, \"type\": \"scattercarpet\"}], \"scattergeo\": [{\"marker\": {\"colorbar\": {\"outlinewidth\": 0, \"ticks\": \"\"}}, \"type\": \"scattergeo\"}], \"scattergl\": [{\"marker\": {\"colorbar\": {\"outlinewidth\": 0, \"ticks\": \"\"}}, \"type\": \"scattergl\"}], \"scattermapbox\": [{\"marker\": {\"colorbar\": {\"outlinewidth\": 0, \"ticks\": \"\"}}, \"type\": \"scattermapbox\"}], \"scatterpolar\": [{\"marker\": {\"colorbar\": {\"outlinewidth\": 0, \"ticks\": \"\"}}, \"type\": \"scatterpolar\"}], \"scatterpolargl\": [{\"marker\": {\"colorbar\": {\"outlinewidth\": 0, \"ticks\": \"\"}}, \"type\": \"scatterpolargl\"}], \"scatterternary\": [{\"marker\": {\"colorbar\": {\"outlinewidth\": 0, \"ticks\": \"\"}}, \"type\": \"scatterternary\"}], \"surface\": [{\"colorbar\": {\"outlinewidth\": 0, \"ticks\": \"\"}, \"colorscale\": [[0.0, \"#0d0887\"], [0.1111111111111111, \"#46039f\"], [0.2222222222222222, \"#7201a8\"], [0.3333333333333333, \"#9c179e\"], [0.4444444444444444, \"#bd3786\"], [0.5555555555555556, \"#d8576b\"], [0.6666666666666666, \"#ed7953\"], [0.7777777777777778, \"#fb9f3a\"], [0.8888888888888888, \"#fdca26\"], [1.0, \"#f0f921\"]], \"type\": \"surface\"}], \"table\": [{\"cells\": {\"fill\": {\"color\": \"#EBF0F8\"}, \"line\": {\"color\": \"white\"}}, \"header\": {\"fill\": {\"color\": \"#C8D4E3\"}, \"line\": {\"color\": \"white\"}}, \"type\": \"table\"}]}, \"layout\": {\"annotationdefaults\": {\"arrowcolor\": \"#2a3f5f\", \"arrowhead\": 0, \"arrowwidth\": 1}, \"coloraxis\": {\"colorbar\": {\"outlinewidth\": 0, \"ticks\": \"\"}}, \"colorscale\": {\"diverging\": [[0, \"#8e0152\"], [0.1, \"#c51b7d\"], [0.2, \"#de77ae\"], [0.3, \"#f1b6da\"], [0.4, \"#fde0ef\"], [0.5, \"#f7f7f7\"], [0.6, \"#e6f5d0\"], [0.7, \"#b8e186\"], [0.8, \"#7fbc41\"], [0.9, \"#4d9221\"], [1, \"#276419\"]], \"sequential\": [[0.0, \"#0d0887\"], [0.1111111111111111, \"#46039f\"], [0.2222222222222222, \"#7201a8\"], [0.3333333333333333, \"#9c179e\"], [0.4444444444444444, \"#bd3786\"], [0.5555555555555556, \"#d8576b\"], [0.6666666666666666, \"#ed7953\"], [0.7777777777777778, \"#fb9f3a\"], [0.8888888888888888, \"#fdca26\"], [1.0, \"#f0f921\"]], \"sequentialminus\": [[0.0, \"#0d0887\"], [0.1111111111111111, \"#46039f\"], [0.2222222222222222, \"#7201a8\"], [0.3333333333333333, \"#9c179e\"], [0.4444444444444444, \"#bd3786\"], [0.5555555555555556, \"#d8576b\"], [0.6666666666666666, \"#ed7953\"], [0.7777777777777778, \"#fb9f3a\"], [0.8888888888888888, \"#fdca26\"], [1.0, \"#f0f921\"]]}, \"colorway\": [\"#636efa\", \"#EF553B\", \"#00cc96\", \"#ab63fa\", \"#FFA15A\", \"#19d3f3\", \"#FF6692\", \"#B6E880\", \"#FF97FF\", \"#FECB52\"], \"font\": {\"color\": \"#2a3f5f\"}, \"geo\": {\"bgcolor\": \"white\", \"lakecolor\": \"white\", \"landcolor\": \"#E5ECF6\", \"showlakes\": true, \"showland\": true, \"subunitcolor\": \"white\"}, \"hoverlabel\": {\"align\": \"left\"}, \"hovermode\": \"closest\", \"mapbox\": {\"style\": \"light\"}, \"paper_bgcolor\": \"white\", \"plot_bgcolor\": \"#E5ECF6\", \"polar\": {\"angularaxis\": {\"gridcolor\": \"white\", \"linecolor\": \"white\", \"ticks\": \"\"}, \"bgcolor\": \"#E5ECF6\", \"radialaxis\": {\"gridcolor\": \"white\", \"linecolor\": \"white\", \"ticks\": \"\"}}, \"scene\": {\"xaxis\": {\"backgroundcolor\": \"#E5ECF6\", \"gridcolor\": \"white\", \"gridwidth\": 2, \"linecolor\": \"white\", \"showbackground\": true, \"ticks\": \"\", \"zerolinecolor\": \"white\"}, \"yaxis\": {\"backgroundcolor\": \"#E5ECF6\", \"gridcolor\": \"white\", \"gridwidth\": 2, \"linecolor\": \"white\", \"showbackground\": true, \"ticks\": \"\", \"zerolinecolor\": \"white\"}, \"zaxis\": {\"backgroundcolor\": \"#E5ECF6\", \"gridcolor\": \"white\", \"gridwidth\": 2, \"linecolor\": \"white\", \"showbackground\": true, \"ticks\": \"\", \"zerolinecolor\": \"white\"}}, \"shapedefaults\": {\"line\": {\"color\": \"#2a3f5f\"}}, \"ternary\": {\"aaxis\": {\"gridcolor\": \"white\", \"linecolor\": \"white\", \"ticks\": \"\"}, \"baxis\": {\"gridcolor\": \"white\", \"linecolor\": \"white\", \"ticks\": \"\"}, \"bgcolor\": \"#E5ECF6\", \"caxis\": {\"gridcolor\": \"white\", \"linecolor\": \"white\", \"ticks\": \"\"}}, \"title\": {\"x\": 0.05}, \"xaxis\": {\"automargin\": true, \"gridcolor\": \"white\", \"linecolor\": \"white\", \"ticks\": \"\", \"title\": {\"standoff\": 15}, \"zerolinecolor\": \"white\", \"zerolinewidth\": 2}, \"yaxis\": {\"automargin\": true, \"gridcolor\": \"white\", \"linecolor\": \"white\", \"ticks\": \"\", \"title\": {\"standoff\": 15}, \"zerolinecolor\": \"white\", \"zerolinewidth\": 2}}}, \"title\": {\"text\": \"Spain - Customer Service Without Trimming\"}},                        {\"responsive\": true}                    ).then(function(){\n",
       "                            \n",
       "var gd = document.getElementById('917cc78c-d573-4c6a-9bc2-dc29914c25c0');\n",
       "var x = new MutationObserver(function (mutations, observer) {{\n",
       "        var display = window.getComputedStyle(gd).display;\n",
       "        if (!display || display === 'none') {{\n",
       "            console.log([gd, 'removed!']);\n",
       "            Plotly.purge(gd);\n",
       "            observer.disconnect();\n",
       "        }}\n",
       "}});\n",
       "\n",
       "// Listen for the removal of the full notebook cells\n",
       "var notebookContainer = gd.closest('#notebook-container');\n",
       "if (notebookContainer) {{\n",
       "    x.observe(notebookContainer, {childList: true});\n",
       "}}\n",
       "\n",
       "// Listen for the clearing of the current output cell\n",
       "var outputEl = gd.closest('.output');\n",
       "if (outputEl) {{\n",
       "    x.observe(outputEl, {childList: true});\n",
       "}}\n",
       "\n",
       "                        })                };                });            </script>        </div>"
      ]
     },
     "metadata": {},
     "output_type": "display_data"
    }
   ],
   "source": [
    "FlowName = \"Spain - Customer Service\"\n",
    "df = client.query(sql_temp.format(FlowName)).to_dataframe()\n",
    "flow = SankeyFlow(df)\n",
    "flow.plot(0, f\"{FlowName} Without Trimming\").show()"
   ]
  },
  {
   "cell_type": "code",
   "execution_count": 19,
   "metadata": {},
   "outputs": [
    {
     "data": {
      "application/vnd.plotly.v1+json": {
       "config": {
        "plotlyServerURL": "https://plotly.com"
       },
       "data": [
        {
         "link": {
          "hovertemplate": "%{value} unique users went from %{source.label} to %{target.label}.<br /><br />It took them %{label} in average to reach this point from the start of the flow.<extra></extra>",
          "label": [
           "0 days 00:00:30",
           "0 days 00:00:00",
           "0 days 00:00:00",
           "0 days 00:00:00",
           "0 days 00:00:04",
           "0 days 00:00:04",
           "0 days 00:00:04",
           "0 days 00:00:04",
           "0 days 00:00:04",
           "0 days 00:00:31",
           "0 days 00:04:12",
           "0 days 00:00:14",
           "0 days 00:00:21",
           "0 days 00:00:13",
           "0 days 00:00:39",
           "0 days 00:00:41",
           "0 days 00:00:23",
           "0 days 00:00:41",
           "0 days 00:00:00",
           "0 days 00:00:00",
           "0 days 00:00:04",
           "0 days 00:00:04",
           "0 days 00:00:39",
           "0 days 00:09:35",
           "0 days 00:00:20"
          ],
          "source": [
           21,
           1,
           1,
           1,
           3,
           3,
           3,
           3,
           3,
           6,
           6,
           11,
           11,
           12,
           20,
           22,
           13,
           18,
           0,
           0,
           2,
           2,
           19,
           23,
           8
          ],
          "target": [
           6,
           3,
           6,
           5,
           11,
           6,
           12,
           10,
           13,
           26,
           25,
           21,
           20,
           22,
           6,
           6,
           18,
           22,
           2,
           4,
           23,
           8,
           23,
           24,
           19
          ],
          "value": [
           19,
           88,
           7,
           6,
           19,
           36,
           11,
           5,
           16,
           6,
           40,
           9,
           6,
           6,
           7,
           19,
           12,
           8,
           16,
           5,
           6,
           6,
           9,
           9,
           6
          ]
         },
         "node": {
          "label": [
           "EXTCALL_69:Block List~~API_EVENT",
           "EXTCALL_69~~API_EVENT",
           "EXTCALL_71:Robot Menu~~API_EVENT",
           "EXTCALL_71~~API_EVENT",
           "ICALL_1:Main Number~~CALL_EVENT:ANSWER",
           "ICALL_1~~CALL_EVENT:ANSWER",
           "ICALL_1~~CALL_EVENT:HUNGUP",
           "MENU_TREE_63:3.1 Main Menu~~1-dtmf",
           "MENU_TREE_63:3.1 Main Menu~~2-dtmf",
           "MENU_TREE_63:3.1 Main Menu~~3-dtmf",
           "MENU_TREE_63~~-1-dtmf",
           "MENU_TREE_63~~1-dtmf",
           "MENU_TREE_63~~2-dtmf",
           "MENU_TREE_63~~3-dtmf",
           "DTMF_59:8.0 Fault Code~~-2-dtmf",
           "DTMF_59~~-1-dtmf",
           "DTMF_59~~0-dtmf",
           "DTMF_59~~1-dtmf",
           "DTMF_59~~2-dtmf",
           "DTMF_61:4.0 Survey~~-2-dtmf",
           "DTMF_61~~-1-dtmf",
           "DTMF_61~~1-dtmf",
           "DTMF_61~~2-dtmf",
           "ICALL_1:Main Number~~CALL_EVENT:HUNGUP",
           "TRANSFER_38:TRANSFER~~CALL_EVENT:HUNGUP",
           "TRANSFER_38~~CALL_EVENT:HUNGUP",
           "TRANSFER_38~~CALL_EVENT:NOANSWER"
          ],
          "line": {
           "color": "black",
           "width": 0.5
          },
          "thickness": 10
         },
         "type": "sankey"
        }
       ],
       "layout": {
        "autosize": true,
        "font": {
         "size": 15
        },
        "plot_bgcolor": "white",
        "template": {
         "data": {
          "bar": [
           {
            "error_x": {
             "color": "#2a3f5f"
            },
            "error_y": {
             "color": "#2a3f5f"
            },
            "marker": {
             "line": {
              "color": "#E5ECF6",
              "width": 0.5
             }
            },
            "type": "bar"
           }
          ],
          "barpolar": [
           {
            "marker": {
             "line": {
              "color": "#E5ECF6",
              "width": 0.5
             }
            },
            "type": "barpolar"
           }
          ],
          "carpet": [
           {
            "aaxis": {
             "endlinecolor": "#2a3f5f",
             "gridcolor": "white",
             "linecolor": "white",
             "minorgridcolor": "white",
             "startlinecolor": "#2a3f5f"
            },
            "baxis": {
             "endlinecolor": "#2a3f5f",
             "gridcolor": "white",
             "linecolor": "white",
             "minorgridcolor": "white",
             "startlinecolor": "#2a3f5f"
            },
            "type": "carpet"
           }
          ],
          "choropleth": [
           {
            "colorbar": {
             "outlinewidth": 0,
             "ticks": ""
            },
            "type": "choropleth"
           }
          ],
          "contour": [
           {
            "colorbar": {
             "outlinewidth": 0,
             "ticks": ""
            },
            "colorscale": [
             [
              0,
              "#0d0887"
             ],
             [
              0.1111111111111111,
              "#46039f"
             ],
             [
              0.2222222222222222,
              "#7201a8"
             ],
             [
              0.3333333333333333,
              "#9c179e"
             ],
             [
              0.4444444444444444,
              "#bd3786"
             ],
             [
              0.5555555555555556,
              "#d8576b"
             ],
             [
              0.6666666666666666,
              "#ed7953"
             ],
             [
              0.7777777777777778,
              "#fb9f3a"
             ],
             [
              0.8888888888888888,
              "#fdca26"
             ],
             [
              1,
              "#f0f921"
             ]
            ],
            "type": "contour"
           }
          ],
          "contourcarpet": [
           {
            "colorbar": {
             "outlinewidth": 0,
             "ticks": ""
            },
            "type": "contourcarpet"
           }
          ],
          "heatmap": [
           {
            "colorbar": {
             "outlinewidth": 0,
             "ticks": ""
            },
            "colorscale": [
             [
              0,
              "#0d0887"
             ],
             [
              0.1111111111111111,
              "#46039f"
             ],
             [
              0.2222222222222222,
              "#7201a8"
             ],
             [
              0.3333333333333333,
              "#9c179e"
             ],
             [
              0.4444444444444444,
              "#bd3786"
             ],
             [
              0.5555555555555556,
              "#d8576b"
             ],
             [
              0.6666666666666666,
              "#ed7953"
             ],
             [
              0.7777777777777778,
              "#fb9f3a"
             ],
             [
              0.8888888888888888,
              "#fdca26"
             ],
             [
              1,
              "#f0f921"
             ]
            ],
            "type": "heatmap"
           }
          ],
          "heatmapgl": [
           {
            "colorbar": {
             "outlinewidth": 0,
             "ticks": ""
            },
            "colorscale": [
             [
              0,
              "#0d0887"
             ],
             [
              0.1111111111111111,
              "#46039f"
             ],
             [
              0.2222222222222222,
              "#7201a8"
             ],
             [
              0.3333333333333333,
              "#9c179e"
             ],
             [
              0.4444444444444444,
              "#bd3786"
             ],
             [
              0.5555555555555556,
              "#d8576b"
             ],
             [
              0.6666666666666666,
              "#ed7953"
             ],
             [
              0.7777777777777778,
              "#fb9f3a"
             ],
             [
              0.8888888888888888,
              "#fdca26"
             ],
             [
              1,
              "#f0f921"
             ]
            ],
            "type": "heatmapgl"
           }
          ],
          "histogram": [
           {
            "marker": {
             "colorbar": {
              "outlinewidth": 0,
              "ticks": ""
             }
            },
            "type": "histogram"
           }
          ],
          "histogram2d": [
           {
            "colorbar": {
             "outlinewidth": 0,
             "ticks": ""
            },
            "colorscale": [
             [
              0,
              "#0d0887"
             ],
             [
              0.1111111111111111,
              "#46039f"
             ],
             [
              0.2222222222222222,
              "#7201a8"
             ],
             [
              0.3333333333333333,
              "#9c179e"
             ],
             [
              0.4444444444444444,
              "#bd3786"
             ],
             [
              0.5555555555555556,
              "#d8576b"
             ],
             [
              0.6666666666666666,
              "#ed7953"
             ],
             [
              0.7777777777777778,
              "#fb9f3a"
             ],
             [
              0.8888888888888888,
              "#fdca26"
             ],
             [
              1,
              "#f0f921"
             ]
            ],
            "type": "histogram2d"
           }
          ],
          "histogram2dcontour": [
           {
            "colorbar": {
             "outlinewidth": 0,
             "ticks": ""
            },
            "colorscale": [
             [
              0,
              "#0d0887"
             ],
             [
              0.1111111111111111,
              "#46039f"
             ],
             [
              0.2222222222222222,
              "#7201a8"
             ],
             [
              0.3333333333333333,
              "#9c179e"
             ],
             [
              0.4444444444444444,
              "#bd3786"
             ],
             [
              0.5555555555555556,
              "#d8576b"
             ],
             [
              0.6666666666666666,
              "#ed7953"
             ],
             [
              0.7777777777777778,
              "#fb9f3a"
             ],
             [
              0.8888888888888888,
              "#fdca26"
             ],
             [
              1,
              "#f0f921"
             ]
            ],
            "type": "histogram2dcontour"
           }
          ],
          "mesh3d": [
           {
            "colorbar": {
             "outlinewidth": 0,
             "ticks": ""
            },
            "type": "mesh3d"
           }
          ],
          "parcoords": [
           {
            "line": {
             "colorbar": {
              "outlinewidth": 0,
              "ticks": ""
             }
            },
            "type": "parcoords"
           }
          ],
          "pie": [
           {
            "automargin": true,
            "type": "pie"
           }
          ],
          "scatter": [
           {
            "marker": {
             "colorbar": {
              "outlinewidth": 0,
              "ticks": ""
             }
            },
            "type": "scatter"
           }
          ],
          "scatter3d": [
           {
            "line": {
             "colorbar": {
              "outlinewidth": 0,
              "ticks": ""
             }
            },
            "marker": {
             "colorbar": {
              "outlinewidth": 0,
              "ticks": ""
             }
            },
            "type": "scatter3d"
           }
          ],
          "scattercarpet": [
           {
            "marker": {
             "colorbar": {
              "outlinewidth": 0,
              "ticks": ""
             }
            },
            "type": "scattercarpet"
           }
          ],
          "scattergeo": [
           {
            "marker": {
             "colorbar": {
              "outlinewidth": 0,
              "ticks": ""
             }
            },
            "type": "scattergeo"
           }
          ],
          "scattergl": [
           {
            "marker": {
             "colorbar": {
              "outlinewidth": 0,
              "ticks": ""
             }
            },
            "type": "scattergl"
           }
          ],
          "scattermapbox": [
           {
            "marker": {
             "colorbar": {
              "outlinewidth": 0,
              "ticks": ""
             }
            },
            "type": "scattermapbox"
           }
          ],
          "scatterpolar": [
           {
            "marker": {
             "colorbar": {
              "outlinewidth": 0,
              "ticks": ""
             }
            },
            "type": "scatterpolar"
           }
          ],
          "scatterpolargl": [
           {
            "marker": {
             "colorbar": {
              "outlinewidth": 0,
              "ticks": ""
             }
            },
            "type": "scatterpolargl"
           }
          ],
          "scatterternary": [
           {
            "marker": {
             "colorbar": {
              "outlinewidth": 0,
              "ticks": ""
             }
            },
            "type": "scatterternary"
           }
          ],
          "surface": [
           {
            "colorbar": {
             "outlinewidth": 0,
             "ticks": ""
            },
            "colorscale": [
             [
              0,
              "#0d0887"
             ],
             [
              0.1111111111111111,
              "#46039f"
             ],
             [
              0.2222222222222222,
              "#7201a8"
             ],
             [
              0.3333333333333333,
              "#9c179e"
             ],
             [
              0.4444444444444444,
              "#bd3786"
             ],
             [
              0.5555555555555556,
              "#d8576b"
             ],
             [
              0.6666666666666666,
              "#ed7953"
             ],
             [
              0.7777777777777778,
              "#fb9f3a"
             ],
             [
              0.8888888888888888,
              "#fdca26"
             ],
             [
              1,
              "#f0f921"
             ]
            ],
            "type": "surface"
           }
          ],
          "table": [
           {
            "cells": {
             "fill": {
              "color": "#EBF0F8"
             },
             "line": {
              "color": "white"
             }
            },
            "header": {
             "fill": {
              "color": "#C8D4E3"
             },
             "line": {
              "color": "white"
             }
            },
            "type": "table"
           }
          ]
         },
         "layout": {
          "annotationdefaults": {
           "arrowcolor": "#2a3f5f",
           "arrowhead": 0,
           "arrowwidth": 1
          },
          "coloraxis": {
           "colorbar": {
            "outlinewidth": 0,
            "ticks": ""
           }
          },
          "colorscale": {
           "diverging": [
            [
             0,
             "#8e0152"
            ],
            [
             0.1,
             "#c51b7d"
            ],
            [
             0.2,
             "#de77ae"
            ],
            [
             0.3,
             "#f1b6da"
            ],
            [
             0.4,
             "#fde0ef"
            ],
            [
             0.5,
             "#f7f7f7"
            ],
            [
             0.6,
             "#e6f5d0"
            ],
            [
             0.7,
             "#b8e186"
            ],
            [
             0.8,
             "#7fbc41"
            ],
            [
             0.9,
             "#4d9221"
            ],
            [
             1,
             "#276419"
            ]
           ],
           "sequential": [
            [
             0,
             "#0d0887"
            ],
            [
             0.1111111111111111,
             "#46039f"
            ],
            [
             0.2222222222222222,
             "#7201a8"
            ],
            [
             0.3333333333333333,
             "#9c179e"
            ],
            [
             0.4444444444444444,
             "#bd3786"
            ],
            [
             0.5555555555555556,
             "#d8576b"
            ],
            [
             0.6666666666666666,
             "#ed7953"
            ],
            [
             0.7777777777777778,
             "#fb9f3a"
            ],
            [
             0.8888888888888888,
             "#fdca26"
            ],
            [
             1,
             "#f0f921"
            ]
           ],
           "sequentialminus": [
            [
             0,
             "#0d0887"
            ],
            [
             0.1111111111111111,
             "#46039f"
            ],
            [
             0.2222222222222222,
             "#7201a8"
            ],
            [
             0.3333333333333333,
             "#9c179e"
            ],
            [
             0.4444444444444444,
             "#bd3786"
            ],
            [
             0.5555555555555556,
             "#d8576b"
            ],
            [
             0.6666666666666666,
             "#ed7953"
            ],
            [
             0.7777777777777778,
             "#fb9f3a"
            ],
            [
             0.8888888888888888,
             "#fdca26"
            ],
            [
             1,
             "#f0f921"
            ]
           ]
          },
          "colorway": [
           "#636efa",
           "#EF553B",
           "#00cc96",
           "#ab63fa",
           "#FFA15A",
           "#19d3f3",
           "#FF6692",
           "#B6E880",
           "#FF97FF",
           "#FECB52"
          ],
          "font": {
           "color": "#2a3f5f"
          },
          "geo": {
           "bgcolor": "white",
           "lakecolor": "white",
           "landcolor": "#E5ECF6",
           "showlakes": true,
           "showland": true,
           "subunitcolor": "white"
          },
          "hoverlabel": {
           "align": "left"
          },
          "hovermode": "closest",
          "mapbox": {
           "style": "light"
          },
          "paper_bgcolor": "white",
          "plot_bgcolor": "#E5ECF6",
          "polar": {
           "angularaxis": {
            "gridcolor": "white",
            "linecolor": "white",
            "ticks": ""
           },
           "bgcolor": "#E5ECF6",
           "radialaxis": {
            "gridcolor": "white",
            "linecolor": "white",
            "ticks": ""
           }
          },
          "scene": {
           "xaxis": {
            "backgroundcolor": "#E5ECF6",
            "gridcolor": "white",
            "gridwidth": 2,
            "linecolor": "white",
            "showbackground": true,
            "ticks": "",
            "zerolinecolor": "white"
           },
           "yaxis": {
            "backgroundcolor": "#E5ECF6",
            "gridcolor": "white",
            "gridwidth": 2,
            "linecolor": "white",
            "showbackground": true,
            "ticks": "",
            "zerolinecolor": "white"
           },
           "zaxis": {
            "backgroundcolor": "#E5ECF6",
            "gridcolor": "white",
            "gridwidth": 2,
            "linecolor": "white",
            "showbackground": true,
            "ticks": "",
            "zerolinecolor": "white"
           }
          },
          "shapedefaults": {
           "line": {
            "color": "#2a3f5f"
           }
          },
          "ternary": {
           "aaxis": {
            "gridcolor": "white",
            "linecolor": "white",
            "ticks": ""
           },
           "baxis": {
            "gridcolor": "white",
            "linecolor": "white",
            "ticks": ""
           },
           "bgcolor": "#E5ECF6",
           "caxis": {
            "gridcolor": "white",
            "linecolor": "white",
            "ticks": ""
           }
          },
          "title": {
           "x": 0.05
          },
          "xaxis": {
           "automargin": true,
           "gridcolor": "white",
           "linecolor": "white",
           "ticks": "",
           "title": {
            "standoff": 15
           },
           "zerolinecolor": "white",
           "zerolinewidth": 2
          },
          "yaxis": {
           "automargin": true,
           "gridcolor": "white",
           "linecolor": "white",
           "ticks": "",
           "title": {
            "standoff": 15
           },
           "zerolinecolor": "white",
           "zerolinewidth": 2
          }
         }
        },
        "title": {
         "text": "Spain - Customer Service With Trimming"
        }
       }
      },
      "text/html": [
       "<div>                            <div id=\"89833ed4-fd87-4df3-bb8b-6df292e52027\" class=\"plotly-graph-div\" style=\"height:525px; width:100%;\"></div>            <script type=\"text/javascript\">                require([\"plotly\"], function(Plotly) {                    window.PLOTLYENV=window.PLOTLYENV || {};                                    if (document.getElementById(\"89833ed4-fd87-4df3-bb8b-6df292e52027\")) {                    Plotly.newPlot(                        \"89833ed4-fd87-4df3-bb8b-6df292e52027\",                        [{\"link\": {\"hovertemplate\": \"%{value} unique users went from %{source.label} to %{target.label}.<br /><br />It took them %{label} in average to reach this point from the start of the flow.<extra></extra>\", \"label\": [\"0 days 00:00:30\", \"0 days 00:00:00\", \"0 days 00:00:00\", \"0 days 00:00:00\", \"0 days 00:00:04\", \"0 days 00:00:04\", \"0 days 00:00:04\", \"0 days 00:00:04\", \"0 days 00:00:04\", \"0 days 00:00:31\", \"0 days 00:04:12\", \"0 days 00:00:14\", \"0 days 00:00:21\", \"0 days 00:00:13\", \"0 days 00:00:39\", \"0 days 00:00:41\", \"0 days 00:00:23\", \"0 days 00:00:41\", \"0 days 00:00:00\", \"0 days 00:00:00\", \"0 days 00:00:04\", \"0 days 00:00:04\", \"0 days 00:00:39\", \"0 days 00:09:35\", \"0 days 00:00:20\"], \"source\": [21, 1, 1, 1, 3, 3, 3, 3, 3, 6, 6, 11, 11, 12, 20, 22, 13, 18, 0, 0, 2, 2, 19, 23, 8], \"target\": [6, 3, 6, 5, 11, 6, 12, 10, 13, 26, 25, 21, 20, 22, 6, 6, 18, 22, 2, 4, 23, 8, 23, 24, 19], \"value\": [19, 88, 7, 6, 19, 36, 11, 5, 16, 6, 40, 9, 6, 6, 7, 19, 12, 8, 16, 5, 6, 6, 9, 9, 6]}, \"node\": {\"label\": [\"EXTCALL_69:Block List~~API_EVENT\", \"EXTCALL_69~~API_EVENT\", \"EXTCALL_71:Robot Menu~~API_EVENT\", \"EXTCALL_71~~API_EVENT\", \"ICALL_1:Main Number~~CALL_EVENT:ANSWER\", \"ICALL_1~~CALL_EVENT:ANSWER\", \"ICALL_1~~CALL_EVENT:HUNGUP\", \"MENU_TREE_63:3.1 Main Menu~~1-dtmf\", \"MENU_TREE_63:3.1 Main Menu~~2-dtmf\", \"MENU_TREE_63:3.1 Main Menu~~3-dtmf\", \"MENU_TREE_63~~-1-dtmf\", \"MENU_TREE_63~~1-dtmf\", \"MENU_TREE_63~~2-dtmf\", \"MENU_TREE_63~~3-dtmf\", \"DTMF_59:8.0 Fault Code~~-2-dtmf\", \"DTMF_59~~-1-dtmf\", \"DTMF_59~~0-dtmf\", \"DTMF_59~~1-dtmf\", \"DTMF_59~~2-dtmf\", \"DTMF_61:4.0 Survey~~-2-dtmf\", \"DTMF_61~~-1-dtmf\", \"DTMF_61~~1-dtmf\", \"DTMF_61~~2-dtmf\", \"ICALL_1:Main Number~~CALL_EVENT:HUNGUP\", \"TRANSFER_38:TRANSFER~~CALL_EVENT:HUNGUP\", \"TRANSFER_38~~CALL_EVENT:HUNGUP\", \"TRANSFER_38~~CALL_EVENT:NOANSWER\"], \"line\": {\"color\": \"black\", \"width\": 0.5}, \"thickness\": 10}, \"type\": \"sankey\"}],                        {\"autosize\": true, \"font\": {\"size\": 15}, \"plot_bgcolor\": \"white\", \"template\": {\"data\": {\"bar\": [{\"error_x\": {\"color\": \"#2a3f5f\"}, \"error_y\": {\"color\": \"#2a3f5f\"}, \"marker\": {\"line\": {\"color\": \"#E5ECF6\", \"width\": 0.5}}, \"type\": \"bar\"}], \"barpolar\": [{\"marker\": {\"line\": {\"color\": \"#E5ECF6\", \"width\": 0.5}}, \"type\": \"barpolar\"}], \"carpet\": [{\"aaxis\": {\"endlinecolor\": \"#2a3f5f\", \"gridcolor\": \"white\", \"linecolor\": \"white\", \"minorgridcolor\": \"white\", \"startlinecolor\": \"#2a3f5f\"}, \"baxis\": {\"endlinecolor\": \"#2a3f5f\", \"gridcolor\": \"white\", \"linecolor\": \"white\", \"minorgridcolor\": \"white\", \"startlinecolor\": \"#2a3f5f\"}, \"type\": \"carpet\"}], \"choropleth\": [{\"colorbar\": {\"outlinewidth\": 0, \"ticks\": \"\"}, \"type\": \"choropleth\"}], \"contour\": [{\"colorbar\": {\"outlinewidth\": 0, \"ticks\": \"\"}, \"colorscale\": [[0.0, \"#0d0887\"], [0.1111111111111111, \"#46039f\"], [0.2222222222222222, \"#7201a8\"], [0.3333333333333333, \"#9c179e\"], [0.4444444444444444, \"#bd3786\"], [0.5555555555555556, \"#d8576b\"], [0.6666666666666666, \"#ed7953\"], [0.7777777777777778, \"#fb9f3a\"], [0.8888888888888888, \"#fdca26\"], [1.0, \"#f0f921\"]], \"type\": \"contour\"}], \"contourcarpet\": [{\"colorbar\": {\"outlinewidth\": 0, \"ticks\": \"\"}, \"type\": \"contourcarpet\"}], \"heatmap\": [{\"colorbar\": {\"outlinewidth\": 0, \"ticks\": \"\"}, \"colorscale\": [[0.0, \"#0d0887\"], [0.1111111111111111, \"#46039f\"], [0.2222222222222222, \"#7201a8\"], [0.3333333333333333, \"#9c179e\"], [0.4444444444444444, \"#bd3786\"], [0.5555555555555556, \"#d8576b\"], [0.6666666666666666, \"#ed7953\"], [0.7777777777777778, \"#fb9f3a\"], [0.8888888888888888, \"#fdca26\"], [1.0, \"#f0f921\"]], \"type\": \"heatmap\"}], \"heatmapgl\": [{\"colorbar\": {\"outlinewidth\": 0, \"ticks\": \"\"}, \"colorscale\": [[0.0, \"#0d0887\"], [0.1111111111111111, \"#46039f\"], [0.2222222222222222, \"#7201a8\"], [0.3333333333333333, \"#9c179e\"], [0.4444444444444444, \"#bd3786\"], [0.5555555555555556, \"#d8576b\"], [0.6666666666666666, \"#ed7953\"], [0.7777777777777778, \"#fb9f3a\"], [0.8888888888888888, \"#fdca26\"], [1.0, \"#f0f921\"]], \"type\": \"heatmapgl\"}], \"histogram\": [{\"marker\": {\"colorbar\": {\"outlinewidth\": 0, \"ticks\": \"\"}}, \"type\": \"histogram\"}], \"histogram2d\": [{\"colorbar\": {\"outlinewidth\": 0, \"ticks\": \"\"}, \"colorscale\": [[0.0, \"#0d0887\"], [0.1111111111111111, \"#46039f\"], [0.2222222222222222, \"#7201a8\"], [0.3333333333333333, \"#9c179e\"], [0.4444444444444444, \"#bd3786\"], [0.5555555555555556, \"#d8576b\"], [0.6666666666666666, \"#ed7953\"], [0.7777777777777778, \"#fb9f3a\"], [0.8888888888888888, \"#fdca26\"], [1.0, \"#f0f921\"]], \"type\": \"histogram2d\"}], \"histogram2dcontour\": [{\"colorbar\": {\"outlinewidth\": 0, \"ticks\": \"\"}, \"colorscale\": [[0.0, \"#0d0887\"], [0.1111111111111111, \"#46039f\"], [0.2222222222222222, \"#7201a8\"], [0.3333333333333333, \"#9c179e\"], [0.4444444444444444, \"#bd3786\"], [0.5555555555555556, \"#d8576b\"], [0.6666666666666666, \"#ed7953\"], [0.7777777777777778, \"#fb9f3a\"], [0.8888888888888888, \"#fdca26\"], [1.0, \"#f0f921\"]], \"type\": \"histogram2dcontour\"}], \"mesh3d\": [{\"colorbar\": {\"outlinewidth\": 0, \"ticks\": \"\"}, \"type\": \"mesh3d\"}], \"parcoords\": [{\"line\": {\"colorbar\": {\"outlinewidth\": 0, \"ticks\": \"\"}}, \"type\": \"parcoords\"}], \"pie\": [{\"automargin\": true, \"type\": \"pie\"}], \"scatter\": [{\"marker\": {\"colorbar\": {\"outlinewidth\": 0, \"ticks\": \"\"}}, \"type\": \"scatter\"}], \"scatter3d\": [{\"line\": {\"colorbar\": {\"outlinewidth\": 0, \"ticks\": \"\"}}, \"marker\": {\"colorbar\": {\"outlinewidth\": 0, \"ticks\": \"\"}}, \"type\": \"scatter3d\"}], \"scattercarpet\": [{\"marker\": {\"colorbar\": {\"outlinewidth\": 0, \"ticks\": \"\"}}, \"type\": \"scattercarpet\"}], \"scattergeo\": [{\"marker\": {\"colorbar\": {\"outlinewidth\": 0, \"ticks\": \"\"}}, \"type\": \"scattergeo\"}], \"scattergl\": [{\"marker\": {\"colorbar\": {\"outlinewidth\": 0, \"ticks\": \"\"}}, \"type\": \"scattergl\"}], \"scattermapbox\": [{\"marker\": {\"colorbar\": {\"outlinewidth\": 0, \"ticks\": \"\"}}, \"type\": \"scattermapbox\"}], \"scatterpolar\": [{\"marker\": {\"colorbar\": {\"outlinewidth\": 0, \"ticks\": \"\"}}, \"type\": \"scatterpolar\"}], \"scatterpolargl\": [{\"marker\": {\"colorbar\": {\"outlinewidth\": 0, \"ticks\": \"\"}}, \"type\": \"scatterpolargl\"}], \"scatterternary\": [{\"marker\": {\"colorbar\": {\"outlinewidth\": 0, \"ticks\": \"\"}}, \"type\": \"scatterternary\"}], \"surface\": [{\"colorbar\": {\"outlinewidth\": 0, \"ticks\": \"\"}, \"colorscale\": [[0.0, \"#0d0887\"], [0.1111111111111111, \"#46039f\"], [0.2222222222222222, \"#7201a8\"], [0.3333333333333333, \"#9c179e\"], [0.4444444444444444, \"#bd3786\"], [0.5555555555555556, \"#d8576b\"], [0.6666666666666666, \"#ed7953\"], [0.7777777777777778, \"#fb9f3a\"], [0.8888888888888888, \"#fdca26\"], [1.0, \"#f0f921\"]], \"type\": \"surface\"}], \"table\": [{\"cells\": {\"fill\": {\"color\": \"#EBF0F8\"}, \"line\": {\"color\": \"white\"}}, \"header\": {\"fill\": {\"color\": \"#C8D4E3\"}, \"line\": {\"color\": \"white\"}}, \"type\": \"table\"}]}, \"layout\": {\"annotationdefaults\": {\"arrowcolor\": \"#2a3f5f\", \"arrowhead\": 0, \"arrowwidth\": 1}, \"coloraxis\": {\"colorbar\": {\"outlinewidth\": 0, \"ticks\": \"\"}}, \"colorscale\": {\"diverging\": [[0, \"#8e0152\"], [0.1, \"#c51b7d\"], [0.2, \"#de77ae\"], [0.3, \"#f1b6da\"], [0.4, \"#fde0ef\"], [0.5, \"#f7f7f7\"], [0.6, \"#e6f5d0\"], [0.7, \"#b8e186\"], [0.8, \"#7fbc41\"], [0.9, \"#4d9221\"], [1, \"#276419\"]], \"sequential\": [[0.0, \"#0d0887\"], [0.1111111111111111, \"#46039f\"], [0.2222222222222222, \"#7201a8\"], [0.3333333333333333, \"#9c179e\"], [0.4444444444444444, \"#bd3786\"], [0.5555555555555556, \"#d8576b\"], [0.6666666666666666, \"#ed7953\"], [0.7777777777777778, \"#fb9f3a\"], [0.8888888888888888, \"#fdca26\"], [1.0, \"#f0f921\"]], \"sequentialminus\": [[0.0, \"#0d0887\"], [0.1111111111111111, \"#46039f\"], [0.2222222222222222, \"#7201a8\"], [0.3333333333333333, \"#9c179e\"], [0.4444444444444444, \"#bd3786\"], [0.5555555555555556, \"#d8576b\"], [0.6666666666666666, \"#ed7953\"], [0.7777777777777778, \"#fb9f3a\"], [0.8888888888888888, \"#fdca26\"], [1.0, \"#f0f921\"]]}, \"colorway\": [\"#636efa\", \"#EF553B\", \"#00cc96\", \"#ab63fa\", \"#FFA15A\", \"#19d3f3\", \"#FF6692\", \"#B6E880\", \"#FF97FF\", \"#FECB52\"], \"font\": {\"color\": \"#2a3f5f\"}, \"geo\": {\"bgcolor\": \"white\", \"lakecolor\": \"white\", \"landcolor\": \"#E5ECF6\", \"showlakes\": true, \"showland\": true, \"subunitcolor\": \"white\"}, \"hoverlabel\": {\"align\": \"left\"}, \"hovermode\": \"closest\", \"mapbox\": {\"style\": \"light\"}, \"paper_bgcolor\": \"white\", \"plot_bgcolor\": \"#E5ECF6\", \"polar\": {\"angularaxis\": {\"gridcolor\": \"white\", \"linecolor\": \"white\", \"ticks\": \"\"}, \"bgcolor\": \"#E5ECF6\", \"radialaxis\": {\"gridcolor\": \"white\", \"linecolor\": \"white\", \"ticks\": \"\"}}, \"scene\": {\"xaxis\": {\"backgroundcolor\": \"#E5ECF6\", \"gridcolor\": \"white\", \"gridwidth\": 2, \"linecolor\": \"white\", \"showbackground\": true, \"ticks\": \"\", \"zerolinecolor\": \"white\"}, \"yaxis\": {\"backgroundcolor\": \"#E5ECF6\", \"gridcolor\": \"white\", \"gridwidth\": 2, \"linecolor\": \"white\", \"showbackground\": true, \"ticks\": \"\", \"zerolinecolor\": \"white\"}, \"zaxis\": {\"backgroundcolor\": \"#E5ECF6\", \"gridcolor\": \"white\", \"gridwidth\": 2, \"linecolor\": \"white\", \"showbackground\": true, \"ticks\": \"\", \"zerolinecolor\": \"white\"}}, \"shapedefaults\": {\"line\": {\"color\": \"#2a3f5f\"}}, \"ternary\": {\"aaxis\": {\"gridcolor\": \"white\", \"linecolor\": \"white\", \"ticks\": \"\"}, \"baxis\": {\"gridcolor\": \"white\", \"linecolor\": \"white\", \"ticks\": \"\"}, \"bgcolor\": \"#E5ECF6\", \"caxis\": {\"gridcolor\": \"white\", \"linecolor\": \"white\", \"ticks\": \"\"}}, \"title\": {\"x\": 0.05}, \"xaxis\": {\"automargin\": true, \"gridcolor\": \"white\", \"linecolor\": \"white\", \"ticks\": \"\", \"title\": {\"standoff\": 15}, \"zerolinecolor\": \"white\", \"zerolinewidth\": 2}, \"yaxis\": {\"automargin\": true, \"gridcolor\": \"white\", \"linecolor\": \"white\", \"ticks\": \"\", \"title\": {\"standoff\": 15}, \"zerolinecolor\": \"white\", \"zerolinewidth\": 2}}}, \"title\": {\"text\": \"Spain - Customer Service With Trimming\"}},                        {\"responsive\": true}                    ).then(function(){\n",
       "                            \n",
       "var gd = document.getElementById('89833ed4-fd87-4df3-bb8b-6df292e52027');\n",
       "var x = new MutationObserver(function (mutations, observer) {{\n",
       "        var display = window.getComputedStyle(gd).display;\n",
       "        if (!display || display === 'none') {{\n",
       "            console.log([gd, 'removed!']);\n",
       "            Plotly.purge(gd);\n",
       "            observer.disconnect();\n",
       "        }}\n",
       "}});\n",
       "\n",
       "// Listen for the removal of the full notebook cells\n",
       "var notebookContainer = gd.closest('#notebook-container');\n",
       "if (notebookContainer) {{\n",
       "    x.observe(notebookContainer, {childList: true});\n",
       "}}\n",
       "\n",
       "// Listen for the clearing of the current output cell\n",
       "var outputEl = gd.closest('.output');\n",
       "if (outputEl) {{\n",
       "    x.observe(outputEl, {childList: true});\n",
       "}}\n",
       "\n",
       "                        })                };                });            </script>        </div>"
      ]
     },
     "metadata": {},
     "output_type": "display_data"
    }
   ],
   "source": [
    "flow.plot(5, f\"{FlowName} With Trimming\").show()"
   ]
  },
  {
   "cell_type": "code",
   "execution_count": 20,
   "metadata": {},
   "outputs": [
    {
     "data": {
      "application/vnd.plotly.v1+json": {
       "config": {
        "plotlyServerURL": "https://plotly.com"
       },
       "data": [
        {
         "link": {
          "hovertemplate": "%{value} unique users went from %{source.label} to %{target.label}.<br /><br />It took them %{label} in average to reach this point from the start of the flow.<extra></extra>",
          "label": [
           "0 days 00:00:41",
           "0 days 00:00:43",
           "0 days 00:00:43",
           "0 days 00:00:36",
           "0 days 00:11:12",
           "0 days 00:13:28",
           "0 days 00:00:17",
           "0 days 00:00:15",
           "0 days 00:00:21",
           "0 days 00:00:32",
           "0 days 00:00:12",
           "0 days 00:00:15",
           "0 days 00:00:16",
           "0 days 00:00:47",
           "0 days 00:00:11",
           "0 days 00:00:04",
           "0 days 00:00:43",
           "0 days 00:00:34",
           "0 days 00:00:50",
           "0 days 00:00:36",
           "0 days 00:00:38",
           "0 days 00:00:42",
           "0 days 00:01:28",
           "0 days 00:00:21",
           "0 days 00:00:20",
           "0 days 00:00:19",
           "0 days 00:00:20",
           "0 days 00:00:22",
           "0 days 00:00:25",
           "0 days 00:00:41",
           "0 days 00:00:50",
           "0 days 00:00:38",
           "0 days 00:00:22",
           "0 days 00:00:25",
           "0 days 00:00:37",
           "0 days 00:00:37",
           "0 days 00:00:25",
           "0 days 00:00:41",
           "0 days 00:00:37",
           "0 days 00:00:46",
           "0 days 00:00:53",
           "0 days 00:00:56",
           "0 days 00:00:46",
           "0 days 00:00:42",
           "0 days 00:00:00",
           "0 days 00:00:00",
           "0 days 00:00:00",
           "0 days 00:00:00",
           "0 days 00:00:00",
           "0 days 00:00:00",
           "0 days 00:00:03",
           "0 days 00:00:03",
           "0 days 00:00:04",
           "0 days 00:00:04",
           "0 days 00:00:04",
           "0 days 00:00:03",
           "0 days 00:00:03",
           "0 days 00:00:16",
           "0 days 00:00:17",
           "0 days 00:00:08",
           "0 days 00:00:21",
           "0 days 00:00:13",
           "0 days 00:00:40",
           "0 days 00:00:35",
           "0 days 00:00:37",
           "0 days 00:00:52",
           "0 days 00:01:09",
           "0 days 00:00:17",
           "0 days 00:00:23",
           "0 days 00:00:26",
           "0 days 00:00:24",
           "0 days 00:00:25",
           "0 days 00:00:54",
           "0 days 00:00:44",
           "0 days 00:00:36",
           "0 days 00:01:02",
           "0 days 00:00:57",
           "0 days 00:10:03",
           "0 days 00:00:59",
           "0 days 00:01:05",
           "0 days 00:00:27",
           "0 days 00:00:00",
           "0 days 00:00:00",
           "0 days 00:00:00",
           "0 days 00:00:04",
           "0 days 00:00:04",
           "0 days 00:00:03",
           "0 days 00:00:04",
           "0 days 00:00:03",
           "0 days 00:00:33",
           "0 days 00:00:37",
           "0 days 00:00:39",
           "0 days 00:00:37",
           "0 days 00:06:25",
           "0 days 00:00:16",
           "0 days 00:00:25",
           "0 days 00:00:30",
           "0 days 00:00:15",
           "0 days 00:00:10",
           "0 days 00:00:15",
           "0 days 00:00:16",
           "0 days 00:00:22",
           "0 days 00:01:19",
           "0 days 00:00:22",
           "0 days 00:00:39",
           "0 days 00:00:46",
           "0 days 00:00:51"
          ],
          "source": [
           23,
           23,
           23,
           23,
           5,
           5,
           11,
           11,
           11,
           11,
           11,
           11,
           11,
           11,
           11,
           11,
           16,
           16,
           16,
           16,
           16,
           16,
           16,
           13,
           13,
           13,
           13,
           13,
           13,
           22,
           22,
           22,
           22,
           22,
           18,
           18,
           18,
           18,
           18,
           18,
           18,
           21,
           21,
           21,
           1,
           1,
           1,
           1,
           1,
           1,
           3,
           3,
           3,
           3,
           3,
           3,
           3,
           12,
           12,
           12,
           12,
           12,
           12,
           17,
           17,
           17,
           10,
           10,
           10,
           10,
           10,
           10,
           28,
           28,
           24,
           24,
           26,
           30,
           27,
           31,
           25,
           0,
           0,
           0,
           2,
           2,
           2,
           2,
           2,
           15,
           15,
           15,
           20,
           29,
           9,
           9,
           9,
           7,
           8,
           8,
           8,
           6,
           6,
           6,
           6,
           19,
           14
          ],
          "target": [
           5,
           16,
           30,
           31,
           33,
           34,
           23,
           22,
           21,
           24,
           5,
           30,
           28,
           27,
           25,
           3,
           23,
           21,
           5,
           28,
           22,
           30,
           24,
           16,
           18,
           5,
           17,
           23,
           30,
           5,
           26,
           30,
           11,
           31,
           23,
           22,
           5,
           21,
           27,
           30,
           28,
           5,
           30,
           31,
           3,
           5,
           11,
           13,
           12,
           30,
           13,
           12,
           11,
           5,
           10,
           30,
           22,
           22,
           23,
           5,
           21,
           30,
           28,
           22,
           23,
           21,
           5,
           11,
           12,
           30,
           13,
           10,
           5,
           30,
           5,
           30,
           5,
           34,
           30,
           30,
           30,
           2,
           29,
           4,
           29,
           9,
           7,
           8,
           6,
           20,
           29,
           19,
           29,
           32,
           15,
           29,
           14,
           20,
           20,
           29,
           19,
           7,
           4,
           6,
           9,
           29,
           20
          ],
          "value": [
           129,
           7,
           603,
           1,
           187,
           20,
           336,
           190,
           30,
           3,
           3,
           6,
           2,
           1,
           1,
           1,
           44,
           9,
           3,
           1,
           16,
           8,
           1,
           75,
           434,
           7,
           28,
           7,
           55,
           61,
           1,
           341,
           1,
           1,
           265,
           136,
           3,
           17,
           2,
           8,
           2,
           13,
           62,
           1,
           1256,
           124,
           8,
           4,
           2,
           104,
           472,
           152,
           428,
           27,
           67,
           104,
           2,
           66,
           99,
           1,
           22,
           5,
           1,
           11,
           16,
           1,
           21,
           28,
           8,
           6,
           24,
           4,
           1,
           4,
           1,
           3,
           1,
           1023,
           3,
           3,
           1,
           121,
           9,
           6,
           9,
           44,
           36,
           27,
           5,
           52,
           1,
           1,
           128,
           131,
           54,
           4,
           3,
           41,
           32,
           1,
           2,
           3,
           2,
           1,
           1,
           3,
           3
          ]
         },
         "node": {
          "label": [
           "EXTCALL_68:Block List~~API_EVENT",
           "EXTCALL_68~~API_EVENT",
           "EXTCALL_70:Robot Menu~~API_EVENT",
           "EXTCALL_70~~API_EVENT",
           "ICALL_1:Main Number~~CALL_EVENT:ANSWER",
           "ICALL_1~~CALL_EVENT:ANSWER",
           "MENU_TREE_17:3.1 Main Menu~~-1-dtmf",
           "MENU_TREE_17:3.1 Main Menu~~1-dtmf",
           "MENU_TREE_17:3.1 Main Menu~~2-dtmf",
           "MENU_TREE_17:3.1 Main Menu~~3-dtmf",
           "MENU_TREE_17~~-1-dtmf",
           "MENU_TREE_17~~1-dtmf",
           "MENU_TREE_17~~2-dtmf",
           "MENU_TREE_17~~3-dtmf",
           "DTMF_59:8.0 Fault Code~~-1-dtmf",
           "DTMF_59:8.0 Fault Code~~-2-dtmf",
           "DTMF_59~~-1-dtmf",
           "DTMF_59~~1-dtmf",
           "DTMF_59~~2-dtmf",
           "DTMF_61:4.0 Survey~~-1-dtmf",
           "DTMF_61:4.0 Survey~~-2-dtmf",
           "DTMF_61~~-1-dtmf",
           "DTMF_61~~1-dtmf",
           "DTMF_61~~2-dtmf",
           "DTMF_61~~3-dtmf",
           "DTMF_61~~7-dtmf",
           "TRANSFER_38~~CALL_EVENT:ATTEMPT",
           "DTMF_61~~5-dtmf",
           "DTMF_61~~9-dtmf",
           "ICALL_1:Main Number~~CALL_EVENT:HUNGUP",
           "ICALL_1~~CALL_EVENT:HUNGUP",
           "TRANSFER_38~~CALL_EVENT:CONGESTION",
           "TRANSFER_38:TRANSFER~~CALL_EVENT:HUNGUP",
           "TRANSFER_38~~CALL_EVENT:ANSWER",
           "TRANSFER_38~~CALL_EVENT:HUNGUP"
          ],
          "line": {
           "color": "black",
           "width": 0.5
          },
          "thickness": 10
         },
         "type": "sankey"
        }
       ],
       "layout": {
        "autosize": true,
        "font": {
         "size": 15
        },
        "plot_bgcolor": "white",
        "template": {
         "data": {
          "bar": [
           {
            "error_x": {
             "color": "#2a3f5f"
            },
            "error_y": {
             "color": "#2a3f5f"
            },
            "marker": {
             "line": {
              "color": "#E5ECF6",
              "width": 0.5
             }
            },
            "type": "bar"
           }
          ],
          "barpolar": [
           {
            "marker": {
             "line": {
              "color": "#E5ECF6",
              "width": 0.5
             }
            },
            "type": "barpolar"
           }
          ],
          "carpet": [
           {
            "aaxis": {
             "endlinecolor": "#2a3f5f",
             "gridcolor": "white",
             "linecolor": "white",
             "minorgridcolor": "white",
             "startlinecolor": "#2a3f5f"
            },
            "baxis": {
             "endlinecolor": "#2a3f5f",
             "gridcolor": "white",
             "linecolor": "white",
             "minorgridcolor": "white",
             "startlinecolor": "#2a3f5f"
            },
            "type": "carpet"
           }
          ],
          "choropleth": [
           {
            "colorbar": {
             "outlinewidth": 0,
             "ticks": ""
            },
            "type": "choropleth"
           }
          ],
          "contour": [
           {
            "colorbar": {
             "outlinewidth": 0,
             "ticks": ""
            },
            "colorscale": [
             [
              0,
              "#0d0887"
             ],
             [
              0.1111111111111111,
              "#46039f"
             ],
             [
              0.2222222222222222,
              "#7201a8"
             ],
             [
              0.3333333333333333,
              "#9c179e"
             ],
             [
              0.4444444444444444,
              "#bd3786"
             ],
             [
              0.5555555555555556,
              "#d8576b"
             ],
             [
              0.6666666666666666,
              "#ed7953"
             ],
             [
              0.7777777777777778,
              "#fb9f3a"
             ],
             [
              0.8888888888888888,
              "#fdca26"
             ],
             [
              1,
              "#f0f921"
             ]
            ],
            "type": "contour"
           }
          ],
          "contourcarpet": [
           {
            "colorbar": {
             "outlinewidth": 0,
             "ticks": ""
            },
            "type": "contourcarpet"
           }
          ],
          "heatmap": [
           {
            "colorbar": {
             "outlinewidth": 0,
             "ticks": ""
            },
            "colorscale": [
             [
              0,
              "#0d0887"
             ],
             [
              0.1111111111111111,
              "#46039f"
             ],
             [
              0.2222222222222222,
              "#7201a8"
             ],
             [
              0.3333333333333333,
              "#9c179e"
             ],
             [
              0.4444444444444444,
              "#bd3786"
             ],
             [
              0.5555555555555556,
              "#d8576b"
             ],
             [
              0.6666666666666666,
              "#ed7953"
             ],
             [
              0.7777777777777778,
              "#fb9f3a"
             ],
             [
              0.8888888888888888,
              "#fdca26"
             ],
             [
              1,
              "#f0f921"
             ]
            ],
            "type": "heatmap"
           }
          ],
          "heatmapgl": [
           {
            "colorbar": {
             "outlinewidth": 0,
             "ticks": ""
            },
            "colorscale": [
             [
              0,
              "#0d0887"
             ],
             [
              0.1111111111111111,
              "#46039f"
             ],
             [
              0.2222222222222222,
              "#7201a8"
             ],
             [
              0.3333333333333333,
              "#9c179e"
             ],
             [
              0.4444444444444444,
              "#bd3786"
             ],
             [
              0.5555555555555556,
              "#d8576b"
             ],
             [
              0.6666666666666666,
              "#ed7953"
             ],
             [
              0.7777777777777778,
              "#fb9f3a"
             ],
             [
              0.8888888888888888,
              "#fdca26"
             ],
             [
              1,
              "#f0f921"
             ]
            ],
            "type": "heatmapgl"
           }
          ],
          "histogram": [
           {
            "marker": {
             "colorbar": {
              "outlinewidth": 0,
              "ticks": ""
             }
            },
            "type": "histogram"
           }
          ],
          "histogram2d": [
           {
            "colorbar": {
             "outlinewidth": 0,
             "ticks": ""
            },
            "colorscale": [
             [
              0,
              "#0d0887"
             ],
             [
              0.1111111111111111,
              "#46039f"
             ],
             [
              0.2222222222222222,
              "#7201a8"
             ],
             [
              0.3333333333333333,
              "#9c179e"
             ],
             [
              0.4444444444444444,
              "#bd3786"
             ],
             [
              0.5555555555555556,
              "#d8576b"
             ],
             [
              0.6666666666666666,
              "#ed7953"
             ],
             [
              0.7777777777777778,
              "#fb9f3a"
             ],
             [
              0.8888888888888888,
              "#fdca26"
             ],
             [
              1,
              "#f0f921"
             ]
            ],
            "type": "histogram2d"
           }
          ],
          "histogram2dcontour": [
           {
            "colorbar": {
             "outlinewidth": 0,
             "ticks": ""
            },
            "colorscale": [
             [
              0,
              "#0d0887"
             ],
             [
              0.1111111111111111,
              "#46039f"
             ],
             [
              0.2222222222222222,
              "#7201a8"
             ],
             [
              0.3333333333333333,
              "#9c179e"
             ],
             [
              0.4444444444444444,
              "#bd3786"
             ],
             [
              0.5555555555555556,
              "#d8576b"
             ],
             [
              0.6666666666666666,
              "#ed7953"
             ],
             [
              0.7777777777777778,
              "#fb9f3a"
             ],
             [
              0.8888888888888888,
              "#fdca26"
             ],
             [
              1,
              "#f0f921"
             ]
            ],
            "type": "histogram2dcontour"
           }
          ],
          "mesh3d": [
           {
            "colorbar": {
             "outlinewidth": 0,
             "ticks": ""
            },
            "type": "mesh3d"
           }
          ],
          "parcoords": [
           {
            "line": {
             "colorbar": {
              "outlinewidth": 0,
              "ticks": ""
             }
            },
            "type": "parcoords"
           }
          ],
          "pie": [
           {
            "automargin": true,
            "type": "pie"
           }
          ],
          "scatter": [
           {
            "marker": {
             "colorbar": {
              "outlinewidth": 0,
              "ticks": ""
             }
            },
            "type": "scatter"
           }
          ],
          "scatter3d": [
           {
            "line": {
             "colorbar": {
              "outlinewidth": 0,
              "ticks": ""
             }
            },
            "marker": {
             "colorbar": {
              "outlinewidth": 0,
              "ticks": ""
             }
            },
            "type": "scatter3d"
           }
          ],
          "scattercarpet": [
           {
            "marker": {
             "colorbar": {
              "outlinewidth": 0,
              "ticks": ""
             }
            },
            "type": "scattercarpet"
           }
          ],
          "scattergeo": [
           {
            "marker": {
             "colorbar": {
              "outlinewidth": 0,
              "ticks": ""
             }
            },
            "type": "scattergeo"
           }
          ],
          "scattergl": [
           {
            "marker": {
             "colorbar": {
              "outlinewidth": 0,
              "ticks": ""
             }
            },
            "type": "scattergl"
           }
          ],
          "scattermapbox": [
           {
            "marker": {
             "colorbar": {
              "outlinewidth": 0,
              "ticks": ""
             }
            },
            "type": "scattermapbox"
           }
          ],
          "scatterpolar": [
           {
            "marker": {
             "colorbar": {
              "outlinewidth": 0,
              "ticks": ""
             }
            },
            "type": "scatterpolar"
           }
          ],
          "scatterpolargl": [
           {
            "marker": {
             "colorbar": {
              "outlinewidth": 0,
              "ticks": ""
             }
            },
            "type": "scatterpolargl"
           }
          ],
          "scatterternary": [
           {
            "marker": {
             "colorbar": {
              "outlinewidth": 0,
              "ticks": ""
             }
            },
            "type": "scatterternary"
           }
          ],
          "surface": [
           {
            "colorbar": {
             "outlinewidth": 0,
             "ticks": ""
            },
            "colorscale": [
             [
              0,
              "#0d0887"
             ],
             [
              0.1111111111111111,
              "#46039f"
             ],
             [
              0.2222222222222222,
              "#7201a8"
             ],
             [
              0.3333333333333333,
              "#9c179e"
             ],
             [
              0.4444444444444444,
              "#bd3786"
             ],
             [
              0.5555555555555556,
              "#d8576b"
             ],
             [
              0.6666666666666666,
              "#ed7953"
             ],
             [
              0.7777777777777778,
              "#fb9f3a"
             ],
             [
              0.8888888888888888,
              "#fdca26"
             ],
             [
              1,
              "#f0f921"
             ]
            ],
            "type": "surface"
           }
          ],
          "table": [
           {
            "cells": {
             "fill": {
              "color": "#EBF0F8"
             },
             "line": {
              "color": "white"
             }
            },
            "header": {
             "fill": {
              "color": "#C8D4E3"
             },
             "line": {
              "color": "white"
             }
            },
            "type": "table"
           }
          ]
         },
         "layout": {
          "annotationdefaults": {
           "arrowcolor": "#2a3f5f",
           "arrowhead": 0,
           "arrowwidth": 1
          },
          "coloraxis": {
           "colorbar": {
            "outlinewidth": 0,
            "ticks": ""
           }
          },
          "colorscale": {
           "diverging": [
            [
             0,
             "#8e0152"
            ],
            [
             0.1,
             "#c51b7d"
            ],
            [
             0.2,
             "#de77ae"
            ],
            [
             0.3,
             "#f1b6da"
            ],
            [
             0.4,
             "#fde0ef"
            ],
            [
             0.5,
             "#f7f7f7"
            ],
            [
             0.6,
             "#e6f5d0"
            ],
            [
             0.7,
             "#b8e186"
            ],
            [
             0.8,
             "#7fbc41"
            ],
            [
             0.9,
             "#4d9221"
            ],
            [
             1,
             "#276419"
            ]
           ],
           "sequential": [
            [
             0,
             "#0d0887"
            ],
            [
             0.1111111111111111,
             "#46039f"
            ],
            [
             0.2222222222222222,
             "#7201a8"
            ],
            [
             0.3333333333333333,
             "#9c179e"
            ],
            [
             0.4444444444444444,
             "#bd3786"
            ],
            [
             0.5555555555555556,
             "#d8576b"
            ],
            [
             0.6666666666666666,
             "#ed7953"
            ],
            [
             0.7777777777777778,
             "#fb9f3a"
            ],
            [
             0.8888888888888888,
             "#fdca26"
            ],
            [
             1,
             "#f0f921"
            ]
           ],
           "sequentialminus": [
            [
             0,
             "#0d0887"
            ],
            [
             0.1111111111111111,
             "#46039f"
            ],
            [
             0.2222222222222222,
             "#7201a8"
            ],
            [
             0.3333333333333333,
             "#9c179e"
            ],
            [
             0.4444444444444444,
             "#bd3786"
            ],
            [
             0.5555555555555556,
             "#d8576b"
            ],
            [
             0.6666666666666666,
             "#ed7953"
            ],
            [
             0.7777777777777778,
             "#fb9f3a"
            ],
            [
             0.8888888888888888,
             "#fdca26"
            ],
            [
             1,
             "#f0f921"
            ]
           ]
          },
          "colorway": [
           "#636efa",
           "#EF553B",
           "#00cc96",
           "#ab63fa",
           "#FFA15A",
           "#19d3f3",
           "#FF6692",
           "#B6E880",
           "#FF97FF",
           "#FECB52"
          ],
          "font": {
           "color": "#2a3f5f"
          },
          "geo": {
           "bgcolor": "white",
           "lakecolor": "white",
           "landcolor": "#E5ECF6",
           "showlakes": true,
           "showland": true,
           "subunitcolor": "white"
          },
          "hoverlabel": {
           "align": "left"
          },
          "hovermode": "closest",
          "mapbox": {
           "style": "light"
          },
          "paper_bgcolor": "white",
          "plot_bgcolor": "#E5ECF6",
          "polar": {
           "angularaxis": {
            "gridcolor": "white",
            "linecolor": "white",
            "ticks": ""
           },
           "bgcolor": "#E5ECF6",
           "radialaxis": {
            "gridcolor": "white",
            "linecolor": "white",
            "ticks": ""
           }
          },
          "scene": {
           "xaxis": {
            "backgroundcolor": "#E5ECF6",
            "gridcolor": "white",
            "gridwidth": 2,
            "linecolor": "white",
            "showbackground": true,
            "ticks": "",
            "zerolinecolor": "white"
           },
           "yaxis": {
            "backgroundcolor": "#E5ECF6",
            "gridcolor": "white",
            "gridwidth": 2,
            "linecolor": "white",
            "showbackground": true,
            "ticks": "",
            "zerolinecolor": "white"
           },
           "zaxis": {
            "backgroundcolor": "#E5ECF6",
            "gridcolor": "white",
            "gridwidth": 2,
            "linecolor": "white",
            "showbackground": true,
            "ticks": "",
            "zerolinecolor": "white"
           }
          },
          "shapedefaults": {
           "line": {
            "color": "#2a3f5f"
           }
          },
          "ternary": {
           "aaxis": {
            "gridcolor": "white",
            "linecolor": "white",
            "ticks": ""
           },
           "baxis": {
            "gridcolor": "white",
            "linecolor": "white",
            "ticks": ""
           },
           "bgcolor": "#E5ECF6",
           "caxis": {
            "gridcolor": "white",
            "linecolor": "white",
            "ticks": ""
           }
          },
          "title": {
           "x": 0.05
          },
          "xaxis": {
           "automargin": true,
           "gridcolor": "white",
           "linecolor": "white",
           "ticks": "",
           "title": {
            "standoff": 15
           },
           "zerolinecolor": "white",
           "zerolinewidth": 2
          },
          "yaxis": {
           "automargin": true,
           "gridcolor": "white",
           "linecolor": "white",
           "ticks": "",
           "title": {
            "standoff": 15
           },
           "zerolinecolor": "white",
           "zerolinewidth": 2
          }
         }
        },
        "title": {
         "text": "Germany - Customer Service Without Trimming"
        }
       }
      },
      "text/html": [
       "<div>                            <div id=\"7f32e3fa-231a-4904-85ea-8880213c43fb\" class=\"plotly-graph-div\" style=\"height:525px; width:100%;\"></div>            <script type=\"text/javascript\">                require([\"plotly\"], function(Plotly) {                    window.PLOTLYENV=window.PLOTLYENV || {};                                    if (document.getElementById(\"7f32e3fa-231a-4904-85ea-8880213c43fb\")) {                    Plotly.newPlot(                        \"7f32e3fa-231a-4904-85ea-8880213c43fb\",                        [{\"link\": {\"hovertemplate\": \"%{value} unique users went from %{source.label} to %{target.label}.<br /><br />It took them %{label} in average to reach this point from the start of the flow.<extra></extra>\", \"label\": [\"0 days 00:00:41\", \"0 days 00:00:43\", \"0 days 00:00:43\", \"0 days 00:00:36\", \"0 days 00:11:12\", \"0 days 00:13:28\", \"0 days 00:00:17\", \"0 days 00:00:15\", \"0 days 00:00:21\", \"0 days 00:00:32\", \"0 days 00:00:12\", \"0 days 00:00:15\", \"0 days 00:00:16\", \"0 days 00:00:47\", \"0 days 00:00:11\", \"0 days 00:00:04\", \"0 days 00:00:43\", \"0 days 00:00:34\", \"0 days 00:00:50\", \"0 days 00:00:36\", \"0 days 00:00:38\", \"0 days 00:00:42\", \"0 days 00:01:28\", \"0 days 00:00:21\", \"0 days 00:00:20\", \"0 days 00:00:19\", \"0 days 00:00:20\", \"0 days 00:00:22\", \"0 days 00:00:25\", \"0 days 00:00:41\", \"0 days 00:00:50\", \"0 days 00:00:38\", \"0 days 00:00:22\", \"0 days 00:00:25\", \"0 days 00:00:37\", \"0 days 00:00:37\", \"0 days 00:00:25\", \"0 days 00:00:41\", \"0 days 00:00:37\", \"0 days 00:00:46\", \"0 days 00:00:53\", \"0 days 00:00:56\", \"0 days 00:00:46\", \"0 days 00:00:42\", \"0 days 00:00:00\", \"0 days 00:00:00\", \"0 days 00:00:00\", \"0 days 00:00:00\", \"0 days 00:00:00\", \"0 days 00:00:00\", \"0 days 00:00:03\", \"0 days 00:00:03\", \"0 days 00:00:04\", \"0 days 00:00:04\", \"0 days 00:00:04\", \"0 days 00:00:03\", \"0 days 00:00:03\", \"0 days 00:00:16\", \"0 days 00:00:17\", \"0 days 00:00:08\", \"0 days 00:00:21\", \"0 days 00:00:13\", \"0 days 00:00:40\", \"0 days 00:00:35\", \"0 days 00:00:37\", \"0 days 00:00:52\", \"0 days 00:01:09\", \"0 days 00:00:17\", \"0 days 00:00:23\", \"0 days 00:00:26\", \"0 days 00:00:24\", \"0 days 00:00:25\", \"0 days 00:00:54\", \"0 days 00:00:44\", \"0 days 00:00:36\", \"0 days 00:01:02\", \"0 days 00:00:57\", \"0 days 00:10:03\", \"0 days 00:00:59\", \"0 days 00:01:05\", \"0 days 00:00:27\", \"0 days 00:00:00\", \"0 days 00:00:00\", \"0 days 00:00:00\", \"0 days 00:00:04\", \"0 days 00:00:04\", \"0 days 00:00:03\", \"0 days 00:00:04\", \"0 days 00:00:03\", \"0 days 00:00:33\", \"0 days 00:00:37\", \"0 days 00:00:39\", \"0 days 00:00:37\", \"0 days 00:06:25\", \"0 days 00:00:16\", \"0 days 00:00:25\", \"0 days 00:00:30\", \"0 days 00:00:15\", \"0 days 00:00:10\", \"0 days 00:00:15\", \"0 days 00:00:16\", \"0 days 00:00:22\", \"0 days 00:01:19\", \"0 days 00:00:22\", \"0 days 00:00:39\", \"0 days 00:00:46\", \"0 days 00:00:51\"], \"source\": [23, 23, 23, 23, 5, 5, 11, 11, 11, 11, 11, 11, 11, 11, 11, 11, 16, 16, 16, 16, 16, 16, 16, 13, 13, 13, 13, 13, 13, 22, 22, 22, 22, 22, 18, 18, 18, 18, 18, 18, 18, 21, 21, 21, 1, 1, 1, 1, 1, 1, 3, 3, 3, 3, 3, 3, 3, 12, 12, 12, 12, 12, 12, 17, 17, 17, 10, 10, 10, 10, 10, 10, 28, 28, 24, 24, 26, 30, 27, 31, 25, 0, 0, 0, 2, 2, 2, 2, 2, 15, 15, 15, 20, 29, 9, 9, 9, 7, 8, 8, 8, 6, 6, 6, 6, 19, 14], \"target\": [5, 16, 30, 31, 33, 34, 23, 22, 21, 24, 5, 30, 28, 27, 25, 3, 23, 21, 5, 28, 22, 30, 24, 16, 18, 5, 17, 23, 30, 5, 26, 30, 11, 31, 23, 22, 5, 21, 27, 30, 28, 5, 30, 31, 3, 5, 11, 13, 12, 30, 13, 12, 11, 5, 10, 30, 22, 22, 23, 5, 21, 30, 28, 22, 23, 21, 5, 11, 12, 30, 13, 10, 5, 30, 5, 30, 5, 34, 30, 30, 30, 2, 29, 4, 29, 9, 7, 8, 6, 20, 29, 19, 29, 32, 15, 29, 14, 20, 20, 29, 19, 7, 4, 6, 9, 29, 20], \"value\": [129, 7, 603, 1, 187, 20, 336, 190, 30, 3, 3, 6, 2, 1, 1, 1, 44, 9, 3, 1, 16, 8, 1, 75, 434, 7, 28, 7, 55, 61, 1, 341, 1, 1, 265, 136, 3, 17, 2, 8, 2, 13, 62, 1, 1256, 124, 8, 4, 2, 104, 472, 152, 428, 27, 67, 104, 2, 66, 99, 1, 22, 5, 1, 11, 16, 1, 21, 28, 8, 6, 24, 4, 1, 4, 1, 3, 1, 1023, 3, 3, 1, 121, 9, 6, 9, 44, 36, 27, 5, 52, 1, 1, 128, 131, 54, 4, 3, 41, 32, 1, 2, 3, 2, 1, 1, 3, 3]}, \"node\": {\"label\": [\"EXTCALL_68:Block List~~API_EVENT\", \"EXTCALL_68~~API_EVENT\", \"EXTCALL_70:Robot Menu~~API_EVENT\", \"EXTCALL_70~~API_EVENT\", \"ICALL_1:Main Number~~CALL_EVENT:ANSWER\", \"ICALL_1~~CALL_EVENT:ANSWER\", \"MENU_TREE_17:3.1 Main Menu~~-1-dtmf\", \"MENU_TREE_17:3.1 Main Menu~~1-dtmf\", \"MENU_TREE_17:3.1 Main Menu~~2-dtmf\", \"MENU_TREE_17:3.1 Main Menu~~3-dtmf\", \"MENU_TREE_17~~-1-dtmf\", \"MENU_TREE_17~~1-dtmf\", \"MENU_TREE_17~~2-dtmf\", \"MENU_TREE_17~~3-dtmf\", \"DTMF_59:8.0 Fault Code~~-1-dtmf\", \"DTMF_59:8.0 Fault Code~~-2-dtmf\", \"DTMF_59~~-1-dtmf\", \"DTMF_59~~1-dtmf\", \"DTMF_59~~2-dtmf\", \"DTMF_61:4.0 Survey~~-1-dtmf\", \"DTMF_61:4.0 Survey~~-2-dtmf\", \"DTMF_61~~-1-dtmf\", \"DTMF_61~~1-dtmf\", \"DTMF_61~~2-dtmf\", \"DTMF_61~~3-dtmf\", \"DTMF_61~~7-dtmf\", \"TRANSFER_38~~CALL_EVENT:ATTEMPT\", \"DTMF_61~~5-dtmf\", \"DTMF_61~~9-dtmf\", \"ICALL_1:Main Number~~CALL_EVENT:HUNGUP\", \"ICALL_1~~CALL_EVENT:HUNGUP\", \"TRANSFER_38~~CALL_EVENT:CONGESTION\", \"TRANSFER_38:TRANSFER~~CALL_EVENT:HUNGUP\", \"TRANSFER_38~~CALL_EVENT:ANSWER\", \"TRANSFER_38~~CALL_EVENT:HUNGUP\"], \"line\": {\"color\": \"black\", \"width\": 0.5}, \"thickness\": 10}, \"type\": \"sankey\"}],                        {\"autosize\": true, \"font\": {\"size\": 15}, \"plot_bgcolor\": \"white\", \"template\": {\"data\": {\"bar\": [{\"error_x\": {\"color\": \"#2a3f5f\"}, \"error_y\": {\"color\": \"#2a3f5f\"}, \"marker\": {\"line\": {\"color\": \"#E5ECF6\", \"width\": 0.5}}, \"type\": \"bar\"}], \"barpolar\": [{\"marker\": {\"line\": {\"color\": \"#E5ECF6\", \"width\": 0.5}}, \"type\": \"barpolar\"}], \"carpet\": [{\"aaxis\": {\"endlinecolor\": \"#2a3f5f\", \"gridcolor\": \"white\", \"linecolor\": \"white\", \"minorgridcolor\": \"white\", \"startlinecolor\": \"#2a3f5f\"}, \"baxis\": {\"endlinecolor\": \"#2a3f5f\", \"gridcolor\": \"white\", \"linecolor\": \"white\", \"minorgridcolor\": \"white\", \"startlinecolor\": \"#2a3f5f\"}, \"type\": \"carpet\"}], \"choropleth\": [{\"colorbar\": {\"outlinewidth\": 0, \"ticks\": \"\"}, \"type\": \"choropleth\"}], \"contour\": [{\"colorbar\": {\"outlinewidth\": 0, \"ticks\": \"\"}, \"colorscale\": [[0.0, \"#0d0887\"], [0.1111111111111111, \"#46039f\"], [0.2222222222222222, \"#7201a8\"], [0.3333333333333333, \"#9c179e\"], [0.4444444444444444, \"#bd3786\"], [0.5555555555555556, \"#d8576b\"], [0.6666666666666666, \"#ed7953\"], [0.7777777777777778, \"#fb9f3a\"], [0.8888888888888888, \"#fdca26\"], [1.0, \"#f0f921\"]], \"type\": \"contour\"}], \"contourcarpet\": [{\"colorbar\": {\"outlinewidth\": 0, \"ticks\": \"\"}, \"type\": \"contourcarpet\"}], \"heatmap\": [{\"colorbar\": {\"outlinewidth\": 0, \"ticks\": \"\"}, \"colorscale\": [[0.0, \"#0d0887\"], [0.1111111111111111, \"#46039f\"], [0.2222222222222222, \"#7201a8\"], [0.3333333333333333, \"#9c179e\"], [0.4444444444444444, \"#bd3786\"], [0.5555555555555556, \"#d8576b\"], [0.6666666666666666, \"#ed7953\"], [0.7777777777777778, \"#fb9f3a\"], [0.8888888888888888, \"#fdca26\"], [1.0, \"#f0f921\"]], \"type\": \"heatmap\"}], \"heatmapgl\": [{\"colorbar\": {\"outlinewidth\": 0, \"ticks\": \"\"}, \"colorscale\": [[0.0, \"#0d0887\"], [0.1111111111111111, \"#46039f\"], [0.2222222222222222, \"#7201a8\"], [0.3333333333333333, \"#9c179e\"], [0.4444444444444444, \"#bd3786\"], [0.5555555555555556, \"#d8576b\"], [0.6666666666666666, \"#ed7953\"], [0.7777777777777778, \"#fb9f3a\"], [0.8888888888888888, \"#fdca26\"], [1.0, \"#f0f921\"]], \"type\": \"heatmapgl\"}], \"histogram\": [{\"marker\": {\"colorbar\": {\"outlinewidth\": 0, \"ticks\": \"\"}}, \"type\": \"histogram\"}], \"histogram2d\": [{\"colorbar\": {\"outlinewidth\": 0, \"ticks\": \"\"}, \"colorscale\": [[0.0, \"#0d0887\"], [0.1111111111111111, \"#46039f\"], [0.2222222222222222, \"#7201a8\"], [0.3333333333333333, \"#9c179e\"], [0.4444444444444444, \"#bd3786\"], [0.5555555555555556, \"#d8576b\"], [0.6666666666666666, \"#ed7953\"], [0.7777777777777778, \"#fb9f3a\"], [0.8888888888888888, \"#fdca26\"], [1.0, \"#f0f921\"]], \"type\": \"histogram2d\"}], \"histogram2dcontour\": [{\"colorbar\": {\"outlinewidth\": 0, \"ticks\": \"\"}, \"colorscale\": [[0.0, \"#0d0887\"], [0.1111111111111111, \"#46039f\"], [0.2222222222222222, \"#7201a8\"], [0.3333333333333333, \"#9c179e\"], [0.4444444444444444, \"#bd3786\"], [0.5555555555555556, \"#d8576b\"], [0.6666666666666666, \"#ed7953\"], [0.7777777777777778, \"#fb9f3a\"], [0.8888888888888888, \"#fdca26\"], [1.0, \"#f0f921\"]], \"type\": \"histogram2dcontour\"}], \"mesh3d\": [{\"colorbar\": {\"outlinewidth\": 0, \"ticks\": \"\"}, \"type\": \"mesh3d\"}], \"parcoords\": [{\"line\": {\"colorbar\": {\"outlinewidth\": 0, \"ticks\": \"\"}}, \"type\": \"parcoords\"}], \"pie\": [{\"automargin\": true, \"type\": \"pie\"}], \"scatter\": [{\"marker\": {\"colorbar\": {\"outlinewidth\": 0, \"ticks\": \"\"}}, \"type\": \"scatter\"}], \"scatter3d\": [{\"line\": {\"colorbar\": {\"outlinewidth\": 0, \"ticks\": \"\"}}, \"marker\": {\"colorbar\": {\"outlinewidth\": 0, \"ticks\": \"\"}}, \"type\": \"scatter3d\"}], \"scattercarpet\": [{\"marker\": {\"colorbar\": {\"outlinewidth\": 0, \"ticks\": \"\"}}, \"type\": \"scattercarpet\"}], \"scattergeo\": [{\"marker\": {\"colorbar\": {\"outlinewidth\": 0, \"ticks\": \"\"}}, \"type\": \"scattergeo\"}], \"scattergl\": [{\"marker\": {\"colorbar\": {\"outlinewidth\": 0, \"ticks\": \"\"}}, \"type\": \"scattergl\"}], \"scattermapbox\": [{\"marker\": {\"colorbar\": {\"outlinewidth\": 0, \"ticks\": \"\"}}, \"type\": \"scattermapbox\"}], \"scatterpolar\": [{\"marker\": {\"colorbar\": {\"outlinewidth\": 0, \"ticks\": \"\"}}, \"type\": \"scatterpolar\"}], \"scatterpolargl\": [{\"marker\": {\"colorbar\": {\"outlinewidth\": 0, \"ticks\": \"\"}}, \"type\": \"scatterpolargl\"}], \"scatterternary\": [{\"marker\": {\"colorbar\": {\"outlinewidth\": 0, \"ticks\": \"\"}}, \"type\": \"scatterternary\"}], \"surface\": [{\"colorbar\": {\"outlinewidth\": 0, \"ticks\": \"\"}, \"colorscale\": [[0.0, \"#0d0887\"], [0.1111111111111111, \"#46039f\"], [0.2222222222222222, \"#7201a8\"], [0.3333333333333333, \"#9c179e\"], [0.4444444444444444, \"#bd3786\"], [0.5555555555555556, \"#d8576b\"], [0.6666666666666666, \"#ed7953\"], [0.7777777777777778, \"#fb9f3a\"], [0.8888888888888888, \"#fdca26\"], [1.0, \"#f0f921\"]], \"type\": \"surface\"}], \"table\": [{\"cells\": {\"fill\": {\"color\": \"#EBF0F8\"}, \"line\": {\"color\": \"white\"}}, \"header\": {\"fill\": {\"color\": \"#C8D4E3\"}, \"line\": {\"color\": \"white\"}}, \"type\": \"table\"}]}, \"layout\": {\"annotationdefaults\": {\"arrowcolor\": \"#2a3f5f\", \"arrowhead\": 0, \"arrowwidth\": 1}, \"coloraxis\": {\"colorbar\": {\"outlinewidth\": 0, \"ticks\": \"\"}}, \"colorscale\": {\"diverging\": [[0, \"#8e0152\"], [0.1, \"#c51b7d\"], [0.2, \"#de77ae\"], [0.3, \"#f1b6da\"], [0.4, \"#fde0ef\"], [0.5, \"#f7f7f7\"], [0.6, \"#e6f5d0\"], [0.7, \"#b8e186\"], [0.8, \"#7fbc41\"], [0.9, \"#4d9221\"], [1, \"#276419\"]], \"sequential\": [[0.0, \"#0d0887\"], [0.1111111111111111, \"#46039f\"], [0.2222222222222222, \"#7201a8\"], [0.3333333333333333, \"#9c179e\"], [0.4444444444444444, \"#bd3786\"], [0.5555555555555556, \"#d8576b\"], [0.6666666666666666, \"#ed7953\"], [0.7777777777777778, \"#fb9f3a\"], [0.8888888888888888, \"#fdca26\"], [1.0, \"#f0f921\"]], \"sequentialminus\": [[0.0, \"#0d0887\"], [0.1111111111111111, \"#46039f\"], [0.2222222222222222, \"#7201a8\"], [0.3333333333333333, \"#9c179e\"], [0.4444444444444444, \"#bd3786\"], [0.5555555555555556, \"#d8576b\"], [0.6666666666666666, \"#ed7953\"], [0.7777777777777778, \"#fb9f3a\"], [0.8888888888888888, \"#fdca26\"], [1.0, \"#f0f921\"]]}, \"colorway\": [\"#636efa\", \"#EF553B\", \"#00cc96\", \"#ab63fa\", \"#FFA15A\", \"#19d3f3\", \"#FF6692\", \"#B6E880\", \"#FF97FF\", \"#FECB52\"], \"font\": {\"color\": \"#2a3f5f\"}, \"geo\": {\"bgcolor\": \"white\", \"lakecolor\": \"white\", \"landcolor\": \"#E5ECF6\", \"showlakes\": true, \"showland\": true, \"subunitcolor\": \"white\"}, \"hoverlabel\": {\"align\": \"left\"}, \"hovermode\": \"closest\", \"mapbox\": {\"style\": \"light\"}, \"paper_bgcolor\": \"white\", \"plot_bgcolor\": \"#E5ECF6\", \"polar\": {\"angularaxis\": {\"gridcolor\": \"white\", \"linecolor\": \"white\", \"ticks\": \"\"}, \"bgcolor\": \"#E5ECF6\", \"radialaxis\": {\"gridcolor\": \"white\", \"linecolor\": \"white\", \"ticks\": \"\"}}, \"scene\": {\"xaxis\": {\"backgroundcolor\": \"#E5ECF6\", \"gridcolor\": \"white\", \"gridwidth\": 2, \"linecolor\": \"white\", \"showbackground\": true, \"ticks\": \"\", \"zerolinecolor\": \"white\"}, \"yaxis\": {\"backgroundcolor\": \"#E5ECF6\", \"gridcolor\": \"white\", \"gridwidth\": 2, \"linecolor\": \"white\", \"showbackground\": true, \"ticks\": \"\", \"zerolinecolor\": \"white\"}, \"zaxis\": {\"backgroundcolor\": \"#E5ECF6\", \"gridcolor\": \"white\", \"gridwidth\": 2, \"linecolor\": \"white\", \"showbackground\": true, \"ticks\": \"\", \"zerolinecolor\": \"white\"}}, \"shapedefaults\": {\"line\": {\"color\": \"#2a3f5f\"}}, \"ternary\": {\"aaxis\": {\"gridcolor\": \"white\", \"linecolor\": \"white\", \"ticks\": \"\"}, \"baxis\": {\"gridcolor\": \"white\", \"linecolor\": \"white\", \"ticks\": \"\"}, \"bgcolor\": \"#E5ECF6\", \"caxis\": {\"gridcolor\": \"white\", \"linecolor\": \"white\", \"ticks\": \"\"}}, \"title\": {\"x\": 0.05}, \"xaxis\": {\"automargin\": true, \"gridcolor\": \"white\", \"linecolor\": \"white\", \"ticks\": \"\", \"title\": {\"standoff\": 15}, \"zerolinecolor\": \"white\", \"zerolinewidth\": 2}, \"yaxis\": {\"automargin\": true, \"gridcolor\": \"white\", \"linecolor\": \"white\", \"ticks\": \"\", \"title\": {\"standoff\": 15}, \"zerolinecolor\": \"white\", \"zerolinewidth\": 2}}}, \"title\": {\"text\": \"Germany - Customer Service Without Trimming\"}},                        {\"responsive\": true}                    ).then(function(){\n",
       "                            \n",
       "var gd = document.getElementById('7f32e3fa-231a-4904-85ea-8880213c43fb');\n",
       "var x = new MutationObserver(function (mutations, observer) {{\n",
       "        var display = window.getComputedStyle(gd).display;\n",
       "        if (!display || display === 'none') {{\n",
       "            console.log([gd, 'removed!']);\n",
       "            Plotly.purge(gd);\n",
       "            observer.disconnect();\n",
       "        }}\n",
       "}});\n",
       "\n",
       "// Listen for the removal of the full notebook cells\n",
       "var notebookContainer = gd.closest('#notebook-container');\n",
       "if (notebookContainer) {{\n",
       "    x.observe(notebookContainer, {childList: true});\n",
       "}}\n",
       "\n",
       "// Listen for the clearing of the current output cell\n",
       "var outputEl = gd.closest('.output');\n",
       "if (outputEl) {{\n",
       "    x.observe(outputEl, {childList: true});\n",
       "}}\n",
       "\n",
       "                        })                };                });            </script>        </div>"
      ]
     },
     "metadata": {},
     "output_type": "display_data"
    }
   ],
   "source": [
    "FlowName = \"Germany - Customer Service\"\n",
    "df = client.query(sql_temp.format(FlowName)).to_dataframe()\n",
    "flow = SankeyFlow(df)\n",
    "flow.plot(0, f\"{FlowName} Without Trimming\").show()"
   ]
  },
  {
   "cell_type": "code",
   "execution_count": 22,
   "metadata": {},
   "outputs": [
    {
     "data": {
      "application/vnd.plotly.v1+json": {
       "config": {
        "plotlyServerURL": "https://plotly.com"
       },
       "data": [
        {
         "link": {
          "hovertemplate": "%{value} unique users went from %{source.label} to %{target.label}.<br /><br />It took them %{label} in average to reach this point from the start of the flow.<extra></extra>",
          "label": [
           "0 days 00:00:41",
           "0 days 00:00:43",
           "0 days 00:11:12",
           "0 days 00:13:28",
           "0 days 00:00:17",
           "0 days 00:00:15",
           "0 days 00:00:21",
           "0 days 00:00:43",
           "0 days 00:00:38",
           "0 days 00:00:21",
           "0 days 00:00:20",
           "0 days 00:00:20",
           "0 days 00:00:25",
           "0 days 00:00:41",
           "0 days 00:00:38",
           "0 days 00:00:37",
           "0 days 00:00:37",
           "0 days 00:00:41",
           "0 days 00:00:46",
           "0 days 00:00:00",
           "0 days 00:00:00",
           "0 days 00:00:00",
           "0 days 00:00:03",
           "0 days 00:00:03",
           "0 days 00:00:04",
           "0 days 00:00:04",
           "0 days 00:00:04",
           "0 days 00:00:03",
           "0 days 00:00:16",
           "0 days 00:00:17",
           "0 days 00:00:21",
           "0 days 00:00:37",
           "0 days 00:01:09",
           "0 days 00:00:17",
           "0 days 00:00:24",
           "0 days 00:10:03",
           "0 days 00:00:00",
           "0 days 00:00:04",
           "0 days 00:00:03",
           "0 days 00:00:04",
           "0 days 00:00:33",
           "0 days 00:00:37",
           "0 days 00:06:25",
           "0 days 00:00:16",
           "0 days 00:00:15",
           "0 days 00:00:10"
          ],
          "source": [
           23,
           23,
           5,
           5,
           11,
           11,
           11,
           16,
           16,
           13,
           13,
           13,
           13,
           22,
           22,
           18,
           18,
           18,
           21,
           1,
           1,
           1,
           3,
           3,
           3,
           3,
           3,
           3,
           12,
           12,
           12,
           17,
           10,
           10,
           10,
           30,
           0,
           2,
           2,
           2,
           15,
           20,
           29,
           9,
           7,
           8
          ],
          "target": [
           5,
           30,
           33,
           34,
           23,
           22,
           21,
           23,
           22,
           16,
           18,
           17,
           30,
           5,
           30,
           23,
           22,
           21,
           30,
           3,
           5,
           30,
           13,
           12,
           11,
           5,
           10,
           30,
           22,
           23,
           21,
           23,
           5,
           11,
           13,
           34,
           2,
           9,
           7,
           8,
           20,
           29,
           32,
           15,
           20,
           20
          ],
          "value": [
           129,
           603,
           187,
           20,
           336,
           190,
           30,
           44,
           16,
           75,
           434,
           28,
           55,
           61,
           341,
           265,
           136,
           17,
           62,
           1256,
           124,
           104,
           472,
           152,
           428,
           27,
           67,
           104,
           66,
           99,
           22,
           16,
           21,
           28,
           24,
           1023,
           121,
           44,
           36,
           27,
           52,
           128,
           131,
           54,
           41,
           32
          ]
         },
         "node": {
          "label": [
           "EXTCALL_68:Block List~~API_EVENT",
           "EXTCALL_68~~API_EVENT",
           "EXTCALL_70:Robot Menu~~API_EVENT",
           "EXTCALL_70~~API_EVENT",
           "ICALL_1:Main Number~~CALL_EVENT:ANSWER",
           "ICALL_1~~CALL_EVENT:ANSWER",
           "MENU_TREE_17:3.1 Main Menu~~-1-dtmf",
           "MENU_TREE_17:3.1 Main Menu~~1-dtmf",
           "MENU_TREE_17:3.1 Main Menu~~2-dtmf",
           "MENU_TREE_17:3.1 Main Menu~~3-dtmf",
           "MENU_TREE_17~~-1-dtmf",
           "MENU_TREE_17~~1-dtmf",
           "MENU_TREE_17~~2-dtmf",
           "MENU_TREE_17~~3-dtmf",
           "DTMF_59:8.0 Fault Code~~-1-dtmf",
           "DTMF_59:8.0 Fault Code~~-2-dtmf",
           "DTMF_59~~-1-dtmf",
           "DTMF_59~~1-dtmf",
           "DTMF_59~~2-dtmf",
           "DTMF_61:4.0 Survey~~-1-dtmf",
           "DTMF_61:4.0 Survey~~-2-dtmf",
           "DTMF_61~~-1-dtmf",
           "DTMF_61~~1-dtmf",
           "DTMF_61~~2-dtmf",
           "DTMF_61~~3-dtmf",
           "DTMF_61~~7-dtmf",
           "TRANSFER_38~~CALL_EVENT:ATTEMPT",
           "DTMF_61~~5-dtmf",
           "DTMF_61~~9-dtmf",
           "ICALL_1:Main Number~~CALL_EVENT:HUNGUP",
           "ICALL_1~~CALL_EVENT:HUNGUP",
           "TRANSFER_38~~CALL_EVENT:CONGESTION",
           "TRANSFER_38:TRANSFER~~CALL_EVENT:HUNGUP",
           "TRANSFER_38~~CALL_EVENT:ANSWER",
           "TRANSFER_38~~CALL_EVENT:HUNGUP"
          ],
          "line": {
           "color": "black",
           "width": 0.5
          },
          "thickness": 10
         },
         "type": "sankey"
        }
       ],
       "layout": {
        "autosize": true,
        "font": {
         "size": 15
        },
        "plot_bgcolor": "white",
        "template": {
         "data": {
          "bar": [
           {
            "error_x": {
             "color": "#2a3f5f"
            },
            "error_y": {
             "color": "#2a3f5f"
            },
            "marker": {
             "line": {
              "color": "#E5ECF6",
              "width": 0.5
             }
            },
            "type": "bar"
           }
          ],
          "barpolar": [
           {
            "marker": {
             "line": {
              "color": "#E5ECF6",
              "width": 0.5
             }
            },
            "type": "barpolar"
           }
          ],
          "carpet": [
           {
            "aaxis": {
             "endlinecolor": "#2a3f5f",
             "gridcolor": "white",
             "linecolor": "white",
             "minorgridcolor": "white",
             "startlinecolor": "#2a3f5f"
            },
            "baxis": {
             "endlinecolor": "#2a3f5f",
             "gridcolor": "white",
             "linecolor": "white",
             "minorgridcolor": "white",
             "startlinecolor": "#2a3f5f"
            },
            "type": "carpet"
           }
          ],
          "choropleth": [
           {
            "colorbar": {
             "outlinewidth": 0,
             "ticks": ""
            },
            "type": "choropleth"
           }
          ],
          "contour": [
           {
            "colorbar": {
             "outlinewidth": 0,
             "ticks": ""
            },
            "colorscale": [
             [
              0,
              "#0d0887"
             ],
             [
              0.1111111111111111,
              "#46039f"
             ],
             [
              0.2222222222222222,
              "#7201a8"
             ],
             [
              0.3333333333333333,
              "#9c179e"
             ],
             [
              0.4444444444444444,
              "#bd3786"
             ],
             [
              0.5555555555555556,
              "#d8576b"
             ],
             [
              0.6666666666666666,
              "#ed7953"
             ],
             [
              0.7777777777777778,
              "#fb9f3a"
             ],
             [
              0.8888888888888888,
              "#fdca26"
             ],
             [
              1,
              "#f0f921"
             ]
            ],
            "type": "contour"
           }
          ],
          "contourcarpet": [
           {
            "colorbar": {
             "outlinewidth": 0,
             "ticks": ""
            },
            "type": "contourcarpet"
           }
          ],
          "heatmap": [
           {
            "colorbar": {
             "outlinewidth": 0,
             "ticks": ""
            },
            "colorscale": [
             [
              0,
              "#0d0887"
             ],
             [
              0.1111111111111111,
              "#46039f"
             ],
             [
              0.2222222222222222,
              "#7201a8"
             ],
             [
              0.3333333333333333,
              "#9c179e"
             ],
             [
              0.4444444444444444,
              "#bd3786"
             ],
             [
              0.5555555555555556,
              "#d8576b"
             ],
             [
              0.6666666666666666,
              "#ed7953"
             ],
             [
              0.7777777777777778,
              "#fb9f3a"
             ],
             [
              0.8888888888888888,
              "#fdca26"
             ],
             [
              1,
              "#f0f921"
             ]
            ],
            "type": "heatmap"
           }
          ],
          "heatmapgl": [
           {
            "colorbar": {
             "outlinewidth": 0,
             "ticks": ""
            },
            "colorscale": [
             [
              0,
              "#0d0887"
             ],
             [
              0.1111111111111111,
              "#46039f"
             ],
             [
              0.2222222222222222,
              "#7201a8"
             ],
             [
              0.3333333333333333,
              "#9c179e"
             ],
             [
              0.4444444444444444,
              "#bd3786"
             ],
             [
              0.5555555555555556,
              "#d8576b"
             ],
             [
              0.6666666666666666,
              "#ed7953"
             ],
             [
              0.7777777777777778,
              "#fb9f3a"
             ],
             [
              0.8888888888888888,
              "#fdca26"
             ],
             [
              1,
              "#f0f921"
             ]
            ],
            "type": "heatmapgl"
           }
          ],
          "histogram": [
           {
            "marker": {
             "colorbar": {
              "outlinewidth": 0,
              "ticks": ""
             }
            },
            "type": "histogram"
           }
          ],
          "histogram2d": [
           {
            "colorbar": {
             "outlinewidth": 0,
             "ticks": ""
            },
            "colorscale": [
             [
              0,
              "#0d0887"
             ],
             [
              0.1111111111111111,
              "#46039f"
             ],
             [
              0.2222222222222222,
              "#7201a8"
             ],
             [
              0.3333333333333333,
              "#9c179e"
             ],
             [
              0.4444444444444444,
              "#bd3786"
             ],
             [
              0.5555555555555556,
              "#d8576b"
             ],
             [
              0.6666666666666666,
              "#ed7953"
             ],
             [
              0.7777777777777778,
              "#fb9f3a"
             ],
             [
              0.8888888888888888,
              "#fdca26"
             ],
             [
              1,
              "#f0f921"
             ]
            ],
            "type": "histogram2d"
           }
          ],
          "histogram2dcontour": [
           {
            "colorbar": {
             "outlinewidth": 0,
             "ticks": ""
            },
            "colorscale": [
             [
              0,
              "#0d0887"
             ],
             [
              0.1111111111111111,
              "#46039f"
             ],
             [
              0.2222222222222222,
              "#7201a8"
             ],
             [
              0.3333333333333333,
              "#9c179e"
             ],
             [
              0.4444444444444444,
              "#bd3786"
             ],
             [
              0.5555555555555556,
              "#d8576b"
             ],
             [
              0.6666666666666666,
              "#ed7953"
             ],
             [
              0.7777777777777778,
              "#fb9f3a"
             ],
             [
              0.8888888888888888,
              "#fdca26"
             ],
             [
              1,
              "#f0f921"
             ]
            ],
            "type": "histogram2dcontour"
           }
          ],
          "mesh3d": [
           {
            "colorbar": {
             "outlinewidth": 0,
             "ticks": ""
            },
            "type": "mesh3d"
           }
          ],
          "parcoords": [
           {
            "line": {
             "colorbar": {
              "outlinewidth": 0,
              "ticks": ""
             }
            },
            "type": "parcoords"
           }
          ],
          "pie": [
           {
            "automargin": true,
            "type": "pie"
           }
          ],
          "scatter": [
           {
            "marker": {
             "colorbar": {
              "outlinewidth": 0,
              "ticks": ""
             }
            },
            "type": "scatter"
           }
          ],
          "scatter3d": [
           {
            "line": {
             "colorbar": {
              "outlinewidth": 0,
              "ticks": ""
             }
            },
            "marker": {
             "colorbar": {
              "outlinewidth": 0,
              "ticks": ""
             }
            },
            "type": "scatter3d"
           }
          ],
          "scattercarpet": [
           {
            "marker": {
             "colorbar": {
              "outlinewidth": 0,
              "ticks": ""
             }
            },
            "type": "scattercarpet"
           }
          ],
          "scattergeo": [
           {
            "marker": {
             "colorbar": {
              "outlinewidth": 0,
              "ticks": ""
             }
            },
            "type": "scattergeo"
           }
          ],
          "scattergl": [
           {
            "marker": {
             "colorbar": {
              "outlinewidth": 0,
              "ticks": ""
             }
            },
            "type": "scattergl"
           }
          ],
          "scattermapbox": [
           {
            "marker": {
             "colorbar": {
              "outlinewidth": 0,
              "ticks": ""
             }
            },
            "type": "scattermapbox"
           }
          ],
          "scatterpolar": [
           {
            "marker": {
             "colorbar": {
              "outlinewidth": 0,
              "ticks": ""
             }
            },
            "type": "scatterpolar"
           }
          ],
          "scatterpolargl": [
           {
            "marker": {
             "colorbar": {
              "outlinewidth": 0,
              "ticks": ""
             }
            },
            "type": "scatterpolargl"
           }
          ],
          "scatterternary": [
           {
            "marker": {
             "colorbar": {
              "outlinewidth": 0,
              "ticks": ""
             }
            },
            "type": "scatterternary"
           }
          ],
          "surface": [
           {
            "colorbar": {
             "outlinewidth": 0,
             "ticks": ""
            },
            "colorscale": [
             [
              0,
              "#0d0887"
             ],
             [
              0.1111111111111111,
              "#46039f"
             ],
             [
              0.2222222222222222,
              "#7201a8"
             ],
             [
              0.3333333333333333,
              "#9c179e"
             ],
             [
              0.4444444444444444,
              "#bd3786"
             ],
             [
              0.5555555555555556,
              "#d8576b"
             ],
             [
              0.6666666666666666,
              "#ed7953"
             ],
             [
              0.7777777777777778,
              "#fb9f3a"
             ],
             [
              0.8888888888888888,
              "#fdca26"
             ],
             [
              1,
              "#f0f921"
             ]
            ],
            "type": "surface"
           }
          ],
          "table": [
           {
            "cells": {
             "fill": {
              "color": "#EBF0F8"
             },
             "line": {
              "color": "white"
             }
            },
            "header": {
             "fill": {
              "color": "#C8D4E3"
             },
             "line": {
              "color": "white"
             }
            },
            "type": "table"
           }
          ]
         },
         "layout": {
          "annotationdefaults": {
           "arrowcolor": "#2a3f5f",
           "arrowhead": 0,
           "arrowwidth": 1
          },
          "coloraxis": {
           "colorbar": {
            "outlinewidth": 0,
            "ticks": ""
           }
          },
          "colorscale": {
           "diverging": [
            [
             0,
             "#8e0152"
            ],
            [
             0.1,
             "#c51b7d"
            ],
            [
             0.2,
             "#de77ae"
            ],
            [
             0.3,
             "#f1b6da"
            ],
            [
             0.4,
             "#fde0ef"
            ],
            [
             0.5,
             "#f7f7f7"
            ],
            [
             0.6,
             "#e6f5d0"
            ],
            [
             0.7,
             "#b8e186"
            ],
            [
             0.8,
             "#7fbc41"
            ],
            [
             0.9,
             "#4d9221"
            ],
            [
             1,
             "#276419"
            ]
           ],
           "sequential": [
            [
             0,
             "#0d0887"
            ],
            [
             0.1111111111111111,
             "#46039f"
            ],
            [
             0.2222222222222222,
             "#7201a8"
            ],
            [
             0.3333333333333333,
             "#9c179e"
            ],
            [
             0.4444444444444444,
             "#bd3786"
            ],
            [
             0.5555555555555556,
             "#d8576b"
            ],
            [
             0.6666666666666666,
             "#ed7953"
            ],
            [
             0.7777777777777778,
             "#fb9f3a"
            ],
            [
             0.8888888888888888,
             "#fdca26"
            ],
            [
             1,
             "#f0f921"
            ]
           ],
           "sequentialminus": [
            [
             0,
             "#0d0887"
            ],
            [
             0.1111111111111111,
             "#46039f"
            ],
            [
             0.2222222222222222,
             "#7201a8"
            ],
            [
             0.3333333333333333,
             "#9c179e"
            ],
            [
             0.4444444444444444,
             "#bd3786"
            ],
            [
             0.5555555555555556,
             "#d8576b"
            ],
            [
             0.6666666666666666,
             "#ed7953"
            ],
            [
             0.7777777777777778,
             "#fb9f3a"
            ],
            [
             0.8888888888888888,
             "#fdca26"
            ],
            [
             1,
             "#f0f921"
            ]
           ]
          },
          "colorway": [
           "#636efa",
           "#EF553B",
           "#00cc96",
           "#ab63fa",
           "#FFA15A",
           "#19d3f3",
           "#FF6692",
           "#B6E880",
           "#FF97FF",
           "#FECB52"
          ],
          "font": {
           "color": "#2a3f5f"
          },
          "geo": {
           "bgcolor": "white",
           "lakecolor": "white",
           "landcolor": "#E5ECF6",
           "showlakes": true,
           "showland": true,
           "subunitcolor": "white"
          },
          "hoverlabel": {
           "align": "left"
          },
          "hovermode": "closest",
          "mapbox": {
           "style": "light"
          },
          "paper_bgcolor": "white",
          "plot_bgcolor": "#E5ECF6",
          "polar": {
           "angularaxis": {
            "gridcolor": "white",
            "linecolor": "white",
            "ticks": ""
           },
           "bgcolor": "#E5ECF6",
           "radialaxis": {
            "gridcolor": "white",
            "linecolor": "white",
            "ticks": ""
           }
          },
          "scene": {
           "xaxis": {
            "backgroundcolor": "#E5ECF6",
            "gridcolor": "white",
            "gridwidth": 2,
            "linecolor": "white",
            "showbackground": true,
            "ticks": "",
            "zerolinecolor": "white"
           },
           "yaxis": {
            "backgroundcolor": "#E5ECF6",
            "gridcolor": "white",
            "gridwidth": 2,
            "linecolor": "white",
            "showbackground": true,
            "ticks": "",
            "zerolinecolor": "white"
           },
           "zaxis": {
            "backgroundcolor": "#E5ECF6",
            "gridcolor": "white",
            "gridwidth": 2,
            "linecolor": "white",
            "showbackground": true,
            "ticks": "",
            "zerolinecolor": "white"
           }
          },
          "shapedefaults": {
           "line": {
            "color": "#2a3f5f"
           }
          },
          "ternary": {
           "aaxis": {
            "gridcolor": "white",
            "linecolor": "white",
            "ticks": ""
           },
           "baxis": {
            "gridcolor": "white",
            "linecolor": "white",
            "ticks": ""
           },
           "bgcolor": "#E5ECF6",
           "caxis": {
            "gridcolor": "white",
            "linecolor": "white",
            "ticks": ""
           }
          },
          "title": {
           "x": 0.05
          },
          "xaxis": {
           "automargin": true,
           "gridcolor": "white",
           "linecolor": "white",
           "ticks": "",
           "title": {
            "standoff": 15
           },
           "zerolinecolor": "white",
           "zerolinewidth": 2
          },
          "yaxis": {
           "automargin": true,
           "gridcolor": "white",
           "linecolor": "white",
           "ticks": "",
           "title": {
            "standoff": 15
           },
           "zerolinecolor": "white",
           "zerolinewidth": 2
          }
         }
        },
        "title": {
         "text": "Germany - Customer Service With Trimming"
        }
       }
      },
      "text/html": [
       "<div>                            <div id=\"d2cfe819-538d-42ac-a1b9-716c0f45d56a\" class=\"plotly-graph-div\" style=\"height:525px; width:100%;\"></div>            <script type=\"text/javascript\">                require([\"plotly\"], function(Plotly) {                    window.PLOTLYENV=window.PLOTLYENV || {};                                    if (document.getElementById(\"d2cfe819-538d-42ac-a1b9-716c0f45d56a\")) {                    Plotly.newPlot(                        \"d2cfe819-538d-42ac-a1b9-716c0f45d56a\",                        [{\"link\": {\"hovertemplate\": \"%{value} unique users went from %{source.label} to %{target.label}.<br /><br />It took them %{label} in average to reach this point from the start of the flow.<extra></extra>\", \"label\": [\"0 days 00:00:41\", \"0 days 00:00:43\", \"0 days 00:11:12\", \"0 days 00:13:28\", \"0 days 00:00:17\", \"0 days 00:00:15\", \"0 days 00:00:21\", \"0 days 00:00:43\", \"0 days 00:00:38\", \"0 days 00:00:21\", \"0 days 00:00:20\", \"0 days 00:00:20\", \"0 days 00:00:25\", \"0 days 00:00:41\", \"0 days 00:00:38\", \"0 days 00:00:37\", \"0 days 00:00:37\", \"0 days 00:00:41\", \"0 days 00:00:46\", \"0 days 00:00:00\", \"0 days 00:00:00\", \"0 days 00:00:00\", \"0 days 00:00:03\", \"0 days 00:00:03\", \"0 days 00:00:04\", \"0 days 00:00:04\", \"0 days 00:00:04\", \"0 days 00:00:03\", \"0 days 00:00:16\", \"0 days 00:00:17\", \"0 days 00:00:21\", \"0 days 00:00:37\", \"0 days 00:01:09\", \"0 days 00:00:17\", \"0 days 00:00:24\", \"0 days 00:10:03\", \"0 days 00:00:00\", \"0 days 00:00:04\", \"0 days 00:00:03\", \"0 days 00:00:04\", \"0 days 00:00:33\", \"0 days 00:00:37\", \"0 days 00:06:25\", \"0 days 00:00:16\", \"0 days 00:00:15\", \"0 days 00:00:10\"], \"source\": [23, 23, 5, 5, 11, 11, 11, 16, 16, 13, 13, 13, 13, 22, 22, 18, 18, 18, 21, 1, 1, 1, 3, 3, 3, 3, 3, 3, 12, 12, 12, 17, 10, 10, 10, 30, 0, 2, 2, 2, 15, 20, 29, 9, 7, 8], \"target\": [5, 30, 33, 34, 23, 22, 21, 23, 22, 16, 18, 17, 30, 5, 30, 23, 22, 21, 30, 3, 5, 30, 13, 12, 11, 5, 10, 30, 22, 23, 21, 23, 5, 11, 13, 34, 2, 9, 7, 8, 20, 29, 32, 15, 20, 20], \"value\": [129, 603, 187, 20, 336, 190, 30, 44, 16, 75, 434, 28, 55, 61, 341, 265, 136, 17, 62, 1256, 124, 104, 472, 152, 428, 27, 67, 104, 66, 99, 22, 16, 21, 28, 24, 1023, 121, 44, 36, 27, 52, 128, 131, 54, 41, 32]}, \"node\": {\"label\": [\"EXTCALL_68:Block List~~API_EVENT\", \"EXTCALL_68~~API_EVENT\", \"EXTCALL_70:Robot Menu~~API_EVENT\", \"EXTCALL_70~~API_EVENT\", \"ICALL_1:Main Number~~CALL_EVENT:ANSWER\", \"ICALL_1~~CALL_EVENT:ANSWER\", \"MENU_TREE_17:3.1 Main Menu~~-1-dtmf\", \"MENU_TREE_17:3.1 Main Menu~~1-dtmf\", \"MENU_TREE_17:3.1 Main Menu~~2-dtmf\", \"MENU_TREE_17:3.1 Main Menu~~3-dtmf\", \"MENU_TREE_17~~-1-dtmf\", \"MENU_TREE_17~~1-dtmf\", \"MENU_TREE_17~~2-dtmf\", \"MENU_TREE_17~~3-dtmf\", \"DTMF_59:8.0 Fault Code~~-1-dtmf\", \"DTMF_59:8.0 Fault Code~~-2-dtmf\", \"DTMF_59~~-1-dtmf\", \"DTMF_59~~1-dtmf\", \"DTMF_59~~2-dtmf\", \"DTMF_61:4.0 Survey~~-1-dtmf\", \"DTMF_61:4.0 Survey~~-2-dtmf\", \"DTMF_61~~-1-dtmf\", \"DTMF_61~~1-dtmf\", \"DTMF_61~~2-dtmf\", \"DTMF_61~~3-dtmf\", \"DTMF_61~~7-dtmf\", \"TRANSFER_38~~CALL_EVENT:ATTEMPT\", \"DTMF_61~~5-dtmf\", \"DTMF_61~~9-dtmf\", \"ICALL_1:Main Number~~CALL_EVENT:HUNGUP\", \"ICALL_1~~CALL_EVENT:HUNGUP\", \"TRANSFER_38~~CALL_EVENT:CONGESTION\", \"TRANSFER_38:TRANSFER~~CALL_EVENT:HUNGUP\", \"TRANSFER_38~~CALL_EVENT:ANSWER\", \"TRANSFER_38~~CALL_EVENT:HUNGUP\"], \"line\": {\"color\": \"black\", \"width\": 0.5}, \"thickness\": 10}, \"type\": \"sankey\"}],                        {\"autosize\": true, \"font\": {\"size\": 15}, \"plot_bgcolor\": \"white\", \"template\": {\"data\": {\"bar\": [{\"error_x\": {\"color\": \"#2a3f5f\"}, \"error_y\": {\"color\": \"#2a3f5f\"}, \"marker\": {\"line\": {\"color\": \"#E5ECF6\", \"width\": 0.5}}, \"type\": \"bar\"}], \"barpolar\": [{\"marker\": {\"line\": {\"color\": \"#E5ECF6\", \"width\": 0.5}}, \"type\": \"barpolar\"}], \"carpet\": [{\"aaxis\": {\"endlinecolor\": \"#2a3f5f\", \"gridcolor\": \"white\", \"linecolor\": \"white\", \"minorgridcolor\": \"white\", \"startlinecolor\": \"#2a3f5f\"}, \"baxis\": {\"endlinecolor\": \"#2a3f5f\", \"gridcolor\": \"white\", \"linecolor\": \"white\", \"minorgridcolor\": \"white\", \"startlinecolor\": \"#2a3f5f\"}, \"type\": \"carpet\"}], \"choropleth\": [{\"colorbar\": {\"outlinewidth\": 0, \"ticks\": \"\"}, \"type\": \"choropleth\"}], \"contour\": [{\"colorbar\": {\"outlinewidth\": 0, \"ticks\": \"\"}, \"colorscale\": [[0.0, \"#0d0887\"], [0.1111111111111111, \"#46039f\"], [0.2222222222222222, \"#7201a8\"], [0.3333333333333333, \"#9c179e\"], [0.4444444444444444, \"#bd3786\"], [0.5555555555555556, \"#d8576b\"], [0.6666666666666666, \"#ed7953\"], [0.7777777777777778, \"#fb9f3a\"], [0.8888888888888888, \"#fdca26\"], [1.0, \"#f0f921\"]], \"type\": \"contour\"}], \"contourcarpet\": [{\"colorbar\": {\"outlinewidth\": 0, \"ticks\": \"\"}, \"type\": \"contourcarpet\"}], \"heatmap\": [{\"colorbar\": {\"outlinewidth\": 0, \"ticks\": \"\"}, \"colorscale\": [[0.0, \"#0d0887\"], [0.1111111111111111, \"#46039f\"], [0.2222222222222222, \"#7201a8\"], [0.3333333333333333, \"#9c179e\"], [0.4444444444444444, \"#bd3786\"], [0.5555555555555556, \"#d8576b\"], [0.6666666666666666, \"#ed7953\"], [0.7777777777777778, \"#fb9f3a\"], [0.8888888888888888, \"#fdca26\"], [1.0, \"#f0f921\"]], \"type\": \"heatmap\"}], \"heatmapgl\": [{\"colorbar\": {\"outlinewidth\": 0, \"ticks\": \"\"}, \"colorscale\": [[0.0, \"#0d0887\"], [0.1111111111111111, \"#46039f\"], [0.2222222222222222, \"#7201a8\"], [0.3333333333333333, \"#9c179e\"], [0.4444444444444444, \"#bd3786\"], [0.5555555555555556, \"#d8576b\"], [0.6666666666666666, \"#ed7953\"], [0.7777777777777778, \"#fb9f3a\"], [0.8888888888888888, \"#fdca26\"], [1.0, \"#f0f921\"]], \"type\": \"heatmapgl\"}], \"histogram\": [{\"marker\": {\"colorbar\": {\"outlinewidth\": 0, \"ticks\": \"\"}}, \"type\": \"histogram\"}], \"histogram2d\": [{\"colorbar\": {\"outlinewidth\": 0, \"ticks\": \"\"}, \"colorscale\": [[0.0, \"#0d0887\"], [0.1111111111111111, \"#46039f\"], [0.2222222222222222, \"#7201a8\"], [0.3333333333333333, \"#9c179e\"], [0.4444444444444444, \"#bd3786\"], [0.5555555555555556, \"#d8576b\"], [0.6666666666666666, \"#ed7953\"], [0.7777777777777778, \"#fb9f3a\"], [0.8888888888888888, \"#fdca26\"], [1.0, \"#f0f921\"]], \"type\": \"histogram2d\"}], \"histogram2dcontour\": [{\"colorbar\": {\"outlinewidth\": 0, \"ticks\": \"\"}, \"colorscale\": [[0.0, \"#0d0887\"], [0.1111111111111111, \"#46039f\"], [0.2222222222222222, \"#7201a8\"], [0.3333333333333333, \"#9c179e\"], [0.4444444444444444, \"#bd3786\"], [0.5555555555555556, \"#d8576b\"], [0.6666666666666666, \"#ed7953\"], [0.7777777777777778, \"#fb9f3a\"], [0.8888888888888888, \"#fdca26\"], [1.0, \"#f0f921\"]], \"type\": \"histogram2dcontour\"}], \"mesh3d\": [{\"colorbar\": {\"outlinewidth\": 0, \"ticks\": \"\"}, \"type\": \"mesh3d\"}], \"parcoords\": [{\"line\": {\"colorbar\": {\"outlinewidth\": 0, \"ticks\": \"\"}}, \"type\": \"parcoords\"}], \"pie\": [{\"automargin\": true, \"type\": \"pie\"}], \"scatter\": [{\"marker\": {\"colorbar\": {\"outlinewidth\": 0, \"ticks\": \"\"}}, \"type\": \"scatter\"}], \"scatter3d\": [{\"line\": {\"colorbar\": {\"outlinewidth\": 0, \"ticks\": \"\"}}, \"marker\": {\"colorbar\": {\"outlinewidth\": 0, \"ticks\": \"\"}}, \"type\": \"scatter3d\"}], \"scattercarpet\": [{\"marker\": {\"colorbar\": {\"outlinewidth\": 0, \"ticks\": \"\"}}, \"type\": \"scattercarpet\"}], \"scattergeo\": [{\"marker\": {\"colorbar\": {\"outlinewidth\": 0, \"ticks\": \"\"}}, \"type\": \"scattergeo\"}], \"scattergl\": [{\"marker\": {\"colorbar\": {\"outlinewidth\": 0, \"ticks\": \"\"}}, \"type\": \"scattergl\"}], \"scattermapbox\": [{\"marker\": {\"colorbar\": {\"outlinewidth\": 0, \"ticks\": \"\"}}, \"type\": \"scattermapbox\"}], \"scatterpolar\": [{\"marker\": {\"colorbar\": {\"outlinewidth\": 0, \"ticks\": \"\"}}, \"type\": \"scatterpolar\"}], \"scatterpolargl\": [{\"marker\": {\"colorbar\": {\"outlinewidth\": 0, \"ticks\": \"\"}}, \"type\": \"scatterpolargl\"}], \"scatterternary\": [{\"marker\": {\"colorbar\": {\"outlinewidth\": 0, \"ticks\": \"\"}}, \"type\": \"scatterternary\"}], \"surface\": [{\"colorbar\": {\"outlinewidth\": 0, \"ticks\": \"\"}, \"colorscale\": [[0.0, \"#0d0887\"], [0.1111111111111111, \"#46039f\"], [0.2222222222222222, \"#7201a8\"], [0.3333333333333333, \"#9c179e\"], [0.4444444444444444, \"#bd3786\"], [0.5555555555555556, \"#d8576b\"], [0.6666666666666666, \"#ed7953\"], [0.7777777777777778, \"#fb9f3a\"], [0.8888888888888888, \"#fdca26\"], [1.0, \"#f0f921\"]], \"type\": \"surface\"}], \"table\": [{\"cells\": {\"fill\": {\"color\": \"#EBF0F8\"}, \"line\": {\"color\": \"white\"}}, \"header\": {\"fill\": {\"color\": \"#C8D4E3\"}, \"line\": {\"color\": \"white\"}}, \"type\": \"table\"}]}, \"layout\": {\"annotationdefaults\": {\"arrowcolor\": \"#2a3f5f\", \"arrowhead\": 0, \"arrowwidth\": 1}, \"coloraxis\": {\"colorbar\": {\"outlinewidth\": 0, \"ticks\": \"\"}}, \"colorscale\": {\"diverging\": [[0, \"#8e0152\"], [0.1, \"#c51b7d\"], [0.2, \"#de77ae\"], [0.3, \"#f1b6da\"], [0.4, \"#fde0ef\"], [0.5, \"#f7f7f7\"], [0.6, \"#e6f5d0\"], [0.7, \"#b8e186\"], [0.8, \"#7fbc41\"], [0.9, \"#4d9221\"], [1, \"#276419\"]], \"sequential\": [[0.0, \"#0d0887\"], [0.1111111111111111, \"#46039f\"], [0.2222222222222222, \"#7201a8\"], [0.3333333333333333, \"#9c179e\"], [0.4444444444444444, \"#bd3786\"], [0.5555555555555556, \"#d8576b\"], [0.6666666666666666, \"#ed7953\"], [0.7777777777777778, \"#fb9f3a\"], [0.8888888888888888, \"#fdca26\"], [1.0, \"#f0f921\"]], \"sequentialminus\": [[0.0, \"#0d0887\"], [0.1111111111111111, \"#46039f\"], [0.2222222222222222, \"#7201a8\"], [0.3333333333333333, \"#9c179e\"], [0.4444444444444444, \"#bd3786\"], [0.5555555555555556, \"#d8576b\"], [0.6666666666666666, \"#ed7953\"], [0.7777777777777778, \"#fb9f3a\"], [0.8888888888888888, \"#fdca26\"], [1.0, \"#f0f921\"]]}, \"colorway\": [\"#636efa\", \"#EF553B\", \"#00cc96\", \"#ab63fa\", \"#FFA15A\", \"#19d3f3\", \"#FF6692\", \"#B6E880\", \"#FF97FF\", \"#FECB52\"], \"font\": {\"color\": \"#2a3f5f\"}, \"geo\": {\"bgcolor\": \"white\", \"lakecolor\": \"white\", \"landcolor\": \"#E5ECF6\", \"showlakes\": true, \"showland\": true, \"subunitcolor\": \"white\"}, \"hoverlabel\": {\"align\": \"left\"}, \"hovermode\": \"closest\", \"mapbox\": {\"style\": \"light\"}, \"paper_bgcolor\": \"white\", \"plot_bgcolor\": \"#E5ECF6\", \"polar\": {\"angularaxis\": {\"gridcolor\": \"white\", \"linecolor\": \"white\", \"ticks\": \"\"}, \"bgcolor\": \"#E5ECF6\", \"radialaxis\": {\"gridcolor\": \"white\", \"linecolor\": \"white\", \"ticks\": \"\"}}, \"scene\": {\"xaxis\": {\"backgroundcolor\": \"#E5ECF6\", \"gridcolor\": \"white\", \"gridwidth\": 2, \"linecolor\": \"white\", \"showbackground\": true, \"ticks\": \"\", \"zerolinecolor\": \"white\"}, \"yaxis\": {\"backgroundcolor\": \"#E5ECF6\", \"gridcolor\": \"white\", \"gridwidth\": 2, \"linecolor\": \"white\", \"showbackground\": true, \"ticks\": \"\", \"zerolinecolor\": \"white\"}, \"zaxis\": {\"backgroundcolor\": \"#E5ECF6\", \"gridcolor\": \"white\", \"gridwidth\": 2, \"linecolor\": \"white\", \"showbackground\": true, \"ticks\": \"\", \"zerolinecolor\": \"white\"}}, \"shapedefaults\": {\"line\": {\"color\": \"#2a3f5f\"}}, \"ternary\": {\"aaxis\": {\"gridcolor\": \"white\", \"linecolor\": \"white\", \"ticks\": \"\"}, \"baxis\": {\"gridcolor\": \"white\", \"linecolor\": \"white\", \"ticks\": \"\"}, \"bgcolor\": \"#E5ECF6\", \"caxis\": {\"gridcolor\": \"white\", \"linecolor\": \"white\", \"ticks\": \"\"}}, \"title\": {\"x\": 0.05}, \"xaxis\": {\"automargin\": true, \"gridcolor\": \"white\", \"linecolor\": \"white\", \"ticks\": \"\", \"title\": {\"standoff\": 15}, \"zerolinecolor\": \"white\", \"zerolinewidth\": 2}, \"yaxis\": {\"automargin\": true, \"gridcolor\": \"white\", \"linecolor\": \"white\", \"ticks\": \"\", \"title\": {\"standoff\": 15}, \"zerolinecolor\": \"white\", \"zerolinewidth\": 2}}}, \"title\": {\"text\": \"Germany - Customer Service With Trimming\"}},                        {\"responsive\": true}                    ).then(function(){\n",
       "                            \n",
       "var gd = document.getElementById('d2cfe819-538d-42ac-a1b9-716c0f45d56a');\n",
       "var x = new MutationObserver(function (mutations, observer) {{\n",
       "        var display = window.getComputedStyle(gd).display;\n",
       "        if (!display || display === 'none') {{\n",
       "            console.log([gd, 'removed!']);\n",
       "            Plotly.purge(gd);\n",
       "            observer.disconnect();\n",
       "        }}\n",
       "}});\n",
       "\n",
       "// Listen for the removal of the full notebook cells\n",
       "var notebookContainer = gd.closest('#notebook-container');\n",
       "if (notebookContainer) {{\n",
       "    x.observe(notebookContainer, {childList: true});\n",
       "}}\n",
       "\n",
       "// Listen for the clearing of the current output cell\n",
       "var outputEl = gd.closest('.output');\n",
       "if (outputEl) {{\n",
       "    x.observe(outputEl, {childList: true});\n",
       "}}\n",
       "\n",
       "                        })                };                });            </script>        </div>"
      ]
     },
     "metadata": {},
     "output_type": "display_data"
    }
   ],
   "source": [
    "flow.plot(15, f\"{FlowName} With Trimming\").show()"
   ]
  },
  {
   "cell_type": "code",
   "execution_count": null,
   "metadata": {},
   "outputs": [],
   "source": []
  }
 ],
 "metadata": {
  "kernelspec": {
   "display_name": "Odd-Python3",
   "language": "python",
   "name": "odd-python3"
  },
  "language_info": {
   "codemirror_mode": {
    "name": "ipython",
    "version": 3
   },
   "file_extension": ".py",
   "mimetype": "text/x-python",
   "name": "python",
   "nbconvert_exporter": "python",
   "pygments_lexer": "ipython3",
   "version": "3.8.2"
  }
 },
 "nbformat": 4,
 "nbformat_minor": 4
}
