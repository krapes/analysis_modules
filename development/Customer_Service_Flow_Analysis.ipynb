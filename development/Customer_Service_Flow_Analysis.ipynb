{
 "cells": [
  {
   "cell_type": "markdown",
   "metadata": {},
   "source": [
    "# Customer Service Flow Analysis \n",
    "\n",
    "## Background\n",
    "\n",
    "All of the data seen below is for the client SharkNinja. They recently launched 5 new flows that presumably survey clients in 5 distinct countries about their customer service experience. \n",
    "\n",
    "## Objective\n",
    "\n",
    "This analysis strives to better understand the flows, when they started, how they have preformed over time, and what they look like from a user's perspective. "
   ]
  },
  {
   "cell_type": "code",
   "execution_count": 1,
   "metadata": {},
   "outputs": [],
   "source": [
    "import sys\n",
    "sys.path.append(\"..\")\n",
    "\n",
    "import os\n",
    "from google.cloud import bigquery\n",
    "from plotly.subplots import make_subplots\n",
    "import matplotlib.pyplot as plt\n",
    "import seaborn as sns\n",
    "\n",
    "from src import SankeyFlow\n",
    "\n",
    "\n",
    "\n",
    "\n",
    "credential_path = \"/home/kerri/bigquery-jaya-consultant-cosmic-octane-88917-c46ba9b53a3b.json\"\n",
    "assert os.path.exists(credential_path)\n",
    "os.environ['GOOGLE_APPLICATION_CREDENTIALS'] = credential_path\n",
    "project_id = 'cosmic-octane-88917'\n",
    "client = bigquery.Client(project=project_id)"
   ]
  },
  {
   "cell_type": "code",
   "execution_count": 2,
   "metadata": {},
   "outputs": [],
   "source": [
    "sql_temp = \"\"\"\n",
    "WITH major_events AS (\n",
    "SELECT \n",
    "      SessionId,\n",
    "      TimeStamp,\n",
    "      CONCAT(ActionId, '~~', 'API_EVENT') AS ActionId,\n",
    "      CustomerId,\n",
    "      FlowName\n",
    "FROM `cosmic-octane-88917.analytics_us._VW_ApiEvent`\n",
    "\n",
    "UNION ALL \n",
    "\n",
    "SELECT \n",
    "      SessionId,\n",
    "      TimeStamp,\n",
    "      CONCAT(ActionId, '~~', 'CALL_EVENT', ':', CallAnswerIndicator) AS ActionId,\n",
    "      CustomerId,\n",
    "      FlowName\n",
    "FROM `cosmic-octane-88917.analytics_us._VW_CallEvent`\n",
    "WHERE ActionId != 'TRANSFER_33'\n",
    "\n",
    "UNION ALL \n",
    "\n",
    "SELECT \n",
    "      SessionId,\n",
    "      TimeStamp,\n",
    "      CONCAT(ActionId, '~~', CAST(DtmfInput AS STRING), '-dtmf') ActionId,\n",
    "      CustomerId,\n",
    "      FlowName\n",
    "FROM `cosmic-octane-88917.analytics_us._VW_DtmfEvent`\n",
    "\n",
    "UNION ALL \n",
    "\n",
    "SELECT \n",
    "      SessionId,\n",
    "      TimeStamp,\n",
    "      CONCAT(ActionId, '~~', 'MSG_EVENT') AS ActionId,\n",
    "      CustomerId,\n",
    "      FlowName\n",
    "FROM `cosmic-octane-88917.analytics_us._VW_MsgEvent`\n",
    "\n",
    "UNION ALL \n",
    "\n",
    "SELECT \n",
    "      SessionId,\n",
    "      TimeStamp,\n",
    "      CONCAT(ActionId, '~~', 'NLP_EVENT') AS ActionId,\n",
    "      CustomerId,\n",
    "      FlowName\n",
    "FROM `cosmic-octane-88917.analytics_us._VW_NlpEvent`\n",
    "\n",
    "/*\n",
    "UNION ALL \n",
    "\n",
    "\n",
    "SELECT \n",
    "      SessionId,\n",
    "      TimeStamp,\n",
    "      CONCAT(ActionId, '~~', 'EXIT_EVENT') AS ActionId,\n",
    "      CustomerId,\n",
    "      FlowName\n",
    "FROM `cosmic-octane-88917.analytics_us._VW_ApplicationExitEvent`\n",
    "\n",
    "UNION ALL \n",
    "\n",
    "\n",
    "SELECT \n",
    "      SessionId,\n",
    "      TimeStamp,\n",
    "      CONCAT(ActionId, '~~', 'RECORD_EVENT'),\n",
    "      CustomerId,\n",
    "      FlowName\n",
    "FROM `cosmic-octane-88917.analytics_us._VW_CallDetailRecordEvent`\n",
    "*/\n",
    "\n",
    "),\n",
    "\n",
    "filtered AS (\n",
    "SELECT  SessionId,\n",
    "        TimeStamp,\n",
    "        ActionId,\n",
    "        FlowName\n",
    "FROM major_events\n",
    "WHERE CustomerId IN ('1021814')\n",
    "--AND FlowName='{0}'\n",
    "AND EXTRACT(DATE FROM TimeStamp) > '2020-06-01'\n",
    "),\n",
    "\n",
    "metric_prep AS (\n",
    "SELECT \n",
    "       SessionId,\n",
    "       ActionId,\n",
    "       TimeStamp,\n",
    "       ROW_NUMBER() OVER (PARTITION BY SessionId ORDER BY TimeStamp) AS rank_event,\n",
    "       FIRST_VALUE(TimeStamp) OVER (PARTITION BY SessionId ORDER BY TimeStamp) AS first_value,\n",
    "       LEAD(TimeStamp) OVER (PARTITION BY SessionId ORDER BY TimeStamp) AS next_value,\n",
    "       LEAD(ActionId) OVER (PARTITION BY SessionId ORDER BY TimeStamp) AS next_event,\n",
    "       FlowName,\n",
    "       \n",
    "FROM\n",
    "filtered\n",
    ")\n",
    "\n",
    "SELECT\n",
    "       SessionId AS user_id,\n",
    "       ActionId  AS event_name,\n",
    "       TimeStamp AS time_event,\n",
    "       rank_event,\n",
    "       next_event,\n",
    "       TIMESTAMP_DIFF(TimeStamp, first_value, SECOND) AS time_from_start,\n",
    "       TIMESTAMP_DIFF(next_value, TimeStamp, SECOND) AS time_to_next\n",
    "FROM metric_prep\n",
    "--WHERE ActionId NOT LIKE '%END_CALL%'\n",
    "ORDER BY user_id, time_event\n",
    "LIMIT 100000\n",
    "\"\"\"\n"
   ]
  },
  {
   "cell_type": "code",
   "execution_count": 3,
   "metadata": {},
   "outputs": [],
   "source": [
    "sql_time_evol = \"\"\"\n",
    "WITH count_steps AS (\n",
    "SELECT\n",
    "        TimeStamp,\n",
    "        SessionId,\n",
    "        FlowName,\n",
    "        CHARACTER_LENGTH(Path) - CHARACTER_LENGTH(REPLACE(Path, ';', '')) AS pathLength\n",
    "FROM `cosmic-octane-88917.analytics_us._VW_ApplicationExitEvent`\n",
    "),\n",
    "\n",
    "calc_values AS (\n",
    "SELECT \n",
    "      EXTRACT(DATE FROM TimeStamp) AS date,\n",
    "      COUNT(DISTINCT(SessionId)) AS count,\n",
    "      AVG(pathLength) AS avg_pathLength,\n",
    "      FlowName\n",
    "FROM count_steps\n",
    "WHERE FlowName in {0}\n",
    "GROUP BY date, FlowName\n",
    "\n",
    ")\n",
    "\n",
    "SELECT *,\n",
    "      AVG(count) OVER(PARTITION BY FlowName ORDER BY date \n",
    "                 ROWS BETWEEN 14 PRECEDING AND CURRENT ROW) AS avg_14_day_count,\n",
    "      AVG(avg_pathLength) OVER(PARTITION BY FlowName ORDER BY date \n",
    "                 ROWS BETWEEN 14 PRECEDING AND CURRENT ROW) AS avg_14_day_pathLength\n",
    "FROM calc_values\n",
    "\n",
    "\"\"\"\n"
   ]
  },
  {
   "cell_type": "code",
   "execution_count": 4,
   "metadata": {},
   "outputs": [],
   "source": [
    "\n",
    "\n",
    "def time_stats(flownames, hue):\n",
    "    \n",
    "    q = sql_time_evol.format(flownames)\n",
    "    df = client.query(q).to_dataframe()\n",
    "    \n",
    "    fig, (ax1,ax2, ax3, ax4) = plt.subplots(nrows=4, figsize=(15,30))\n",
    "    chart = sns.lineplot(x=\"date\", y=\"avg_14_day_count\",\n",
    "                 hue=hue, \n",
    "                 data=df, ax=ax1)\n",
    "    chart.set_title(f\"14 Day Rolling Average Count\")\n",
    "\n",
    "\n",
    "    chart = sns.lineplot(x=\"date\", y=\"avg_14_day_pathLength\",\n",
    "                 hue=hue, \n",
    "                 data=df, ax=ax2)\n",
    "    chart.set_title(f\"14 Day Rolling Avg Path Length\")\n",
    "\n",
    "\n",
    "    chart = sns.lineplot(x=\"date\", y=\"count\",\n",
    "                 hue=hue, \n",
    "                 data=df, ax=ax3)\n",
    "    chart.set_title(f\"Count\")\n",
    "\n",
    "\n",
    "    chart = sns.lineplot(x=\"date\", y=\"avg_pathLength\",\n",
    "                 hue=hue, \n",
    "                 data=df, ax=ax4)\n",
    "    chart.set_title(f\"Path Length\")"
   ]
  },
  {
   "cell_type": "code",
   "execution_count": 5,
   "metadata": {},
   "outputs": [],
   "source": [
    "flows = [\"United Kingdom - Customer Service\", \n",
    "         \"Italy - Customer Service\",\n",
    "         \"France - Customer Service\",\n",
    "         \"Spain - Customer Service\",\n",
    "         \"Germany - Customer Service\"]\n",
    "#time_stats(tuple(flows), 'FlowName')"
   ]
  },
  {
   "cell_type": "markdown",
   "metadata": {},
   "source": [
    "# Preformance Over Time\n",
    "\n",
    "The plots compare the 5 flows over two dimensions. \n",
    "\n",
    "1. Count - The number of unique SessionIds\n",
    "2. PathLength - The number of steps present in the ApplicationExitEvent path variable\n",
    "\n",
    "### Takeaways\n",
    "\n",
    "- United Kingdom has a much higher volume than the other flows\n",
    "- United Kingdom has a higher and more stable average path length\n",
    "- Path lengths differ between weekdays and weekend, probably because SharkNinja is not taking calls on weekends\n",
    "- The total count of people calling in on weekends is also smaller\n",
    "- While path lenght for United Kingdom and Germany became stable around June Italy, France, and Spain did not really level out until September."
   ]
  },
  {
   "cell_type": "code",
   "execution_count": null,
   "metadata": {},
   "outputs": [
    {
     "name": "stderr",
     "output_type": "stream",
     "text": [
      "/home/kerri/Documents/Projects/intelepeer/sharkninja_analysis/venv8/lib/python3.8/site-packages/google/cloud/bigquery/client.py:439: UserWarning: Cannot create BigQuery Storage client, the dependency google-cloud-bigquery-storage is not installed.\n",
      "  warnings.warn(\n"
     ]
    },
    {
     "name": "stdout",
     "output_type": "stream",
     "text": [
      "Data Size: 100000\n"
     ]
    }
   ],
   "source": [
    "FlowName =  \"United Kingdom - Customer Service\"\n",
    "df = client.query(sql_temp.format(FlowName)).to_dataframe()\n",
    "print(f\"Data Size: {len(df)}\")\n",
    "uk_flow = SankeyFlow(FlowName, df)\n",
    "uk_flow.plot(500, f\"{FlowName} Without Trimming\").show()"
   ]
  },
  {
   "cell_type": "code",
   "execution_count": null,
   "metadata": {},
   "outputs": [],
   "source": [
    "df[df['user_id'] == '1591615402-1021814-SR-000-0000000000000-7FE956AC']"
   ]
  },
  {
   "cell_type": "code",
   "execution_count": null,
   "metadata": {},
   "outputs": [],
   "source": [
    "uk_flow.plot(5000, f\"{FlowName} With Trimming\").show()"
   ]
  },
  {
   "cell_type": "markdown",
   "metadata": {},
   "source": [
    "## United Kingdom - Customer Service\n",
    "\n",
    "The upper plot shows all shows all the plots that a SessionId has taken through the flow from June 1st to today. The lower plot shows a trimmed version with only those paths that have over 100 users. \n",
    "\n",
    "### Takeaways\n",
    "- They appear to enter from two main sources MENU_TREE_17 (MainMenu) or MENU_TREE_6\n",
    "- The paths from the two entrances are always seperate, it's to say they do not share any nodes"
   ]
  },
  {
   "cell_type": "code",
   "execution_count": null,
   "metadata": {},
   "outputs": [],
   "source": [
    "FlowName = \"Italy - Customer Service\"\n",
    "df = client.query(sql_temp.format(FlowName)).to_dataframe()\n",
    "it_flow = SankeyFlow(FlowName, df)\n",
    "it_flow.plot(0, f\"{FlowName} Without Trimming\").show()"
   ]
  },
  {
   "cell_type": "code",
   "execution_count": null,
   "metadata": {},
   "outputs": [],
   "source": [
    "it_flow.plot(5000, f\"{FlowName} With Trimming\").show()"
   ]
  },
  {
   "cell_type": "markdown",
   "metadata": {},
   "source": [
    "## Italy - Customer Service\n",
    "\n",
    "The upper plot shows all shows all the plots that a SessionId has taken through the flow from June 1st to today. The lower plot shows a trimmed version with only those paths that have over 10 users.\n",
    "\n",
    "## Takeaways\n"
   ]
  },
  {
   "cell_type": "code",
   "execution_count": null,
   "metadata": {},
   "outputs": [],
   "source": [
    "FlowName = \"France - Customer Service\"\n",
    "df = client.query(sql_temp.format(FlowName)).to_dataframe()\n",
    "fr_flow = SankeyFlow(FlowName, df)\n",
    "fr_flow.plot(0, f\"{FlowName} Without Trimming\").show()"
   ]
  },
  {
   "cell_type": "code",
   "execution_count": null,
   "metadata": {},
   "outputs": [],
   "source": [
    "fr_flow.plot(5000, f\"{FlowName} With Trimming\").show()"
   ]
  },
  {
   "cell_type": "markdown",
   "metadata": {},
   "source": [
    "## France - Customer Service\n",
    "\n",
    "The upper plot shows all shows all the plots that a SessionId has taken through the flow from June 1st to today. The lower plot shows a trimmed version with only those paths that have over 10 users.\n",
    "\n",
    "## Takeaways\n"
   ]
  },
  {
   "cell_type": "code",
   "execution_count": null,
   "metadata": {},
   "outputs": [],
   "source": [
    "FlowName = \"Spain - Customer Service\"\n",
    "df = client.query(sql_temp.format(FlowName)).to_dataframe()\n",
    "es_flow = SankeyFlow(FlowName, df)\n",
    "es_flow.plot(0, f\"{FlowName} Without Trimming\").show()"
   ]
  },
  {
   "cell_type": "code",
   "execution_count": null,
   "metadata": {},
   "outputs": [],
   "source": [
    "es_flow.plot(5000, f\"{FlowName} With Trimming\").show()"
   ]
  },
  {
   "cell_type": "markdown",
   "metadata": {},
   "source": [
    "## Spain - Customer Service\n",
    "\n",
    "The upper plot shows all shows all the plots that a SessionId has taken through the flow from June 1st to today. The lower plot shows a trimmed version with only those paths that have over 10 users.\n",
    "\n",
    "## Takeaways\n",
    "- The dominate flows ends in call hangup\n",
    "- Skipping the DTMF_29 menu saves ~10 seconds \n",
    "- 41.6k  of"
   ]
  },
  {
   "cell_type": "code",
   "execution_count": null,
   "metadata": {},
   "outputs": [],
   "source": [
    "FlowName = \"Germany - Customer Service\"\n",
    "df = client.query(sql_temp.format(FlowName)).to_dataframe()\n",
    "gr_flow = SankeyFlow(FlowName, df)\n",
    "gr_flow.plot(0, f\"{FlowName} Without Trimming\").show()"
   ]
  },
  {
   "cell_type": "code",
   "execution_count": null,
   "metadata": {},
   "outputs": [],
   "source": [
    "gr_flow.plot(6000, f\"{FlowName} With Trimming\").show()"
   ]
  },
  {
   "cell_type": "markdown",
   "metadata": {},
   "source": [
    "## Germany - Customer Service\n",
    "\n",
    "The upper plot shows all shows all the plots that a SessionId has taken through the flow from June 1st to today. The lower plot shows a trimmed version with only those paths that have over 10 users.\n",
    "\n",
    "## Takeaways\n"
   ]
  },
  {
   "cell_type": "code",
   "execution_count": null,
   "metadata": {},
   "outputs": [],
   "source": [
    "hungup_events = df[(df['event_name'] == 'ICALL_1~~CALL_EVENT:HUNGUP') & \n",
    "                   (df['next_event'] == 'TRANSFER_33~~CALL_EVENT:HUNGUP') &\n",
    "                   (df['time_from_start'] == '00:08:42')]"
   ]
  },
  {
   "cell_type": "code",
   "execution_count": null,
   "metadata": {},
   "outputs": [],
   "source": [
    "hungup_events"
   ]
  },
  {
   "cell_type": "code",
   "execution_count": null,
   "metadata": {},
   "outputs": [],
   "source": [
    "df[df['user_id'] == '1593587204-1021814-SR-000-0000000000000-28794727']"
   ]
  },
  {
   "cell_type": "code",
   "execution_count": null,
   "metadata": {},
   "outputs": [],
   "source": []
  }
 ],
 "metadata": {
  "kernelspec": {
   "display_name": "venv8-sharkninja",
   "language": "python",
   "name": "venv8-sharkninja"
  },
  "language_info": {
   "codemirror_mode": {
    "name": "ipython",
    "version": 3
   },
   "file_extension": ".py",
   "mimetype": "text/x-python",
   "name": "python",
   "nbconvert_exporter": "python",
   "pygments_lexer": "ipython3",
   "version": "3.8.5"
  }
 },
 "nbformat": 4,
 "nbformat_minor": 4
}
