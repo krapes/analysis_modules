{
 "cells": [
  {
   "cell_type": "markdown",
   "metadata": {},
   "source": [
    "# Path Stats Over Time"
   ]
  },
  {
   "cell_type": "code",
   "execution_count": 1,
   "metadata": {},
   "outputs": [],
   "source": [
    "import sys\n",
    "sys.path.append(\"..\")\n",
    "\n",
    "import os\n",
    "from google.cloud import bigquery\n",
    "from plotly.subplots import make_subplots\n",
    "import matplotlib.pyplot as plt\n",
    "import seaborn as sns\n",
    "import datetime\n",
    "\n",
    "from src import SankeyFlow\n",
    "from src import Flow\n",
    "\n",
    "\n",
    "\n",
    "\n",
    "credential_path = \"/home/kerri/bigquery-jaya-consultant-cosmic-octane-88917-c46ba9b53a3b.json\"\n",
    "assert os.path.exists(credential_path)\n",
    "os.environ['GOOGLE_APPLICATION_CREDENTIALS'] = credential_path\n",
    "project_id = 'cosmic-octane-88917'\n",
    "client = bigquery.Client(project=project_id)"
   ]
  },
  {
   "cell_type": "code",
   "execution_count": 2,
   "metadata": {},
   "outputs": [
    {
     "ename": "FileNotFoundError",
     "evalue": "[Errno 2] No such file or directory: '/home/kerri/Documents/Projects/intelepeer/sharkninja_analysis/analysis_modules/src/Flow/top_paths.sql'",
     "output_type": "error",
     "traceback": [
      "\u001b[0;31m---------------------------------------------------------------------------\u001b[0m",
      "\u001b[0;31mFileNotFoundError\u001b[0m                         Traceback (most recent call last)",
      "\u001b[0;32m<ipython-input-2-5f5b47433872>\u001b[0m in \u001b[0;36m<module>\u001b[0;34m\u001b[0m\n\u001b[1;32m      1\u001b[0m \u001b[0mFlowName\u001b[0m \u001b[0;34m=\u001b[0m \u001b[0;34m\"United Kingdom - Customer Service\"\u001b[0m\u001b[0;34m\u001b[0m\u001b[0;34m\u001b[0m\u001b[0m\n\u001b[1;32m      2\u001b[0m \u001b[0mflow\u001b[0m \u001b[0;34m=\u001b[0m \u001b[0mFlow\u001b[0m\u001b[0;34m(\u001b[0m\u001b[0mFlowName\u001b[0m\u001b[0;34m)\u001b[0m\u001b[0;34m\u001b[0m\u001b[0;34m\u001b[0m\u001b[0m\n\u001b[0;32m----> 3\u001b[0;31m \u001b[0mflow\u001b[0m\u001b[0;34m.\u001b[0m\u001b[0mtop_paths_plot\u001b[0m\u001b[0;34m(\u001b[0m\u001b[0;34m)\u001b[0m\u001b[0;34m\u001b[0m\u001b[0;34m\u001b[0m\u001b[0m\n\u001b[0m",
      "\u001b[0;32m~/Documents/Projects/intelepeer/sharkninja_analysis/analysis_modules/src/Flow/Flow.py\u001b[0m in \u001b[0;36mtop_paths_plot\u001b[0;34m(self)\u001b[0m\n\u001b[1;32m     46\u001b[0m \u001b[0;34m\u001b[0m\u001b[0m\n\u001b[1;32m     47\u001b[0m     \u001b[0;32mdef\u001b[0m \u001b[0mtop_paths_plot\u001b[0m\u001b[0;34m(\u001b[0m\u001b[0mself\u001b[0m\u001b[0;34m)\u001b[0m\u001b[0;34m:\u001b[0m\u001b[0;34m\u001b[0m\u001b[0;34m\u001b[0m\u001b[0m\n\u001b[0;32m---> 48\u001b[0;31m         \u001b[0mtop_paths\u001b[0m \u001b[0;34m=\u001b[0m \u001b[0mself\u001b[0m\u001b[0;34m.\u001b[0m\u001b[0m_open_sql\u001b[0m\u001b[0;34m(\u001b[0m\u001b[0;34m'top_paths.sql'\u001b[0m\u001b[0;34m)\u001b[0m\u001b[0;34m\u001b[0m\u001b[0;34m\u001b[0m\u001b[0m\n\u001b[0m\u001b[1;32m     49\u001b[0m         \u001b[0mdf\u001b[0m \u001b[0;34m=\u001b[0m \u001b[0mclient\u001b[0m\u001b[0;34m.\u001b[0m\u001b[0mquery\u001b[0m\u001b[0;34m(\u001b[0m\u001b[0mtop_paths\u001b[0m\u001b[0;34m.\u001b[0m\u001b[0mformat\u001b[0m\u001b[0;34m(\u001b[0m\u001b[0;34mf\"('{self._FlowName}')\"\u001b[0m\u001b[0;34m)\u001b[0m\u001b[0;34m)\u001b[0m\u001b[0;34m.\u001b[0m\u001b[0mto_dataframe\u001b[0m\u001b[0;34m(\u001b[0m\u001b[0;34m)\u001b[0m\u001b[0;34m\u001b[0m\u001b[0;34m\u001b[0m\u001b[0m\n\u001b[1;32m     50\u001b[0m         \u001b[0mfig\u001b[0m \u001b[0;34m=\u001b[0m \u001b[0mself\u001b[0m\u001b[0;34m.\u001b[0m\u001b[0mtime_stats\u001b[0m\u001b[0;34m(\u001b[0m\u001b[0mdf\u001b[0m\u001b[0;34m,\u001b[0m \u001b[0;34m'nickname'\u001b[0m\u001b[0;34m,\u001b[0m \u001b[0;34m[\u001b[0m\u001b[0;34m'count'\u001b[0m\u001b[0;34m,\u001b[0m \u001b[0;34m'avg_duration'\u001b[0m\u001b[0;34m]\u001b[0m\u001b[0;34m)\u001b[0m\u001b[0;34m\u001b[0m\u001b[0;34m\u001b[0m\u001b[0m\n",
      "\u001b[0;32m~/Documents/Projects/intelepeer/sharkninja_analysis/analysis_modules/src/Flow/Flow.py\u001b[0m in \u001b[0;36m_open_sql\u001b[0;34m(self, filename)\u001b[0m\n\u001b[1;32m     23\u001b[0m     \u001b[0;32mdef\u001b[0m \u001b[0m_open_sql\u001b[0m\u001b[0;34m(\u001b[0m\u001b[0mself\u001b[0m\u001b[0;34m,\u001b[0m \u001b[0mfilename\u001b[0m\u001b[0;34m)\u001b[0m\u001b[0;34m:\u001b[0m\u001b[0;34m\u001b[0m\u001b[0;34m\u001b[0m\u001b[0m\n\u001b[1;32m     24\u001b[0m         \u001b[0mfile_path\u001b[0m \u001b[0;34m=\u001b[0m \u001b[0mos\u001b[0m\u001b[0;34m.\u001b[0m\u001b[0mpath\u001b[0m\u001b[0;34m.\u001b[0m\u001b[0mjoin\u001b[0m\u001b[0;34m(\u001b[0m\u001b[0mself\u001b[0m\u001b[0;34m.\u001b[0m\u001b[0mdir_path\u001b[0m\u001b[0;34m,\u001b[0m \u001b[0mfilename\u001b[0m\u001b[0;34m)\u001b[0m\u001b[0;34m\u001b[0m\u001b[0;34m\u001b[0m\u001b[0m\n\u001b[0;32m---> 25\u001b[0;31m         \u001b[0;32mwith\u001b[0m \u001b[0mopen\u001b[0m\u001b[0;34m(\u001b[0m\u001b[0mfile_path\u001b[0m\u001b[0;34m)\u001b[0m \u001b[0;32mas\u001b[0m \u001b[0mf\u001b[0m\u001b[0;34m:\u001b[0m\u001b[0;34m\u001b[0m\u001b[0;34m\u001b[0m\u001b[0m\n\u001b[0m\u001b[1;32m     26\u001b[0m             \u001b[0mfile_content\u001b[0m \u001b[0;34m=\u001b[0m \u001b[0mf\u001b[0m\u001b[0;34m.\u001b[0m\u001b[0mread\u001b[0m\u001b[0;34m(\u001b[0m\u001b[0;34m)\u001b[0m\u001b[0;34m\u001b[0m\u001b[0;34m\u001b[0m\u001b[0m\n\u001b[1;32m     27\u001b[0m         \u001b[0;32mreturn\u001b[0m \u001b[0mfile_content\u001b[0m\u001b[0;34m\u001b[0m\u001b[0;34m\u001b[0m\u001b[0m\n",
      "\u001b[0;31mFileNotFoundError\u001b[0m: [Errno 2] No such file or directory: '/home/kerri/Documents/Projects/intelepeer/sharkninja_analysis/analysis_modules/src/Flow/top_paths.sql'"
     ]
    }
   ],
   "source": [
    "FlowName = \"United Kingdom - Customer Service\"\n",
    "flow = Flow(FlowName)\n",
    "flow.top_paths_plot()"
   ]
  },
  {
   "cell_type": "code",
   "execution_count": null,
   "metadata": {},
   "outputs": [],
   "source": [
    "sql_time_evol = \"\"\"\n",
    "WITH count_steps AS (\n",
    "SELECT\n",
    "        TimeStamp,\n",
    "        SessionId,\n",
    "        EndTime - StartTime AS Duration,\n",
    "        FlowName,\n",
    "        Path,\n",
    "        CHARACTER_LENGTH(Path) - CHARACTER_LENGTH(REPLACE(Path, ';', '')) AS pathLength\n",
    "FROM `cosmic-octane-88917.analytics_us._VW_ApplicationExitEvent`\n",
    "),\n",
    "\n",
    "top_10 AS (\n",
    "SELECT *,\n",
    "      CONCAT(ROW_NUMBER() OVER(), '-Path_Freq_Rank') AS nickname\n",
    "FROM (\n",
    "      SELECT \n",
    "        Path, \n",
    "        COUNT(TimeStamp) count\n",
    "      FROM `cosmic-octane-88917.analytics_us._VW_ApplicationExitEvent`\n",
    "      WHERE FlowName in {0}\n",
    "      AND EXTRACT(DATE FROM TimeStamp) BETWEEN '2020-06-01' AND '2020-10-31'\n",
    "      GROUP BY Path\n",
    "      ORDER BY count DESC\n",
    "      LIMIT 10\n",
    "      )\n",
    "),\n",
    "\n",
    "calc_values AS (\n",
    "SELECT \n",
    "      EXTRACT(DATE FROM TimeStamp) AS date,\n",
    "      COUNT(DISTINCT(SessionId)) AS count,\n",
    "      AVG(Duration) AS avg_duration,\n",
    "      nickname,\n",
    "      ANY_VALUE(Path) AS Path\n",
    "FROM count_steps c\n",
    "INNER JOIN \n",
    "top_10 t\n",
    "USING(Path)\n",
    "GROUP BY date, nickname\n",
    "\n",
    ")\n",
    "\n",
    "SELECT *,\n",
    "      AVG(count) OVER(PARTITION BY nickname ORDER BY date \n",
    "                 ROWS BETWEEN 14 PRECEDING AND CURRENT ROW) AS avg_14_day_count,\n",
    "      AVG(avg_duration) OVER(PARTITION BY nickname ORDER BY date \n",
    "                 ROWS BETWEEN 14 PRECEDING AND CURRENT ROW) AS avg_14_day_duration\n",
    "FROM calc_values\n",
    "\n",
    "\"\"\"\n"
   ]
  },
  {
   "cell_type": "code",
   "execution_count": null,
   "metadata": {},
   "outputs": [],
   "source": [
    "\n",
    "\n",
    "def time_stats(df, hue):\n",
    "    \n",
    "    \n",
    "    fig, (ax1,ax2, ax3, ax4) = plt.subplots(nrows=4, figsize=(15,30))\n",
    "    chart = sns.lineplot(x=\"date\", y=\"avg_14_day_count\",\n",
    "                 hue=hue, \n",
    "                 data=df, ax=ax1)\n",
    "    chart.set_title(f\"14 Day Rolling Average Count\")\n",
    "\n",
    "\n",
    "    chart = sns.lineplot(x=\"date\", y=\"avg_14_day_duration\",\n",
    "                 hue=hue, \n",
    "                 data=df, ax=ax2)\n",
    "    chart.set_title(f\"14 Day Rolling Avg Duration\")\n",
    "\n",
    "\n",
    "    chart = sns.lineplot(x=\"date\", y=\"count\",\n",
    "                 hue=hue, \n",
    "                 data=df, ax=ax3)\n",
    "    chart.set_title(f\"Count\")\n",
    "\n",
    "\n",
    "    chart = sns.lineplot(x=\"date\", y=\"avg_duration\",\n",
    "                 hue=hue, \n",
    "                 data=df, ax=ax4)\n",
    "    chart.set_title(f\"Duration\")"
   ]
  },
  {
   "cell_type": "code",
   "execution_count": null,
   "metadata": {},
   "outputs": [],
   "source": [
    "FlowName = \"United Kingdom - Customer Service\"\n",
    "df = client.query(sql_time_evol.format(f\"('{FlowName}')\")).to_dataframe()\n",
    "time_stats(df, 'nickname')\n"
   ]
  },
  {
   "cell_type": "code",
   "execution_count": null,
   "metadata": {},
   "outputs": [],
   "source": [
    "FlowName = \"Italy - Customer Service\"\n",
    "df = client.query(sql_time_evol.format(f\"('{FlowName}')\")).to_dataframe()\n",
    "time_stats(df, 'nickname')"
   ]
  },
  {
   "cell_type": "code",
   "execution_count": null,
   "metadata": {},
   "outputs": [],
   "source": [
    "FlowName = \"France - Customer Service\"\n",
    "df = client.query(sql_time_evol.format(f\"('{FlowName}')\")).to_dataframe()\n",
    "time_stats(df, 'nickname')"
   ]
  },
  {
   "cell_type": "code",
   "execution_count": null,
   "metadata": {},
   "outputs": [],
   "source": [
    "FlowName = \"Spain - Customer Service\"\n",
    "df = client.query(sql_time_evol.format(f\"('{FlowName}')\")).to_dataframe()\n",
    "time_stats(df, 'nickname')"
   ]
  },
  {
   "cell_type": "code",
   "execution_count": null,
   "metadata": {},
   "outputs": [],
   "source": [
    "FlowName = \"Germany - Customer Service\"\n",
    "df = client.query(sql_time_evol.format(f\"('{FlowName}')\")).to_dataframe()\n",
    "time_stats(df, 'nickname')"
   ]
  },
  {
   "cell_type": "code",
   "execution_count": null,
   "metadata": {},
   "outputs": [],
   "source": [
    "FlowName = \"DB Management\"\n",
    "df = client.query(sql_time_evol.format(f\"('{FlowName}')\")).to_dataframe()\n",
    "time_stats(df, 'nickname')"
   ]
  },
  {
   "cell_type": "code",
   "execution_count": null,
   "metadata": {},
   "outputs": [],
   "source": [
    "FlowName = \"v2 Main UK Cust Service - Main v2.0\"\n",
    "df = client.query(sql_time_evol.format(f\"('{FlowName}')\")).to_dataframe()\n",
    "time_stats(df, 'nickname')"
   ]
  },
  {
   "cell_type": "code",
   "execution_count": null,
   "metadata": {},
   "outputs": [],
   "source": [
    "FlowName = \"v2 survey UK Cust Service - Survey Opt In v2.0\"\n",
    "df = client.query(sql_time_evol.format(f\"('{FlowName}')\")).to_dataframe()\n",
    "time_stats(df, 'nickname')"
   ]
  },
  {
   "cell_type": "code",
   "execution_count": null,
   "metadata": {},
   "outputs": [],
   "source": []
  }
 ],
 "metadata": {
  "kernelspec": {
   "display_name": "venv8-sharkninja",
   "language": "python",
   "name": "venv8-sharkninja"
  },
  "language_info": {
   "codemirror_mode": {
    "name": "ipython",
    "version": 3
   },
   "file_extension": ".py",
   "mimetype": "text/x-python",
   "name": "python",
   "nbconvert_exporter": "python",
   "pygments_lexer": "ipython3",
   "version": "3.8.5"
  }
 },
 "nbformat": 4,
 "nbformat_minor": 4
}
